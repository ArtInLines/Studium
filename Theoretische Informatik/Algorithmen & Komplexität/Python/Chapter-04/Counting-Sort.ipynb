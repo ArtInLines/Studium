{
 "cells": [
  {
   "cell_type": "code",
   "execution_count": null,
   "metadata": {},
   "outputs": [],
   "source": [
    "from IPython.core.display import HTML\n",
    "with open('../style.css') as file:\n",
    "    css = file.read()\n",
    "HTML(css)"
   ]
  },
  {
   "cell_type": "markdown",
   "metadata": {},
   "source": [
    "# Counting Sort"
   ]
  },
  {
   "cell_type": "markdown",
   "metadata": {},
   "source": [
    "The procedure `countingSort` receives one arguments:\n",
    "- `Student` is a list of pairs of the form `(name, grade)` where\n",
    "  * `name`  is the name of a student and\n",
    "  * `grade` is the grade of this student.\n",
    "  \n",
    "  The list `Student` is sorted alphabetically with respect to the student names.\n",
    "\n",
    "The procedure `countingSort` returns a sorted lists of pairs where the students\n",
    "are sorted with respect to their grade.  Within the same grade, students are still \n",
    "sorted alphabetically."
   ]
  },
  {
   "cell_type": "code",
   "execution_count": null,
   "metadata": {},
   "outputs": [],
   "source": [
    "def countingSort(Students):\n",
    "    maxGrade =    255\n",
    "    Counts   =    [0] * (maxGrade+1)\n",
    "    Index    = [None] * (maxGrade+1)\n",
    "    Sorted   = [None] * len(Students)\n",
    "    # Phase 1: Counting\n",
    "    for _name, grade in Students:\n",
    "        Counts[grade] += 1\n",
    "    # Phase 2: Indexing\n",
    "    Index[0] = 0\n",
    "    for grade in range(maxGrade):\n",
    "        Index[grade+1] = Index[grade] + Counts[grade]\n",
    "    # Phase 3: Distribution\n",
    "    for name, grade in Students:\n",
    "        idx           = Index[grade]\n",
    "        Sorted[idx]   = (name, grade)\n",
    "        Index[grade] += 1\n",
    "    return Sorted"
   ]
  },
  {
   "cell_type": "code",
   "execution_count": null,
   "metadata": {},
   "outputs": [],
   "source": [
    "Students = [\n",
    "     ('Alexander', 4),\n",
    "     ('Benjamin',  2),\n",
    "     ('Daniel',    3),\n",
    "     ('David',     3),\n",
    "     ('Elijah',    2),\n",
    "     ('Gabriel',   1),\n",
    "     ('Henry',     2),\n",
    "     ('Jacob',     5),\n",
    "     ('James',     3),\n",
    "     ('Joseph',    2),\n",
    "     ('Liam',      2),\n",
    "     ('Logan',     3),\n",
    "     ('Lucas',     1),\n",
    "     ('Mason',     2),\n",
    "     ('Matthew',   5),\n",
    "     ('Michael',   3),\n",
    "     ('Noah',      4),\n",
    "     ('Oliver',    2),\n",
    "     ('Owen',      4),\n",
    "     ('Samuel',    3),\n",
    "     ('Sebastian', 2),\n",
    "     ('William',   1)\n",
    "]"
   ]
  },
  {
   "cell_type": "code",
   "execution_count": null,
   "metadata": {},
   "outputs": [],
   "source": [
    "def main():\n",
    "    Sorted = countingSort(Students) \n",
    "    for n, g in Sorted:\n",
    "        print('%-9s: %1d' % (n, g))"
   ]
  },
  {
   "cell_type": "code",
   "execution_count": null,
   "metadata": {},
   "outputs": [],
   "source": [
    "main()"
   ]
  },
  {
   "cell_type": "code",
   "execution_count": null,
   "metadata": {},
   "outputs": [],
   "source": []
  }
 ],
 "metadata": {
  "kernelspec": {
   "display_name": "Python 3",
   "language": "python",
   "name": "python3"
  },
  "language_info": {
   "codemirror_mode": {
    "name": "ipython",
    "version": 3
   },
   "file_extension": ".py",
   "mimetype": "text/x-python",
   "name": "python",
   "nbconvert_exporter": "python",
   "pygments_lexer": "ipython3",
   "version": "3.9.2"
  },
  "varInspector": {
   "cols": {
    "lenName": 16,
    "lenType": 16,
    "lenVar": 40
   },
   "kernels_config": {
    "python": {
     "delete_cmd_postfix": "",
     "delete_cmd_prefix": "del ",
     "library": "var_list.py",
     "varRefreshCmd": "print(var_dic_list())"
    },
    "r": {
     "delete_cmd_postfix": ") ",
     "delete_cmd_prefix": "rm(",
     "library": "var_list.r",
     "varRefreshCmd": "cat(var_dic_list()) "
    }
   },
   "types_to_exclude": [
    "module",
    "function",
    "builtin_function_or_method",
    "instance",
    "_Feature"
   ],
   "window_display": false
  }
 },
 "nbformat": 4,
 "nbformat_minor": 2
}
