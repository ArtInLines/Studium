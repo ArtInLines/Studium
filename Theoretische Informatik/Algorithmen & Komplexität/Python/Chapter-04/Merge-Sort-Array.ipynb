{
 "cells": [
  {
   "cell_type": "code",
   "execution_count": null,
   "metadata": {},
   "outputs": [],
   "source": [
    "from IPython.core.display import HTML\n",
    "with open('../style.css') as file:\n",
    "    css = file.read()\n",
    "HTML(css)"
   ]
  },
  {
   "cell_type": "markdown",
   "metadata": {},
   "source": [
    "# Merge Sort: A Recursive, Array Based Implementation"
   ]
  },
  {
   "cell_type": "markdown",
   "metadata": {},
   "source": [
    "The function $\\texttt{sort}(L)$ sorts the list $L$ in place using <em style=\"color:blue\">merge sort</em>.\n",
    "It takes advantage of the fact that, in *Python*, lists are stored internally as arrays.\n",
    "The function `sort` is a wrapper for the function `merge_sort`.  Its sole purpose is to allocate the auxiliary array `A`, \n",
    "which has the same size as the array holding `L`."
   ]
  },
  {
   "cell_type": "code",
   "execution_count": null,
   "metadata": {},
   "outputs": [],
   "source": [
    "def sort(L):\n",
    "    A = L[:]\n",
    "    mergeSort(L, 0, len(L), A)"
   ]
  },
  {
   "cell_type": "markdown",
   "metadata": {},
   "source": [
    "The function `mergeSort` is called with 4 arguments.\n",
    "  - The first parameter $\\texttt{L}$ is the list that is to be sorted.\n",
    "    However, the task of $\\texttt{mergeSort}$ is not to sort the entire list $\\texttt{L}$ but only\n",
    "    the part of $\\texttt{L}$ that is given as\n",
    "    $$\\texttt{L[start:end]}$$ \n",
    "  - Hence, the parameters $\\texttt{start}$ and $\\texttt{end}$ are indices specifying the \n",
    "    subarray that needs to be sorted.\n",
    "  - The final parameter $\\texttt{A}$ is used as an auxiliary array.  This array is needed\n",
    "    as <em style=\"color:blue\">temporary storage</em> and is required to have the same size as the list $\\texttt{L}$."
   ]
  },
  {
   "cell_type": "code",
   "execution_count": null,
   "metadata": {},
   "outputs": [],
   "source": [
    "def mergeSort(L, start, end, A):\n",
    "    if end - start < 2:\n",
    "        return\n",
    "    middle = (start + end) // 2\n",
    "    mergeSort(L, start,  middle, A)\n",
    "    mergeSort(L, middle, end   , A)\n",
    "    merge(L, start, middle, end, A)"
   ]
  },
  {
   "cell_type": "markdown",
   "metadata": {},
   "source": [
    "The function `merge` takes five arguments.\n",
    "  - `L`      is a list,\n",
    "  - `start`  is an integer such that $\\texttt{start}  \\in \\{0, \\cdots, \\texttt{len}(L)-1 \\}$,\n",
    "  - `middle` is an integer such that $\\texttt{middle} \\in \\{0, \\cdots, \\texttt{len}(L)-1 \\}$,\n",
    "  - `end`    is an integer such that $\\texttt{end}    \\in \\{0, \\cdots, \\texttt{len}(L)-1 \\}$, \n",
    "  - `A`      is a list of the same length as `L`.\n",
    "  \n",
    "Furthermore, the indices `start`, `middle`, and `end` have to satisfy the following:\n",
    "$$ 0 \\leq \\texttt{start} < \\texttt{middle} < \\texttt{end} \\leq \\texttt{len}(L) $$\n",
    "The function assumes that the sublists `L[start:middle]` and `L[middle:end]` are already sorted.\n",
    "The function merges these sublists so that when the call returns the sublist `L[start:end]`\n",
    "is sorted.  The last argument `A` is used as auxiliary memory."
   ]
  },
  {
   "cell_type": "code",
   "execution_count": null,
   "metadata": {},
   "outputs": [],
   "source": [
    "def merge(L, start, middle, end, A):\n",
    "    A[start:end] = L[start:end]\n",
    "    idx1 = start\n",
    "    idx2 = middle\n",
    "    i    = start\n",
    "    while idx1 < middle and idx2 < end:\n",
    "        if A[idx1] <= A[idx2]:\n",
    "            L[i]  = A[idx1]\n",
    "            idx1 += 1\n",
    "        else:\n",
    "            L[i]  = A[idx2]\n",
    "            idx2 += 1\n",
    "        i += 1\n",
    "    if idx1 < middle:\n",
    "        L[i:end] = A[idx1:middle]\n",
    "    if idx2 < end:\n",
    "        L[i:end] = A[idx2:end]"
   ]
  },
  {
   "cell_type": "code",
   "execution_count": null,
   "metadata": {},
   "outputs": [],
   "source": [
    "L = [7, 8, 11, 12, 2, 5, 3, 7, 9, 3, 2]\n",
    "sort(L)\n",
    "L"
   ]
  },
  {
   "cell_type": "markdown",
   "metadata": {},
   "source": [
    "## Testing"
   ]
  },
  {
   "cell_type": "markdown",
   "metadata": {},
   "source": [
    "We import the module `random` in order to be able to create lists of random numbers that are then sorted."
   ]
  },
  {
   "cell_type": "code",
   "execution_count": null,
   "metadata": {},
   "outputs": [],
   "source": [
    "import random as rnd"
   ]
  },
  {
   "cell_type": "markdown",
   "metadata": {},
   "source": [
    "We import the class `Counter` from the module collections.  This module provides us with a dictionary that keeps count\n",
    "how many times an item occurs in a list."
   ]
  },
  {
   "cell_type": "code",
   "execution_count": null,
   "metadata": {},
   "outputs": [],
   "source": [
    "from collections import Counter"
   ]
  },
  {
   "cell_type": "code",
   "execution_count": null,
   "metadata": {},
   "outputs": [],
   "source": [
    "Counter(['a', 'b', 'a', 'b', 'c', 'a'])"
   ]
  },
  {
   "cell_type": "code",
   "execution_count": null,
   "metadata": {},
   "outputs": [],
   "source": [
    "def demo():\n",
    "    L = [ rnd.randrange(1, 99+1) for n in range(1, 19+1) ]\n",
    "    print(\"L = \", L)\n",
    "    S = L[:]\n",
    "    sort(S)\n",
    "    print(\"S = \", S)\n",
    "    print(Counter(L))\n",
    "    print(Counter(S))\n",
    "    print(Counter(L) == Counter(S))"
   ]
  },
  {
   "cell_type": "code",
   "execution_count": null,
   "metadata": {},
   "outputs": [],
   "source": [
    "demo()"
   ]
  },
  {
   "cell_type": "markdown",
   "metadata": {},
   "source": [
    "The function `isOrdered(L)` checks that the list `L` is sorted in ascending order."
   ]
  },
  {
   "cell_type": "code",
   "execution_count": null,
   "metadata": {},
   "outputs": [],
   "source": [
    "def isOrdered(L):\n",
    "    for i in range(len(L) - 1):\n",
    "        assert L[i] <= L[i+1], f'{L} not sorted at index {i}'"
   ]
  },
  {
   "cell_type": "markdown",
   "metadata": {},
   "source": [
    "The function `sameElements(L, S)` returns `True`if the lists `L` and `S` contain the same elements and, furthermore, each \n",
    "element $x$ occurring in `L` occurs in `S` the same number of times it occurs in `L`."
   ]
  },
  {
   "cell_type": "code",
   "execution_count": null,
   "metadata": {},
   "outputs": [],
   "source": [
    "def sameElements(L, S):\n",
    "    assert Counter(L) == Counter(S), f'{Counter(L)} != {Counter(S)}'"
   ]
  },
  {
   "cell_type": "markdown",
   "metadata": {},
   "source": [
    "The function $\\texttt{testSort}(n, k)$ generates $n$ random lists of length $k$, sorts them, and checks whether the output is sorted and contains the same elements as the input."
   ]
  },
  {
   "cell_type": "code",
   "execution_count": null,
   "metadata": {},
   "outputs": [],
   "source": [
    "def testSort(n, k):\n",
    "    for i in range(n):\n",
    "        L = [ rnd.randrange(2*k) for x in range(k) ]\n",
    "        oldL = L[:]\n",
    "        sort(L)\n",
    "        isOrdered(L)\n",
    "        sameElements(oldL, L)\n",
    "        print('.', end='')\n",
    "    print()\n",
    "    print(\"All tests successful!\")"
   ]
  },
  {
   "cell_type": "code",
   "execution_count": null,
   "metadata": {},
   "outputs": [],
   "source": [
    "%%time\n",
    "testSort(100, 20000)"
   ]
  },
  {
   "cell_type": "code",
   "execution_count": null,
   "metadata": {},
   "outputs": [],
   "source": [
    "%%timeit\n",
    "k = 1_000_000\n",
    "L = [ rnd.randrange(2*k) for x in range(k) ]\n",
    "sort(L)"
   ]
  },
  {
   "cell_type": "markdown",
   "metadata": {},
   "source": [
    "The predefined function `sorted` is a lot quicker:"
   ]
  },
  {
   "cell_type": "code",
   "execution_count": null,
   "metadata": {},
   "outputs": [],
   "source": [
    "%%timeit\n",
    "k = 1_000_000\n",
    "L = [ rnd.randrange(2*k) for x in range(k) ]\n",
    "S = sorted(L)"
   ]
  },
  {
   "cell_type": "code",
   "execution_count": null,
   "metadata": {},
   "outputs": [],
   "source": []
  }
 ],
 "metadata": {
  "kernelspec": {
   "display_name": "Python 3",
   "language": "python",
   "name": "python3"
  },
  "language_info": {
   "codemirror_mode": {
    "name": "ipython",
    "version": 3
   },
   "file_extension": ".py",
   "mimetype": "text/x-python",
   "name": "python",
   "nbconvert_exporter": "python",
   "pygments_lexer": "ipython3",
   "version": "3.8.8"
  },
  "varInspector": {
   "cols": {
    "lenName": 16,
    "lenType": 16,
    "lenVar": 40
   },
   "kernels_config": {
    "python": {
     "delete_cmd_postfix": "",
     "delete_cmd_prefix": "del ",
     "library": "var_list.py",
     "varRefreshCmd": "print(var_dic_list())"
    },
    "r": {
     "delete_cmd_postfix": ") ",
     "delete_cmd_prefix": "rm(",
     "library": "var_list.r",
     "varRefreshCmd": "cat(var_dic_list()) "
    }
   },
   "types_to_exclude": [
    "module",
    "function",
    "builtin_function_or_method",
    "instance",
    "_Feature"
   ],
   "window_display": false
  }
 },
 "nbformat": 4,
 "nbformat_minor": 2
}
