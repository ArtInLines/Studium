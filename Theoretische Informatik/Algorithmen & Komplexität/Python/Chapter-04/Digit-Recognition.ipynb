{
 "cells": [
  {
   "cell_type": "code",
   "execution_count": null,
   "metadata": {
    "scrolled": true
   },
   "outputs": [],
   "source": [
    "from IPython.core.display import HTML\n",
    "with open('../style.css') as file:\n",
    "    css = file.read()\n",
    "HTML(css)"
   ]
  },
  {
   "cell_type": "markdown",
   "metadata": {
    "colab_type": "text",
    "id": "O6bAYTDQvA9E"
   },
   "source": [
    "# Handwritten Digit Recognition using $k$-Nearest Neighbours"
   ]
  },
  {
   "cell_type": "markdown",
   "metadata": {},
   "source": [
    "This notebook uses the <em style=\"color:blue;\">$k$-nearest neighbours algorithm</em> to recognize handwritten digits.  The digits we want to recognize\n",
    "are stored as images of size $28 \\times 28$ pixels.  Each pixel $p$ is stored as a number that satisfies $0 \\leq p \\leq 1$.  The pixel values are \n",
    "interpreted as grey values: If $p = 1.0$, the pixel is completely black, while $p = 0.0$ if the pixel is white.  The images are stored in the file `mnist.pkl.gz`.  This file is compressed using `gzip` and the images have been *pickled* using the module `pickle`.  The module `pickle` supports the reading and writing of *Python* data structures.  \n",
    "\n",
    "In order to read the images of the handwritten digits, we therefore have to import the modules `gzip` and `pickle`.  The module `numpy` is needed to store the images as arrays."
   ]
  },
  {
   "cell_type": "code",
   "execution_count": null,
   "metadata": {
    "colab": {
     "base_uri": "https://localhost:8080/",
     "height": 68
    },
    "colab_type": "code",
    "id": "Ofc-wXYMESXW",
    "outputId": "5cbd5e88-7833-44b7-ef23-249306c3eb15",
    "scrolled": true
   },
   "outputs": [],
   "source": [
    "import gzip\n",
    "import pickle\n",
    "import numpy as np"
   ]
  },
  {
   "cell_type": "markdown",
   "metadata": {},
   "source": [
    "The function `load_data` returns a tuple of the form\n",
    "$$ (\\texttt{X_train}, \\texttt{X_test}, \\texttt{Y_train}, \\texttt{Y_test}) $$\n",
    "where \n",
    "<ul>\n",
    "<li> $\\texttt{X_train}$ is a matrix storing the 50,000 training images of handwritten digits.\n",
    "     For each $i \\in \\{0,\\cdots,49\\,999\\}$ the row $\\texttt{X_train}[i, :]$ is an array of size $784$ storing a single image.\n",
    "     </li>\n",
    "<li> $\\texttt{X_test}$ is a matrix containing 10,000 images of handwritten digits that can be used for testing.</li>\n",
    "<li> $\\texttt{Y_train}$ is an array of size 50,000. For each $i \\in \\{0,\\cdots,49\\,999\\}$ the number $\\texttt{Y_train}[i]$\n",
    "     specifies the digit shown in the $i$th training image.\n",
    "     </li>\n",
    "<li> $\\texttt{Y_test}$ is an array of size 10,000. For each $i \\in \\{0,\\cdots,9\\,999\\}$ the number $\\texttt{Y_test}[i]$\n",
    "     specifies the digit shown in the $i$th test image.\n",
    "     </li>\n",
    "</ul>"
   ]
  },
  {
   "cell_type": "code",
   "execution_count": null,
   "metadata": {
    "scrolled": true
   },
   "outputs": [],
   "source": [
    "def load_data():\n",
    "    with gzip.open('mnist.pkl.gz', 'rb') as f:\n",
    "        train, _, test = pickle.load(f, encoding=\"latin1\")\n",
    "    return (train[0], test[0], train[1], test[1])"
   ]
  },
  {
   "cell_type": "code",
   "execution_count": null,
   "metadata": {
    "colab": {
     "base_uri": "https://localhost:8080/",
     "height": 68
    },
    "colab_type": "code",
    "id": "Ofc-wXYMESXW",
    "outputId": "5cbd5e88-7833-44b7-ef23-249306c3eb15",
    "scrolled": true
   },
   "outputs": [],
   "source": [
    "X_train, X_test, Y_train, Y_test = load_data()"
   ]
  },
  {
   "cell_type": "markdown",
   "metadata": {},
   "source": [
    "Let us check what we have read:"
   ]
  },
  {
   "cell_type": "code",
   "execution_count": null,
   "metadata": {
    "colab": {
     "base_uri": "https://localhost:8080/",
     "height": 68
    },
    "colab_type": "code",
    "id": "Ofc-wXYMESXW",
    "outputId": "5cbd5e88-7833-44b7-ef23-249306c3eb15"
   },
   "outputs": [],
   "source": [
    "X_train.shape, X_test.shape, Y_train.shape, Y_test.shape"
   ]
  },
  {
   "cell_type": "markdown",
   "metadata": {},
   "source": [
    "Let us inspect the first hand written image of a digit."
   ]
  },
  {
   "cell_type": "code",
   "execution_count": null,
   "metadata": {},
   "outputs": [],
   "source": [
    "X_train[0, :]"
   ]
  },
  {
   "cell_type": "markdown",
   "metadata": {},
   "source": [
    "This is an array with 784 entries.  Let us draw the corresponding picture."
   ]
  },
  {
   "cell_type": "code",
   "execution_count": null,
   "metadata": {
    "scrolled": true
   },
   "outputs": [],
   "source": [
    "import matplotlib.pyplot as plt"
   ]
  },
  {
   "cell_type": "markdown",
   "metadata": {},
   "source": [
    "The function $\\texttt{show_digit}(\\texttt{row}, \\texttt{columns}, \\texttt{offset})$ \n",
    "shows $\\texttt{row} \\cdot \\texttt{columns}$ images of the training data.  The first image shown is the image at index $\\texttt{offset}$."
   ]
  },
  {
   "cell_type": "code",
   "execution_count": null,
   "metadata": {
    "scrolled": true
   },
   "outputs": [],
   "source": [
    "def show_digits(rows, columns, offset=0):\n",
    "    f, axarr = plt.subplots(rows, columns)\n",
    "    for r in range(rows):\n",
    "        for c in range(columns):\n",
    "            i     = r * columns + c + offset\n",
    "            image = 1 - X_train[i, :]\n",
    "            image = np.reshape(image, (28, 28))\n",
    "            axarr[r, c].imshow(image, cmap=\"gray\")\n",
    "            axarr[r, c].axis('off')\n",
    "    plt.savefig(\"digits.pdf\")    \n",
    "    plt.show()"
   ]
  },
  {
   "cell_type": "markdown",
   "metadata": {},
   "source": [
    "We take a look at the first 24 images."
   ]
  },
  {
   "cell_type": "code",
   "execution_count": null,
   "metadata": {
    "scrolled": true
   },
   "outputs": [],
   "source": [
    "show_digits(4, 6)"
   ]
  },
  {
   "cell_type": "markdown",
   "metadata": {},
   "source": [
    "Given two arrays $\\mathbf{x}$ and $\\mathbf{y}$ of the same dimension $n$, the function $\\texttt{distance}(\\mathbf{x}, \\mathbf{y})$ computes the\n",
    "<em style=\"color:blue;\">Euclidean distance</em> between $\\mathbf{x}$ and $\\mathbf{y}$.  This distance is defined as follows:\n",
    "$$ \\sqrt{\\sum\\limits_{i=1}^n (x_i - y_i)^2} $$"
   ]
  },
  {
   "cell_type": "code",
   "execution_count": null,
   "metadata": {
    "scrolled": true
   },
   "outputs": [],
   "source": [
    "def distance(x, y):\n",
    "    return np.sqrt(np.sum((x - y)**2))"
   ]
  },
  {
   "cell_type": "markdown",
   "metadata": {},
   "source": [
    "For example, the distance between the first two images of the training set is computed as follows:"
   ]
  },
  {
   "cell_type": "code",
   "execution_count": null,
   "metadata": {
    "scrolled": true
   },
   "outputs": [],
   "source": [
    "distance(X_train[0,:], X_train[1,:])"
   ]
  },
  {
   "cell_type": "markdown",
   "metadata": {},
   "source": [
    "The distance between the 9th and the 15th image should be smaller, because both of these images show the digit $1$ and hence these images are quite similar.\n",
    "This similarity results in a smaller distance between these images."
   ]
  },
  {
   "cell_type": "code",
   "execution_count": null,
   "metadata": {
    "scrolled": true
   },
   "outputs": [],
   "source": [
    "distance(X_train[8,:], X_train[14,:])"
   ]
  },
  {
   "cell_type": "markdown",
   "metadata": {},
   "source": [
    "Given a list $L$ of digits, the function $\\texttt{maxCounts}(L)$ returns a pair $(d, p)$ where $d$ is the digit that occurs most frequently in $L$\n",
    "and $p$ is the percentage of occurrences of $d$ in $L$.  For example, we have\n",
    "$$ \\texttt{maxCounts}([5,2,3,5,2,5,6,5,7,8]) = (5, 0.4)  $$\n",
    "because the digit $5$ is the most frequent digit in the list $[5,2,3,5,2,5,6,5,7,8]$ and $40$% of the digits in this list are fives."
   ]
  },
  {
   "cell_type": "code",
   "execution_count": null,
   "metadata": {
    "scrolled": true
   },
   "outputs": [],
   "source": [
    "def maxCount(L):\n",
    "    Frequencies         = {}    # number of occurrences for each digit\n",
    "    most_frequent       = L[0]  # most frequent digit so far\n",
    "    most_frequent_count = 1     # number of occurrences of most frequent digit\n",
    "    for d in L:\n",
    "        if d in Frequencies:\n",
    "            Frequencies[d] += 1\n",
    "        else:\n",
    "            Frequencies[d]  = 1\n",
    "        if Frequencies[d] > most_frequent_count:\n",
    "            most_frequent       = d\n",
    "            most_frequent_count = Frequencies[d]\n",
    "    return most_frequent, most_frequent_count / len(L)"
   ]
  },
  {
   "cell_type": "code",
   "execution_count": null,
   "metadata": {
    "scrolled": true
   },
   "outputs": [],
   "source": [
    "maxCount([3, 3, 4, 2, 1, 2, 3, 2, 5, 3])"
   ]
  },
  {
   "cell_type": "markdown",
   "metadata": {},
   "source": [
    "Given an image of a digit stored in the vector $\\mathbf{x}$ and a number of neighbours $k$, the function $\\texttt{digit}(\\mathbf{x}, k)$ computes those\n",
    "$k$ images in the training set `X_train` that are <em style=\"color:blue;\">closest</em> to the image $\\mathbf{x}$.  Here \n",
    "<em style=\"color:blue;\">closeness</em> of images is defined in terms of the <em style=\"color:blue;\">Euclidean distance</em> of the vectors that store the \n",
    "images.  From these $k$ images of the training set the function chooses the digit that occurs most frequently.  It returns a pair $(d, p)$ where $d$ is the digit that is most frequently occurring in the list of $k$ neighbours and $p$ is the percentage of images in the $k$ neighbours of $\\mathbf{x}$ that show\n",
    "the digit $d$."
   ]
  },
  {
   "cell_type": "code",
   "execution_count": null,
   "metadata": {
    "scrolled": true
   },
   "outputs": [],
   "source": [
    "def digit(x, k):\n",
    "    n          = X_train.shape[0]  # number of all training images\n",
    "    Distances  = [ (distance(X_train[i, :], x), i) for i in range(n)]\n",
    "    Neighbours = [ Y_train[i] for _, i in sorted(Distances)]\n",
    "    return maxCount(Neighbours[:k])"
   ]
  },
  {
   "cell_type": "markdown",
   "metadata": {},
   "source": [
    "The function `show_image(n)` shows the $n^\\mathrm{th}$ test image."
   ]
  },
  {
   "cell_type": "code",
   "execution_count": null,
   "metadata": {},
   "outputs": [],
   "source": [
    "def show_image(n):\n",
    "    image = 1 - X_test[n, :]\n",
    "    image = np.reshape(image, (28, 28))\n",
    "    plt.imshow(image, cmap=\"gray\")\n",
    "    plt.show()"
   ]
  },
  {
   "cell_type": "markdown",
   "metadata": {},
   "source": [
    "This function performs $k$-nearest neighbour classification for the $n$-th image of the test set.  It also prints the image."
   ]
  },
  {
   "cell_type": "code",
   "execution_count": null,
   "metadata": {
    "scrolled": true
   },
   "outputs": [],
   "source": [
    "def test(n, k):\n",
    "    print(f'Testing image {n}:')\n",
    "    show_image(n)\n",
    "    d, p = digit(X_test[n, :], k)\n",
    "    print(f'I believe with a certainty of {p * 100}% that the image shows the digit {d}.')"
   ]
  },
  {
   "cell_type": "code",
   "execution_count": null,
   "metadata": {
    "scrolled": true
   },
   "outputs": [],
   "source": [
    "test(2, 13)"
   ]
  },
  {
   "cell_type": "markdown",
   "metadata": {},
   "source": [
    "Let us classify the first 20 images from the test set."
   ]
  },
  {
   "cell_type": "code",
   "execution_count": null,
   "metadata": {
    "scrolled": false
   },
   "outputs": [],
   "source": [
    "%%time\n",
    "for n in range(20):\n",
    "    test(n, 13)"
   ]
  },
  {
   "cell_type": "markdown",
   "metadata": {},
   "source": [
    "Let us check how much memory is used at the moment.  The function call below prints all the memory of our machine that is currently used."
   ]
  },
  {
   "cell_type": "code",
   "execution_count": null,
   "metadata": {
    "scrolled": true
   },
   "outputs": [],
   "source": [
    "def check(n, k):\n",
    "    d, p = digit(X_test[n, :], k)\n",
    "    if d == Y_test[n]:\n",
    "        return 0\n",
    "    else:\n",
    "        print(f\"\\nImage number {n} wrongly identified: I guessed a {d}, but it's a {Y_test[n]}.\")\n",
    "        show_image(n)\n",
    "        return 1"
   ]
  },
  {
   "cell_type": "code",
   "execution_count": null,
   "metadata": {
    "scrolled": false
   },
   "outputs": [],
   "source": [
    "%%time\n",
    "errors = 0\n",
    "for n in range(10_000):\n",
    "    errors += check(n, 7)\n",
    "print(f'There were {errors} errors out of 10000 images.')"
   ]
  },
  {
   "cell_type": "code",
   "execution_count": null,
   "metadata": {},
   "outputs": [],
   "source": []
  }
 ],
 "metadata": {
  "accelerator": "GPU",
  "colab": {
   "collapsed_sections": [],
   "name": "Neural network hyper-parameters.ipynb",
   "provenance": [],
   "version": "0.3.2"
  },
  "kernelspec": {
   "display_name": "Python 3",
   "language": "python",
   "name": "python3"
  },
  "language_info": {
   "codemirror_mode": {
    "name": "ipython",
    "version": 3
   },
   "file_extension": ".py",
   "mimetype": "text/x-python",
   "name": "python",
   "nbconvert_exporter": "python",
   "pygments_lexer": "ipython3",
   "version": "3.9.4"
  },
  "varInspector": {
   "cols": {
    "lenName": 16,
    "lenType": 16,
    "lenVar": 40
   },
   "kernels_config": {
    "python": {
     "delete_cmd_postfix": "",
     "delete_cmd_prefix": "del ",
     "library": "var_list.py",
     "varRefreshCmd": "print(var_dic_list())"
    },
    "r": {
     "delete_cmd_postfix": ") ",
     "delete_cmd_prefix": "rm(",
     "library": "var_list.r",
     "varRefreshCmd": "cat(var_dic_list()) "
    }
   },
   "types_to_exclude": [
    "module",
    "function",
    "builtin_function_or_method",
    "instance",
    "_Feature"
   ],
   "window_display": false
  }
 },
 "nbformat": 4,
 "nbformat_minor": 1
}
