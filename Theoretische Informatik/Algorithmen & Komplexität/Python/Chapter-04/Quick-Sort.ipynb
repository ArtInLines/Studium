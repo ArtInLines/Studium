{
 "cells": [
  {
   "cell_type": "code",
   "execution_count": null,
   "metadata": {},
   "outputs": [],
   "source": [
    "from IPython.core.display import HTML\n",
    "with open('../style.css') as file:\n",
    "    css = file.read()\n",
    "HTML(css)"
   ]
  },
  {
   "cell_type": "markdown",
   "metadata": {},
   "source": [
    "# Quicksort"
   ]
  },
  {
   "cell_type": "markdown",
   "metadata": {},
   "source": [
    "The basic idea of <em style=\"color:blue;\">quick sort</em> is as follows:\n",
    "  - If the list $\\mathtt{L}$ that is to be sorted is empty, we return $\\mathtt{L}$: \n",
    "    $$ \\mathtt{sort}([]) = [] $$\n",
    "  - Otherwise, we have $\\mathtt{L} = [\\mathtt{x}] + \\mathtt{R}$.  In this case, we split $\\mathtt{R}$ into two lists \n",
    "    $\\mathtt{S}$ and $\\mathtt{B}$.\n",
    "     - The list $\\mathtt{S}$ (the letter $\\mathtt{S}$ stands for $\\underline{s}\\textrm{mall}$) contains all those elements \n",
    "       of $\\mathtt{R}$ that are less or equal than $\\mathtt{x}$, we have:\n",
    "       $$ \\mathtt{S} := [\\mathtt{y} \\in \\mathtt{R} \\mid \\mathtt{y} \\leq \\mathtt{x}] $$\n",
    "     - The list $\\mathtt{B}$ (the letter $\\mathtt{B}$ stands for $\\underline{b}\\textrm{ig}$) contains those elements of $\\mathtt{R}$ \n",
    "       that are bigger than $\\mathtt{x}$, we have:\n",
    "       $$ \\mathtt{B} := [\\mathtt{y} \\in \\mathtt{R} \\mid \\mathtt{y} > \\mathtt{x}] $$\n",
    "   \n",
    "    The process of splitting the list $\\mathtt{R}$ into the lists $\\mathtt{S}$ and $\\mathtt{B}$\n",
    "    is called <em style=\"color:blue;\">partitioning</em>.  After partitioning the list $\\mathtt{R}$ into the lists\n",
    "    $\\mathtt{S}$ and $\\mathtt{B}$, these lists are sorted\n",
    "    recursively.  Then, the result is computed by putting $\\mathtt{x}$ between the lists $\\mathtt{sort}(\\mathtt{S})$ \n",
    "    and $\\mathtt{sort}(\\mathtt{B})$:\n",
    "    $$\\mathtt{sort}([\\mathtt{x}]+\\mathtt{R}) = \\mathtt{sort}(\\mathtt{S}) + [\\mathtt{x}] + \\mathtt{sort}(\\mathtt{B})$$"
   ]
  },
  {
   "cell_type": "code",
   "execution_count": null,
   "metadata": {},
   "outputs": [],
   "source": [
    "def sort(L):\n",
    "    if L == []:\n",
    "        return L\n",
    "    x, *R = L\n",
    "    S = [y for y in R if y <= x]\n",
    "    B = [y for y in R if y >  x]\n",
    "    return sort(S) + [x] + sort(B)"
   ]
  },
  {
   "cell_type": "code",
   "execution_count": null,
   "metadata": {},
   "outputs": [],
   "source": [
    "sort([7, 8, 11, 12, 2, 5, 3, 7, 9, 3, 2])"
   ]
  },
  {
   "cell_type": "code",
   "execution_count": null,
   "metadata": {},
   "outputs": [],
   "source": []
  }
 ],
 "metadata": {
  "kernelspec": {
   "display_name": "Python 3",
   "language": "python",
   "name": "python3"
  },
  "language_info": {
   "codemirror_mode": {
    "name": "ipython",
    "version": 3
   },
   "file_extension": ".py",
   "mimetype": "text/x-python",
   "name": "python",
   "nbconvert_exporter": "python",
   "pygments_lexer": "ipython3",
   "version": "3.9.4"
  },
  "varInspector": {
   "cols": {
    "lenName": 16,
    "lenType": 16,
    "lenVar": 40
   },
   "kernels_config": {
    "python": {
     "delete_cmd_postfix": "",
     "delete_cmd_prefix": "del ",
     "library": "var_list.py",
     "varRefreshCmd": "print(var_dic_list())"
    },
    "r": {
     "delete_cmd_postfix": ") ",
     "delete_cmd_prefix": "rm(",
     "library": "var_list.r",
     "varRefreshCmd": "cat(var_dic_list()) "
    }
   },
   "types_to_exclude": [
    "module",
    "function",
    "builtin_function_or_method",
    "instance",
    "_Feature"
   ],
   "window_display": false
  }
 },
 "nbformat": 4,
 "nbformat_minor": 2
}
