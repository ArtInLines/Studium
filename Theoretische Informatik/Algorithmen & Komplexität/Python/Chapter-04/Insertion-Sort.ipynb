{
 "cells": [
  {
   "cell_type": "code",
   "execution_count": null,
   "metadata": {},
   "outputs": [],
   "source": [
    "from IPython.core.display import HTML\n",
    "with open('../style.css') as file:\n",
    "    css = file.read()\n",
    "HTML(css)"
   ]
  },
  {
   "cell_type": "markdown",
   "metadata": {},
   "source": [
    "# Insertion Sort"
   ]
  },
  {
   "cell_type": "markdown",
   "metadata": {},
   "source": [
    "The function `sort` is specified via two equations:\n",
    "\n",
    "  1. $\\mathtt{sort}([]) = []$\n",
    "  2. $\\mathtt{sort}\\bigl([x] + R\\bigr) = \n",
    "      \\mathtt{insert}\\bigl(x, \\mathtt{sort}(R)\\bigr)$\n",
    "      \n",
    "This is most easily implemented in a recursive fashion."
   ]
  },
  {
   "cell_type": "code",
   "execution_count": null,
   "metadata": {},
   "outputs": [],
   "source": [
    "def sort(L):\n",
    "    if L == []:\n",
    "        return []\n",
    "    x, *R = L\n",
    "    return insert(x, sort(R))"
   ]
  },
  {
   "cell_type": "markdown",
   "metadata": {},
   "source": [
    "The auxiliary function `insert` is specified as follows:\n",
    "\n",
    "  1. $\\mathtt{insert}(x,[]) = [x]$\n",
    "  2. $x \\preceq y \\rightarrow \\mathtt{insert}\\bigl(x, [y] + R\\bigr) = [x,y] + R$\n",
    "  3. $\\neg x \\preceq y \\rightarrow \n",
    "      \\mathtt{insert}\\bigl(x, [y] + R\\bigr) = [y] + \\mathtt{insert}(x,R)$\n",
    "      \n",
    "Again, a recursive implementation is straightforward."
   ]
  },
  {
   "cell_type": "code",
   "execution_count": null,
   "metadata": {},
   "outputs": [],
   "source": [
    "def insert(x, L):\n",
    "    if L == []:\n",
    "        return [x]\n",
    "    y, *R = L\n",
    "    if x <= y:\n",
    "        return [x, y] + R\n",
    "    else:\n",
    "        return [y] + insert(x, R)"
   ]
  },
  {
   "cell_type": "code",
   "execution_count": null,
   "metadata": {},
   "outputs": [],
   "source": [
    "insert(5, [1, 3, 4, 7, 9])"
   ]
  },
  {
   "cell_type": "code",
   "execution_count": null,
   "metadata": {},
   "outputs": [],
   "source": [
    "sort([7, 8, 11, 12, 2, 5, 3, 7, 9])"
   ]
  },
  {
   "cell_type": "code",
   "execution_count": null,
   "metadata": {},
   "outputs": [],
   "source": []
  }
 ],
 "metadata": {
  "kernelspec": {
   "display_name": "Python 3",
   "language": "python",
   "name": "python3"
  },
  "language_info": {
   "codemirror_mode": {
    "name": "ipython",
    "version": 3
   },
   "file_extension": ".py",
   "mimetype": "text/x-python",
   "name": "python",
   "nbconvert_exporter": "python",
   "pygments_lexer": "ipython3",
   "version": "3.8.8"
  }
 },
 "nbformat": 4,
 "nbformat_minor": 2
}
