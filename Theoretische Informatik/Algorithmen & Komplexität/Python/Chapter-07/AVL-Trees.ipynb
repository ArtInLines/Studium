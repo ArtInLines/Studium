{
 "cells": [
  {
   "cell_type": "code",
   "execution_count": null,
   "metadata": {},
   "outputs": [],
   "source": [
    "from IPython.core.display import HTML\n",
    "with open('../style.css') as file:\n",
    "    css = file.read()\n",
    "HTML(css)"
   ]
  },
  {
   "cell_type": "markdown",
   "metadata": {},
   "source": [
    "# AVL Trees"
   ]
  },
  {
   "cell_type": "markdown",
   "metadata": {},
   "source": [
    "This notebook implements\n",
    "[AVL trees](https://en.wikipedia.org/wiki/AVL_tree).  The set $\\mathcal{A}$ of *AVL trees* is defined inductively:\n",
    "\n",
    "  - $\\texttt{Nil} \\in \\mathcal{A}$.\n",
    "  - $\\texttt{Node}(k,v,l,r) \\in \\mathcal{A}\\quad$  iff \n",
    "      - $\\texttt{Node}(k,v,l,r) \\in \\mathcal{B}$,\n",
    "      - $l, r \\in \\mathcal{A}$, and\n",
    "      - $|l.\\texttt{height}() - r.\\texttt{height}()| \\leq 1$.\n",
    "\n",
    "According to this definition, an AVL tree is an *ordered binary tree*\n",
    "such that for every node $\\texttt{Node}(k,v,l,r)$ in this tree the height of the left subtree $l$ and the right\n",
    "subtree  $r$ differ at most by one. "
   ]
  },
  {
   "cell_type": "markdown",
   "metadata": {},
   "source": [
    "The class `AVLTree` represents the nodes of an AVL tree.  This class has the following member variables:\n",
    "\n",
    "  - `mKey` is the key stored at the root of the tree,\n",
    "  - `mValue` is the values associated with this key,\n",
    "  - `mLeft` is the left subtree, \n",
    "  - `mRight` is the right subtree, and\n",
    "  - `mHeight` is the height.\n",
    "\n",
    "The constructor `__init__` creates the empty tree."
   ]
  },
  {
   "cell_type": "code",
   "execution_count": null,
   "metadata": {},
   "outputs": [],
   "source": [
    "class AVLTree:\n",
    "    def __init__(self):\n",
    "        self.mKey    = None\n",
    "        self.mValue  = None\n",
    "        self.mLeft   = None\n",
    "        self.mRight  = None\n",
    "        self.mHeight = 0"
   ]
  },
  {
   "cell_type": "markdown",
   "metadata": {},
   "source": [
    "Given an ordered binary tree $t$, the expression $t.\\texttt{isEmpty}()$ checks whether $t$ is the empty tree."
   ]
  },
  {
   "cell_type": "code",
   "execution_count": null,
   "metadata": {},
   "outputs": [],
   "source": [
    "def isEmpty(self):\n",
    "    return self.mHeight == 0\n",
    "\n",
    "AVLTree.isEmpty = isEmpty"
   ]
  },
  {
   "cell_type": "markdown",
   "metadata": {},
   "source": [
    "Given an ordered binary tree $t$ and a key $k$, the expression $t.\\texttt{find}(k)$ returns the value stored unter the key $k$.\n",
    "The method `find` is defined inductively as follows:\n",
    "  - $\\texttt{Nil}.\\texttt{find}(k) = \\Omega$,\n",
    "\n",
    "    because the empty tree is interpreted as the empty map.\n",
    "  - $\\texttt{Node}(k, v, l, r).\\texttt{find}(k) = v$,\n",
    "      \n",
    "    because the node $\\texttt{Node}(k,v,l,r)$ stores the assignment $k \\mapsto v$.\n",
    "  - $k_1 < k_2 \\rightarrow \\texttt{Node}(k_2, v, l, r).\\texttt{find}(k_1) = l.\\texttt{find}(k_1)$,\n",
    "\n",
    "    because if $k_1$ is less than $k_2$, then any mapping for $k_1$ has to be stored in the left subtree  $l$.\n",
    "  - $k_1 > k_2 \\rightarrow \\texttt{Node}(k_2, v, l, r).\\texttt{find}(k_1) = r.\\texttt{find}(k_1)$,\n",
    "\n",
    "    because if $k_1$ is greater than $k_2$, then any mapping for $k_1$ has to be stored in the right subtree  $r$."
   ]
  },
  {
   "cell_type": "code",
   "execution_count": null,
   "metadata": {},
   "outputs": [],
   "source": [
    "def find(self, key):\n",
    "    if self.isEmpty():\n",
    "        return\n",
    "    elif self.mKey == key:\n",
    "        return self.mValue\n",
    "    elif key < self.mKey:\n",
    "        return self.mLeft.find(key)\n",
    "    else:\n",
    "        return self.mRight.find(key)\n",
    "    \n",
    "AVLTree.find = find"
   ]
  },
  {
   "cell_type": "markdown",
   "metadata": {},
   "source": [
    "The method  $\\texttt{insert}()$ is specified via recursive equations.\n",
    "  - $\\texttt{Nil}.\\texttt{insert}(k,v) = \\texttt{Node}(k,v, \\texttt{Nil}, \\texttt{Nil})$,\n",
    "  - $\\texttt{Node}(k, v_2, l, r).\\texttt{insert}(k,v_1) = \\texttt{Node}(k, v_1, l, r)$,\n",
    "  - $k_1 < k_2 \\rightarrow \n",
    "          \\texttt{Node}(k_2, v_2, l, r).\\texttt{insert}(k_1, v_1) =\n",
    "          \\texttt{Node}\\bigl(k_2, v_2, l.\\texttt{insert}(k_1,v_1), r\\bigr).\\texttt{restore}()$,\n",
    "  - $k_1 > k_2 \\rightarrow \n",
    "         \\texttt{Node}(k_2, v_2, l, r).\\texttt{insert}\\bigl(k_1, v_1\\bigr) = \n",
    "         \\texttt{Node}\\bigl(k_2, v_2, l, r.\\texttt{insert}(k_1,v_1)\\bigr).\\texttt{restore}()$.\n",
    "\n",
    "The function $\\texttt{restore}$ is an auxiliary function that is defined below.  This function restores the balancing condition if it is violated after an insertion."
   ]
  },
  {
   "cell_type": "code",
   "execution_count": null,
   "metadata": {},
   "outputs": [],
   "source": [
    "def insert(self, key, value):\n",
    "    if self.isEmpty():\n",
    "        self.mKey    = key\n",
    "        self.mValue  = value\n",
    "        self.mLeft   = AVLTree()\n",
    "        self.mRight  = AVLTree()\n",
    "        self.mHeight = 1\n",
    "    elif self.mKey == key:\n",
    "        self.mValue = value\n",
    "    elif key < self.mKey:\n",
    "        self.mLeft.insert(key, value)\n",
    "        self._restore()\n",
    "    else:\n",
    "        self.mRight.insert(key, value)\n",
    "        self._restore()\n",
    "\n",
    "AVLTree.insert = insert"
   ]
  },
  {
   "cell_type": "markdown",
   "metadata": {},
   "source": [
    "The method $\\texttt{self}.\\texttt{delete}(k)$ removes the key $k$ from the tree $\\texttt{self}$.  It is defined as follows:\n",
    "\n",
    "  - $\\texttt{Nil}.\\texttt{delete}(k) = \\texttt{Nil}$,\n",
    "  - $\\texttt{Node}(k,v,\\texttt{Nil},r).\\texttt{delete}(k) = r$,\n",
    "  - $\\texttt{Node}(k,v,l,\\texttt{Nil}).\\texttt{delete}(k) = l$,\n",
    "  - $l \\not= \\texttt{Nil} \\,\\wedge\\, r \\not= \\texttt{Nil} \\,\\wedge\\, \n",
    "       \\langle r',k_{min}, v_{min} \\rangle := r.\\texttt{delMin}()  \\;\\rightarrow\\;\n",
    "      \\texttt{Node}(k,v,l,r).\\texttt{delete}(k) = \\texttt{Node}(k_{min},v_{min},l,r').\\texttt{restore}()$\n",
    "  - $k_1 < k_2 \\rightarrow \\texttt{Node}(k_2,v_2,l,r).\\texttt{delete}(k_1) = \n",
    "    \\texttt{Node}\\bigl(k_2,v_2,l.\\texttt{delete}(k_1),r\\bigr).\\texttt{restore}()$,\n",
    "  - $k_1 > k_2 \\rightarrow \\texttt{Node}(k_2,v_2,l,r).\\texttt{delete}(k_1) = \n",
    "     \\texttt{Node}\\bigl(k_2,v_2,l,r.\\texttt{delete}(k_1)\\bigr).\\texttt{restore}()$."
   ]
  },
  {
   "cell_type": "code",
   "execution_count": null,
   "metadata": {},
   "outputs": [],
   "source": [
    "def delete(self, key):\n",
    "    if self.isEmpty():\n",
    "        return\n",
    "    if key == self.mKey:\n",
    "        if self.mLeft.isEmpty():\n",
    "            self._update(self.mRight)\n",
    "        elif self.mRight.isEmpty():\n",
    "            self._update(self.mLeft)\n",
    "        else:\n",
    "            self.mRight, self.mKey, self.mValue = self.mRight._delMin()\n",
    "            self._restore()\n",
    "    elif key < self.mKey:\n",
    "        self.mLeft.delete(key)\n",
    "        self._restore()\n",
    "    else:\n",
    "        self.mRight.delete(key)\n",
    "        self._restore()\n",
    "        \n",
    "AVLTree.delete = delete"
   ]
  },
  {
   "cell_type": "markdown",
   "metadata": {},
   "source": [
    "The method $\\texttt{self}.\\texttt{delMin}()$ removes the smallest key from the given tree $\\texttt{self}$\n",
    "and returns a triple of the form\n",
    "$$ (\\texttt{self}, k_m, v_m) $$\n",
    "where $\\texttt{self}$ is the tree that remains after removing the smallest key, while $k_m$ is the smallest key that has been found and $v_m$ is the associated value.  \n",
    "\n",
    "The function is defined as follows:\n",
    "\n",
    "  - $\\texttt{Node}(k, v, \\texttt{Nil}, r).\\texttt{delMin}() = \\langle r, k, v \\rangle$,\n",
    "  - $l\\not= \\texttt{Nil} \\wedge \\langle l',k_{min}, v_{min}\\rangle := l.\\texttt{delMin}() \n",
    "       \\;\\rightarrow\\;\n",
    "     \\texttt{Node}(k, v, l, r).\\texttt{delMin}() = \n",
    "     \\langle \\texttt{Node}(k, v, l', r).\\texttt{restore}(), k_{min}, v_{min} \\rangle\n",
    "    $"
   ]
  },
  {
   "cell_type": "code",
   "execution_count": null,
   "metadata": {},
   "outputs": [],
   "source": [
    "def _delMin(self):\n",
    "    if self.mLeft.isEmpty():\n",
    "        return self.mRight, self.mKey, self.mValue\n",
    "    else:\n",
    "        ls, km, vm = self.mLeft._delMin()\n",
    "        self.mLeft = ls\n",
    "        self._restore()\n",
    "        return self, km, vm\n",
    "    \n",
    "AVLTree._delMin = _delMin"
   ]
  },
  {
   "cell_type": "markdown",
   "metadata": {},
   "source": [
    "Given two ordered binary trees $s$ and $t$, the expression $s.\\texttt{update}(t)$ overwrites the attributes of $s$ with the corresponding attributes of $t$."
   ]
  },
  {
   "cell_type": "code",
   "execution_count": null,
   "metadata": {},
   "outputs": [],
   "source": [
    "def _update(self, t):\n",
    "    self.mKey    = t.mKey\n",
    "    self.mValue  = t.mValue\n",
    "    self.mLeft   = t.mLeft\n",
    "    self.mRight  = t.mRight\n",
    "    self.mHeight = t.mHeight\n",
    "    \n",
    "AVLTree._update = _update"
   ]
  },
  {
   "cell_type": "markdown",
   "metadata": {},
   "source": [
    "The function $\\texttt{restore}(\\texttt{self})$ restores the balancing condition of the given binary tree\n",
    "at the root node and recompute the variable $\\texttt{mHeight}$.\n",
    "\n",
    "The method $\\texttt{restore}$ is specified via conditional equations.\n",
    "\n",
    "  - $\\texttt{Nil}.\\texttt{restore}() = \\texttt{Nil}$,\n",
    "\n",
    "    because the empty tree already is an  AVL tree.\n",
    "  - $|l.\\texttt{height}() - r.\\texttt{height}()| \\leq 1 \\rightarrow \n",
    "       \\texttt{Node}(k,v,l,r).\\texttt{restore}() = \\texttt{Node}(k,v,l,r)$.\n",
    "\n",
    "      If the balancing condition is satisfied, then nothing needs to be done. \n",
    "  - $\\begin{array}[t]{cl}\n",
    "              & l_1.\\texttt{height}() = r_1.\\texttt{height}() + 2    \\\\ \n",
    "       \\wedge & l_1 = \\texttt{Node}(k_2,v_2,l_2,r_2)                 \\\\\n",
    "       \\wedge & l_2.\\texttt{height}() \\geq r_2.\\texttt{height}()     \\\\[0.2cm]\n",
    "       \\rightarrow & \\texttt{Node}(k_1,v_1,l_1,r_1).\\texttt{restore}() = \n",
    "                     \\texttt{Node}\\bigl(k_2,v_2,l_2,\\texttt{Node}(k_1,v_1,r_2,r_1)\\bigr)\n",
    "       \\end{array}\n",
    "    $\n",
    "  - $\\begin{array}[t]{cl}\n",
    "               & l_1.\\texttt{height}() = r_1.\\texttt{height}() + 2    \\\\ \n",
    "        \\wedge & l_1 = \\texttt{Node}(k_2,v_2,l_2,r_2)               \\\\\n",
    "        \\wedge & l_2.\\texttt{height}() < r_2.\\texttt{height}()     \\\\\n",
    "        \\wedge & r_2 = \\texttt{Node}(k_3,v_3,l_3,r_3)               \\\\\n",
    "        \\rightarrow & \\texttt{Node}(k_1,v_1,l_1,r_1).\\texttt{restore}() = \n",
    "                      \\texttt{Node}\\bigl(k_3,v_3,\\texttt{Node}(k_2,v_2,l_2,l_3),\\texttt{Node}(k_1,v_1,r_3,r_1) \\bigr)\n",
    "        \\end{array}\n",
    "    $"
   ]
  },
  {
   "cell_type": "markdown",
   "metadata": {},
   "source": [
    "  - $\\begin{array}[t]{cl}\n",
    "              & r_1.\\texttt{height}() = l_1.\\texttt{height}() + 2    \\\\ \n",
    "       \\wedge & r_1 = \\texttt{Node}(k_2,v_2,l_2,r_2)               \\\\\n",
    "       \\wedge & r_2.\\texttt{height}() \\geq l_2.\\texttt{height}()     \\\\[0.2cm]\n",
    "       \\rightarrow & \\texttt{Node}(k_1,v_1,l_1,r_1).\\texttt{restore}() = \n",
    "                     \\texttt{Node}\\bigl(k_2,v_2,\\texttt{Node}(k_1,v_1,l_1,l_2),r_2\\bigr)\n",
    "       \\end{array}\n",
    "    $\n",
    "  - $\\begin{array}[t]{cl}\n",
    "               & r_1.\\texttt{height}() = l_1.\\texttt{height}() + 2    \\\\ \n",
    "        \\wedge & r_1 = \\texttt{Node}(k_2,v_2,l_2,r_2)               \\\\\n",
    "        \\wedge & r_2.\\texttt{height}() < l_2.\\texttt{height}()     \\\\\n",
    "        \\wedge & l_2 = \\texttt{Node}(k_3,v_3,l_3,r_3)               \\\\\n",
    "        \\rightarrow & \\texttt{Node}(k_1,v_1,l_1,r_1).\\texttt{restore}() = \n",
    "                      \\texttt{Node}\\bigl(k_3,v_3,\\texttt{Node}(k_1,v_1,l_1,l_3),\\texttt{Node}(k_2,v_2,r_3,r_2) \\bigr)\n",
    "        \\end{array}\n",
    "    $"
   ]
  },
  {
   "cell_type": "code",
   "execution_count": null,
   "metadata": {},
   "outputs": [],
   "source": [
    "def _restore(self):\n",
    "    if abs(self.mLeft.mHeight - self.mRight.mHeight) <= 1:\n",
    "        self._restoreHeight()\n",
    "        return\n",
    "    if self.mLeft.mHeight > self.mRight.mHeight:\n",
    "        k1, v1, l1, r1 = self.mKey, self.mValue, self.mLeft, self.mRight\n",
    "        k2, v2, l2, r2 = l1.mKey, l1.mValue, l1.mLeft, l1.mRight\n",
    "        if l2.mHeight >= r2.mHeight:\n",
    "            self._setValues(k2, v2, l2, createNode(k1, v1, r2, r1))\n",
    "        else: \n",
    "            k3, v3, l3, r3 = r2.mKey, r2.mValue, r2.mLeft, r2.mRight\n",
    "            self._setValues(k3, v3, createNode(k2, v2, l2, l3),\n",
    "                                    createNode(k1, v1, r3, r1))\n",
    "    elif self.mRight.mHeight > self.mLeft.mHeight:\n",
    "        k1, v1, l1, r1 = self.mKey, self.mValue, self.mLeft, self.mRight\n",
    "        k2, v2, l2, r2 = r1.mKey, r1.mValue, r1.mLeft, r1.mRight\n",
    "        if r2.mHeight >= l2.mHeight:\n",
    "            self._setValues(k2, v2, createNode(k1, v1, l1, l2), r2)\n",
    "        else:\n",
    "            k3, v3, l3, r3 = l2.mKey, l2.mValue, l2.mLeft, l2.mRight\n",
    "            self._setValues(k3, v3, createNode(k1, v1, l1, l3),\n",
    "                                    createNode(k2, v2, r3, r2))\n",
    "    self._restoreHeight()\n",
    "    \n",
    "AVLTree._restore = _restore"
   ]
  },
  {
   "cell_type": "markdown",
   "metadata": {},
   "source": [
    "The function $\\texttt{self}.\\texttt{_setValues}(k, v, l, r)$ overwrites the member variables of the node $\\texttt{self}$ with the given values."
   ]
  },
  {
   "cell_type": "code",
   "execution_count": null,
   "metadata": {},
   "outputs": [],
   "source": [
    "def _setValues(self, k, v, l, r):\n",
    "    self.mKey   = k\n",
    "    self.mValue = v\n",
    "    self.mLeft  = l\n",
    "    self.mRight = r\n",
    "    \n",
    "AVLTree._setValues = _setValues"
   ]
  },
  {
   "cell_type": "code",
   "execution_count": null,
   "metadata": {},
   "outputs": [],
   "source": [
    "def _restoreHeight(self):\n",
    "    self.mHeight = max(self.mLeft.mHeight, self.mRight.mHeight) + 1\n",
    "    \n",
    "AVLTree._restoreHeight = _restoreHeight"
   ]
  },
  {
   "cell_type": "markdown",
   "metadata": {},
   "source": [
    "The function $\\texttt{createNode}(k, v, l, r)$ creates an AVL-tree of that has the pair $(k, v)$ stored at its root, left subtree $l$ and right subtree $r$."
   ]
  },
  {
   "cell_type": "code",
   "execution_count": null,
   "metadata": {},
   "outputs": [],
   "source": [
    "def createNode(key, value, left, right):\n",
    "    node         = AVLTree()\n",
    "    node.mKey    = key\n",
    "    node.mValue  = value\n",
    "    node.mLeft   = left\n",
    "    node.mRight  = right\n",
    "    node.mHeight = max(left.mHeight, right.mHeight) + 1\n",
    "    return node"
   ]
  },
  {
   "cell_type": "code",
   "execution_count": null,
   "metadata": {},
   "outputs": [],
   "source": [
    "import graphviz as gv"
   ]
  },
  {
   "cell_type": "markdown",
   "metadata": {},
   "source": [
    "Given an ordered binary tree, this function renders the tree graphically using `graphviz`."
   ]
  },
  {
   "cell_type": "code",
   "execution_count": null,
   "metadata": {},
   "outputs": [],
   "source": [
    "def toDot(self):\n",
    "    AVLTree.sNodeCount = 0 # this is a static variable of the class AVLTree\n",
    "    dot = gv.Digraph(node_attr={'shape': 'record', 'style': 'rounded'})\n",
    "    NodeDict = {}\n",
    "    self._assignIDs(NodeDict)\n",
    "    for n, t in NodeDict.items():\n",
    "        if t.mValue != None:\n",
    "            dot.node(str(n), label='{' + str(t.mKey) + '|' + str(t.mValue) + '}')\n",
    "        elif t.mKey != None:\n",
    "            dot.node(str(n), label=str(t.mKey))\n",
    "        else:\n",
    "            dot.node(str(n), label='', shape='point')\n",
    "    for n, t in NodeDict.items():\n",
    "        if not t.mLeft == None:\n",
    "            dot.edge(str(n), str(t.mLeft.mID))\n",
    "        if not t.mRight == None:\n",
    "            dot.edge(str(n), str(t.mRight.mID))\n",
    "    return dot\n",
    "\n",
    "AVLTree.toDot = toDot"
   ]
  },
  {
   "cell_type": "markdown",
   "metadata": {},
   "source": [
    "This method assigns a unique identifier with each node.  The dictionary `NodeDict` maps these identifiers to the nodes where they occur."
   ]
  },
  {
   "cell_type": "code",
   "execution_count": null,
   "metadata": {},
   "outputs": [],
   "source": [
    "def _assignIDs(self, NodeDict):\n",
    "    AVLTree.sNodeCount += 1\n",
    "    self.mID = AVLTree.sNodeCount\n",
    "    NodeDict[self.mID] = self\n",
    "    if self.isEmpty():\n",
    "        return\n",
    "    self.mLeft ._assignIDs(NodeDict)\n",
    "    self.mRight._assignIDs(NodeDict)\n",
    "    \n",
    "AVLTree._assignIDs = _assignIDs"
   ]
  },
  {
   "cell_type": "markdown",
   "metadata": {},
   "source": [
    "The function $\\texttt{demo}()$ creates a small ordered binary tree."
   ]
  },
  {
   "cell_type": "code",
   "execution_count": null,
   "metadata": {},
   "outputs": [],
   "source": [
    "def demo():\n",
    "    m = AVLTree()\n",
    "    m.insert(\"anton\",  123)\n",
    "    m.insert(\"hugo\" ,  345)\n",
    "    m.insert(\"gustav\", 789)\n",
    "    m.insert(\"jens\",   234)\n",
    "    m.insert(\"hubert\", 432)\n",
    "    m.insert(\"andre\",  342)\n",
    "    m.insert(\"philip\", 342)\n",
    "    m.insert(\"rene\",   345)\n",
    "    return m"
   ]
  },
  {
   "cell_type": "code",
   "execution_count": null,
   "metadata": {},
   "outputs": [],
   "source": [
    "t = demo()\n",
    "t.toDot()"
   ]
  },
  {
   "cell_type": "code",
   "execution_count": null,
   "metadata": {},
   "outputs": [],
   "source": [
    "t.delete('gustav')\n",
    "t.toDot()"
   ]
  },
  {
   "cell_type": "code",
   "execution_count": null,
   "metadata": {},
   "outputs": [],
   "source": [
    "t.delete('hubert')\n",
    "t.toDot()"
   ]
  },
  {
   "cell_type": "markdown",
   "metadata": {},
   "source": [
    "Let's generate an ordered binary tree with random keys."
   ]
  },
  {
   "cell_type": "code",
   "execution_count": null,
   "metadata": {},
   "outputs": [],
   "source": [
    "import random as rnd"
   ]
  },
  {
   "cell_type": "code",
   "execution_count": null,
   "metadata": {},
   "outputs": [],
   "source": [
    "t = AVLTree()\n",
    "for k in range(30):\n",
    "    k = rnd.randrange(100)\n",
    "    t.insert(k, None)\n",
    "t.toDot()"
   ]
  },
  {
   "cell_type": "markdown",
   "metadata": {},
   "source": [
    "This tree looks more or less balanced.  Lets us try to create a tree by inserting sorted numbers because that resulted in linear complexity for ordered binary trees."
   ]
  },
  {
   "cell_type": "code",
   "execution_count": null,
   "metadata": {
    "scrolled": false
   },
   "outputs": [],
   "source": [
    "t = AVLTree()\n",
    "for k in range(30):\n",
    "    t.insert(k, None)\n",
    "t.toDot()"
   ]
  },
  {
   "cell_type": "markdown",
   "metadata": {},
   "source": [
    "Next, we compute the set of prime numbers $\\leq 100$.  Mathematically, this set is given as follows:\n",
    "$$ \\bigl\\{2, \\cdots, 100 \\bigr\\} - \\bigl\\{ i \\cdot j \\bigm| i, j \\in \\{2, \\cdots, 100 \\}\\bigr\\}$$"
   ]
  },
  {
   "cell_type": "code",
   "execution_count": null,
   "metadata": {},
   "outputs": [],
   "source": [
    "S = AVLTree()\n",
    "for k in range(2, 101):\n",
    "    S.insert(k, None)\n",
    "for i in range(2, 101):\n",
    "    for j in range(2, 101):\n",
    "        S.delete(i * j)\n",
    "S.toDot()"
   ]
  },
  {
   "cell_type": "markdown",
   "metadata": {},
   "source": [
    "The function $t.\\texttt{maxKey}()$ returns the biggest key in the tree $t$.  It is defined inductively:\n",
    "  - $\\texttt{Nil}.\\texttt{maxKey}() = \\Omega$,\n",
    "  - $\\texttt{Node}(k,v,l,\\texttt{Nil}).\\texttt{maxKey}() = k$,\n",
    "  - $r \\not= \\texttt{Nil} \\rightarrow \\texttt{Node}(k,v,l,r).\\texttt{maxKey}() = r.\\texttt{maxKey}()$."
   ]
  },
  {
   "cell_type": "code",
   "execution_count": null,
   "metadata": {},
   "outputs": [],
   "source": [
    "def maxKey(self):\n",
    "    if self.isEmpty():\n",
    "        return None\n",
    "    if self.mRight.isEmpty():\n",
    "        return self.mKey\n",
    "    return self.mRight.maxKey()\n",
    "\n",
    "AVLTree.maxKey = maxKey"
   ]
  },
  {
   "cell_type": "markdown",
   "metadata": {},
   "source": [
    "The function $\\texttt{leanTree}(h, k)$ computes an AVL tree of height $h$ that is as lean as possible.\n",
    "All key in the tree will be integers that are bigger than $k$.  The definition by induction:\n",
    "  - $\\texttt{leanTree}(0, k) = \\texttt{Nil}$,\n",
    "\n",
    "    because there is only one AVL tree of height $0$ and this is the tree $\\texttt{Nil}$.\n",
    "  - $\\texttt{leanTree}(1, k) = \\texttt{Node}(k+1,0,\\texttt{Nil}, \\texttt{Nil})$,\n",
    "\n",
    "    since, if we abstract from the actual keys and values, there is exactly one AVL tree of height $1$.\n",
    "  - $\\texttt{leanTree}(h+1,k).\\texttt{maxKey}() = l \\rightarrow \n",
    "     \\texttt{leanTree}(h+2,k) = \\texttt{Node}\\bigl(l+1,\\,0,\\,\\texttt{leanTree}(h+1,k),\\,\\texttt{leanTree}(h, l+1)\\bigr)\n",
    "    $."
   ]
  },
  {
   "cell_type": "code",
   "execution_count": null,
   "metadata": {},
   "outputs": [],
   "source": [
    "def leanTree(h, k):\n",
    "    if h == 0: \n",
    "        return AVLTree()\n",
    "    if h == 1:\n",
    "        return createNode(k + 1, None, AVLTree(), AVLTree())\n",
    "    left = leanTree(h - 1, k)\n",
    "    l    = left.maxKey()\n",
    "    return createNode(l + 1, None, left, leanTree(h - 2, l + 1))"
   ]
  },
  {
   "cell_type": "code",
   "execution_count": null,
   "metadata": {},
   "outputs": [],
   "source": [
    "l = leanTree(6, 0)\n",
    "l.toDot()"
   ]
  },
  {
   "cell_type": "code",
   "execution_count": null,
   "metadata": {
    "scrolled": false
   },
   "outputs": [],
   "source": [
    "for k in range(6):\n",
    "    l = leanTree(k, 0)\n",
    "    print(f'Height {k}:')\n",
    "    display(l.toDot())"
   ]
  },
  {
   "cell_type": "code",
   "execution_count": null,
   "metadata": {},
   "outputs": [],
   "source": []
  }
 ],
 "metadata": {
  "kernelspec": {
   "display_name": "Python 3 (ipykernel)",
   "language": "python",
   "name": "python3"
  },
  "language_info": {
   "codemirror_mode": {
    "name": "ipython",
    "version": 3
   },
   "file_extension": ".py",
   "mimetype": "text/x-python",
   "name": "python",
   "nbconvert_exporter": "python",
   "pygments_lexer": "ipython3",
   "version": "3.9.12"
  },
  "toc": {
   "base_numbering": 1,
   "nav_menu": {},
   "number_sections": true,
   "sideBar": true,
   "skip_h1_title": false,
   "title_cell": "Table of Contents",
   "title_sidebar": "Contents",
   "toc_cell": false,
   "toc_position": {},
   "toc_section_display": true,
   "toc_window_display": false
  },
  "varInspector": {
   "cols": {
    "lenName": 16,
    "lenType": 16,
    "lenVar": 40
   },
   "kernels_config": {
    "python": {
     "delete_cmd_postfix": "",
     "delete_cmd_prefix": "del ",
     "library": "var_list.py",
     "varRefreshCmd": "print(var_dic_list())"
    },
    "r": {
     "delete_cmd_postfix": ") ",
     "delete_cmd_prefix": "rm(",
     "library": "var_list.r",
     "varRefreshCmd": "cat(var_dic_list()) "
    }
   },
   "types_to_exclude": [
    "module",
    "function",
    "builtin_function_or_method",
    "instance",
    "_Feature"
   ],
   "window_display": false
  }
 },
 "nbformat": 4,
 "nbformat_minor": 2
}
