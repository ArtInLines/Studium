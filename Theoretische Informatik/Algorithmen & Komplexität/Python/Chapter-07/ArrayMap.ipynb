{
 "cells": [
  {
   "cell_type": "code",
   "execution_count": null,
   "metadata": {},
   "outputs": [],
   "source": [
    "from IPython.core.display import HTML\n",
    "with open('../style.css') as file:\n",
    "    css = file.read()\n",
    "HTML(css)"
   ]
  },
  {
   "cell_type": "markdown",
   "metadata": {},
   "source": [
    "# Implementing Maps as Arrays"
   ]
  },
  {
   "cell_type": "markdown",
   "metadata": {},
   "source": [
    "If the keys are natural numbers less than a given natural number `n` that is not \n",
    "too big, a map can be implemented via an array.\n",
    "The class `ArrayMap` shows how this is done.  The constructor `init` takes a second argument `n`.  This argument specifies the size of the array."
   ]
  },
  {
   "cell_type": "code",
   "execution_count": null,
   "metadata": {},
   "outputs": [],
   "source": [
    "class ArrayMap:\n",
    "    def __init__(self, n):\n",
    "        self.mArray = [None] * n\n",
    "        \n",
    "    def find(self, k):\n",
    "        return self.mArray[k]\n",
    "    \n",
    "    def insert(self, k, v):\n",
    "        self.mArray[k] = v\n",
    "\n",
    "    def delete(self, k):\n",
    "        self.mArray[k] = None\n",
    "            \n",
    "    def __repr__(self):\n",
    "        result = '{ '\n",
    "        for key, value  in enumerate(self.mArray):\n",
    "            if value != None:\n",
    "                result += f'{key}: {value}, '\n",
    "        if result == '{ ':\n",
    "            return '{}'\n",
    "        result = result[:-2] + ' }'\n",
    "        return result"
   ]
  },
  {
   "cell_type": "code",
   "execution_count": null,
   "metadata": {},
   "outputs": [],
   "source": [
    "squares = ArrayMap(10)\n",
    "squares"
   ]
  },
  {
   "cell_type": "code",
   "execution_count": null,
   "metadata": {},
   "outputs": [],
   "source": [
    "for i in range(10):\n",
    "    squares.insert(i, i * i)\n",
    "squares"
   ]
  },
  {
   "cell_type": "code",
   "execution_count": null,
   "metadata": {},
   "outputs": [],
   "source": [
    "for i in range(10):\n",
    "    print(f'find({i}) = {squares.find(i)}');"
   ]
  },
  {
   "cell_type": "code",
   "execution_count": null,
   "metadata": {},
   "outputs": [],
   "source": [
    "for i in range(10):\n",
    "    squares.delete(i)\n",
    "squares"
   ]
  },
  {
   "cell_type": "markdown",
   "metadata": {},
   "source": [
    "Lets compute the primes up to $n = 10000$."
   ]
  },
  {
   "cell_type": "code",
   "execution_count": null,
   "metadata": {},
   "outputs": [],
   "source": [
    "n = 10000"
   ]
  },
  {
   "cell_type": "code",
   "execution_count": null,
   "metadata": {},
   "outputs": [],
   "source": [
    "%%time\n",
    "S = ArrayMap(n+1)\n",
    "for i in range(2, n+1):\n",
    "    S.insert(i, i)\n",
    "for i in range(2, n // 2 + 1):\n",
    "    for j in range(i, n+1):  \n",
    "        if i * j > n:\n",
    "            break\n",
    "        S.delete(i * j)"
   ]
  },
  {
   "cell_type": "code",
   "execution_count": null,
   "metadata": {
    "scrolled": false
   },
   "outputs": [],
   "source": [
    "for k in range(2, n+1):\n",
    "    if S.find(k):\n",
    "        print(k, end=' ')"
   ]
  },
  {
   "cell_type": "code",
   "execution_count": null,
   "metadata": {},
   "outputs": [],
   "source": []
  }
 ],
 "metadata": {
  "kernelspec": {
   "display_name": "Python 3",
   "language": "python",
   "name": "python3"
  },
  "language_info": {
   "codemirror_mode": {
    "name": "ipython",
    "version": 3
   },
   "file_extension": ".py",
   "mimetype": "text/x-python",
   "name": "python",
   "nbconvert_exporter": "python",
   "pygments_lexer": "ipython3",
   "version": "3.9.4"
  },
  "varInspector": {
   "cols": {
    "lenName": 16,
    "lenType": 16,
    "lenVar": 40
   },
   "kernels_config": {
    "python": {
     "delete_cmd_postfix": "",
     "delete_cmd_prefix": "del ",
     "library": "var_list.py",
     "varRefreshCmd": "print(var_dic_list())"
    },
    "r": {
     "delete_cmd_postfix": ") ",
     "delete_cmd_prefix": "rm(",
     "library": "var_list.r",
     "varRefreshCmd": "cat(var_dic_list()) "
    }
   },
   "types_to_exclude": [
    "module",
    "function",
    "builtin_function_or_method",
    "instance",
    "_Feature"
   ],
   "window_display": false
  }
 },
 "nbformat": 4,
 "nbformat_minor": 2
}
