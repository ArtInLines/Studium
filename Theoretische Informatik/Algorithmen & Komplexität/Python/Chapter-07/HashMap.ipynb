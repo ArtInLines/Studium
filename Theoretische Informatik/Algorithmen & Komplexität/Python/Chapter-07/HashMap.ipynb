{
 "cells": [
  {
   "cell_type": "code",
   "execution_count": null,
   "metadata": {},
   "outputs": [],
   "source": [
    "from IPython.core.display import HTML\n",
    "with open('../style.css') as file:\n",
    "    css = file.read()\n",
    "HTML(css)"
   ]
  },
  {
   "cell_type": "markdown",
   "metadata": {},
   "source": [
    "# Hash Tables (Open Hashing)\n",
    "\n",
    "This notebook provides a simple implementation of a [hash table](https://en.wikipedia.org/wiki/Hash_table) that uses *open hashing*."
   ]
  },
  {
   "cell_type": "markdown",
   "metadata": {},
   "source": [
    "The class `ListMap` from the notebook `ListMap.ipynb` implements a map as a *linked list*."
   ]
  },
  {
   "cell_type": "code",
   "execution_count": null,
   "metadata": {},
   "outputs": [],
   "source": [
    "%run ListMap.ipynb"
   ]
  },
  {
   "cell_type": "markdown",
   "metadata": {},
   "source": [
    "The function `ord` maps characters to their [ASCII code](https://en.wikipedia.org/wiki/ASCII). $\\mapsto$"
   ]
  },
  {
   "cell_type": "code",
   "execution_count": null,
   "metadata": {},
   "outputs": [],
   "source": [
    "import string"
   ]
  },
  {
   "cell_type": "code",
   "execution_count": null,
   "metadata": {},
   "outputs": [],
   "source": [
    "for c in string.ascii_letters:\n",
    "    print(f'{c} ↦ {ord(c)}')"
   ]
  },
  {
   "cell_type": "markdown",
   "metadata": {},
   "source": [
    "Given a string $w$ and the size $n$ of the hash table, the function $\\texttt{hash_code}(w, n)$ calculates the hash code of $w$.  For a string \n",
    "$w = c_0c_1\\cdots c_{m-1}$ of length $m$, this function is defined as follows:\n",
    "$$ \\texttt{hash_code}(w, n) = \\left(\\sum\\limits_{i=0}^{m-1} \\texttt{ord}(c_i) \\cdot 128^i\\right) \\;\\texttt{%}\\; n  $$\n",
    "In order to prevent overflows when computing the numbers $128^i$ we can define the partial sum $s_k$ for\n",
    "$k=0,1,\\cdots,m-1$ by induction: \n",
    "  - $s_{0} = \\texttt{ord}(c_{m-1}) \\;\\texttt{%}\\; n$,\n",
    "  - $s_{k+1} = \\bigl(s_k \\cdot 128 + \\texttt{ord}(c_{k}) \\bigr) \\;\\texttt{%}\\; n$.\n",
    "\n",
    "Then we have\n",
    "$$ s_{m-1} = \\left(\\sum\\limits_{i=0}^{m-1} \\texttt{ord}(c_i) \\cdot 128^i\\right) \\;\\texttt{%}\\; n. $$"
   ]
  },
  {
   "cell_type": "code",
   "execution_count": null,
   "metadata": {},
   "outputs": [],
   "source": [
    "def hash_code(w, n):\n",
    "    m = len(w)\n",
    "    s = 0\n",
    "    for k in range(m-1, -1, -1):\n",
    "        s = (s * 128 + ord(w[k])) % n\n",
    "    return s"
   ]
  },
  {
   "cell_type": "markdown",
   "metadata": {},
   "source": [
    "Let us test this function."
   ]
  },
  {
   "cell_type": "code",
   "execution_count": null,
   "metadata": {},
   "outputs": [],
   "source": [
    "hash_code('George W. Bush', 6761)"
   ]
  },
  {
   "cell_type": "code",
   "execution_count": null,
   "metadata": {},
   "outputs": [],
   "source": [
    "class HashTable:\n",
    "    def __init__(self, n, code=hash_code):\n",
    "        self.mSize    = n\n",
    "        self.mEntries = 0                                        # number of entries\n",
    "        self.mArray   = [ ListMap() for i in range(self.mSize) ] # array of empty ListMap objects\n",
    "        self.mAlpha   = 2                                        # load factor\n",
    "        self.mCode    = code"
   ]
  },
  {
   "cell_type": "markdown",
   "metadata": {},
   "source": [
    "Hash tables work best if their size is a prime number.  Therefore, the variable `Primes` stores a list of prime numbers.  \n",
    "These numbers are organized so that `Primes[i+1]` is roughly twice as big as `Primes[i]`."
   ]
  },
  {
   "cell_type": "code",
   "execution_count": null,
   "metadata": {},
   "outputs": [],
   "source": [
    "HashTable.Primes = [ 3, 7, 13, 31, 61, 127, 251, 509, 1021, 2039, 4093, \n",
    "                     8191, 16381, 32749, 65521, 131071, 262139, 524287, \n",
    "                     1048573, 2097143, 4194301, 8388593, 16777213, \n",
    "                     33554393, 67108859, 134217689, 268435399, \n",
    "                     536870909, 1073741789, 2147483647 \n",
    "                   ]"
   ]
  },
  {
   "cell_type": "code",
   "execution_count": null,
   "metadata": {},
   "outputs": [],
   "source": [
    "def find(self, key):\n",
    "    index = self.mCode(key, self.mSize)\n",
    "    aList = self.mArray[index]\n",
    "    return aList.find(key)\n",
    "\n",
    "HashTable.find = find\n",
    "del find"
   ]
  },
  {
   "cell_type": "code",
   "execution_count": null,
   "metadata": {},
   "outputs": [],
   "source": [
    "def insert(self, key, value):\n",
    "    if self.mEntries >= self.mSize * self.mAlpha:\n",
    "        self._rehash()\n",
    "    index = self.mCode(key, self.mSize)\n",
    "    aList = self.mArray[index]\n",
    "    self.mEntries += aList.insert(key, value)\n",
    "    \n",
    "HashTable.insert = insert\n",
    "del insert"
   ]
  },
  {
   "cell_type": "code",
   "execution_count": null,
   "metadata": {},
   "outputs": [],
   "source": [
    "def _rehash(self):\n",
    "    for p in HashTable.Primes:\n",
    "        if p * self.mAlpha > self.mEntries:\n",
    "            prime = p\n",
    "            break\n",
    "    newTable = HashTable(prime, self.mCode)\n",
    "    for aList in self.mArray:\n",
    "        for k, v in aList:\n",
    "            newTable.insert(k, v)\n",
    "    self.mSize  = prime\n",
    "    self.mArray = newTable.mArray\n",
    "    \n",
    "HashTable._rehash = _rehash\n",
    "del _rehash"
   ]
  },
  {
   "cell_type": "code",
   "execution_count": null,
   "metadata": {},
   "outputs": [],
   "source": [
    "def delete(self, key):\n",
    "    if 2 * self.mEntries <= self.mSize * self.mAlpha:\n",
    "        self._rehash()\n",
    "    index = self.mCode(key, self.mSize)\n",
    "    aList = self.mArray[index]\n",
    "    self.mEntries -= aList.delete(key)\n",
    "\n",
    "HashTable.delete = delete\n",
    "del delete"
   ]
  },
  {
   "cell_type": "code",
   "execution_count": null,
   "metadata": {},
   "outputs": [],
   "source": [
    "def allKeys(self):\n",
    "    Result = []\n",
    "    for L in self.mArray:\n",
    "        for key, _ in L:\n",
    "            Result.append(key)\n",
    "    return Result\n",
    "            \n",
    "HashTable.allKeys = allKeys\n",
    "del allKeys"
   ]
  },
  {
   "cell_type": "code",
   "execution_count": null,
   "metadata": {},
   "outputs": [],
   "source": [
    "def __repr__(self):\n",
    "    result = ''\n",
    "    for i, aList in enumerate(self.mArray):\n",
    "        result += f'{i}: {aList}\\n'\n",
    "    return result\n",
    "\n",
    "HashTable.__repr__ = __repr__\n",
    "del __repr__"
   ]
  },
  {
   "cell_type": "code",
   "execution_count": null,
   "metadata": {},
   "outputs": [],
   "source": [
    "t = HashTable(3)\n",
    "t.insert('Adrian', 8)\n",
    "t"
   ]
  },
  {
   "cell_type": "code",
   "execution_count": null,
   "metadata": {},
   "outputs": [],
   "source": [
    "t.insert('Benjamin', 24)\n",
    "t"
   ]
  },
  {
   "cell_type": "code",
   "execution_count": null,
   "metadata": {},
   "outputs": [],
   "source": [
    "t.insert('Bereket', 1)\n",
    "t"
   ]
  },
  {
   "cell_type": "code",
   "execution_count": null,
   "metadata": {},
   "outputs": [],
   "source": [
    "t.insert('Christian', 13)\n",
    "t"
   ]
  },
  {
   "cell_type": "code",
   "execution_count": null,
   "metadata": {},
   "outputs": [],
   "source": [
    "t.insert('Christian', 14)\n",
    "t"
   ]
  },
  {
   "cell_type": "code",
   "execution_count": null,
   "metadata": {},
   "outputs": [],
   "source": [
    "t.find('Adrian'), t.find('Christian'), t.find('Benjamin')"
   ]
  },
  {
   "cell_type": "code",
   "execution_count": null,
   "metadata": {},
   "outputs": [],
   "source": [
    "t.insert('David', 22)\n",
    "t"
   ]
  },
  {
   "cell_type": "code",
   "execution_count": null,
   "metadata": {},
   "outputs": [],
   "source": [
    "t.insert('Ephraim', 19)\n",
    "t"
   ]
  },
  {
   "cell_type": "code",
   "execution_count": null,
   "metadata": {},
   "outputs": [],
   "source": [
    "t.insert('Erwin', 26)\n",
    "t"
   ]
  },
  {
   "cell_type": "code",
   "execution_count": null,
   "metadata": {},
   "outputs": [],
   "source": [
    "t.insert('Felix', 4)\n",
    "t"
   ]
  },
  {
   "cell_type": "code",
   "execution_count": null,
   "metadata": {},
   "outputs": [],
   "source": [
    "t.insert('Florian', 9)\n",
    "t"
   ]
  },
  {
   "cell_type": "code",
   "execution_count": null,
   "metadata": {},
   "outputs": [],
   "source": [
    "t.insert('Giorgio', 20)\n",
    "t"
   ]
  },
  {
   "cell_type": "code",
   "execution_count": null,
   "metadata": {},
   "outputs": [],
   "source": [
    "t.insert('Jan', 7)\n",
    "t"
   ]
  },
  {
   "cell_type": "code",
   "execution_count": null,
   "metadata": {},
   "outputs": [],
   "source": [
    "t.insert('Janis', 16)\n",
    "t"
   ]
  },
  {
   "cell_type": "code",
   "execution_count": null,
   "metadata": {},
   "outputs": [],
   "source": [
    "t.insert('Josia', 18)\n",
    "t"
   ]
  },
  {
   "cell_type": "code",
   "execution_count": null,
   "metadata": {},
   "outputs": [],
   "source": [
    "t.insert('Kai', 3)\n",
    "t"
   ]
  },
  {
   "cell_type": "code",
   "execution_count": null,
   "metadata": {},
   "outputs": [],
   "source": [
    "t.insert('Lars', 21)\n",
    "t"
   ]
  },
  {
   "cell_type": "code",
   "execution_count": null,
   "metadata": {},
   "outputs": [],
   "source": [
    "t.insert('Lucas', 0)\n",
    "t"
   ]
  },
  {
   "cell_type": "code",
   "execution_count": null,
   "metadata": {},
   "outputs": [],
   "source": [
    "t.insert('Marcel', 5)\n",
    "t"
   ]
  },
  {
   "cell_type": "code",
   "execution_count": null,
   "metadata": {},
   "outputs": [],
   "source": [
    "t.insert('Marius', 6)\n",
    "t"
   ]
  },
  {
   "cell_type": "code",
   "execution_count": null,
   "metadata": {},
   "outputs": [],
   "source": [
    "t.insert('Markus', 17)\n",
    "t"
   ]
  },
  {
   "cell_type": "code",
   "execution_count": null,
   "metadata": {},
   "outputs": [],
   "source": [
    "t.insert('Matthias', 10)\n",
    "t"
   ]
  },
  {
   "cell_type": "code",
   "execution_count": null,
   "metadata": {},
   "outputs": [],
   "source": [
    "t.insert('Nick', 11)\n",
    "t"
   ]
  },
  {
   "cell_type": "code",
   "execution_count": null,
   "metadata": {},
   "outputs": [],
   "source": [
    "t.insert('Patrick', 23)\n",
    "t"
   ]
  },
  {
   "cell_type": "code",
   "execution_count": null,
   "metadata": {},
   "outputs": [],
   "source": [
    "t.insert('Petra', 27)\n",
    "t"
   ]
  },
  {
   "cell_type": "code",
   "execution_count": null,
   "metadata": {},
   "outputs": [],
   "source": [
    "t.insert('Rene', 15)\n",
    "t"
   ]
  },
  {
   "cell_type": "code",
   "execution_count": null,
   "metadata": {},
   "outputs": [],
   "source": [
    "t.insert('Sebastian', 25)\n",
    "t"
   ]
  },
  {
   "cell_type": "code",
   "execution_count": null,
   "metadata": {},
   "outputs": [],
   "source": [
    "t.insert('Stefan', 2)\n",
    "t"
   ]
  },
  {
   "cell_type": "code",
   "execution_count": null,
   "metadata": {},
   "outputs": [],
   "source": [
    "t.find('Stefan')"
   ]
  },
  {
   "cell_type": "code",
   "execution_count": null,
   "metadata": {},
   "outputs": [],
   "source": [
    "t.delete('Adrian')\n",
    "t"
   ]
  },
  {
   "cell_type": "code",
   "execution_count": null,
   "metadata": {},
   "outputs": [],
   "source": [
    "t.delete('Adrian')\n",
    "t.delete('Benjamin')\n",
    "t.delete('Bereket')\n",
    "t.delete('Christian')\n",
    "t.delete('Christian')\n",
    "t.delete('David')\n",
    "t.delete('Ephraim')\n",
    "t.delete('Erwin')\n",
    "t.delete('Felix')\n",
    "t.delete('Florian')\n",
    "t.delete('Giorgio')\n",
    "t.delete('Jan')\n",
    "t.delete('Janis')\n",
    "t.delete('Josia')\n",
    "t.delete('Kai')\n",
    "t.delete('Lars')\n",
    "t.delete('Lucas')\n",
    "t.delete('Marcel')\n",
    "t.delete('Marius')\n",
    "t.delete('Markus')\n",
    "t.delete('Matthias')\n",
    "t.delete('Nick')\n",
    "t.delete('Patrick')\n",
    "t.delete('Petra')\n",
    "t.delete('Rene')\n",
    "t.delete('Sebastian')\n",
    "t.delete('Stefan')\n",
    "t"
   ]
  },
  {
   "cell_type": "code",
   "execution_count": null,
   "metadata": {},
   "outputs": [],
   "source": [
    "def primes(n=100):\n",
    "    S = HashTable(20, code=lambda x, n: x % n)\n",
    "    for i in range(2, n + 1):\n",
    "        S.insert(i, i)\n",
    "    for i in range(2, n // 2 + 1):\n",
    "        for j in range(i, n // i + 1):\n",
    "            S.delete(i * j)\n",
    "    return S.allKeys()"
   ]
  },
  {
   "cell_type": "code",
   "execution_count": null,
   "metadata": {
    "scrolled": true
   },
   "outputs": [],
   "source": [
    "L = primes()\n",
    "print(L)\n",
    "print(sorted(L))"
   ]
  },
  {
   "cell_type": "code",
   "execution_count": null,
   "metadata": {},
   "outputs": [],
   "source": []
  }
 ],
 "metadata": {
  "kernelspec": {
   "display_name": "Python 3",
   "language": "python",
   "name": "python3"
  },
  "language_info": {
   "codemirror_mode": {
    "name": "ipython",
    "version": 3
   },
   "file_extension": ".py",
   "mimetype": "text/x-python",
   "name": "python",
   "nbconvert_exporter": "python",
   "pygments_lexer": "ipython3",
   "version": "3.9.4"
  },
  "varInspector": {
   "cols": {
    "lenName": 16,
    "lenType": 16,
    "lenVar": 40
   },
   "kernels_config": {
    "python": {
     "delete_cmd_postfix": "",
     "delete_cmd_prefix": "del ",
     "library": "var_list.py",
     "varRefreshCmd": "print(var_dic_list())"
    },
    "r": {
     "delete_cmd_postfix": ") ",
     "delete_cmd_prefix": "rm(",
     "library": "var_list.r",
     "varRefreshCmd": "cat(var_dic_list()) "
    }
   },
   "types_to_exclude": [
    "module",
    "function",
    "builtin_function_or_method",
    "instance",
    "_Feature"
   ],
   "window_display": false
  }
 },
 "nbformat": 4,
 "nbformat_minor": 2
}
