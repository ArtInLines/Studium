{
 "cells": [
  {
   "cell_type": "code",
   "execution_count": null,
   "metadata": {},
   "outputs": [],
   "source": [
    "from IPython.core.display import HTML\n",
    "with open('../style.css') as file:\n",
    "    css = file.read()\n",
    "HTML(css)"
   ]
  },
  {
   "cell_type": "markdown",
   "metadata": {},
   "source": [
    "# Ordered Binary Trees"
   ]
  },
  {
   "cell_type": "markdown",
   "metadata": {},
   "source": [
    "This notebook implements *ordered binary trees*.  In order to define this notion, we first have to define \n",
    "the concept of *ordered binary trees*.  In the following, assume a set $\\texttt{Key}$ and a set $\\texttt{Value}$ are given.   Then, the\n",
    "set $\\mathcal{B}$ of all *ordered binary trees* is defined inductively.\n",
    "  - $\\texttt{Nil} \\in \\mathcal{B}$\n",
    "  - $\\texttt{Node}(k, v, l, r) \\in \\mathcal{B}$  iff the following conditions hold:\n",
    "      - $k \\in\\texttt{Key}$,\n",
    "      - $v \\in\\texttt{Value}$,\n",
    "      - $l \\in\\mathcal{B}$,\n",
    "      - $r \\in\\mathcal{B}$,\n",
    "      - all keys that occur in the left subtree $l$ are smaller than $k$,\n",
    "      - all keys that occur in the right subtree $r$ are bigger than $k$,\n",
    "      \n",
    "        therefore $l < k < r$."
   ]
  },
  {
   "cell_type": "markdown",
   "metadata": {},
   "source": [
    "The class `OrderedBinaryTree` represents the nodes of an ordered binary tree.\n",
    "  - $\\texttt{Nil}$           is created as $\\texttt{OrderedBinaryTree}()$.\n",
    "  - $\\texttt{Node}(k,v,l,r)$ is created as follows:\n",
    "    ```\n",
    "    t = OrderedBinaryTree()\n",
    "    t.mKey   = k\n",
    "    t.mValue = v\n",
    "    t.mLeft  = l\n",
    "    t.mRight = r\n",
    "    ```\n",
    "The constructor below creates the empty tree."
   ]
  },
  {
   "cell_type": "code",
   "execution_count": null,
   "metadata": {},
   "outputs": [],
   "source": [
    "class OrderedBinaryTree:\n",
    "    def __init__(self):\n",
    "        self.mKey   = None\n",
    "        self.mValue = None\n",
    "        self.mLeft  = None\n",
    "        self.mRight = None"
   ]
  },
  {
   "cell_type": "markdown",
   "metadata": {},
   "source": [
    "Given an ordered binary tree $t$, the expression $t.\\texttt{isEmpty}()$ checks whether $t$ is the empty tree."
   ]
  },
  {
   "cell_type": "code",
   "execution_count": null,
   "metadata": {},
   "outputs": [],
   "source": [
    "def isEmpty(self):\n",
    "    return self.mKey == None\n",
    "\n",
    "OrderedBinaryTree.isEmpty = isEmpty\n",
    "del isEmpty"
   ]
  },
  {
   "cell_type": "markdown",
   "metadata": {},
   "source": [
    "Given an ordered binary tree $t$ and a key $k$, the expression $t.\\texttt{find}(k)$ returns the value stored unter the key $k$.\n",
    "The method `find` is defined inductively as follows:\n",
    "  - $\\texttt{Nil}.\\texttt{find}(k) = \\Omega$,\n",
    "\n",
    "    because the empty tree is interpreted as the empty map.\n",
    "  - $\\texttt{Node}(k, v, l, r).\\texttt{find}(k) = v$,\n",
    "      \n",
    "    because the node $\\texttt{Node}(k,v,l,r)$ stores the assignment $k \\mapsto v$.\n",
    "  - $k_1 < k_2 \\rightarrow \\texttt{Node}(k_2, v, l, r).\\texttt{find}(k_1) = l.\\texttt{find}(k_1)$,\n",
    "\n",
    "    because if $k_1$ is less than $k_2$, then any mapping for $k_1$ has to be stored in the left subtree  $l$.\n",
    "  - $k_1 > k_2 \\rightarrow \\texttt{Node}(k_2, v, l, r).\\texttt{find}(k_1) = r.\\texttt{find}(k_1)$,\n",
    "\n",
    "    because if $k_1$ is greater than $k_2$, then any mapping for $k_1$ has to be stored in the right subtree  $r$."
   ]
  },
  {
   "cell_type": "code",
   "execution_count": null,
   "metadata": {},
   "outputs": [],
   "source": [
    "def find(self, key):\n",
    "    if self.isEmpty():\n",
    "        return None\n",
    "    elif self.mKey == key:\n",
    "        return self.mValue\n",
    "    elif key < self.mKey:\n",
    "        return self.mLeft.find(key)\n",
    "    else:\n",
    "        return self.mRight.find(key)\n",
    "    \n",
    "OrderedBinaryTree.find = find\n",
    "del find"
   ]
  },
  {
   "cell_type": "markdown",
   "metadata": {},
   "source": [
    "Given an ordered binary tree $t$, a key $k$ and a value $v$, the expression $t.\\texttt{insert}(k, v)$ updates the tree $t$ such that the key $k$ is associated with the value $v$.\n",
    "The method `insert` is defined inductively as follows:\n",
    "  - $\\texttt{Nil}.\\texttt{insert}(k,v) = \\texttt{Node}(k,v, \\texttt{Nil}, \\texttt{Nil})$,\n",
    "  \n",
    "    If the tree is empty, the information to be stored is stored at the root.\n",
    "  - $\\texttt{Node}(k,v_2,l,r).\\texttt{insert}(k,v_1) = \\texttt{Node}(k, v_1, l, r)$,\n",
    "\n",
    "    If the key $k$ is located at the root, we overwrite the old information. \n",
    "  - $k_1 < k_2 \\rightarrow \n",
    "    \\texttt{Node}(k_2, v_2, l, r).\\texttt{insert}(k_1, v_1) = \\texttt{Node}\\bigl(k_2, v_2, l.\\texttt{insert}(k_1, v_1), r\\bigr)$,\n",
    "\n",
    "    If the key $k_1$, which is the key for which we want to store a value, is less than the key\n",
    "    $k_2$ at the root, then we have to insert the information in the left subtree.\n",
    "  - $k_1 > k_2 \\rightarrow \n",
    "         \\texttt{Node}(k_2, v_2, l, r).\\texttt{insert}(k_1, v_1) = \n",
    "         \\texttt{Node}\\bigl(k_2, v_2, l, r.\\texttt{insert}(k_1, v_1)\\bigr)$,\n",
    "\n",
    "    If the key $k_1$, which is the key for which we want to store a value, is bigger than the key\n",
    "    $k_2$ at the root, then we have to insert the information in the right subtree."
   ]
  },
  {
   "cell_type": "code",
   "execution_count": null,
   "metadata": {},
   "outputs": [],
   "source": [
    "def insert(self, key, value):\n",
    "    if self.isEmpty():\n",
    "        self.mKey   = key\n",
    "        self.mValue = value\n",
    "        self.mLeft  = OrderedBinaryTree()\n",
    "        self.mRight = OrderedBinaryTree()\n",
    "    elif self.mKey == key:\n",
    "        self.mValue = value\n",
    "    elif key < self.mKey:\n",
    "        self.mLeft.insert(key, value)\n",
    "    else:\n",
    "        self.mRight.insert(key, value)\n",
    "\n",
    "OrderedBinaryTree.insert = insert\n",
    "del insert"
   ]
  },
  {
   "cell_type": "markdown",
   "metadata": {},
   "source": [
    "Given an ordered binary tree $t$ and a key $k$, the expression $t.\\texttt{delete}(k)$ removes the key $k$ and its associated value from $t$.  The method `delete` is defined inductively.\n",
    "  - $\\texttt{Nil}.\\texttt{delete}(k) = \\texttt{Nil}$.\n",
    "  - $\\texttt{Node}(k,v,\\texttt{Nil},r).\\texttt{delete}\\bigl(k\\bigr) = r$.\n",
    "  - $\\texttt{Node}(k,v,l,\\texttt{Nil}).\\texttt{delete}(k) = l$.\n",
    "  - If $l \\not= \\texttt{Nil} \\,\\wedge\\, r \\not= \\texttt{Nil} \\,\\wedge\\, r.\\texttt{delMin}() = [r',k_{min}, v_{min}]$,\n",
    "    then\n",
    "    \n",
    "    $$\\texttt{Node}(k,v,l,r).\\texttt{delete}(k) = \\texttt{Node}(k_{min},v_{min},l,r').$$\n",
    "      \n",
    "    If the key to be removed is found at the root of the tree and neither of its subtrees is\n",
    "    empty, the call  $r\\mathtt{.}\\texttt{delMin}()$ removes the smallest key together with its\n",
    "    associated value from the subtree $r$ yielding the subtree $r'$.\n",
    "    The smallest key from $r$ is then stored at the root of the new tree.\n",
    "\n",
    "  - $k_1 < k_2 \\rightarrow \\texttt{Node}(k_2,v_2,l,r).\\texttt{delete}\\bigl(k_1) = \n",
    "    \\texttt{Node}(k_2,v_2,l.\\texttt{delete}(k_1),r)$.\n",
    "\n",
    "    If the key that is to be removed is less than the key stored at the root, the key $k$ can only be\n",
    "    located in the left subtree $l$.  Hence, $k$ is removed from the left subtree $l$ recursively.\n",
    "  - $k_1 > k_2 \\rightarrow \\texttt{Node}(k_2,v_2,l,r).\\texttt{delete}(k_1) = \n",
    "    \\texttt{Node}(k_2,v_2,l,r.\\texttt{delete}(k_1))$.\n",
    "\n",
    "    If the key that is to be removed is greater than the key stored at the root, the key $k$ can only be\n",
    "    located in the right subtree $r$.  Hence, $k$ is removed from the right subtree $r$ recursively."
   ]
  },
  {
   "cell_type": "code",
   "execution_count": null,
   "metadata": {},
   "outputs": [],
   "source": [
    "def delete(self, key):\n",
    "    if self.isEmpty():\n",
    "        return\n",
    "    if key == self.mKey:\n",
    "        if self.mLeft.isEmpty():\n",
    "            self._update(self.mRight) # the following would not work: self = self.mRight\n",
    "        elif self.mRight.isEmpty():\n",
    "            self._update(self.mLeft)\n",
    "        else:\n",
    "            rs, km, vm = self.mRight._delMin()\n",
    "            self.mKey   = km\n",
    "            self.mValue = vm\n",
    "            self.mRight = rs\n",
    "    elif key < self.mKey:\n",
    "        self.mLeft.delete(key)\n",
    "    else:\n",
    "        self.mRight.delete(key)\n",
    "        \n",
    "OrderedBinaryTree.delete = delete\n",
    "del delete"
   ]
  },
  {
   "cell_type": "markdown",
   "metadata": {},
   "source": [
    "Given a non-empty ordered binary tree $t$, the expression $t.\\texttt{delMin}()$ removes the smallest key $k_m$ and its associated value $v_m$ from $t$ and returns the triple\n",
    "$$(r,k_m,v_m),$$\n",
    "where $r$ is the tree that  results from removing $k_m$ and $v_m$ from $t$.  The function is defined via the following equations:\n",
    "  - $\\texttt{Node}(k, v, \\texttt{Nil}, r).\\texttt{delMin}() = (r, k, v)$\n",
    "\n",
    "    If the left subtree is empty, $k$ has to be the smallest key in the tree \n",
    "    $\\texttt{Node}(k, v, \\texttt{Nil}, r)$.  If $k$ is removed, we are left with the subtree $r$.\n",
    "  - $l\\not= \\texttt{Nil} \\wedge l.\\texttt{delMin}() = (l',k_{min}, v_{min}) \\;\\rightarrow\n",
    "      \\texttt{Node}(k, v, l, r).\\texttt{delMin}() = \\bigl(\\texttt{Node}(k, v, l', r), k_{min}, v_{min}\\bigr)$.\n",
    "\n",
    "    If the left subtree $l$ in the binary tree $t = \\texttt{Node}(k, v, l, r)$\n",
    "    is not empty, then the smallest key of  $t$ is located inside the left subtree $l$.\n",
    "    This smallest key is recursively removed from  $l$. This yields the tree \n",
    "    $l'$.  Next,  $l$ is replaced by $l'$ in $t$.  The resulting tree is\n",
    "    $t' = \\texttt{Node}(k, v, l', r)$."
   ]
  },
  {
   "cell_type": "code",
   "execution_count": null,
   "metadata": {},
   "outputs": [],
   "source": [
    "def _delMin(self):\n",
    "    if self.mLeft.isEmpty():\n",
    "        return self.mRight, self.mKey, self.mValue\n",
    "    else:\n",
    "        ls, km, vm = self.mLeft._delMin()\n",
    "        self.mLeft = ls\n",
    "        return self, km, vm\n",
    "    \n",
    "OrderedBinaryTree._delMin = _delMin\n",
    "del _delMin"
   ]
  },
  {
   "cell_type": "markdown",
   "metadata": {},
   "source": [
    "Given two ordered binary trees `s` and `t`, the expression `s._update(t)` overwrites the attributes of `s` with the corresponding attributes of `t`."
   ]
  },
  {
   "cell_type": "code",
   "execution_count": null,
   "metadata": {},
   "outputs": [],
   "source": [
    "def _update(self, t):\n",
    "    self.mKey   = t.mKey\n",
    "    self.mValue = t.mValue\n",
    "    self.mLeft  = t.mLeft\n",
    "    self.mRight = t.mRight\n",
    "    \n",
    "OrderedBinaryTree._update = _update\n",
    "del _update"
   ]
  },
  {
   "cell_type": "markdown",
   "metadata": {},
   "source": [
    "Given an ordered binary tree $b$, the method $b.\\texttt{keyList}()$ returns the list of all keys occurring in $b$.\n",
    "Note that this list has to be sorted ascendingly."
   ]
  },
  {
   "cell_type": "code",
   "execution_count": null,
   "metadata": {},
   "outputs": [],
   "source": [
    "def keyList(self):\n",
    "    if self.isEmpty():\n",
    "        return []\n",
    "    return self.mLeft.keyList() + [self.mKey] + self.mRight.keyList()\n",
    "\n",
    "OrderedBinaryTree.keyList = keyList\n",
    "del keyList"
   ]
  },
  {
   "cell_type": "code",
   "execution_count": null,
   "metadata": {},
   "outputs": [],
   "source": [
    "import graphviz as gv"
   ]
  },
  {
   "cell_type": "markdown",
   "metadata": {},
   "source": [
    "Given an ordered binary tree $t$, the function $t.\\texttt{toDot}()$ renders the tree graphically using `graphviz`."
   ]
  },
  {
   "cell_type": "code",
   "execution_count": null,
   "metadata": {},
   "outputs": [],
   "source": [
    "def toDot(self):\n",
    "    OrderedBinaryTree.sNodeCount = 0 # static variable of class OrderedBinaryTree\n",
    "    dot = gv.Digraph(node_attr={'shape': 'record', 'style': 'rounded'})\n",
    "    NodeDict = {}\n",
    "    self._assignIDs(NodeDict)\n",
    "    for n, t in NodeDict.items():\n",
    "        if t.mValue != None:\n",
    "            dot.node(str(n), label='{' + str(t.mKey) + '|' + str(t.mValue) + '}')\n",
    "        elif t.mKey != None:\n",
    "            dot.node(str(n), label=str(t.mKey))\n",
    "        else:\n",
    "            dot.node(str(n), label='', shape='point')\n",
    "    for n, t in NodeDict.items():\n",
    "        if not t.mLeft == None:\n",
    "            dot.edge(str(n), str(t.mLeft.mID))\n",
    "        if not t.mRight == None:\n",
    "            dot.edge(str(n), str(t.mRight.mID))\n",
    "    return dot\n",
    "\n",
    "OrderedBinaryTree.toDot = toDot\n",
    "del toDot"
   ]
  },
  {
   "cell_type": "markdown",
   "metadata": {},
   "source": [
    "Given a binary tree `t` the method `t._assignIDs(NodeDict)` assigns a unique identifier with each node.  The dictionary `NodeDict` maps these identifiers to the nodes where they occur."
   ]
  },
  {
   "cell_type": "code",
   "execution_count": null,
   "metadata": {},
   "outputs": [],
   "source": [
    "def _assignIDs(self, NodeDict):\n",
    "    OrderedBinaryTree.sNodeCount += 1\n",
    "    self.mID = OrderedBinaryTree.sNodeCount\n",
    "    NodeDict[self.mID] = self\n",
    "    if self.isEmpty():\n",
    "        return\n",
    "    self.mLeft ._assignIDs(NodeDict)\n",
    "    self.mRight._assignIDs(NodeDict)\n",
    "    \n",
    "OrderedBinaryTree._assignIDs = _assignIDs\n",
    "del _assignIDs"
   ]
  },
  {
   "cell_type": "markdown",
   "metadata": {},
   "source": [
    "The function $\\texttt{demo}()$ creates a small ordered binary tree."
   ]
  },
  {
   "cell_type": "code",
   "execution_count": null,
   "metadata": {},
   "outputs": [],
   "source": [
    "def demo():\n",
    "    m = OrderedBinaryTree()\n",
    "    m.insert(\"anton\",  123)\n",
    "    m.insert(\"hugo\" ,  345)\n",
    "    m.insert(\"gustav\", 789)\n",
    "    m.insert(\"jens\",   234)\n",
    "    m.insert(\"hubert\", 432)\n",
    "    m.insert(\"andre\",  342)\n",
    "    m.insert(\"philipp\", 342)\n",
    "    m.insert(\"rene\",   345)\n",
    "    m.insert(\"ans\", 123)\n",
    "    m.insert(\"alfa\", 123)\n",
    "    m.insert(\"algo\", 345)\n",
    "    return m"
   ]
  },
  {
   "cell_type": "code",
   "execution_count": null,
   "metadata": {},
   "outputs": [],
   "source": [
    "t = demo()\n",
    "t.toDot()"
   ]
  },
  {
   "cell_type": "code",
   "execution_count": null,
   "metadata": {},
   "outputs": [],
   "source": [
    "t.delete('anton')\n",
    "t.toDot()"
   ]
  },
  {
   "cell_type": "code",
   "execution_count": null,
   "metadata": {},
   "outputs": [],
   "source": [
    "t.delete('gustav')\n",
    "t.toDot()"
   ]
  },
  {
   "cell_type": "code",
   "execution_count": null,
   "metadata": {},
   "outputs": [],
   "source": [
    "t.delete('hubert')\n",
    "t.toDot()"
   ]
  },
  {
   "cell_type": "markdown",
   "metadata": {},
   "source": [
    "Let's generate an ordered binary tree with random keys."
   ]
  },
  {
   "cell_type": "code",
   "execution_count": null,
   "metadata": {},
   "outputs": [],
   "source": [
    "import random as rnd"
   ]
  },
  {
   "cell_type": "code",
   "execution_count": null,
   "metadata": {},
   "outputs": [],
   "source": [
    "t = OrderedBinaryTree()\n",
    "for k in range(30):\n",
    "    k = rnd.randrange(100)\n",
    "    t.insert(k, None)\n",
    "t.toDot()"
   ]
  },
  {
   "cell_type": "markdown",
   "metadata": {},
   "source": [
    "This tree looks more or less balanced.  Lets us create a tree where things do not work out that well."
   ]
  },
  {
   "cell_type": "code",
   "execution_count": null,
   "metadata": {
    "scrolled": false
   },
   "outputs": [],
   "source": [
    "t = OrderedBinaryTree()\n",
    "for k in range(30):\n",
    "    t.insert(k, None)\n",
    "t.toDot()"
   ]
  },
  {
   "cell_type": "markdown",
   "metadata": {},
   "source": [
    "In order to check whether the method `delete` works as expected, we try the following:"
   ]
  },
  {
   "cell_type": "code",
   "execution_count": null,
   "metadata": {
    "scrolled": true
   },
   "outputs": [],
   "source": [
    "for k in range(30):\n",
    "    t.delete(k)\n",
    "t.toDot()"
   ]
  },
  {
   "cell_type": "markdown",
   "metadata": {},
   "source": [
    "Let us compute the set $S$ of prime numbers up to some given number $n\\in\\mathbb{N}$.  Mathematically, this set can be defined as\n",
    "$$ S = \\{ 2, \\cdots, n \\} - \\bigl\\{ p \\cdot q \\;\\big|\\; p, q \\in \\{2, \\cdots, n \\} \\bigr\\}. $$"
   ]
  },
  {
   "cell_type": "code",
   "execution_count": null,
   "metadata": {},
   "outputs": [],
   "source": [
    "n = 100\n",
    "S = OrderedBinaryTree()\n",
    "L = list(range(2, n + 1))\n",
    "rnd.shuffle(L)  # avoid worst case performance\n",
    "for x in L:\n",
    "    S.insert(x, None)\n",
    "for p in range(2, n // 2 + 1):\n",
    "    for q in range(p, n // p + 1):\n",
    "        S.delete(p * q)\n",
    "S.toDot()"
   ]
  },
  {
   "cell_type": "code",
   "execution_count": null,
   "metadata": {},
   "outputs": [],
   "source": [
    "print(S.keyList())"
   ]
  },
  {
   "cell_type": "code",
   "execution_count": null,
   "metadata": {},
   "outputs": [],
   "source": []
  }
 ],
 "metadata": {
  "kernelspec": {
   "display_name": "Python 3",
   "language": "python",
   "name": "python3"
  },
  "language_info": {
   "codemirror_mode": {
    "name": "ipython",
    "version": 3
   },
   "file_extension": ".py",
   "mimetype": "text/x-python",
   "name": "python",
   "nbconvert_exporter": "python",
   "pygments_lexer": "ipython3",
   "version": "3.9.4"
  },
  "varInspector": {
   "cols": {
    "lenName": 16,
    "lenType": 16,
    "lenVar": 40
   },
   "kernels_config": {
    "python": {
     "delete_cmd_postfix": "",
     "delete_cmd_prefix": "del ",
     "library": "var_list.py",
     "varRefreshCmd": "print(var_dic_list())"
    },
    "r": {
     "delete_cmd_postfix": ") ",
     "delete_cmd_prefix": "rm(",
     "library": "var_list.r",
     "varRefreshCmd": "cat(var_dic_list()) "
    }
   },
   "types_to_exclude": [
    "module",
    "function",
    "builtin_function_or_method",
    "instance",
    "_Feature"
   ],
   "window_display": false
  }
 },
 "nbformat": 4,
 "nbformat_minor": 2
}
