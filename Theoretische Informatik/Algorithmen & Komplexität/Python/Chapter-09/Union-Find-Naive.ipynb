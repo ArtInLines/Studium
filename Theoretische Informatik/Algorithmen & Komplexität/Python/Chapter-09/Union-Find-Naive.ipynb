{
 "cells": [
  {
   "cell_type": "code",
   "execution_count": null,
   "metadata": {},
   "outputs": [],
   "source": [
    "from IPython.core.display import HTML\n",
    "with open('../style.css') as file:\n",
    "    css = file.read()\n",
    "HTML(css)"
   ]
  },
  {
   "cell_type": "markdown",
   "metadata": {},
   "source": [
    "# A Naive Implementation of the Union-Find Algorithm"
   ]
  },
  {
   "cell_type": "markdown",
   "metadata": {},
   "source": [
    "Given a set of *frozen sets* `FS` this function turns this set into a string that looks like a set of sets.\n",
    "This function is only used to beautify the output of the *union-find* algorithm that is shown later."
   ]
  },
  {
   "cell_type": "code",
   "execution_count": null,
   "metadata": {},
   "outputs": [],
   "source": [
    "def toStr(FS):\n",
    "    result = '{ '\n",
    "    for S in FS:\n",
    "        result += str(set(S)) + ', '\n",
    "    result = result[:-2]\n",
    "    result += ' }'\n",
    "    return result"
   ]
  },
  {
   "cell_type": "markdown",
   "metadata": {},
   "source": [
    "The function $\\texttt{arb}(S)$ returns an arbitrary element from the set $S$,"
   ]
  },
  {
   "cell_type": "code",
   "execution_count": null,
   "metadata": {},
   "outputs": [],
   "source": [
    "def arb(S):\n",
    "    for x in S:\n",
    "        return x"
   ]
  },
  {
   "cell_type": "markdown",
   "metadata": {},
   "source": [
    "Given a set $M$ and a binary relation $R \\subseteq M \\times M$, the function $\\texttt{union_find}$ returns a partition $\\mathcal{P}$ of $M$ such that we have\n",
    "$$ \\forall \\langle x, y \\rangle \\in R: \\exists S \\in \\mathcal{P}: \\bigl(x \\in S \\wedge y \\in S\\bigr) $$\n",
    "It works by starting with the trivial partition \n",
    "$$\\mathcal{P} := \\bigl\\{ \\{ x \\} \\mid x \\in M \\bigr\\}. $$\n",
    "As long as there is a pair $\\langle x, y \\rangle \\in R$ such that:\n",
    "* $x \\in A$, $y \\in B$, where $A \\in \\mathcal{P}$ and $B \\in \\mathcal{P}$, \n",
    "* but $A \\not= B$\n",
    "\n",
    "we update the partition $\\mathcal{P}$ as follows:\n",
    "$$ \\mathcal{P} := \\mathcal{P} \\backslash \\{ A, B \\} \\cup \\{ A \\cup B \\}. $$ "
   ]
  },
  {
   "cell_type": "code",
   "execution_count": null,
   "metadata": {},
   "outputs": [],
   "source": [
    "def union_find(M, R):\n",
    "    print(f'R = {R}')\n",
    "    P = { frozenset({x}) for x in M }  # the trivial partition of M\n",
    "    print(f'P = {toStr(P)}')\n",
    "    for x, y in R:\n",
    "        A = find(x, P) # find A\n",
    "        B = find(y, P) # find B\n",
    "        if A != B:\n",
    "            print(f'{x} ≅ {y}: combining {set(A)} and {set(B)}')\n",
    "            P -= { A,  B }\n",
    "            P |= { A | B }\n",
    "            print(f'P = {toStr(P)}')\n",
    "    return P"
   ]
  },
  {
   "cell_type": "markdown",
   "metadata": {},
   "source": [
    "Given a partition $\\mathcal{P}$ of a set $M$ and an element $x$ from $M$, the function $\\texttt{find}(x, \\mathcal{P})$ \n",
    "returns the set $S \\in \\mathcal{P}$ such that $x \\in S$."
   ]
  },
  {
   "cell_type": "code",
   "execution_count": null,
   "metadata": {},
   "outputs": [],
   "source": [
    "def find(x, P):\n",
    "    return arb({ S for S in P if x in S })"
   ]
  },
  {
   "cell_type": "code",
   "execution_count": null,
   "metadata": {},
   "outputs": [],
   "source": [
    "def demo():\n",
    "    M = set(range(1, 9+1))\n",
    "    R = { (1, 4), (7, 9), (3, 5), (2, 6), (5, 8), (1, 9), (4, 7) }\n",
    "    P = union_find(M, R)"
   ]
  },
  {
   "cell_type": "code",
   "execution_count": null,
   "metadata": {},
   "outputs": [],
   "source": [
    "demo()"
   ]
  },
  {
   "cell_type": "code",
   "execution_count": null,
   "metadata": {},
   "outputs": [],
   "source": []
  }
 ],
 "metadata": {
  "kernelspec": {
   "display_name": "Python 3",
   "language": "python",
   "name": "python3"
  },
  "language_info": {
   "codemirror_mode": {
    "name": "ipython",
    "version": 3
   },
   "file_extension": ".py",
   "mimetype": "text/x-python",
   "name": "python",
   "nbconvert_exporter": "python",
   "pygments_lexer": "ipython3",
   "version": "3.9.4"
  },
  "varInspector": {
   "cols": {
    "lenName": 16,
    "lenType": 16,
    "lenVar": 40
   },
   "kernels_config": {
    "python": {
     "delete_cmd_postfix": "",
     "delete_cmd_prefix": "del ",
     "library": "var_list.py",
     "varRefreshCmd": "print(var_dic_list())"
    },
    "r": {
     "delete_cmd_postfix": ") ",
     "delete_cmd_prefix": "rm(",
     "library": "var_list.r",
     "varRefreshCmd": "cat(var_dic_list()) "
    }
   },
   "types_to_exclude": [
    "module",
    "function",
    "builtin_function_or_method",
    "instance",
    "_Feature"
   ],
   "window_display": false
  }
 },
 "nbformat": 4,
 "nbformat_minor": 2
}
