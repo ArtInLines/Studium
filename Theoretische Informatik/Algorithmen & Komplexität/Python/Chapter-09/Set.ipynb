{
 "cells": [
  {
   "cell_type": "code",
   "execution_count": null,
   "metadata": {},
   "outputs": [],
   "source": [
    "%autosave 0\n",
    "from IPython.core.display import HTML, display\n",
    "display(HTML('<style>.container { width:100%; !important } </style>'))"
   ]
  },
  {
   "cell_type": "markdown",
   "metadata": {},
   "source": [
    "# Sets implemented as AVL Trees"
   ]
  },
  {
   "cell_type": "markdown",
   "metadata": {},
   "source": [
    "This notebook implements <em style=\"color:blue;\">sets</em> as <a href=\"https://en.wikipedia.org/wiki/AVL_tree\">AVL trees</a>.  The set $\\mathcal{A}$ of <em style=\"color:blue;\">AVL trees</em> is defined inductively:\n",
    "\n",
    "  - $\\texttt{Nil} \\in \\mathcal{A}$.\n",
    "  - $\\texttt{Node}(k,l,r) \\in \\mathcal{A}\\quad$  iff \n",
    "      - $\\texttt{Node}(k,l,r) \\in \\mathcal{B}_<$,\n",
    "      - $l, r \\in \\mathcal{A}$, and\n",
    "      - $|l.\\texttt{height}() - r.\\texttt{height}()| \\leq 1$.\n",
    "\n",
    "According to this definition, an AVL tree is an <em style=\"color:blue;\">ordered binary tree</em>\n",
    "such that for every node $\\texttt{Node}(k,l,r)$ in this tree the height of the left subtree $l$ and the right\n",
    "subtree  $r$ differ at most by one. "
   ]
  },
  {
   "cell_type": "markdown",
   "metadata": {},
   "source": [
    "The class `Set` represents the nodes of an AVL tree.  This class has the following member variables:\n",
    "\n",
    "  - `mKey` is the key stored at the root of the tree,\n",
    "  - `mLeft` is the left subtree, \n",
    "  - `mRight` is the right subtree, and\n",
    "  - `mHeight` is the height.\n",
    "\n",
    "The constructor `__init__` creates the empty tree."
   ]
  },
  {
   "cell_type": "code",
   "execution_count": null,
   "metadata": {},
   "outputs": [],
   "source": [
    "class Set:\n",
    "    def __init__(self):\n",
    "        self.mKey    = None\n",
    "        self.mLeft   = None\n",
    "        self.mRight  = None\n",
    "        self.mHeight = 0"
   ]
  },
  {
   "cell_type": "markdown",
   "metadata": {},
   "source": [
    "Given an ordered binary tree $t$, the expression $t.\\texttt{isEmpty}()$ checks whether $t$ is the empty tree."
   ]
  },
  {
   "cell_type": "code",
   "execution_count": null,
   "metadata": {},
   "outputs": [],
   "source": [
    "def isEmpty(self):\n",
    "    return self.mKey == None\n",
    "\n",
    "Set.isEmpty = isEmpty"
   ]
  },
  {
   "cell_type": "markdown",
   "metadata": {},
   "source": [
    "Given an ordered binary tree $t$ and a key $k$, the expression $t.\\texttt{member}(k)$ returns `True` if the key $k$ is stored in the tree $t$.\n",
    "The method `member` is defined inductively as follows:\n",
    "  - $\\texttt{Nil}.\\texttt{member}(k) = \\Omega$,\n",
    "\n",
    "    because the empty tree is interpreted as the empty map.\n",
    "  - $\\texttt{Node}(k, l, r).\\texttt{member}(k) = v$,\n",
    "      \n",
    "    because the node $\\texttt{Node}(k,l,r)$ stores the assignment $k \\mapsto v$.\n",
    "  - $k_1 < k_2 \\rightarrow \\texttt{Node}(k_2, l, r).\\texttt{member}(k_1) = l.\\texttt{member}(k_1)$,\n",
    "\n",
    "    because if $k_1$ is less than $k_2$, then any mapping for $k_1$ has to be stored in the left subtree  $l$.\n",
    "  - $k_1 > k_2 \\rightarrow \\texttt{Node}(k_2, l, r).\\texttt{member}(k_1) = r.\\texttt{member}(k_1)$,\n",
    "\n",
    "    because if $k_1$ is greater than $k_2$, then any mapping for $k_1$ has to be stored in the right subtree  $r$."
   ]
  },
  {
   "cell_type": "code",
   "execution_count": null,
   "metadata": {},
   "outputs": [],
   "source": [
    "def member(self, key):\n",
    "    if self.isEmpty():\n",
    "        return\n",
    "    elif self.mKey == key:\n",
    "        return True\n",
    "    elif key < self.mKey:\n",
    "        return self.mLeft.member(key)\n",
    "    else:\n",
    "        return self.mRight.member(key)\n",
    "    \n",
    "Set.member = member"
   ]
  },
  {
   "cell_type": "markdown",
   "metadata": {},
   "source": [
    "The method  $\\texttt{insert}()$ is specified via recursive equations.\n",
    "  - $\\texttt{Nil}.\\texttt{insert}(k) = \\texttt{Node}(k, \\texttt{Nil}, \\texttt{Nil})$,\n",
    "  - $\\texttt{Node}(k, l, r).\\texttt{insert}(k) = \\texttt{Node}(k, l, r)$,\n",
    "  - $k_1 < k_2 \\rightarrow \n",
    "          \\texttt{Node}(k_2, l, r).\\texttt{insert}(k_1) =\n",
    "          \\texttt{Node}\\bigl(k_2, l.\\texttt{insert}(k_1), r\\bigr).\\texttt{restore}()$,\n",
    "  - $k_1 > k_2 \\rightarrow \n",
    "         \\texttt{Node}(k_2, l, r).\\texttt{insert}\\bigl(k_1\\bigr) = \n",
    "         \\texttt{Node}\\bigl(k_2, l, r.\\texttt{insert}(k_1)\\bigr).\\texttt{restore}()$.\n",
    "\n",
    "The function $\\texttt{restore}$ is an auxiliary function that is defined below.  This function restores the balancing condition if it is violated after an insertion."
   ]
  },
  {
   "cell_type": "code",
   "execution_count": null,
   "metadata": {},
   "outputs": [],
   "source": [
    "def insert(self, key):\n",
    "    if self.isEmpty():\n",
    "        self.mKey    = key\n",
    "        self.mLeft   = Set()\n",
    "        self.mRight  = Set()\n",
    "        self.mHeight = 1\n",
    "    elif self.mKey == key:\n",
    "        pass\n",
    "    elif key < self.mKey:\n",
    "        self.mLeft.insert(key)\n",
    "        self._restore()\n",
    "    else:\n",
    "        self.mRight.insert(key)\n",
    "        self._restore()\n",
    "\n",
    "Set.insert = insert"
   ]
  },
  {
   "cell_type": "markdown",
   "metadata": {},
   "source": [
    "The method $\\texttt{self}.\\texttt{delete}(k)$ removes the key $k$ from the tree $\\texttt{self}$.  It is defined as follows:\n",
    "\n",
    "  - $\\texttt{Nil}.\\texttt{delete}(k) = \\texttt{Nil}$,\n",
    "  - $\\texttt{Node}(k,\\texttt{Nil},r).\\texttt{delete}(k) = r$,\n",
    "  - $\\texttt{Node}(k,l,\\texttt{Nil}).\\texttt{delete}(k) = l$,\n",
    "  - $l \\not= \\texttt{Nil} \\,\\wedge\\, r \\not= \\texttt{Nil} \\,\\wedge\\, \n",
    "       \\langle r',k_{min} \\rangle := r.\\texttt{delMin}()  \\;\\rightarrow\\;\n",
    "      \\texttt{Node}(k,l,r).\\texttt{delete}(k) = \\texttt{Node}(k_{min},l,r')$\n",
    "  - $k_1 < k_2 \\rightarrow \\texttt{Node}(k_2,l,r).\\texttt{delete}(k_1) = \n",
    "    \\texttt{Node}\\bigl(k_2,l.\\texttt{delete}(k_1),r\\bigr)$,\n",
    "  - $k_1 > k_2 \\rightarrow \\texttt{Node}(k_2,l,r).\\texttt{delete}(k_1) = \n",
    "     \\texttt{Node}\\bigl(k_2,l,r.\\texttt{delete}(k_1)\\bigr)$."
   ]
  },
  {
   "cell_type": "code",
   "execution_count": null,
   "metadata": {},
   "outputs": [],
   "source": [
    "def delete(self, key):\n",
    "    if self.isEmpty():\n",
    "        return\n",
    "    if key == self.mKey:\n",
    "        if self.mLeft.isEmpty():\n",
    "            self._update(self.mRight)\n",
    "        elif self.mRight.isEmpty():\n",
    "            self._update(self.mLeft)\n",
    "        else:\n",
    "            self.mRight, self.mKey = self.mRight._delMin()\n",
    "    elif key < self.mKey:\n",
    "        self.mLeft.delete(key)\n",
    "    else:\n",
    "        self.mRight.delete(key)\n",
    "        \n",
    "Set.delete = delete"
   ]
  },
  {
   "cell_type": "markdown",
   "metadata": {},
   "source": [
    "The method $\\texttt{self}.\\texttt{delMin}()$ removes the smallest key from the given tree $\\texttt{self}$\n",
    "and returns a pair of the form\n",
    "$$ (\\texttt{self}, k_m) $$\n",
    "where $\\texttt{self}$ is the tree that remains after removing the smallest key, while $k_m$ is the smallest key that has been found.  \n",
    "\n",
    "The function is defined as follows:\n",
    "\n",
    "  - $\\texttt{Node}(k, \\texttt{Nil}, r).\\texttt{delMin}() = \\langle r, k \\rangle$,\n",
    "  - $l\\not= \\texttt{Nil} \\wedge \\langle l',k_{min}\\rangle := l.\\texttt{delMin}() \n",
    "       \\;\\rightarrow\\;\n",
    "     \\texttt{Node}(k, l, r).\\texttt{delMin}() = \n",
    "     \\langle \\texttt{Node}(k, l', r).\\texttt{restore}(), k_{min} \\rangle\n",
    "    $"
   ]
  },
  {
   "cell_type": "code",
   "execution_count": null,
   "metadata": {},
   "outputs": [],
   "source": [
    "def _delMin(self):\n",
    "    if self.mLeft.isEmpty():\n",
    "        return self.mRight, self.mKey\n",
    "    else:\n",
    "        ls, km = self.mLeft._delMin()\n",
    "        self.mLeft = ls\n",
    "        self._restore()\n",
    "        return self, km\n",
    "    \n",
    "Set._delMin = _delMin"
   ]
  },
  {
   "cell_type": "markdown",
   "metadata": {},
   "source": [
    "Given two ordered binary trees $s$ and $t$, the expression $s.\\texttt{update}(t)$ overwrites the attributes of $s$ with the corresponding attributes of $t$."
   ]
  },
  {
   "cell_type": "code",
   "execution_count": null,
   "metadata": {},
   "outputs": [],
   "source": [
    "def _update(self, t):\n",
    "    self.mKey    = t.mKey\n",
    "    self.mLeft   = t.mLeft\n",
    "    self.mRight  = t.mRight\n",
    "    self.mHeight = t.mHeight\n",
    "    \n",
    "Set._update = _update"
   ]
  },
  {
   "cell_type": "markdown",
   "metadata": {},
   "source": [
    "The function $\\texttt{restore}(\\texttt{self})$ restores the balancing condition of the given binary tree\n",
    "at the root node and recompute the variable $\\texttt{mHeight}$.\n",
    "\n",
    "The method $\\texttt{restore}$ is specified via conditional equations.\n",
    "\n",
    "  - $\\texttt{Nil}.\\texttt{restore}() = \\texttt{Nil}$,\n",
    "\n",
    "    because the empty tree already is an  AVL tree.\n",
    "  - $|l.\\texttt{height}() - r.\\texttt{height}()| \\leq 1 \\rightarrow \n",
    "       \\texttt{Node}(k,l,r).\\texttt{restore}() = \\texttt{Node}(k,l,r)$.\n",
    "\n",
    "      If the balancing condition is satisfied, then nothing needs to be done. \n",
    "  - $\\begin{array}[t]{cl}\n",
    "              & l_1.\\texttt{height}() = r_1.\\texttt{height}() + 2    \\\\ \n",
    "       \\wedge & l_1 = \\texttt{Node}(k_2,l_2,r_2)                 \\\\\n",
    "       \\wedge & l_2.\\texttt{height}() \\geq r_2.\\texttt{height}()     \\\\[0.2cm]\n",
    "       \\rightarrow & \\texttt{Node}(k_1,l_1,r_1).\\texttt{restore}() = \n",
    "                     \\texttt{Node}\\bigl(k_2,l_2,\\texttt{Node}(k_1,r_2,r_1)\\bigr)\n",
    "       \\end{array}\n",
    "    $\n",
    "  - $\\begin{array}[t]{cl}\n",
    "               & l_1.\\texttt{height}() = r_1.\\texttt{height}() + 2    \\\\ \n",
    "        \\wedge & l_1 = \\texttt{Node}(k_2,l_2,r_2)               \\\\\n",
    "        \\wedge & l_2.\\texttt{height}() < r_2.\\texttt{height}()     \\\\\n",
    "        \\wedge & r_2 = \\texttt{Node}(k_3,l_3,r_3)               \\\\\n",
    "        \\rightarrow & \\texttt{Node}(k_1,l_1,r_1).\\texttt{restore}() = \n",
    "                      \\texttt{Node}\\bigl(k_3,\\texttt{Node}(k_2,l_2,l_3),\\texttt{Node}(k_1,r_3,r_1) \\bigr)\n",
    "        \\end{array}\n",
    "    $\n",
    "  - $\\begin{array}[t]{cl}\n",
    "              & r_1.\\texttt{height}() = l_1.\\texttt{height}() + 2    \\\\ \n",
    "       \\wedge & r_1 = \\texttt{Node}(k_2,l_2,r_2)               \\\\\n",
    "       \\wedge & r_2.\\texttt{height}() \\geq l_2.\\texttt{height}()     \\\\[0.2cm]\n",
    "       \\rightarrow & \\texttt{Node}(k_1,l_1,r_1).\\texttt{restore}() = \n",
    "                     \\texttt{Node}\\bigl(k_2,\\texttt{Node}(k_1,l_1,l_2),r_2\\bigr)\n",
    "       \\end{array}\n",
    "    $\n",
    "  - $\\begin{array}[t]{cl}\n",
    "               & r_1.\\texttt{height}() = l_1.\\texttt{height}() + 2    \\\\ \n",
    "        \\wedge & r_1 = \\texttt{Node}(k_2,l_2,r_2)               \\\\\n",
    "        \\wedge & r_2.\\texttt{height}() < l_2.\\texttt{height}()     \\\\\n",
    "        \\wedge & l_2 = \\texttt{Node}(k_3,l_3,r_3)               \\\\\n",
    "        \\rightarrow & \\texttt{Node}(k_1,l_1,r_1).\\texttt{restore}() = \n",
    "                      \\texttt{Node}\\bigl(k_3,\\texttt{Node}(k_1,l_1,l_3),\\texttt{Node}(k_2,r_3,r_2) \\bigr)\n",
    "        \\end{array}\n",
    "    $"
   ]
  },
  {
   "cell_type": "code",
   "execution_count": null,
   "metadata": {},
   "outputs": [],
   "source": [
    "def _restore(self):\n",
    "    if abs(self.mLeft.mHeight - self.mRight.mHeight) <= 1:\n",
    "        self._restoreHeight()\n",
    "        return\n",
    "    if self.mLeft.mHeight > self.mRight.mHeight:\n",
    "        k1, l1, r1 = self.mKey, self.mLeft, self.mRight\n",
    "        k2, l2, r2 = l1.mKey, l1.mLeft, l1.mRight\n",
    "        if l2.mHeight >= r2.mHeight:\n",
    "            self._setValues(k2, l2, createNode(k1, r2, r1))\n",
    "        else: \n",
    "            k3, l3, r3 = r2.mKey, r2.mLeft, r2.mRight\n",
    "            self._setValues(k3, createNode(k2, l2, l3),\n",
    "                                createNode(k1, r3, r1))\n",
    "    elif self.mRight.mHeight > self.mLeft.mHeight:\n",
    "        k1, l1, r1 = self.mKey, self.mLeft, self.mRight\n",
    "        k2, l2, r2 = r1.mKey, r1.mLeft, r1.mRight\n",
    "        if r2.mHeight >= l2.mHeight:\n",
    "            self._setValues(k2, createNode(k1, l1, l2), r2)\n",
    "        else:\n",
    "            k3, l3, r3 = l2.mKey, l2.mLeft, l2.mRight\n",
    "            self._setValues(k3, createNode(k1, l1, l3),\n",
    "                                createNode(k2, r3, r2))\n",
    "    self._restoreHeight()\n",
    "    \n",
    "Set._restore = _restore"
   ]
  },
  {
   "cell_type": "markdown",
   "metadata": {},
   "source": [
    "The function $\\texttt{self}.\\texttt{_setValues}(k, l, r)$ overwrites the member variables of the node $\\texttt{self}$ with the given values."
   ]
  },
  {
   "cell_type": "code",
   "execution_count": null,
   "metadata": {},
   "outputs": [],
   "source": [
    "def _setValues(self, k, l, r):\n",
    "    self.mKey   = k\n",
    "    self.mLeft  = l\n",
    "    self.mRight = r\n",
    "    \n",
    "Set._setValues = _setValues"
   ]
  },
  {
   "cell_type": "code",
   "execution_count": null,
   "metadata": {},
   "outputs": [],
   "source": [
    "def _restoreHeight(self):\n",
    "    self.mHeight = max(self.mLeft.mHeight, self.mRight.mHeight) + 1\n",
    "    \n",
    "Set._restoreHeight = _restoreHeight"
   ]
  },
  {
   "cell_type": "markdown",
   "metadata": {},
   "source": [
    "The function $\\texttt{createNode}(k, l, r)$ creates an AVL-tree of that has the key $k$ stored at its root, \n",
    "left subtree $l$ and right subtree $r$."
   ]
  },
  {
   "cell_type": "code",
   "execution_count": null,
   "metadata": {},
   "outputs": [],
   "source": [
    "def createNode(key, left, right):\n",
    "    node         = Set()\n",
    "    node.mKey    = key\n",
    "    node.mLeft   = left\n",
    "    node.mRight  = right\n",
    "    node.mHeight = max(left.mHeight, right.mHeight) + 1\n",
    "    return node"
   ]
  },
  {
   "cell_type": "markdown",
   "metadata": {},
   "source": [
    "The method $t.\\texttt{pop}()$ take an AVL tree $t$ and removes and returns the smallest key that is present in $t$.  It is specified as follows:\n",
    "  - $\\texttt{Nil}.\\texttt{pop}() = \\Omega$\n",
    "  - $\\texttt{Node}(k,\\texttt{Nil}, r).\\texttt{pop}() = \\langle k, r\\rangle$\n",
    "  - $l \\not=\\texttt{Nil} \\wedge \\langle k',l'\\rangle := l.\\texttt{pop}() \\rightarrow\n",
    "     \\texttt{Node}(k, l, r).\\texttt{pop}() = \\langle k', \\texttt{Node}(k, l', r)\\rangle$"
   ]
  },
  {
   "cell_type": "code",
   "execution_count": null,
   "metadata": {},
   "outputs": [],
   "source": [
    "def pop(self):\n",
    "    if self.mKey == None:\n",
    "        raise KeyError\n",
    "    if self.mLeft.mKey == None:\n",
    "        key = self.mKey\n",
    "        self._update(self.mRight)\n",
    "        return key\n",
    "    return self.mLeft.pop()\n",
    "\n",
    "Set.pop = pop"
   ]
  },
  {
   "cell_type": "markdown",
   "metadata": {},
   "source": [
    "## Display Code"
   ]
  },
  {
   "cell_type": "code",
   "execution_count": null,
   "metadata": {},
   "outputs": [],
   "source": [
    "import graphviz as gv"
   ]
  },
  {
   "cell_type": "markdown",
   "metadata": {},
   "source": [
    "Given an ordered binary tree, this function renders the tree graphically using `graphviz`."
   ]
  },
  {
   "cell_type": "code",
   "execution_count": null,
   "metadata": {},
   "outputs": [],
   "source": [
    "def toDot(self):\n",
    "    Set.sNodeCount = 0 # this is a static variable of the class Set\n",
    "    dot = gv.Digraph(node_attr={'shape': 'record', 'style': 'rounded'})\n",
    "    NodeDict = {}\n",
    "    self._assignIDs(NodeDict)\n",
    "    for n, t in NodeDict.items():\n",
    "        if t.mKey != None:\n",
    "            dot.node(str(n), label=str(t.mKey))\n",
    "        else:\n",
    "            dot.node(str(n), label='', shape='point')\n",
    "    for n, t in NodeDict.items():\n",
    "        if not t.mLeft == None:\n",
    "            dot.edge(str(n), str(t.mLeft.mID))\n",
    "        if not t.mRight == None:\n",
    "            dot.edge(str(n), str(t.mRight.mID))\n",
    "    return dot\n",
    "\n",
    "Set.toDot = toDot"
   ]
  },
  {
   "cell_type": "markdown",
   "metadata": {},
   "source": [
    "This method assigns a unique identifier with each node.  The dictionary `NodeDict` maps these identifiers to the nodes where they occur."
   ]
  },
  {
   "cell_type": "code",
   "execution_count": null,
   "metadata": {},
   "outputs": [],
   "source": [
    "def _assignIDs(self, NodeDict):\n",
    "    Set.sNodeCount += 1\n",
    "    self.mID = Set.sNodeCount\n",
    "    NodeDict[self.mID] = self\n",
    "    if self.isEmpty():\n",
    "        return\n",
    "    self.mLeft ._assignIDs(NodeDict)\n",
    "    self.mRight._assignIDs(NodeDict)\n",
    "    \n",
    "Set._assignIDs = _assignIDs"
   ]
  },
  {
   "cell_type": "markdown",
   "metadata": {},
   "source": [
    "## Testing"
   ]
  },
  {
   "cell_type": "markdown",
   "metadata": {},
   "source": [
    "The function $\\texttt{demo}()$ creates a small ordered binary tree."
   ]
  },
  {
   "cell_type": "code",
   "execution_count": null,
   "metadata": {},
   "outputs": [],
   "source": [
    "def demo():\n",
    "    m = Set()\n",
    "    m.insert(\"anton\")\n",
    "    m.insert(\"hugo\")\n",
    "    m.insert(\"gustav\")\n",
    "    m.insert(\"jens\")\n",
    "    m.insert(\"hubert\")\n",
    "    m.insert(\"andre\")\n",
    "    m.insert(\"philipp\")\n",
    "    m.insert(\"rene\")\n",
    "    return m"
   ]
  },
  {
   "cell_type": "code",
   "execution_count": null,
   "metadata": {},
   "outputs": [],
   "source": [
    "t = demo()\n",
    "t.toDot()"
   ]
  },
  {
   "cell_type": "code",
   "execution_count": null,
   "metadata": {
    "scrolled": false
   },
   "outputs": [],
   "source": [
    "while not t.isEmpty():\n",
    "    print(t.pop())\n",
    "    display(t.toDot())"
   ]
  },
  {
   "cell_type": "markdown",
   "metadata": {},
   "source": [
    "Let's generate an ordered binary tree with random keys."
   ]
  },
  {
   "cell_type": "code",
   "execution_count": null,
   "metadata": {},
   "outputs": [],
   "source": [
    "import random as rnd"
   ]
  },
  {
   "cell_type": "code",
   "execution_count": null,
   "metadata": {},
   "outputs": [],
   "source": [
    "t = Set()\n",
    "for k in range(30):\n",
    "    k = rnd.randrange(100)\n",
    "    t.insert(k)\n",
    "display(t.toDot())\n",
    "while not t.isEmpty():\n",
    "    print(t.pop(), end=' ')\n",
    "display(t.toDot())"
   ]
  },
  {
   "cell_type": "markdown",
   "metadata": {},
   "source": [
    "This tree looks more or less balanced.  Lets us try to create a tree by inserting sorted numbers because that resulted in linear complexity for ordered binary trees."
   ]
  },
  {
   "cell_type": "code",
   "execution_count": null,
   "metadata": {
    "scrolled": false
   },
   "outputs": [],
   "source": [
    "t = Set()\n",
    "for k in range(30):\n",
    "    t.insert(k)\n",
    "display(t.toDot())\n",
    "while not t.isEmpty():\n",
    "    print(t.pop(), end=' ')\n",
    "display(t.toDot())"
   ]
  },
  {
   "cell_type": "markdown",
   "metadata": {},
   "source": [
    "Next, we compute the set of prime numbers $\\leq 100$.  Mathematically, this set is given as follows:\n",
    "$$ \\bigl\\{2, \\cdots, 100 \\bigr\\} - \\bigl\\{ i \\cdot j \\bigm| i, j \\in \\{2, \\cdots, 100 \\}\\bigr\\}$$"
   ]
  },
  {
   "cell_type": "code",
   "execution_count": null,
   "metadata": {},
   "outputs": [],
   "source": [
    "S = Set()\n",
    "for k in range(2, 101):\n",
    "    S.insert(k)\n",
    "display(S.toDot())\n",
    "for i in range(2, 101):\n",
    "    for j in range(2, 101):\n",
    "        S.delete(i * j)\n",
    "display(S.toDot())\n",
    "while not S.isEmpty():\n",
    "    print(S.pop(), end=' ')\n",
    "display(S.toDot())"
   ]
  },
  {
   "cell_type": "code",
   "execution_count": null,
   "metadata": {},
   "outputs": [],
   "source": []
  }
 ],
 "metadata": {
  "kernelspec": {
   "display_name": "Python 3",
   "language": "python",
   "name": "python3"
  },
  "language_info": {
   "codemirror_mode": {
    "name": "ipython",
    "version": 3
   },
   "file_extension": ".py",
   "mimetype": "text/x-python",
   "name": "python",
   "nbconvert_exporter": "python",
   "pygments_lexer": "ipython3",
   "version": "3.6.7"
  }
 },
 "nbformat": 4,
 "nbformat_minor": 2
}
