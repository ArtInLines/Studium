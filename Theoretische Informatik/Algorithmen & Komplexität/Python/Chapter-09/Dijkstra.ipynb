{
 "cells": [
  {
   "cell_type": "code",
   "execution_count": null,
   "metadata": {},
   "outputs": [],
   "source": [
    "from IPython.core.display import HTML\n",
    "with open('../style.css') as file:\n",
    "    css = file.read()\n",
    "HTML(css)"
   ]
  },
  {
   "cell_type": "markdown",
   "metadata": {},
   "source": [
    "# Dijkstra's Shortest Path Algorithm"
   ]
  },
  {
   "cell_type": "markdown",
   "metadata": {},
   "source": [
    "The notebook `Set.ipynb` implements <em style=\"color:blue\">sets</em> as\n",
    "<a href=\"https://en.wikipedia.org/wiki/AVL_tree\">AVL trees</a>.\n",
    "The API provided by `Set` offers the following API:\n",
    "- `Set()` creates an empty set.\n",
    "- `S.isEmpty()` checks whether the set `S`is empty.\n",
    "- `S.member(x)` checks whether `x` is an element of the given set `S`.\n",
    "- `S.insert(x)` inserts `x` into the set `S`.\n",
    "   This does not return a new set but rather modifies the given set `S`.\n",
    "- `S.delete(x)` deletes `x` from the set `S`.\n",
    "   This does not return a new set but rather modifies the set `S`.\n",
    "- `S.pop()` returns the <em style=\"color:blue\">smallest element</em> of the set `S`.\n",
    "   Furthermore, this element is removed from the given set `S`.\n",
    "   \n",
    "Since sets are implemented as *ordered binary trees*, the elements of a set need to be comparable, i.e. if \n",
    "`x` and `y` are inserted into a set, then the expression `x < y` has to be defined and has to return a \n",
    "Boolean value.  Furthermore, the relation `<` has to be a \n",
    "<a href=\"https://en.wikipedia.org/wiki/linear_order\">linear order</a>.\n",
    "    \n",
    "The class `Set` can be used to implement a priority queue that supports the \n",
    "<em style=\"color:blue\">removal</em> of elements."
   ]
  },
  {
   "cell_type": "code",
   "execution_count": null,
   "metadata": {},
   "outputs": [],
   "source": [
    "%run Set.ipynb "
   ]
  },
  {
   "cell_type": "markdown",
   "metadata": {},
   "source": [
    "The function call `shortest_path` takes a node `source` and a set `Edges`.\n",
    "\n",
    "The function `shortest_path` takes two arguments.\n",
    "- `source` is the start node.  \n",
    "- `Edges` is a dictionary that encodes the set of edges of the graph.  For every node `x` the value of `Edges[x]` has the form\n",
    "   $$ \\bigl[ (y_1, l_1), \\cdots, (y_n, l_n) \\bigr]. $$\n",
    "   This list is interpreted as follows: For every $i = 1,\\cdots,n$ there is an edge\n",
    "   $(x, y_i)$ pointing from $x$ to $y_i$ and this edge has the length $l_i$.\n",
    "   \n",
    "The function returns the dictionary `Distance`.  For every node `u` such that there is a path from `source` to \n",
    "`u`, `Distance[u]` is the length of the shortest path from `source` to `u`.  The implementation uses \n",
    "<a href=\"https://en.wikipedia.org/wiki/Dijkstra%27s_algorithm\">Dijkstra's algorithm</a> and proceeds as follows:\n",
    "\n",
    "- `Distance` is a dictionary mapping nodes to their estimated distance from the node\n",
    "  `source`.  If `d = Distance[x]`, then we know that there is a path of length `d` leading\n",
    "  from `source` to `x`.  However, in general we do not know whether there is a path shorter\n",
    "  than `d` that also connects the source to the node `x`.\n",
    "- The function `shortest_path` maintains an additional variable called `Visited`.\n",
    "  This variable contains the set of those nodes that have been  <em style=\"color:blue\">visited</em> \n",
    "  by the algorithm.\n",
    "  To be more precise, `Visited` contains those nodes `u` that have been removed from the\n",
    "  `Fringe` and for which all neighboring nodes, i.e. those nodes `y` such that\n",
    "  there is an edge `(u,y)`, have been examined.  It can be shown that once a node `u` is added to\n",
    "  `Visited`, `Distance[u]` is the length of the shortest path from `source` to `u`.\n",
    "- `Fringe` is a priority queue that contains pairs of the form `(d, x)`, where `x` is a node and `d`\n",
    "  is the distance that `x` has from the node `source`.  This priority queue is implemented as a set,\n",
    "  which in turn is represented by an ordered binary tree.  The fact that we store the node `x` and the\n",
    "  distance `d` as a pair `(d,x)` implies that the distances are used as priorities because pairs are\n",
    "  compared lexicographically.\n",
    "  Initially the only node that is known to be\n",
    "  reachable from `source` is the node `source`.  Hence `Fringe` is initialized as the\n",
    "  set `{ (0, source) }`.\n",
    "- As long as the set `Fringe` is not empty, line 7 of the implementation removes that node `u`\n",
    "  from the set `Fringe` that has the smallest distance `d` from the node `source`.\n",
    "- Next, all edges leading away from `u` are visited.  If there is an edge `(u, v)` that has length `l`,\n",
    "  then we check whether the node `v` has already a distance assigned.  If the node `v` already has the\n",
    "  distance `dv` assigned but the value `d + l` is less than `dv`, then we have found a\n",
    "  shorter path from `source` to `v`.  This path leads from `source` to `u` and then proceeds\n",
    "  to `v` via the edge `(u,v)`.\n",
    "- If `v` had already been visited before and hence `dv=Distance[v]` is defined, we\n",
    "  have to update the priority of the `v` in the `Fringe`.  The easiest way to do this is to remove\n",
    "  the old pair `(dv, v)` from the `Fringe` and replace this pair by the new pair\n",
    "  `(d+l, v)`, because `d+l` is the new estimate of the distance between `source` and `v` and\n",
    "  `d+l` is the new priority of `v`.\n",
    "- Once we have inspected all neighbours of the node `u`, `u` is added to the set of those nodes that have\n",
    "  been `Visited`.\n",
    "- When the `Fringe` has been exhausted, the dictionary `Distance` contains the distances of\n",
    "  every node that is reachable from the node `source`"
   ]
  },
  {
   "cell_type": "code",
   "execution_count": null,
   "metadata": {},
   "outputs": [],
   "source": [
    "def shortest_path(source, Edges):\n",
    "    Distance = { source: 0 }\n",
    "    Visited  = { source }\n",
    "    Fringe   = Set()\n",
    "    Fringe.insert( (0, source) )\n",
    "    while not Fringe.isEmpty():\n",
    "        d, u = Fringe.pop() # get and remove smallest element\n",
    "        for v, l in Edges[u]:\n",
    "            dv = Distance.get(v, None)\n",
    "            if dv == None or d + l < dv:\n",
    "                if dv != None:\n",
    "                    Fringe.delete( (dv, v) )\n",
    "                Distance[v] = d + l\n",
    "                Fringe.insert( (d + l, v) )\n",
    "        Visited.add(u)\n",
    "    return Distance"
   ]
  },
  {
   "cell_type": "markdown",
   "metadata": {},
   "source": [
    "The version of `shortest_path` given below provides a graphical animation of the algorithm."
   ]
  },
  {
   "cell_type": "code",
   "execution_count": null,
   "metadata": {},
   "outputs": [],
   "source": [
    "def shortest_path(source, Edges):\n",
    "    Distance = { source: 0 }\n",
    "    Visited  = { source }  # set only needed for visualization\n",
    "    Fringe   = Set()\n",
    "    Fringe.insert( (0, source) )\n",
    "    while not Fringe.isEmpty():\n",
    "        d, u = Fringe.pop()\n",
    "        display(toDot(source, u, Edges, Fringe, Distance, Visited))\n",
    "        print('_' * 80)\n",
    "        for v, l in Edges[u]:\n",
    "            dv = Distance.get(v, None)\n",
    "            if dv == None or d + l < dv:\n",
    "                if dv != None:\n",
    "                    Fringe.delete( (dv, v) )\n",
    "                Distance[v] = d + l\n",
    "                Fringe.insert( (d + l, v) )\n",
    "        Visited.add(u)\n",
    "    display(toDot(source, None, Edges, Fringe, Distance, Visited))\n",
    "    return Distance"
   ]
  },
  {
   "cell_type": "markdown",
   "metadata": {},
   "source": [
    "## Code to Display the Directed Graph"
   ]
  },
  {
   "cell_type": "code",
   "execution_count": null,
   "metadata": {},
   "outputs": [],
   "source": [
    "import graphviz as gv"
   ]
  },
  {
   "cell_type": "markdown",
   "metadata": {},
   "source": [
    "The function $\\texttt{toDot}(\\texttt{source}, \\texttt{Edges}, \\texttt{Fringe}, \\texttt{Distance}, \\texttt{Visited})$ takes a graph that is represented by \n",
    "its `Edges`, a set of nodes `Fringe`, and a dictionary `Distance` that has the distance of a node from the node `source`,  and set `Visited` of nodes that have already been visited."
   ]
  },
  {
   "cell_type": "code",
   "execution_count": null,
   "metadata": {},
   "outputs": [],
   "source": [
    "def toDot(source, p, Edges, Fringe, Distance, Visited):\n",
    "    V = set()\n",
    "    for x in Edges.keys():\n",
    "        V.add(x)\n",
    "    dot = gv.Digraph(node_attr={'shape': 'record', 'style': 'rounded'})\n",
    "    dot.attr(rankdir='LR', size='8,5')\n",
    "    for x in V:\n",
    "        if x == source:\n",
    "            dot.node(str(x), color='blue', shape='doublecircle')\n",
    "        else:\n",
    "            d = str(Distance.get(x, ''))\n",
    "            if x == p:\n",
    "                dot.node(str(x), label='{' + str(x) + '|' + d + '}', color='magenta')\n",
    "            elif x in Distance and Fringe.member( (Distance[x], x) ):\n",
    "                dot.node(str(x), label='{' + str(x) + '|' + d + '}', color='red')\n",
    "            elif x in Visited:\n",
    "                dot.node(str(x), label='{' + str(x) + '|' + d + '}', color='blue')\n",
    "            else:\n",
    "                dot.node(str(x), label='{' + str(x) + '|' + d + '}')\n",
    "    for u in V:\n",
    "        for v, l in Edges[u]:\n",
    "            dot.edge(str(u), str(v), label=str(l))\n",
    "    return dot"
   ]
  },
  {
   "cell_type": "markdown",
   "metadata": {},
   "source": [
    "## Code for Testing"
   ]
  },
  {
   "cell_type": "code",
   "execution_count": null,
   "metadata": {},
   "outputs": [],
   "source": [
    "Edges = { 'a': [ ('c', 2), ('b', 9)], \n",
    "          'b': [('d', 1)],\n",
    "          'c': [('e', 5), ('g', 3)],  \n",
    "          'd': [('f', 2), ('e', 4)],  \n",
    "          'e': [('f', 1), ('b', 2)],\n",
    "          'f': [('h', 5)],\n",
    "          'g': [('e', 1)],\n",
    "          'h': []\n",
    "        }"
   ]
  },
  {
   "cell_type": "code",
   "execution_count": null,
   "metadata": {
    "scrolled": false
   },
   "outputs": [],
   "source": [
    "s  = 'a'\n",
    "sp = shortest_path(s, Edges)\n",
    "sp"
   ]
  },
  {
   "cell_type": "markdown",
   "metadata": {},
   "source": [
    "# Crossing the Tunnel"
   ]
  },
  {
   "cell_type": "markdown",
   "metadata": {},
   "source": [
    "Four persons, Alice, Britney, Charly and Daniel have to cross a tunnel.\n",
    "The tunnel is so narrow, that at most two persons can cross it together.\n",
    "In order to cross the tunnel, a torch is needed.  Together, they only\n",
    "have a single torch.\n",
    "  1. Alice   is the fastest and can cross the tunnel in 1 minute.\n",
    "  2. Britney needs 2 minutes to cross the tunnel.\n",
    "  3. Charly  is slower and needs 4 minutes.\n",
    "  4. Daniel  is slowest and takes 5 minutes to cross the tunnel.\n",
    "  \n",
    "What is the fastest plan to cross the tunnel?"
   ]
  },
  {
   "cell_type": "markdown",
   "metadata": {},
   "source": [
    "We will model this problem as a graph theoretical problem.  The nodes of the graph will be sets \n",
    "of people.  In particular, it will be the set of people at the entrance of the tunnel. In order to model the torch, the torch can also be a member of these sets. "
   ]
  },
  {
   "cell_type": "code",
   "execution_count": null,
   "metadata": {},
   "outputs": [],
   "source": [
    "All  = frozenset({ 'Alice', 'Britney', 'Charly', 'Daniel', 'Torch' })"
   ]
  },
  {
   "cell_type": "markdown",
   "metadata": {},
   "source": [
    "The timining is modelled by a dictionary."
   ]
  },
  {
   "cell_type": "code",
   "execution_count": null,
   "metadata": {},
   "outputs": [],
   "source": [
    "Time = { 'Alice': 1, 'Britney': 2, 'Charly': 4, 'Daniel': 5, 'Torch': 0 }"
   ]
  },
  {
   "cell_type": "markdown",
   "metadata": {},
   "source": [
    "The function $\\texttt{power}(M)$ defined below computes the power list of the set $M$, i.e. we have:\n",
    "$$ \\texttt{power}(M) = 2^M = \\bigl\\{A \\mid A \\subseteq M \\bigr\\} $$"
   ]
  },
  {
   "cell_type": "code",
   "execution_count": null,
   "metadata": {},
   "outputs": [],
   "source": [
    "def power(M):\n",
    "    if M == set():\n",
    "        return { frozenset() }\n",
    "    else:\n",
    "        C  = set(M)  # C is a copy of M as we don't want to change the set M\n",
    "        x  = C.pop() # pop removes the element x from the set C\n",
    "        P1 = power(C)\n",
    "        P2 = { A | {x} for A in P1 }\n",
    "        return P1 | P2"
   ]
  },
  {
   "cell_type": "markdown",
   "metadata": {},
   "source": [
    "If $B$ is a set of persons, then $\\texttt{duration}(B)$ is the time that this group needs to cross the tunnel.\n",
    "$B$ also contains `'Torch'`."
   ]
  },
  {
   "cell_type": "code",
   "execution_count": null,
   "metadata": {},
   "outputs": [],
   "source": [
    "def duration(B):\n",
    "    return max(Time[x] for x in B)"
   ]
  },
  {
   "cell_type": "markdown",
   "metadata": {},
   "source": [
    "$\\texttt{left_right}(S)$ describes a crossing of the tunnel from the entrance at the left side left to the exit at the right side of the tunnel."
   ]
  },
  {
   "cell_type": "code",
   "execution_count": null,
   "metadata": {},
   "outputs": [],
   "source": [
    "def left_right(S):\n",
    "    return [(S - B, duration(B)) for B in power(S) if 'Torch' in B and 2 <= len(B) <= 3]"
   ]
  },
  {
   "cell_type": "markdown",
   "metadata": {},
   "source": [
    "$\\texttt{right_left}(S)$ describes a crossing of the tunnel from right to left."
   ]
  },
  {
   "cell_type": "code",
   "execution_count": null,
   "metadata": {},
   "outputs": [],
   "source": [
    "def right_left(S):\n",
    "    return [(S | B, duration(B)) for B in power(All - S) if 'Torch' in B and 2 <= len(B) <= 3]"
   ]
  },
  {
   "cell_type": "code",
   "execution_count": null,
   "metadata": {},
   "outputs": [],
   "source": [
    "Edges = { S: left_right(S) + right_left(S) for S in power(All) }\n",
    "len(Edges)"
   ]
  },
  {
   "cell_type": "markdown",
   "metadata": {},
   "source": [
    "The function `shortest_path` is Dijkstra's algorithm.  It returns both a dictionary `Parent` containing \n",
    "the parent nodes and a dictionary `Distance` with the distances.  The dictionary `Parent` can be used to\n",
    "compute the shortest path leading from the node `source` to some other node. "
   ]
  },
  {
   "cell_type": "code",
   "execution_count": null,
   "metadata": {},
   "outputs": [],
   "source": [
    "def shortest_path(source, Edges):\n",
    "    Distance = { source: 0 }\n",
    "    Parent   = {}\n",
    "    Fringe   = Set()\n",
    "    Fringe.insert( (0, source) )\n",
    "    while not Fringe.isEmpty():\n",
    "        d, u = Fringe.pop()\n",
    "        for v, l in Edges[u]:\n",
    "            dv = Distance.get(v, None)\n",
    "            if dv == None or d + l < dv:\n",
    "                if dv != None:\n",
    "                    Fringe.delete( (dv, v) )\n",
    "                Distance[v] = d + l\n",
    "                Fringe.insert( (d + l, v) )\n",
    "                Parent[v] = u\n",
    "    return Parent, Distance"
   ]
  },
  {
   "cell_type": "code",
   "execution_count": null,
   "metadata": {},
   "outputs": [],
   "source": [
    "Parent, Distance = shortest_path(frozenset(All), Edges)"
   ]
  },
  {
   "cell_type": "markdown",
   "metadata": {},
   "source": [
    "Let us see whether the goal was reachable and how long it takes to reach the goal."
   ]
  },
  {
   "cell_type": "code",
   "execution_count": null,
   "metadata": {},
   "outputs": [],
   "source": [
    "goal = frozenset()\n",
    "Distance[goal]"
   ]
  },
  {
   "cell_type": "markdown",
   "metadata": {},
   "source": [
    "Given to nodes `source` and `goal` and a dictionary containing the parent of every node, the function\n",
    "`find_path` returns the path from `source` to `goal`."
   ]
  },
  {
   "cell_type": "code",
   "execution_count": null,
   "metadata": {},
   "outputs": [],
   "source": [
    "def find_path(source, goal, Parent):\n",
    "    p = Parent.get(goal)\n",
    "    if p == None:\n",
    "        return [source]\n",
    "    return find_path(source, p, Parent) + [goal]"
   ]
  },
  {
   "cell_type": "code",
   "execution_count": null,
   "metadata": {},
   "outputs": [],
   "source": [
    "Path = find_path(frozenset(All), frozenset(), Parent)"
   ]
  },
  {
   "cell_type": "code",
   "execution_count": null,
   "metadata": {},
   "outputs": [],
   "source": [
    "def print_path():\n",
    "    total = 0\n",
    "    print(\"_\" * 81);\n",
    "    for i in range(len(Path)):\n",
    "        Left  = set(Path[i])\n",
    "        Right = set(All) - set(Left)\n",
    "        if Left == set() or Right == set():\n",
    "            print(Left, \" \" * 25, Right)\n",
    "        else:\n",
    "            print(Left, \" \" * 30, Right)\n",
    "        print(\"_\" * 81);\n",
    "        if i < len(Path) - 1:\n",
    "            if \"Torch\" in Path[i]:\n",
    "                Diff = set(Path[i]) - set(Path[i+1])\n",
    "                time = duration(Diff)\n",
    "                total += time\n",
    "                print(\" \" * 20, \">>> \", Diff, ':', time, \" >>>\")\n",
    "            else:\n",
    "                Diff = set(Path[i+1]) - set(Path[i])\n",
    "                time = duration(Diff)\n",
    "                total += time\n",
    "                print(\" \" * 20, \"<<< \", Diff, ':', time, \" <<<\")\n",
    "            print(\"_\" * 81)\n",
    "    print('Total time:', total, 'minutes.')"
   ]
  },
  {
   "cell_type": "code",
   "execution_count": null,
   "metadata": {},
   "outputs": [],
   "source": [
    "print_path()"
   ]
  },
  {
   "cell_type": "code",
   "execution_count": null,
   "metadata": {},
   "outputs": [],
   "source": []
  }
 ],
 "metadata": {
  "hide_input": false,
  "kernelspec": {
   "display_name": "Python 3",
   "language": "python",
   "name": "python3"
  },
  "language_info": {
   "codemirror_mode": {
    "name": "ipython",
    "version": 3
   },
   "file_extension": ".py",
   "mimetype": "text/x-python",
   "name": "python",
   "nbconvert_exporter": "python",
   "pygments_lexer": "ipython3",
   "version": "3.9.4"
  },
  "latex_envs": {
   "LaTeX_envs_menu_present": true,
   "autoclose": false,
   "autocomplete": true,
   "bibliofile": "biblio.bib",
   "cite_by": "apalike",
   "current_citInitial": 1,
   "eqLabelWithNumbers": true,
   "eqNumInitial": 1,
   "hotkeys": {
    "equation": "Ctrl-E",
    "itemize": "Ctrl-I"
   },
   "labels_anchors": false,
   "latex_user_defs": false,
   "report_style_numbering": false,
   "user_envs_cfg": false
  },
  "toc": {
   "base_numbering": 1,
   "nav_menu": {},
   "number_sections": true,
   "sideBar": true,
   "skip_h1_title": false,
   "title_cell": "Table of Contents",
   "title_sidebar": "Contents",
   "toc_cell": false,
   "toc_position": {},
   "toc_section_display": true,
   "toc_window_display": false
  },
  "varInspector": {
   "cols": {
    "lenName": 16,
    "lenType": 16,
    "lenVar": 40
   },
   "kernels_config": {
    "python": {
     "delete_cmd_postfix": "",
     "delete_cmd_prefix": "del ",
     "library": "var_list.py",
     "varRefreshCmd": "print(var_dic_list())"
    },
    "r": {
     "delete_cmd_postfix": ") ",
     "delete_cmd_prefix": "rm(",
     "library": "var_list.r",
     "varRefreshCmd": "cat(var_dic_list()) "
    }
   },
   "types_to_exclude": [
    "module",
    "function",
    "builtin_function_or_method",
    "instance",
    "_Feature"
   ],
   "window_display": false
  }
 },
 "nbformat": 4,
 "nbformat_minor": 2
}
