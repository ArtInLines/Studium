{
 "cells": [
  {
   "cell_type": "code",
   "execution_count": null,
   "metadata": {},
   "outputs": [],
   "source": [
    "from IPython.core.display import HTML\n",
    "with open('../style.css') as file:\n",
    "    css = file.read()\n",
    "HTML(css)"
   ]
  },
  {
   "cell_type": "markdown",
   "metadata": {},
   "source": [
    "# An Object-Oriented Implementation of the Union-Find Algorithm"
   ]
  },
  {
   "cell_type": "markdown",
   "metadata": {},
   "source": [
    "The class `UnionFind` maintains three member variables:\n",
    "  - `mParent` is a dictionary that assigns each node to its parent node.\n",
    "    Initially, all nodes point to themselves.\n",
    "  - `mHeight` is a dictionary that stores the height of the trees.  If $x$ is a node, then\n",
    "    $\\texttt{mHeight}[x]$ is the height of the tree rooted at $x$.\n",
    "    Initially, all trees contain but a single node and therefore have the height $1$."
   ]
  },
  {
   "cell_type": "code",
   "execution_count": null,
   "metadata": {},
   "outputs": [],
   "source": [
    "class UnionFind:\n",
    "    def __init__(self, M):\n",
    "        self.mParent = { x: x for x in M }\n",
    "        self.mHeight = { x: 1 for x in M }"
   ]
  },
  {
   "cell_type": "markdown",
   "metadata": {},
   "source": [
    "Given an element $x$ from the set $M$, the function $\\texttt{self}.\\texttt{find}(x)$ \n",
    "returns the ancestor of $x$ that is at the root of the tree containing $x$."
   ]
  },
  {
   "cell_type": "code",
   "execution_count": null,
   "metadata": {},
   "outputs": [],
   "source": [
    "def find(self, x):\n",
    "    p = self.mParent[x]\n",
    "    if p == x:\n",
    "        return x\n",
    "    return self.find(p)\n",
    "\n",
    "UnionFind.find = find\n",
    "del find"
   ]
  },
  {
   "cell_type": "markdown",
   "metadata": {},
   "source": [
    "Given two elements $x$ and $y$ and an object $o$ of type `UnionFind`, the call $o.\\texttt{union}(x, y)$ changes the `unionFind` object $o$ so that afterwards the equation\n",
    "$$ o.\\texttt{find}(x) = o.\\texttt{find}(y) $$\n",
    "holds."
   ]
  },
  {
   "cell_type": "code",
   "execution_count": null,
   "metadata": {},
   "outputs": [],
   "source": [
    "def union(self, x, y):\n",
    "    root_x = self.find(x)\n",
    "    root_y = self.find(y)\n",
    "    if root_x != root_y:\n",
    "        if self.mHeight[root_x] < self.mHeight[root_y]:\n",
    "            self.mParent[root_x]  = root_y\n",
    "        elif self.mHeight[root_x] > self.mHeight[root_y]:\n",
    "            self.mParent[root_y]  = root_x\n",
    "        else:\n",
    "            self.mParent[root_y]  = root_x\n",
    "            self.mHeight[root_x] += 1\n",
    "                \n",
    "UnionFind.union = union"
   ]
  },
  {
   "cell_type": "code",
   "execution_count": null,
   "metadata": {},
   "outputs": [],
   "source": [
    "def partition(M, R):\n",
    "    UF = UnionFind(M)\n",
    "    for x, y in R:\n",
    "        UF.union(x, y)\n",
    "    Roots = { x for x in M if UF.find(x) == x }\n",
    "    return [{y for y in M if UF.find(y) == r} for r in Roots]"
   ]
  },
  {
   "cell_type": "code",
   "execution_count": null,
   "metadata": {},
   "outputs": [],
   "source": [
    "def demo():\n",
    "    M = set(range(1, 10))\n",
    "    R = { (1, 4), (7, 9), (3, 5), (2, 6), (5, 8), (1, 9), (4, 7) }\n",
    "    P = partition(M, R)\n",
    "    return P"
   ]
  },
  {
   "cell_type": "code",
   "execution_count": null,
   "metadata": {},
   "outputs": [],
   "source": [
    "P = demo()\n",
    "P"
   ]
  },
  {
   "cell_type": "code",
   "execution_count": null,
   "metadata": {},
   "outputs": [],
   "source": []
  }
 ],
 "metadata": {
  "kernelspec": {
   "display_name": "Python 3",
   "language": "python",
   "name": "python3"
  },
  "language_info": {
   "codemirror_mode": {
    "name": "ipython",
    "version": 3
   },
   "file_extension": ".py",
   "mimetype": "text/x-python",
   "name": "python",
   "nbconvert_exporter": "python",
   "pygments_lexer": "ipython3",
   "version": "3.9.4"
  },
  "varInspector": {
   "cols": {
    "lenName": 16,
    "lenType": 16,
    "lenVar": 40
   },
   "kernels_config": {
    "python": {
     "delete_cmd_postfix": "",
     "delete_cmd_prefix": "del ",
     "library": "var_list.py",
     "varRefreshCmd": "print(var_dic_list())"
    },
    "r": {
     "delete_cmd_postfix": ") ",
     "delete_cmd_prefix": "rm(",
     "library": "var_list.r",
     "varRefreshCmd": "cat(var_dic_list()) "
    }
   },
   "types_to_exclude": [
    "module",
    "function",
    "builtin_function_or_method",
    "instance",
    "_Feature"
   ],
   "window_display": false
  }
 },
 "nbformat": 4,
 "nbformat_minor": 2
}
