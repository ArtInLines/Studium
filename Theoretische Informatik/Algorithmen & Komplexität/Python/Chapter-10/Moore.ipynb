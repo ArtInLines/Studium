{
 "cells": [
  {
   "cell_type": "code",
   "execution_count": null,
   "metadata": {},
   "outputs": [],
   "source": [
    "from IPython.core.display import HTML\n",
    "with open('../style.css') as file:\n",
    "    css = file.read()\n",
    "HTML(css)"
   ]
  },
  {
   "cell_type": "markdown",
   "metadata": {},
   "source": [
    "# Moore's Shortest Path Algorithm"
   ]
  },
  {
   "cell_type": "markdown",
   "metadata": {},
   "source": [
    "The function `shortest_path` takes two arguments.\n",
    "- `source` is the start node.  \n",
    "- `Edges` is a dictionary that encodes the set of edges of the graph.  For every node `x` the value of `Edges[x]` has the form\n",
    "   $$ \\bigl[ (y_1, l_1), \\cdots, (y_n, l_n) \\bigr]. $$\n",
    "   This list is interpreted as follows: For every $i = 1,\\cdots,n$ there is an edge\n",
    "   $(x, y_i)$ pointing from $x$ to $y_i$ and this edge has the length $l_i$.\n",
    "   \n",
    "The task of the function `shortestPath(source, Edges)` is to compute the distances of all nodes in the graph from the node `source`.\n",
    "This function works as follows:\n",
    "- The variable `Distance` is a *dictionary*.  After the computation is\n",
    "  finished, for every node $x$ such that $x$ is reachable from the node `source`,\n",
    "  the value `Distance[x]` records the length of the shortest path from `source` to $x$.\n",
    "\n",
    "  The node `source` has distance $0$ from the node `source` and initially this is\n",
    "  all we know.  Hence, the dictionary `Distance` is initialized as `{ source: 0 }`.\n",
    "- The variable `Fringe` is a list of those nodes that already have an estimate of\n",
    "  their distance from the  node `source`.  Furthermore, if a node is in `Fringe` then this\n",
    "  node has at least one neighboring node whose distance from `source` hasn't been computed. \n",
    "  Initially we only know that the node `source` is connected to the node `source`.\n",
    "  Therefore, we initialize the list `Fringe` as the list `[source]`. \n",
    "- Every iteration of the `while`-loop takes the first node `u` from the `Fringe`.\n",
    "- Next, we compute all nodes `v` that can be reached from `u` by an edge `(u, v)`. For every such node \n",
    "  `v` we check whether reaching `v` from `u` results in a shorter path than previously known.\n",
    "  There are two cases.\n",
    "  - If there is an edge from node `u` to a node `v` and  `Distance[v]` is still\n",
    "    undefined, then we hadn't yet found a path leading to `v`.\n",
    "  - Furthermore, there are those nodes `v` where we had already found a path leading from\n",
    "    `source` to `v` but the length of this path is longer than the length of the path\n",
    "    that we get when we first visit `u` and then proceed to `v` via the edge `(u,v)`.\n",
    "    \n",
    "  We compute the distance of the path leading from `source` to `u` and then to\n",
    "  `v` in both of these cases and add `v` to the `Fringe`.\n",
    "- The algorithm terminates when the list `Fringe` is empty because in that case we don't\n",
    "  have any means left to improve our estimate of the distance function."
   ]
  },
  {
   "cell_type": "code",
   "execution_count": null,
   "metadata": {},
   "outputs": [],
   "source": [
    "def shortest_path(source, Edges):\n",
    "    Distance = { source: 0 }\n",
    "    Fringe   = [ source ]\n",
    "    while len(Fringe) > 0:\n",
    "        u = Fringe.pop()\n",
    "        for v, l in Edges[u]:\n",
    "            dv = Distance.get(v, None)\n",
    "            if dv == None or Distance[u] + l < dv:\n",
    "                Distance[v] = Distance[u] + l\n",
    "                if v not in Fringe: \n",
    "                    Fringe += [v] \n",
    "    return Distance"
   ]
  },
  {
   "cell_type": "markdown",
   "metadata": {},
   "source": [
    "The version of `shortest_path` that is given below adds some animation to the algorithm."
   ]
  },
  {
   "cell_type": "code",
   "execution_count": null,
   "metadata": {},
   "outputs": [],
   "source": [
    "def shortest_path(source, Edges):\n",
    "    Distance = { source: 0 }\n",
    "    Fringe   = [ source ]\n",
    "    while len(Fringe) > 0:\n",
    "        display(toDot(source, None, Edges, Fringe, Distance))\n",
    "        print('_' * 80)\n",
    "        u = Fringe.pop()\n",
    "        display(toDot(source, u, Edges, Fringe, Distance))\n",
    "        print('_' * 80)\n",
    "        for v, l in Edges[u]:\n",
    "            dv = Distance.get(v, None)\n",
    "            if dv == None or Distance[u] + l < dv:\n",
    "                Distance[v] = Distance[u] + l\n",
    "                if v not in Fringe: \n",
    "                    Fringe += [v] \n",
    "    display(toDot(source, None, Edges, Fringe, Distance))\n",
    "    return Distance"
   ]
  },
  {
   "cell_type": "markdown",
   "metadata": {},
   "source": [
    "## Code to Display the Directed Graph"
   ]
  },
  {
   "cell_type": "code",
   "execution_count": null,
   "metadata": {},
   "outputs": [],
   "source": [
    "import graphviz as gv"
   ]
  },
  {
   "cell_type": "markdown",
   "metadata": {},
   "source": [
    "The function $\\texttt{toDot}(\\texttt{source}, \\texttt{Edges}, \\texttt{Fringe}, \\texttt{Distance})$ takes a graph that is represented by \n",
    "its `Edges`, a set of nodes `Fringe`, and a dictionary `Distance` that has the distance of a node from the node `source`."
   ]
  },
  {
   "cell_type": "code",
   "execution_count": null,
   "metadata": {},
   "outputs": [],
   "source": [
    "def toDot(source, p, Edges, Fringe, Distance):\n",
    "    V = set()\n",
    "    for x in Edges.keys():\n",
    "        V.add(x)\n",
    "    dot = gv.Digraph(node_attr={'shape': 'record', 'style': 'rounded'})\n",
    "    dot.attr(rankdir='LR', size='8,5')\n",
    "    for x in V:\n",
    "        if x == source:\n",
    "            if x != p and x in Fringe:\n",
    "                dot.node(str(x), color='red', shape='doublecircle')\n",
    "            elif x == p:\n",
    "                dot.node(str(x), color='magenta', shape='doublecircle')\n",
    "            else:\n",
    "                dot.node(str(x), color='blue', shape='doublecircle')\n",
    "        else:\n",
    "            d = str(Distance.get(x, ''))\n",
    "            if x == p:\n",
    "                dot.node(str(x), label='{' + str(x) + '|' + d + '}', color='magenta')\n",
    "            elif x in Fringe:\n",
    "                dot.node(str(x), label='{' + str(x) + '|' + d + '}', color='red')\n",
    "            else:\n",
    "                dot.node(str(x), label='{' + str(x) + '|' + d + '}')\n",
    "    for u in V:\n",
    "        for v, l in Edges[u]:\n",
    "            dot.edge(str(u), str(v), label=str(l))\n",
    "    return dot"
   ]
  },
  {
   "cell_type": "markdown",
   "metadata": {},
   "source": [
    "## Code for Testing"
   ]
  },
  {
   "cell_type": "code",
   "execution_count": null,
   "metadata": {},
   "outputs": [],
   "source": [
    "Edges = { 'a': [('c', 2), ('b', 9)], \n",
    "          'b': [('d', 1)],\n",
    "          'c': [('e', 5), ('g', 3)],  \n",
    "          'd': [('f', 2), ('e', 4)],  \n",
    "          'e': [('f', 1), ('b', 2)],\n",
    "          'f': [('h', 5)],\n",
    "          'g': [('e', 1)],\n",
    "          'h': []\n",
    "        }"
   ]
  },
  {
   "cell_type": "markdown",
   "metadata": {},
   "source": [
    "In the diagrams below, the node `u` that is taken from the `Fringe` is colored in <em style=\"color:magenta; background-color:white\">magenta</em>, \n",
    "while the nodes in the `Fringe` are colored in <em style=\"color:red; background-color:white\">red</em>.  The start node is colored \n",
    "<em style=\"color:blue; background-color:white\">blue</em> unless it is part of the `Fringe`or equal to the node `u` that is taken from the `Fringe`."
   ]
  },
  {
   "cell_type": "code",
   "execution_count": null,
   "metadata": {
    "scrolled": false
   },
   "outputs": [],
   "source": [
    "s  = 'a'\n",
    "sp = shortest_path(s, Edges)\n",
    "sp"
   ]
  },
  {
   "cell_type": "code",
   "execution_count": null,
   "metadata": {},
   "outputs": [],
   "source": []
  }
 ],
 "metadata": {
  "hide_input": false,
  "kernelspec": {
   "display_name": "Python 3",
   "language": "python",
   "name": "python3"
  },
  "language_info": {
   "codemirror_mode": {
    "name": "ipython",
    "version": 3
   },
   "file_extension": ".py",
   "mimetype": "text/x-python",
   "name": "python",
   "nbconvert_exporter": "python",
   "pygments_lexer": "ipython3",
   "version": "3.9.4"
  },
  "latex_envs": {
   "LaTeX_envs_menu_present": true,
   "autoclose": false,
   "autocomplete": true,
   "bibliofile": "biblio.bib",
   "cite_by": "apalike",
   "current_citInitial": 1,
   "eqLabelWithNumbers": true,
   "eqNumInitial": 1,
   "hotkeys": {
    "equation": "Ctrl-E",
    "itemize": "Ctrl-I"
   },
   "labels_anchors": false,
   "latex_user_defs": false,
   "report_style_numbering": false,
   "user_envs_cfg": false
  },
  "toc": {
   "base_numbering": 1,
   "nav_menu": {},
   "number_sections": true,
   "sideBar": true,
   "skip_h1_title": false,
   "title_cell": "Table of Contents",
   "title_sidebar": "Contents",
   "toc_cell": false,
   "toc_position": {
    "height": "calc(100% - 180px)",
    "left": "10px",
    "top": "150px",
    "width": "165px"
   },
   "toc_section_display": true,
   "toc_window_display": false
  },
  "varInspector": {
   "cols": {
    "lenName": 16,
    "lenType": 16,
    "lenVar": 40
   },
   "kernels_config": {
    "python": {
     "delete_cmd_postfix": "",
     "delete_cmd_prefix": "del ",
     "library": "var_list.py",
     "varRefreshCmd": "print(var_dic_list())"
    },
    "r": {
     "delete_cmd_postfix": ") ",
     "delete_cmd_prefix": "rm(",
     "library": "var_list.r",
     "varRefreshCmd": "cat(var_dic_list()) "
    }
   },
   "types_to_exclude": [
    "module",
    "function",
    "builtin_function_or_method",
    "instance",
    "_Feature"
   ],
   "window_display": false
  }
 },
 "nbformat": 4,
 "nbformat_minor": 2
}
