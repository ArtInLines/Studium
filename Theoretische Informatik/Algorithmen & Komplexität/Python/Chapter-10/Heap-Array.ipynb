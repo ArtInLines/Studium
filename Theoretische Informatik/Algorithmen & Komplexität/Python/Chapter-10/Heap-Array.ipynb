{
 "cells": [
  {
   "cell_type": "code",
   "execution_count": 1,
   "metadata": {},
   "outputs": [
    {
     "data": {
      "text/html": [
       "<link href='http://fonts.googleapis.com/css?family=Alegreya+Sans:100,300,400,500,700,800,900,100italic,300italic,400italic,500italic,700italic,800italic,900italic' rel='stylesheet' type='text/css'>\n",
       "<link href='http://fonts.googleapis.com/css?family=Arvo:400,700,400italic' rel='stylesheet' type='text/css'>\n",
       "<link href='http://fonts.googleapis.com/css?family=PT+Mono' rel='stylesheet' type='text/css'>\n",
       "<link href='http://fonts.googleapis.com/css?family=Shadows+Into+Light' rel='stylesheet' type='text/css'>\n",
       "<link href='http://fonts.googleapis.com/css?family=Philosopher:400,700,400italic,700italic' rel='stylesheet' type='text/css'>\n",
       "\n",
       "<style>\n",
       "\n",
       "@font-face {\n",
       "    font-family: \"Computer Modern\";\n",
       "    src: url('http://mirrors.ctan.org/fonts/cm-unicode/fonts/otf/cmunss.otf');\n",
       "}\n",
       "\n",
       ".container { width: 100% }\n",
       "\n",
       "/* Formatting for header cells */\n",
       ".text_cell_render h1 {\n",
       "    font-family: 'Philosopher', sans-serif;\n",
       "    font-weight: 400;\n",
       "    font-size: 2.2em;\n",
       "    line-height: 100%;\n",
       "    color: rgb(0, 80, 120);\n",
       "    margin-bottom: 0.1em;\n",
       "    margin-top: 0.1em;\n",
       "    display: block;\n",
       "}\t\n",
       ".text_cell_render h2 {\n",
       "    font-family: 'Philosopher', serif;\n",
       "    font-weight: 400;\n",
       "    font-size: 1.9em;\n",
       "    line-height: 100%;\n",
       "    color: rgb(200,100,0);\n",
       "    margin-bottom: 0.1em;\n",
       "    margin-top: 0.1em;\n",
       "    display: block;\n",
       "}\t\n",
       "\n",
       ".text_cell_render h3 {\n",
       "    font-family: 'Philosopher', serif;\n",
       "    margin-top:12px;\n",
       "    margin-bottom: 3px;\n",
       "    font-style: italic;\n",
       "    color: rgb(94,127,192);\n",
       "}\n",
       "\n",
       ".text_cell_render h4 {\n",
       "    font-family: 'Philosopher', serif;\n",
       "}\n",
       "\n",
       ".text_cell_render h5 {\n",
       "    font-family: 'Alegreya Sans', sans-serif;\n",
       "    font-weight: 300;\n",
       "    font-size: 16pt;\n",
       "    color: grey;\n",
       "    font-style: italic;\n",
       "    margin-bottom: .1em;\n",
       "    margin-top: 0.1em;\n",
       "    display: block;\n",
       "}\n",
       "\n",
       ".text_cell_render h6 {\n",
       "    font-family: 'PT Mono', sans-serif;\n",
       "    font-weight: 300;\n",
       "    font-size: 10pt;\n",
       "    color: grey;\n",
       "    margin-bottom: 1px;\n",
       "    margin-top: 1px;\n",
       "}\n",
       "\n",
       ".text_cell_render em {\n",
       "    font-family: 'Philosopher', sans-serif;\n",
       "    color:        blue;\n",
       "    background-color: rgb(255,220,180);\n",
       "    font-size:    110%;\n",
       "    margin-left:   2px;\n",
       "    margin-right:  2px;\n",
       "    font-weight:   100;\n",
       "}\n",
       "\n",
       ".text_cell_render b {\n",
       "    color:            rgb(255,195,195);\n",
       "    background-color: rgb(0,0,0);\n",
       "    font-size:    110%;\n",
       "    margin-left:   2px;\n",
       "    margin-right:  2px;\n",
       "    font-weight:   650;\n",
       "}\n",
       "\n",
       ".text_cell_render tt {\n",
       "    font-size:    120%;\n",
       "    margin-left:   2px;\n",
       "    margin-right:  2px;\n",
       "    font-weight:   150;\n",
       "}\n",
       "\n",
       ".Codemirror {\n",
       "    font-family: \"PT Mono\";\n",
       "    font-size: 100%;\n",
       "}\n",
       "\n",
       "</style>\n",
       "\n"
      ],
      "text/plain": [
       "<IPython.core.display.HTML object>"
      ]
     },
     "execution_count": 1,
     "metadata": {},
     "output_type": "execute_result"
    }
   ],
   "source": [
    "from IPython.core.display import HTML\n",
    "with open('../style.css') as file:\n",
    "    css = file.read()\n",
    "HTML(css)"
   ]
  },
  {
   "cell_type": "markdown",
   "metadata": {},
   "source": [
    "## Graphical Representation"
   ]
  },
  {
   "cell_type": "code",
   "execution_count": null,
   "metadata": {},
   "outputs": [],
   "source": [
    "import graphviz as gv"
   ]
  },
  {
   "cell_type": "markdown",
   "metadata": {},
   "source": [
    "The function `toDot` takes four arguments:\n",
    "- `A` is an array of natural numbers of length $n$,\n",
    "- `f` is a natural number such that $0 \\leq f < n$ holds,\n",
    "- `g` is a natural number such that $f < g < n$ holds,\n",
    "- `u` is a natural number such that $0 \\leq u < n$ holds.\n",
    "  This argument is optional.\n",
    "\n",
    "The function returns a graphical representation of the array `A` as a heap. \n",
    "This graphical representation is stored as a directed graph with an encoding suitable for `graphviz`. \n",
    "\n",
    "The part `A[0:g]` is represented as a binary tree, while the part `A[g:]` is represented\n",
    "as a list.  Furthermore, all indexes in the range `A[k:g]` satisfy the heap condition.  The nodes in the range `[0:k-1]`\n",
    "are colored red.  If `u` is set, the node `A[u]` is colored orange."
   ]
  },
  {
   "cell_type": "code",
   "execution_count": null,
   "metadata": {},
   "outputs": [],
   "source": [
    "def heapToDot(A):\n",
    "    n   = len(A)\n",
    "    dot = gv.Digraph(node_attr={'shape': 'record'})\n",
    "    for k, (p, o) in enumerate(A):\n",
    "        if str(p) != str(o):\n",
    "            dot.node(str(k), label='{' + str(p) + '|' + str(o) + '|' + str(o.mIndex) + '|' + str(k) + '}', style='rounded')\n",
    "        else:\n",
    "            dot.node(str(k), label='{' + str(p) + '|' + str(k) + '}', style='rounded')\n",
    "    for k in range(0, n // 2):\n",
    "        if 2 * k + 1 < n:\n",
    "            dot.edge(str(k), str(2 * k + 1))\n",
    "        if 2 * k + 2 < n:\n",
    "            dot.edge(str(k), str(2 * k + 2))\n",
    "    return dot"
   ]
  },
  {
   "cell_type": "markdown",
   "metadata": {},
   "source": [
    "# Priority Queues implemented as Heaps"
   ]
  },
  {
   "cell_type": "markdown",
   "metadata": {},
   "source": [
    "## Auxiliary Methods"
   ]
  },
  {
   "cell_type": "markdown",
   "metadata": {},
   "source": [
    "The function call `swap(A, i, j)` takes an array `A` and  two indexes `i` and `j` and exchanges the elements at these indexes."
   ]
  },
  {
   "cell_type": "code",
   "execution_count": null,
   "metadata": {},
   "outputs": [],
   "source": [
    "def swap(A, i, j):\n",
    "    pi, oi = A[i]\n",
    "    pj, oj = A[j] \n",
    "    oi.mIndex = j\n",
    "    oj.mIndex = i\n",
    "    A[i] = pj, oj\n",
    "    A[j] = pi, oi"
   ]
  },
  {
   "cell_type": "markdown",
   "metadata": {},
   "source": [
    "The function `ascend` takes two arguments:\n",
    "- `A` is an array that is represented as a list in *Python*.\n",
    "- `k` is an index into the array `A`.\n",
    "\n",
    "   Therefore we have $k \\in \\bigl\\{0, \\cdots, \\texttt{len}(A)-1\\bigr\\}$.\n",
    "\n",
    "The array `A` represents a *heap*.  However, the <em style=\"color:blue\">heap condition</em> might be violated \n",
    "at index `k`: It might be the case that the element at this index is to small and needs to rise to the top\n",
    "of the heap.  The function `ascend` will fix the heap condition and will rise the element `A[k]` as much \n",
    "as is necessary to turn `A` into a heap."
   ]
  },
  {
   "cell_type": "code",
   "execution_count": null,
   "metadata": {},
   "outputs": [],
   "source": [
    "def ascend(A, k):\n",
    "    while k > 0:\n",
    "        p = (k - 1) // 2\n",
    "        if A[k] < A[p]:\n",
    "            swap(A, p, k)\n",
    "            k = p\n",
    "        else:\n",
    "            return k\n",
    "    return 0"
   ]
  },
  {
   "cell_type": "markdown",
   "metadata": {},
   "source": [
    "The function `descend(A)` takes one argument `A` where `A` is an array that is organized as a heap.\n",
    "but possibly has its heap condition violated at its root, i.e. at index `0`.  The\n",
    "purpose of the procedure `descend` is to restore the heap condition at the root.\n",
    "We initialize a variable `k` as `0` and the `while`-loop proceeds as follows: \n",
    "- We compute the index `j` of the left subtree below index `k`.\n",
    "- We check whether there also is a right subtree at position `j+1`.\n",
    "  \n",
    "  This is the case if `j + 1 <= n` where `n = len(A) - 1`.  \n",
    "- If the heap condition is violated at index `k`, we exchange the element at  position `k` \n",
    "  with the child that has the higher priority, i.e. the child that is smaller. \n",
    "- Next, we check in line 9 whether the heap condition is violated at index `k`.  \n",
    "  If the heap condition is satisfied, there is nothing left to do and the procedure returns.  \n",
    "  \n",
    "- Otherwise, the element at position `k` is swapped with\n",
    "  the element at position `j`.  \n",
    "  \n",
    "  Of course, after this swap it is possible that the heap condition is\n",
    "  violated at position `j`.  Therefore,  `k` is set to `j` and the `while`-loop continues\n",
    "  as long as the node at position `k` has at least one child, i.e. as long as \n",
    "  `2 * k + 1 <= n`."
   ]
  },
  {
   "cell_type": "code",
   "execution_count": null,
   "metadata": {},
   "outputs": [],
   "source": [
    "def descend(A):\n",
    "    n = len(A) - 1\n",
    "    k = 0\n",
    "    while 2 * k + 1 <= n:\n",
    "        j = 2 * k + 1\n",
    "        if j + 1 <= n and A[j] > A[j + 1]:\n",
    "            j += 1\n",
    "        if A[k] < A[j]:\n",
    "            return\n",
    "        swap(A, k, j)\n",
    "        k = j"
   ]
  },
  {
   "cell_type": "markdown",
   "metadata": {},
   "source": [
    "## Implementing the API"
   ]
  },
  {
   "cell_type": "markdown",
   "metadata": {},
   "source": [
    "The function `insert(H, x)` takes two arguments:\n",
    "- `H` is a heap that is represented as an array.\n",
    "- `x` is a pair of the form `(p, o)` where\n",
    "  - `p` is a natural number interpreted as a priority.  The smaller the number, the higher the priority.\n",
    "  - `o` is an object.  \n",
    "    \n",
    "This method inserts the pair `x` into the heap `H`.  Furthermore, the object `o` is modified so that it remembers\n",
    "the index at which it is stored in `H`.  This is done by storing this index in `o.mIndex`."
   ]
  },
  {
   "cell_type": "code",
   "execution_count": null,
   "metadata": {},
   "outputs": [],
   "source": [
    "def insert(H, x):\n",
    "    n = len(H)\n",
    "    H.append(x)\n",
    "    _, o = x\n",
    "    o.mIndex = n\n",
    "    k = ascend(H, n)\n",
    "    o.mIndex = k"
   ]
  },
  {
   "cell_type": "markdown",
   "metadata": {},
   "source": [
    "The function `elevate(H, o, p)` takes three arguments.\n",
    "- `H` is a list that is organized as a heap.\n",
    "- `o` is an object that occurs in the heap `H` at index `o.mIndex`, i.e. we have `H[o.mIndex] = p_old, o.mIndex`,\n",
    "  where `p_old` is the priority that was used when `o` was stored in `H`.\n",
    "- `p` is the new priority of `o` in `H`.  This priority must be higher than the priority `p_old`, i.e. we must have `p < p_old`.\n",
    "\n",
    "The function call `elevate(H, o, p)` elevates the priority of the object `o` to `p` in `H` and takes care that `o` is stored further up in `H` \n",
    "so that the heap property of `H` is maintained."
   ]
  },
  {
   "cell_type": "code",
   "execution_count": null,
   "metadata": {},
   "outputs": [],
   "source": [
    "def elevate(H, o, p):\n",
    "    k = o.mIndex\n",
    "    H[k] = (p, o)\n",
    "    ascend(H, k)"
   ]
  },
  {
   "cell_type": "code",
   "execution_count": null,
   "metadata": {},
   "outputs": [],
   "source": [
    "def remove(H):\n",
    "    pFirst, oFirst = H[0]\n",
    "    pLast , oLast  = H[-1]\n",
    "    oLast.mIndex   = 0\n",
    "    H[0]           = pLast, oLast\n",
    "    H.pop(-1)\n",
    "    descend(H)\n",
    "    return pFirst, oFirst"
   ]
  },
  {
   "cell_type": "markdown",
   "metadata": {},
   "source": [
    "## Testing"
   ]
  },
  {
   "cell_type": "code",
   "execution_count": null,
   "metadata": {},
   "outputs": [],
   "source": [
    "class Node:\n",
    "    def __init__(self, value):\n",
    "        self.mValue = value\n",
    "        \n",
    "    def __hash__(self):\n",
    "        return hash(self.mValue)\n",
    "    \n",
    "    def __repr__(self):\n",
    "        try:\n",
    "            return 'Node(' + str(self.mValue) + ':' + str(self.mIndex) + ')'\n",
    "        except AttributeError:\n",
    "            return 'Node(' + str(self.mValue) + ')'\n",
    "        \n",
    "    def __str__(self):\n",
    "        return str(self.mValue)\n",
    "    \n",
    "    def __eq__(self, other):\n",
    "        if other == None:\n",
    "            return False\n",
    "        return self.mValue == other.mValue\n",
    "    \n",
    "    def __lt__(self, other):\n",
    "        return self.mValue < other.mValue"
   ]
  },
  {
   "cell_type": "code",
   "execution_count": null,
   "metadata": {},
   "outputs": [],
   "source": [
    "import string"
   ]
  },
  {
   "cell_type": "code",
   "execution_count": null,
   "metadata": {},
   "outputs": [],
   "source": [
    "def demo1():\n",
    "    L = [ (i, Node(c)) for i, c in enumerate(string.ascii_lowercase) ]\n",
    "    _, w = L[22] \n",
    "    H = []\n",
    "    for i, x in enumerate(L):\n",
    "        insert(H, x)\n",
    "    display(heapToDot(H))\n",
    "    print('Elevating \"w\" to priority 2:')\n",
    "    elevate(H, w, 2)\n",
    "    display(heapToDot(H))"
   ]
  },
  {
   "cell_type": "code",
   "execution_count": null,
   "metadata": {},
   "outputs": [],
   "source": [
    "demo1()"
   ]
  },
  {
   "cell_type": "code",
   "execution_count": null,
   "metadata": {},
   "outputs": [],
   "source": [
    "import random as rnd"
   ]
  },
  {
   "cell_type": "code",
   "execution_count": null,
   "metadata": {},
   "outputs": [],
   "source": [
    "def heap_sort(L):\n",
    "    H = []\n",
    "    for x in L:\n",
    "        insert(H, x)\n",
    "    display(heapToDot(H))\n",
    "    S = []\n",
    "    while H != []:\n",
    "        p, _ = remove(H)\n",
    "        display(heapToDot(H))\n",
    "        S.append(p)\n",
    "    return S"
   ]
  },
  {
   "cell_type": "code",
   "execution_count": null,
   "metadata": {},
   "outputs": [],
   "source": [
    "def demo2():\n",
    "    L = [ rnd.randrange(1, 200) for n in range(12) ]\n",
    "    L = [ (n, Node(n)) for n in L ]\n",
    "    print(\"L = \", L)\n",
    "    S = heap_sort(L)\n",
    "    print(\"S = \", S)"
   ]
  },
  {
   "cell_type": "code",
   "execution_count": null,
   "metadata": {
    "scrolled": false
   },
   "outputs": [],
   "source": [
    "demo2()"
   ]
  },
  {
   "cell_type": "code",
   "execution_count": null,
   "metadata": {},
   "outputs": [],
   "source": []
  }
 ],
 "metadata": {
  "kernelspec": {
   "display_name": "Python 3",
   "language": "python",
   "name": "python3"
  },
  "language_info": {
   "codemirror_mode": {
    "name": "ipython",
    "version": 3
   },
   "file_extension": ".py",
   "mimetype": "text/x-python",
   "name": "python",
   "nbconvert_exporter": "python",
   "pygments_lexer": "ipython3",
   "version": "3.9.4"
  },
  "varInspector": {
   "cols": {
    "lenName": 16,
    "lenType": 16,
    "lenVar": 40
   },
   "kernels_config": {
    "python": {
     "delete_cmd_postfix": "",
     "delete_cmd_prefix": "del ",
     "library": "var_list.py",
     "varRefreshCmd": "print(var_dic_list())"
    },
    "r": {
     "delete_cmd_postfix": ") ",
     "delete_cmd_prefix": "rm(",
     "library": "var_list.r",
     "varRefreshCmd": "cat(var_dic_list()) "
    }
   },
   "types_to_exclude": [
    "module",
    "function",
    "builtin_function_or_method",
    "instance",
    "_Feature"
   ],
   "window_display": false
  }
 },
 "nbformat": 4,
 "nbformat_minor": 2
}
