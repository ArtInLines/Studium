{
 "cells": [
  {
   "cell_type": "code",
   "execution_count": null,
   "metadata": {},
   "outputs": [],
   "source": [
    "from IPython.core.display import HTML\n",
    "with open('../style.css') as file:\n",
    "    css = file.read()\n",
    "HTML(css)"
   ]
  },
  {
   "cell_type": "markdown",
   "metadata": {},
   "source": [
    "# Topological Sorting"
   ]
  },
  {
   "cell_type": "markdown",
   "metadata": {},
   "source": [
    "The function `topo_sort` implements <em style=\"color:blue\">Kahn's algorithm</em> for \n",
    "<em style=\"color:blue\">topological sorting</em>.\n",
    "- The first argument `T` is the set of the nodes of the directed graph.\n",
    "- The second argument `D` is the set of the edges. Edges are represented as pairs.\n",
    "\n",
    "The function returns a list `Sorted` that contains all nodes of $T$.  If\n",
    "`Sorted[i] = x`, `Sorted[j] = y`, and `(x, y) in D`,\n",
    "then we must have `i < j`."
   ]
  },
  {
   "cell_type": "code",
   "execution_count": null,
   "metadata": {},
   "outputs": [],
   "source": [
    "def topo_sort(T, D):\n",
    "    Parents  = { t: set() for t in T }  # dictionary of parents\n",
    "    Children = { t: set() for t in T }  # dictionary of children\n",
    "    for s, t in D:\n",
    "        Children[s].add(t)\n",
    "        Parents [t].add(s)\n",
    "    Orphans = { t for (t, P) in Parents.items() if len(P) == 0 }\n",
    "    Sorted  = []\n",
    "    count   = 0\n",
    "    Order   = {}\n",
    "    while len(T) > 0:\n",
    "        assert Orphans != set(), 'The graph is cyclic!'\n",
    "        t        = Orphans.pop()\n",
    "        Order[t] = count\n",
    "        count   += 1\n",
    "        Orphans -= { t }\n",
    "        T       -= { t }\n",
    "        Sorted.append(t)\n",
    "        for s in Children[t]:\n",
    "            Parents[s] -= { t }\n",
    "            if Parents[s] == set():\n",
    "                Orphans.add(s)\n",
    "    return Sorted"
   ]
  },
  {
   "cell_type": "code",
   "execution_count": null,
   "metadata": {},
   "outputs": [],
   "source": [
    "def topo_sort(T, D):\n",
    "    print('_' * 100)        \n",
    "    display(toDot(D))\n",
    "    Parents  = { t: set() for t in T }  # dictionary of parents\n",
    "    Children = { t: set() for t in T }  # dictionary of children\n",
    "    for s, t in D:\n",
    "        Children[s].add(t)\n",
    "        Parents [t].add(s)\n",
    "    Orphans = { t for (t, P) in Parents.items() if len(P) == 0 }\n",
    "    Sorted  = []\n",
    "    count   = 0\n",
    "    Order   = {}\n",
    "    while len(T) > 0:\n",
    "        assert Orphans != set(), 'The graph is cyclic!'\n",
    "        t        = Orphans.pop()\n",
    "        Order[t] = count\n",
    "        count   += 1\n",
    "        Orphans -= { t }\n",
    "        T       -= { t }\n",
    "        Sorted.append(t)\n",
    "        for s in Children[t]:\n",
    "            Parents[s] -= { t }\n",
    "            if Parents[s] == set():\n",
    "                Orphans.add(s)\n",
    "        print('_' * 80)        \n",
    "        display(toDot(D, Order))     \n",
    "    return Sorted"
   ]
  },
  {
   "cell_type": "markdown",
   "metadata": {},
   "source": [
    "# Graphical Representation"
   ]
  },
  {
   "cell_type": "code",
   "execution_count": null,
   "metadata": {},
   "outputs": [],
   "source": [
    "import graphviz as gv"
   ]
  },
  {
   "cell_type": "markdown",
   "metadata": {},
   "source": [
    "The function `toDot(Edges, Order)` takes two arguments:\n",
    "- `Edges` is a set of pairs of the form `(x, y)` where `x` and `y` are nodes of a graph\n",
    "  and `(x, y)` is a directed edge from `x`to `y`.\n",
    "- `Order` is a dictionary assigning natural numbers to some of the nodes.\n",
    "\n",
    "The set of edges is displayed as a directed graph and for those nodes `x` such that `Order[x]` is defined, both `x` and the label `Order[x]` is depicted."
   ]
  },
  {
   "cell_type": "code",
   "execution_count": null,
   "metadata": {},
   "outputs": [],
   "source": [
    "def toDot(Edges, Order={}):\n",
    "    V = set()\n",
    "    for x, y in Edges:\n",
    "        V.add(x)\n",
    "        V.add(y)\n",
    "    dot = gv.Digraph(node_attr={'shape': 'record', 'style': 'rounded'})\n",
    "    dot.attr(rankdir='LR', size='8,5')\n",
    "    for x in V:\n",
    "        o = Order.get(x, None)\n",
    "        if o != None:\n",
    "            dot.node(str(x), label='{' + str(x) + '|' + str(o) + '}')\n",
    "        else:\n",
    "            dot.node(str(x))\n",
    "    for u, v in Edges:\n",
    "        dot.edge(str(u), str(v))\n",
    "    return dot"
   ]
  },
  {
   "cell_type": "markdown",
   "metadata": {},
   "source": [
    "# Testing"
   ]
  },
  {
   "cell_type": "code",
   "execution_count": null,
   "metadata": {},
   "outputs": [],
   "source": [
    "def demo():\n",
    "    T = { 5, 7, 3, 11, 8, 2, 9, 10 }\n",
    "    D = { (5, 11), (7, 11), (7, 8), (3, 8), (3, 10), (11, 2), (11, 9), (11, 10), (8, 9) }\n",
    "    S = topo_sort(T, D)\n",
    "    print(S)"
   ]
  },
  {
   "cell_type": "code",
   "execution_count": null,
   "metadata": {
    "scrolled": false
   },
   "outputs": [],
   "source": [
    "demo()"
   ]
  },
  {
   "cell_type": "code",
   "execution_count": null,
   "metadata": {},
   "outputs": [],
   "source": []
  }
 ],
 "metadata": {
  "kernelspec": {
   "display_name": "Python 3",
   "language": "python",
   "name": "python3"
  },
  "language_info": {
   "codemirror_mode": {
    "name": "ipython",
    "version": 3
   },
   "file_extension": ".py",
   "mimetype": "text/x-python",
   "name": "python",
   "nbconvert_exporter": "python",
   "pygments_lexer": "ipython3",
   "version": "3.9.4"
  }
 },
 "nbformat": 4,
 "nbformat_minor": 2
}
