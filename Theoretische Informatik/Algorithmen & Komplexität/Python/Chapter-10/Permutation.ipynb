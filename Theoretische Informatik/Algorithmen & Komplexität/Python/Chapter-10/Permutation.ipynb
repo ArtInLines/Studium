{
 "cells": [
  {
   "cell_type": "code",
   "execution_count": 1,
   "metadata": {},
   "outputs": [
    {
     "data": {
      "text/html": [
       "<style>.container { width:100%; !important } </style>"
      ],
      "text/plain": [
       "<IPython.core.display.HTML object>"
      ]
     },
     "metadata": {},
     "output_type": "display_data"
    }
   ],
   "source": [
    "#%autosave 0\n",
    "from IPython.core.display import HTML, display\n",
    "display(HTML('<style>.container { width:100%; !important } </style>'))"
   ]
  },
  {
   "cell_type": "markdown",
   "metadata": {},
   "source": [
    "# Generating Random Permutations"
   ]
  },
  {
   "cell_type": "code",
   "execution_count": 2,
   "metadata": {},
   "outputs": [],
   "source": [
    "import random as rnd"
   ]
  },
  {
   "cell_type": "code",
   "execution_count": 3,
   "metadata": {},
   "outputs": [],
   "source": [
    "def permute(L):\n",
    "    if len(L) == 1:\n",
    "        return L\n",
    "    k = rnd.randint(0, len(L)-1)\n",
    "    return permute(L[:k] + L[k+1:]) + [L[k]]"
   ]
  },
  {
   "cell_type": "code",
   "execution_count": 4,
   "metadata": {},
   "outputs": [
    {
     "name": "stdout",
     "output_type": "stream",
     "text": [
      "[2, 1, 4, 5, 3]\n",
      "[3, 1, 5, 2, 4]\n",
      "[4, 3, 5, 1, 2]\n",
      "[3, 2, 4, 5, 1]\n",
      "[1, 4, 2, 3, 5]\n",
      "[5, 4, 1, 2, 3]\n",
      "[5, 2, 1, 4, 3]\n",
      "[4, 3, 1, 5, 2]\n",
      "[5, 4, 3, 1, 2]\n",
      "[5, 2, 4, 3, 1]\n",
      "[4, 5, 3, 1, 2]\n",
      "[3, 4, 2, 5, 1]\n",
      "[1, 3, 5, 2, 4]\n",
      "[3, 2, 1, 4, 5]\n",
      "[2, 3, 4, 1, 5]\n",
      "[5, 1, 4, 3, 2]\n",
      "[5, 4, 2, 1, 3]\n",
      "[1, 4, 5, 3, 2]\n",
      "[1, 2, 5, 3, 4]\n",
      "[2, 3, 1, 5, 4]\n"
     ]
    }
   ],
   "source": [
    "for _ in range(20):\n",
    "    print(permute([1,2,3,4,5]))"
   ]
  },
  {
   "cell_type": "markdown",
   "metadata": {},
   "source": [
    "# Case Study: Computation of Probabilities in Poker "
   ]
  },
  {
   "cell_type": "markdown",
   "metadata": {},
   "source": [
    "This notebook shows how to compute probabilities in \n",
    "<A href=\"https://en.wikipedia.org/wiki/Texas_hold_%27em\">Texas Hold'em Poker</A>.  Texas Hold'em is played with a deck of 52 cards.  The cards have 13 different *values* and four different *suits*.  The values are:"
   ]
  },
  {
   "cell_type": "code",
   "execution_count": 5,
   "metadata": {
    "code_folding": []
   },
   "outputs": [],
   "source": [
    "Values = { \"2\", \"3\", \"4\", \"5\", \"6\", \"7\", \"8\", \"9\", \"T\", \n",
    "           \"J\", \"Q\", \"K\", \"A\" \n",
    "         }"
   ]
  },
  {
   "cell_type": "markdown",
   "metadata": {},
   "source": [
    "The four *suits* are *clubs*, *hearts*, *diamonds*, and *spades*.  We represent these suits by their first letter:"
   ]
  },
  {
   "cell_type": "code",
   "execution_count": 6,
   "metadata": {},
   "outputs": [],
   "source": [
    "Suits = { \"c\", \"h\", \"d\", \"s\" }"
   ]
  },
  {
   "cell_type": "markdown",
   "metadata": {},
   "source": [
    "Now the *deck* of cards is convieniently represented by the Cartesian product of the two sets <tt>Values</tt> and <tt>Suits</tt>."
   ]
  },
  {
   "cell_type": "code",
   "execution_count": 7,
   "metadata": {},
   "outputs": [],
   "source": [
    "Deck = { (v, s) for v in Values for s in Suits }"
   ]
  },
  {
   "cell_type": "markdown",
   "metadata": {},
   "source": [
    "Let's assume you have been dealt the three of clubs and the three of spades.  In Texas Hold'em, the hand dealt to a player at the beginning is called the *hole*, so we have:"
   ]
  },
  {
   "cell_type": "code",
   "execution_count": 8,
   "metadata": {},
   "outputs": [],
   "source": [
    "Hole = { ('3', 'c'), ('3', 's') }"
   ]
  },
  {
   "cell_type": "markdown",
   "metadata": {},
   "source": [
    "The remaining cards are all other cards, lets call them <tt>rest</tt>:"
   ]
  },
  {
   "cell_type": "code",
   "execution_count": 9,
   "metadata": {},
   "outputs": [],
   "source": [
    "Rest = Deck - Hole"
   ]
  },
  {
   "cell_type": "code",
   "execution_count": 10,
   "metadata": {},
   "outputs": [
    {
     "data": {
      "text/plain": [
       "2118760.0"
      ]
     },
     "execution_count": 10,
     "metadata": {},
     "output_type": "execute_result"
    }
   ],
   "source": [
    "50 * 49 * 48 * 47 * 46 / (1 * 2 * 3 * 4 * 5)"
   ]
  },
  {
   "cell_type": "markdown",
   "metadata": {},
   "source": [
    "We are interested in the probability that on the *river* you will improve your hand to *four of a kind*.  As there are 5 cards that will be dealt,\n",
    "three cards in the *flop*, the *turn*, and the *river*, there are \n",
    "$$ (50 \\cdot 49 \\cdot 48 \\cdot 47 \\cdot 46) / (1 \\cdot 2 \\cdot 3 \\cdot 4 \\cdot 5) = 2\\,118\\,760 $$\n",
    "possibilities for these cards.  Let's pretend that we do not have enough main memory to store all these different possibilities.  Instead, we want to run a Monte-Carlo Simulation."
   ]
  },
  {
   "cell_type": "code",
   "execution_count": 11,
   "metadata": {},
   "outputs": [],
   "source": [
    "def get_four_of_a_kind(n, Rest, v):\n",
    "    no_four_of_a_kind = 0\n",
    "    Rest = list(Rest)\n",
    "    for _ in range(n):\n",
    "        Rest  = permute(Rest)\n",
    "        Cards = Hole | set(Rest[:5])\n",
    "        if len({ card for card in Cards if card[0] == v }) == 4:\n",
    "            no_four_of_a_kind += 1\n",
    "    return no_four_of_a_kind / n"
   ]
  },
  {
   "cell_type": "code",
   "execution_count": 12,
   "metadata": {},
   "outputs": [
    {
     "name": "stdout",
     "output_type": "stream",
     "text": [
      "CPU times: user 1min 28s, sys: 309 ms, total: 1min 28s\n",
      "Wall time: 1min 29s\n"
     ]
    },
    {
     "data": {
      "text/plain": [
       "0.00802"
      ]
     },
     "execution_count": 12,
     "metadata": {},
     "output_type": "execute_result"
    }
   ],
   "source": [
    "%%time\n",
    "get_four_of_a_kind(1000000, Rest, '3')"
   ]
  },
  {
   "cell_type": "markdown",
   "metadata": {},
   "source": []
  }
 ],
 "metadata": {
  "kernelspec": {
   "display_name": "Python 3",
   "language": "python",
   "name": "python3"
  },
  "language_info": {
   "codemirror_mode": {
    "name": "ipython",
    "version": 3
   },
   "file_extension": ".py",
   "mimetype": "text/x-python",
   "name": "python",
   "nbconvert_exporter": "python",
   "pygments_lexer": "ipython3",
   "version": "3.6.7"
  },
  "toc": {
   "base_numbering": 1,
   "nav_menu": {},
   "number_sections": true,
   "sideBar": true,
   "skip_h1_title": false,
   "title_cell": "Table of Contents",
   "title_sidebar": "Contents",
   "toc_cell": false,
   "toc_position": {
    "height": "780px",
    "left": "426px",
    "top": "111.66666412353516px",
    "width": "175px"
   },
   "toc_section_display": true,
   "toc_window_display": true
  },
  "varInspector": {
   "cols": {
    "lenName": 16,
    "lenType": 16,
    "lenVar": 40
   },
   "kernels_config": {
    "python": {
     "delete_cmd_postfix": "",
     "delete_cmd_prefix": "del ",
     "library": "var_list.py",
     "varRefreshCmd": "print(var_dic_list())"
    },
    "r": {
     "delete_cmd_postfix": ") ",
     "delete_cmd_prefix": "rm(",
     "library": "var_list.r",
     "varRefreshCmd": "cat(var_dic_list()) "
    }
   },
   "position": {
    "height": "282.6666564941406px",
    "left": "1050.6666259765625px",
    "right": "20px",
    "top": "83px",
    "width": "448px"
   },
   "types_to_exclude": [
    "module",
    "function",
    "builtin_function_or_method",
    "instance",
    "_Feature"
   ],
   "window_display": false
  }
 },
 "nbformat": 4,
 "nbformat_minor": 2
}
