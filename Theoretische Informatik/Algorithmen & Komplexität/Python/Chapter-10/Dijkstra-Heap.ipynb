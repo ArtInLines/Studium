{
 "cells": [
  {
   "cell_type": "code",
   "execution_count": null,
   "metadata": {},
   "outputs": [],
   "source": [
    "from IPython.core.display import HTML\n",
    "with open('../style.css') as file:\n",
    "    css = file.read()\n",
    "HTML(css)"
   ]
  },
  {
   "cell_type": "markdown",
   "metadata": {},
   "source": [
    "# Dijkstra's Shortest Path Algorithm"
   ]
  },
  {
   "cell_type": "code",
   "execution_count": null,
   "metadata": {},
   "outputs": [],
   "source": [
    "%run Heap-Array.ipynb"
   ]
  },
  {
   "cell_type": "code",
   "execution_count": null,
   "metadata": {},
   "outputs": [],
   "source": [
    "def shortest_path(source, Edges):\n",
    "    Distance = { source: 0 }\n",
    "    Visited  = { source }  # this set is only needed for visualization\n",
    "    Fringe   = []          # priority queue, organized as array based heap\n",
    "    insert(Fringe, (0, source))\n",
    "    while Fringe != []:\n",
    "        display(heapToDot(Fringe))\n",
    "        d, u = remove(Fringe)\n",
    "        display(toDot(source, u, Edges, Fringe, Distance, Visited))\n",
    "        print('_' * 80)\n",
    "        for v, l in Edges[u]:\n",
    "            dv = Distance.get(v, None)\n",
    "            if dv == None or d + l < dv:\n",
    "                if dv != None:\n",
    "                    elevate(Fringe, v, d + l)\n",
    "                else:\n",
    "                    insert(Fringe, (d + l, v))\n",
    "                Distance[v] = d + l\n",
    "        Visited |= { u }\n",
    "    display(toDot(source, None, Edges, Fringe, Distance, Visited))\n",
    "    return Distance"
   ]
  },
  {
   "cell_type": "markdown",
   "metadata": {},
   "source": [
    "## Code to Display the Directed Graph"
   ]
  },
  {
   "cell_type": "code",
   "execution_count": null,
   "metadata": {},
   "outputs": [],
   "source": [
    "import graphviz as gv"
   ]
  },
  {
   "cell_type": "markdown",
   "metadata": {},
   "source": [
    "The function $\\texttt{toDot}(\\texttt{source}, \\texttt{Edges}, \\texttt{Fringe}, \\texttt{Distance}, \\texttt{Visited})$ takes a graph that is represented by \n",
    "its `Edges`, a set of nodes `Fringe`, and a dictionary `Distance` that has the distance of a node from the node `source`,  and set `Visited` of nodes that have already been visited."
   ]
  },
  {
   "cell_type": "code",
   "execution_count": null,
   "metadata": {},
   "outputs": [],
   "source": [
    "def toDot(source, p, Edges, Fringe, Distance, Visited):\n",
    "    V = set()\n",
    "    for x in Edges.keys():\n",
    "        V.add(x)\n",
    "    dot = gv.Digraph(node_attr={'shape': 'record', 'style': 'rounded'})\n",
    "    dot.attr(rankdir='LR', size='8,5')\n",
    "    for x in V:\n",
    "        if x == source:\n",
    "            dot.node(str(x), color='blue', shape='doublecircle')\n",
    "        else:\n",
    "            d = str(Distance.get(x, ''))\n",
    "            if x == p:\n",
    "                dot.node(str(x), label='{' + str(x) + '|' + d + '}', color='magenta')\n",
    "            elif x in Distance and (Distance[x], x) in Fringe:\n",
    "                dot.node(str(x), label='{' + str(x) + '|' + d + '}', color='red')\n",
    "            elif x in Visited:\n",
    "                dot.node(str(x), label='{' + str(x) + '|' + d + '}', color='blue')\n",
    "            else:\n",
    "                dot.node(str(x), label='{' + str(x) + '|' + d + '}')\n",
    "    for u in V:\n",
    "        for v, l in Edges[u]:\n",
    "            dot.edge(str(u), str(v), label=str(l))\n",
    "    return dot"
   ]
  },
  {
   "cell_type": "markdown",
   "metadata": {},
   "source": [
    "## Code for Testing"
   ]
  },
  {
   "cell_type": "code",
   "execution_count": null,
   "metadata": {},
   "outputs": [],
   "source": [
    "a = Node('a')\n",
    "b = Node('b')\n",
    "c = Node('c')\n",
    "d = Node('d')\n",
    "e = Node('e')\n",
    "f = Node('f')\n",
    "g = Node('g')\n",
    "h = Node('h')"
   ]
  },
  {
   "cell_type": "code",
   "execution_count": null,
   "metadata": {},
   "outputs": [],
   "source": [
    "Edges = { a: [ (c, 2), (b, 9)], \n",
    "          b: [(d, 1)],\n",
    "          c: [(e, 5), (g, 3)],  \n",
    "          d: [(f, 2), (e, 4)],  \n",
    "          e: [(f, 1), (b, 2)],\n",
    "          f: [(h, 5)],\n",
    "          g: [(e, 1)],\n",
    "          h: []\n",
    "        }"
   ]
  },
  {
   "cell_type": "code",
   "execution_count": null,
   "metadata": {
    "scrolled": false
   },
   "outputs": [],
   "source": [
    "sp = shortest_path(a, Edges)\n",
    "sp"
   ]
  },
  {
   "cell_type": "markdown",
   "metadata": {},
   "source": [
    "# Crossing the Tunnel"
   ]
  },
  {
   "cell_type": "markdown",
   "metadata": {},
   "source": [
    "Four persons, Alice, Britney, Charly and Daniel have to cross a tunnel.\n",
    "The tunnel is so narrow, that at most two persons can cross it together.\n",
    "In order to cross the tunnel, a torch is needed.  Together, they only\n",
    "have a single torch.\n",
    "  1. Alice   is the fastest and can cross the tunnel in 1 minute.\n",
    "  2. Britney needs 2 minutes to cross the tunnel.\n",
    "  3. Charly  is slower and needs 4 minutes.\n",
    "  4. Daniel  is slowest and takes 5 minutes to cross the tunnel.\n",
    "  \n",
    "What is the fastest plan to cross the tunnel?"
   ]
  },
  {
   "cell_type": "code",
   "execution_count": null,
   "metadata": {},
   "outputs": [],
   "source": [
    "All  = frozenset({ 'Alice', 'Britney', 'Charly', 'Daniel', 'Torch' })\n",
    "Time = { 'Alice': 1, 'Britney': 2, 'Charly': 4, 'Daniel': 5, 'Torch': 0 }"
   ]
  },
  {
   "cell_type": "markdown",
   "metadata": {},
   "source": [
    "The function $\\texttt{power}(M)$ defined below computes the power list of the set $M$, i.e. we have:\n",
    "$$ \\texttt{power}(M) = 2^M = \\bigl\\{A \\mid A \\subseteq M \\bigr\\} $$"
   ]
  },
  {
   "cell_type": "code",
   "execution_count": null,
   "metadata": {},
   "outputs": [],
   "source": [
    "def power(M):\n",
    "    if M == set():\n",
    "        return { frozenset() }\n",
    "    else:\n",
    "        C  = set(M)  # C is a copy of M as we don't want to change the set M\n",
    "        x  = C.pop() # pop removes the element x from the set C\n",
    "        P1 = power(C)\n",
    "        P2 = { A | {x} for A in P1 }\n",
    "        return P1 | P2"
   ]
  },
  {
   "cell_type": "markdown",
   "metadata": {},
   "source": [
    "If $B$ is a set of persons, then $\\texttt{duration}(B)$ is the time that this group needs to cross the tunnel.\n",
    "$B$ also contains `'Torch'`."
   ]
  },
  {
   "cell_type": "code",
   "execution_count": null,
   "metadata": {},
   "outputs": [],
   "source": [
    "NodeDict = { S: Node(S) for S in power(All) }"
   ]
  },
  {
   "cell_type": "code",
   "execution_count": null,
   "metadata": {},
   "outputs": [],
   "source": [
    "def duration(B):\n",
    "    return max(Time[x] for x in B)"
   ]
  },
  {
   "cell_type": "markdown",
   "metadata": {},
   "source": [
    "$\\texttt{left_right}(S)$ describes a crossing of the tunnel from left to right."
   ]
  },
  {
   "cell_type": "code",
   "execution_count": null,
   "metadata": {},
   "outputs": [],
   "source": [
    "def left_right(S):\n",
    "    return [(NodeDict[S - B], duration(B)) for B in power(S) if 'Torch' in B and 2 <= len(B) <= 3]"
   ]
  },
  {
   "cell_type": "markdown",
   "metadata": {},
   "source": [
    "$\\texttt{right_left}(S)$ describes a crossing of the tunnel from right to left."
   ]
  },
  {
   "cell_type": "code",
   "execution_count": null,
   "metadata": {},
   "outputs": [],
   "source": [
    "def right_left(S):\n",
    "    return [(NodeDict[S | B], duration(B)) for B in power(All - S) if 'Torch' in B and 2 <= len(B) <= 3]"
   ]
  },
  {
   "cell_type": "code",
   "execution_count": null,
   "metadata": {},
   "outputs": [],
   "source": [
    "Edges = { Node(S): left_right(S) + right_left(S) for S in power(All) }\n",
    "len(Edges)"
   ]
  },
  {
   "cell_type": "markdown",
   "metadata": {},
   "source": [
    "The function `shortest_path` is Dikstra's algorithm.  It returns both a dictionary containing the parents and a dictionary \n",
    "with the distances."
   ]
  },
  {
   "cell_type": "code",
   "execution_count": null,
   "metadata": {},
   "outputs": [],
   "source": [
    "def shortest_path(source, Edges):\n",
    "    Distance = { source: 0 }\n",
    "    Parent   = {}\n",
    "    Fringe   = []\n",
    "    insert(Fringe, (0, source) )\n",
    "    while Fringe != []:\n",
    "        d, u = remove(Fringe)\n",
    "        for v, l in Edges[u]:\n",
    "            dv = Distance.get(v, None)\n",
    "            if dv == None or d + l < dv:\n",
    "                if dv != None:\n",
    "                    elevate(Fringe, v, d + l)\n",
    "                else:\n",
    "                    insert(Fringe, (d + l, v))\n",
    "                Distance[v] = d + l\n",
    "                Parent[v] = u\n",
    "    return Parent, Distance"
   ]
  },
  {
   "cell_type": "code",
   "execution_count": null,
   "metadata": {},
   "outputs": [],
   "source": [
    "start = Node(frozenset(All))"
   ]
  },
  {
   "cell_type": "code",
   "execution_count": null,
   "metadata": {},
   "outputs": [],
   "source": [
    "Parent, Distance = shortest_path(start, Edges)"
   ]
  },
  {
   "cell_type": "markdown",
   "metadata": {},
   "source": [
    "Let us see whether the goal was reachable and how long it takes to reach the goal."
   ]
  },
  {
   "cell_type": "code",
   "execution_count": null,
   "metadata": {},
   "outputs": [],
   "source": [
    "goal = NodeDict[frozenset()]\n",
    "Distance[goal]"
   ]
  },
  {
   "cell_type": "markdown",
   "metadata": {},
   "source": [
    "Given to nodes `source` and `goal` and a dictionary containing the parent of every node, the function\n",
    "`find_path` returns the path from `source` to `goal`."
   ]
  },
  {
   "cell_type": "code",
   "execution_count": null,
   "metadata": {},
   "outputs": [],
   "source": [
    "def find_path(source, goal, Parent):\n",
    "    p = Parent.get(goal)\n",
    "    if p == None:\n",
    "        return [source]\n",
    "    return find_path(source, p, Parent) + [goal]"
   ]
  },
  {
   "cell_type": "code",
   "execution_count": null,
   "metadata": {},
   "outputs": [],
   "source": [
    "Path = [x.mValue for x in find_path(NodeDict[frozenset(All)], NodeDict[frozenset()], Parent)]"
   ]
  },
  {
   "cell_type": "code",
   "execution_count": null,
   "metadata": {},
   "outputs": [],
   "source": [
    "def print_path():\n",
    "    total = 0\n",
    "    print(\"_\" * 81);\n",
    "    for i in range(len(Path)):\n",
    "        Left  = set(Path[i])\n",
    "        Right = set(All) - set(Left)\n",
    "        if Left == set() or Right == set():\n",
    "            print(Left, \" \" * 25, Right)\n",
    "        else:\n",
    "            print(Left, \" \" * 30, Right)\n",
    "        print(\"_\" * 81);\n",
    "        if i < len(Path) - 1:\n",
    "            if \"Torch\" in Path[i]:\n",
    "                Diff = set(Path[i]) - set(Path[i+1])\n",
    "                time = duration(Diff)\n",
    "                total += time\n",
    "                print(\" \" * 20, \">>> \", Diff, ':', time, \" >>>\")\n",
    "            else:\n",
    "                Diff = set(Path[i+1]) - set(Path[i])\n",
    "                time = duration(Diff)\n",
    "                total += time\n",
    "                print(\" \" * 20, \"<<< \", Diff, ':', time, \" <<<\")\n",
    "            print(\"_\" * 81)\n",
    "    print('Total time:', total, 'minutes.')"
   ]
  },
  {
   "cell_type": "code",
   "execution_count": null,
   "metadata": {},
   "outputs": [],
   "source": [
    "print_path()"
   ]
  },
  {
   "cell_type": "code",
   "execution_count": null,
   "metadata": {},
   "outputs": [],
   "source": []
  }
 ],
 "metadata": {
  "hide_input": false,
  "kernelspec": {
   "display_name": "Python 3",
   "language": "python",
   "name": "python3"
  },
  "language_info": {
   "codemirror_mode": {
    "name": "ipython",
    "version": 3
   },
   "file_extension": ".py",
   "mimetype": "text/x-python",
   "name": "python",
   "nbconvert_exporter": "python",
   "pygments_lexer": "ipython3",
   "version": "3.9.4"
  },
  "latex_envs": {
   "LaTeX_envs_menu_present": true,
   "autoclose": false,
   "autocomplete": true,
   "bibliofile": "biblio.bib",
   "cite_by": "apalike",
   "current_citInitial": 1,
   "eqLabelWithNumbers": true,
   "eqNumInitial": 1,
   "hotkeys": {
    "equation": "Ctrl-E",
    "itemize": "Ctrl-I"
   },
   "labels_anchors": false,
   "latex_user_defs": false,
   "report_style_numbering": false,
   "user_envs_cfg": false
  },
  "toc": {
   "base_numbering": 1,
   "nav_menu": {},
   "number_sections": true,
   "sideBar": true,
   "skip_h1_title": false,
   "title_cell": "Table of Contents",
   "title_sidebar": "Contents",
   "toc_cell": false,
   "toc_position": {},
   "toc_section_display": true,
   "toc_window_display": false
  },
  "varInspector": {
   "cols": {
    "lenName": 16,
    "lenType": 16,
    "lenVar": 40
   },
   "kernels_config": {
    "python": {
     "delete_cmd_postfix": "",
     "delete_cmd_prefix": "del ",
     "library": "var_list.py",
     "varRefreshCmd": "print(var_dic_list())"
    },
    "r": {
     "delete_cmd_postfix": ") ",
     "delete_cmd_prefix": "rm(",
     "library": "var_list.r",
     "varRefreshCmd": "cat(var_dic_list()) "
    }
   },
   "types_to_exclude": [
    "module",
    "function",
    "builtin_function_or_method",
    "instance",
    "_Feature"
   ],
   "window_display": false
  }
 },
 "nbformat": 4,
 "nbformat_minor": 2
}
