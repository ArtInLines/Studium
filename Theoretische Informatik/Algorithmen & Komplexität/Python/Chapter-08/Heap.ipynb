{
 "cells": [
  {
   "cell_type": "code",
   "execution_count": null,
   "metadata": {},
   "outputs": [],
   "source": [
    "from IPython.core.display import HTML\n",
    "with open('../style.css') as file:\n",
    "    css = file.read()\n",
    "HTML(css)"
   ]
  },
  {
   "cell_type": "markdown",
   "metadata": {},
   "source": [
    "# Implementing Priority Queues as Heaps"
   ]
  },
  {
   "cell_type": "markdown",
   "metadata": {},
   "source": [
    "Ths notebook presents <em style=\"color:blue\">heaps</em>.  We define the set $\\mathcal{H}$ of heaps by induction:\n",
    "\n",
    "  - $\\texttt{Nil} \\in \\mathcal{H}$.\n",
    "  - $\\texttt{Node}(p,v,l,r) \\in \\mathcal{H}$ if and only if the following is true:\n",
    "      - $p \\leq l \\;\\wedge\\; p \\leq r$\n",
    "\n",
    "        The priority stored at the root is less than or equal to every other priority stored in\n",
    "        the heap. This condition is known as the <em style=\"color:blue\">heap condition</em>.\n",
    "        \n",
    "        It is important to remember that we associate <em style=\"color:blue\">high</em> priorities\n",
    "        with <em style=\"color:blue\">small</em> numbers.\n",
    "      - $\\mid l.\\texttt{count}() - r.\\texttt{count}() \\mid \\;\\leq\\, 1$\n",
    "\n",
    "        The number of elements in the left subtree differs from the number of elements stored in\n",
    "        the right subtree by at most one.\n",
    "        This condition is known as the  <em style=\"color:blue;\">balancing condition</em>.  \n",
    "      - $l \\in \\mathcal{H} \\;\\wedge\\; r \\in \\mathcal{H}$\n",
    "      \n",
    "        Both the left and the right subtree of a heap are heaps."
   ]
  },
  {
   "cell_type": "markdown",
   "metadata": {},
   "source": [
    "The class `Heap` is a *superclass* for constructing heaps.  We will later define the classes `Nil` and `Node` that represent heaps of the form $\\texttt{Nil}$ and $\\texttt{Node}(p, v, l, r)$ respectively. The class `Heap` has one static variable `sNodeCount` which is needed to assign unique identifiers to different nodes.  Every object of class `Heap` has a uniques identifier `mID` that is stored as a member variable.  This identifier is used by `graphviz`.  In order to generate new identifiers we use the static variable `sNodeCount` as a counter."
   ]
  },
  {
   "cell_type": "code",
   "execution_count": null,
   "metadata": {},
   "outputs": [],
   "source": [
    "class Heap:\n",
    "    sNodeCount = 0\n",
    "    \n",
    "    def __init__(self):\n",
    "        Heap.sNodeCount += 1\n",
    "        self.mID = str(Heap.sNodeCount)\n",
    "        \n",
    "    def getID(self):\n",
    "        return self.mID  # used only by graphviz"
   ]
  },
  {
   "cell_type": "markdown",
   "metadata": {},
   "source": [
    "The function `make_string` is a helper function that is used to simplify the implementation of the method `__str__`.\n",
    "  - `self` is the object that is to be rendered as a string\n",
    "  - `attributes` is a list of the names of those member variables of the object `self`         that are used to create the string that is returned."
   ]
  },
  {
   "cell_type": "code",
   "execution_count": null,
   "metadata": {},
   "outputs": [],
   "source": [
    "def _make_string(self, attributes):\n",
    "        # get the name of the class of the object self\n",
    "        name = self.__class__.__name__\n",
    "        # map the function __str__ to all attributes and join them with a comma\n",
    "        return f\"{name}({', '.join(map(str, [getattr(self, at) for at in attributes]))})\"\n",
    "    \n",
    "Heap._make_string = _make_string"
   ]
  },
  {
   "cell_type": "markdown",
   "metadata": {},
   "source": [
    "## Graphical Representation"
   ]
  },
  {
   "cell_type": "code",
   "execution_count": null,
   "metadata": {},
   "outputs": [],
   "source": [
    "import graphviz as gv"
   ]
  },
  {
   "cell_type": "markdown",
   "metadata": {},
   "source": [
    "The method $t.\\texttt{toDot}()$ takes a binary trie $t$ and returns a graph that depicts the tree $t$."
   ]
  },
  {
   "cell_type": "code",
   "execution_count": null,
   "metadata": {},
   "outputs": [],
   "source": [
    "def toDot(self):\n",
    "    dot = gv.Digraph(node_attr={'shape': 'record', 'style': 'rounded'})\n",
    "    nodeDict = {}\n",
    "    self._collectIDs(nodeDict)\n",
    "    for n, t in nodeDict.items():\n",
    "        if isinstance(t, Nil):\n",
    "            dot.node(n, label='', shape='point') \n",
    "        elif isinstance(t, Node):\n",
    "            if t.mValue != None:\n",
    "                dot.node(n, label='{' + str(t.mPriority) + '|' + str(t.mValue) + '}')\n",
    "            else:\n",
    "                dot.node(n, label= str(t.mPriority))\n",
    "        else:\n",
    "            assert False, f'Unknown node {t}'\n",
    "    for n, t in nodeDict.items():\n",
    "        if isinstance(t, Node):\n",
    "            dot.edge(n, t.mLeft .getID())\n",
    "            dot.edge(n, t.mRight.getID())\n",
    "    return dot\n",
    "\n",
    "Heap.toDot = toDot"
   ]
  },
  {
   "cell_type": "markdown",
   "metadata": {},
   "source": [
    "The method $t.\\texttt{collectIDs}(d)$ takes a binary trie $t$ and a dictionary $d$ and updates the dictionary so that the following holds:\n",
    "$$ d[\\texttt{id}] = n \\quad \\mbox{for every node $n$ in $t$.} $$\n",
    "Here, $\\texttt{id}$ is the unique identifier of the node $n$, i.e. $d$ associates the identifiers with the corresponding nodes."
   ]
  },
  {
   "cell_type": "code",
   "execution_count": null,
   "metadata": {},
   "outputs": [],
   "source": [
    "def _collectIDs(self, nodeDict):\n",
    "    nodeDict[self.getID()] = self\n",
    "    if isinstance(self, Node):\n",
    "        self.mLeft ._collectIDs(nodeDict)\n",
    "        self.mRight._collectIDs(nodeDict)\n",
    "        \n",
    "Heap._collectIDs = _collectIDs"
   ]
  },
  {
   "cell_type": "markdown",
   "metadata": {},
   "source": [
    "## Defining $\\texttt{Nil}$ and $\\texttt{Node}(p, v, l, r)$ as Classes"
   ]
  },
  {
   "cell_type": "markdown",
   "metadata": {},
   "source": [
    "The class `Nil` represents an empty heap.  "
   ]
  },
  {
   "cell_type": "code",
   "execution_count": null,
   "metadata": {},
   "outputs": [],
   "source": [
    "class Nil(Heap):\n",
    "    def _count(self):\n",
    "        return 0\n",
    "    \n",
    "    def __str__(self):\n",
    "        return 'Nil()'"
   ]
  },
  {
   "cell_type": "markdown",
   "metadata": {},
   "source": [
    "The class `Node` represents a heap of the form $\\texttt{Node}(p,v,l,r)$ where\n",
    "  - $p$ is the <em style=\"color:blue\">priority</em> stored as `mPriority`,\n",
    "  - $v$ is the <em style=\"color:blue\">value</em> stored as `mValue`,\n",
    "  - $l$ is the <em style=\"color:blue\">left subtree</em> stored as `mLeft`,\n",
    "  - $r$ is the <em style=\"color:blue\">right subtree</em> stored as `mRight`,\n",
    "  - The number of nodes is stored in the member variable `mCount`."
   ]
  },
  {
   "cell_type": "code",
   "execution_count": null,
   "metadata": {},
   "outputs": [],
   "source": [
    "class Node(Heap):\n",
    "    def __init__(self, priority, value, left, right):\n",
    "        Heap.__init__(self)\n",
    "        self.mPriority = priority\n",
    "        self.mValue    = value\n",
    "        self.mLeft     = left\n",
    "        self.mRight    = right\n",
    "        self.mCount    = left._count() + right._count() + 1\n",
    "        \n",
    "    def _extract(self):\n",
    "        return self.mPriority, self.mValue, self.mLeft, self.mRight\n",
    "    \n",
    "    def _count(self):\n",
    "        return self.mCount\n",
    "    \n",
    "    def __str__(self):\n",
    "        return _make_string(self, ['mPriority', 'mValue', 'mLeft', 'mRight'])"
   ]
  },
  {
   "cell_type": "markdown",
   "metadata": {},
   "source": [
    "## Implementing the Method  `top`"
   ]
  },
  {
   "cell_type": "markdown",
   "metadata": {},
   "source": [
    "For the class `Nil`, the function `top`is specified via a single equation:\n",
    " - $\\texttt{Nil}.\\texttt{top}() = \\Omega$"
   ]
  },
  {
   "cell_type": "code",
   "execution_count": null,
   "metadata": {},
   "outputs": [],
   "source": [
    "def top(self):\n",
    "    return None\n",
    "\n",
    "Nil.top = top\n",
    "del top"
   ]
  },
  {
   "cell_type": "markdown",
   "metadata": {},
   "source": [
    "For the class `Node`, the function `top` is specified via the following equation:\n",
    "- $\\texttt{Node}(p,v,l,r).\\texttt{top}() = (p,v)$"
   ]
  },
  {
   "cell_type": "code",
   "execution_count": null,
   "metadata": {},
   "outputs": [],
   "source": [
    "def top(self):\n",
    "    return self.mPriority, self.mValue\n",
    "\n",
    "Node.top = top\n",
    "del top"
   ]
  },
  {
   "cell_type": "markdown",
   "metadata": {},
   "source": [
    "## Implementing the method `insert`"
   ]
  },
  {
   "cell_type": "markdown",
   "metadata": {},
   "source": [
    " - $\\texttt{Nil}.\\texttt{insert}(p,v) = \\texttt{Node}(p,v,\\texttt{Nil}, \\texttt{Nil})$"
   ]
  },
  {
   "cell_type": "code",
   "execution_count": null,
   "metadata": {},
   "outputs": [],
   "source": [
    "def insert(self, p, v):\n",
    "    return Node(p, v, Nil(), Nil())\n",
    "\n",
    "Nil.insert = insert\n",
    "del insert"
   ]
  },
  {
   "cell_type": "markdown",
   "metadata": {},
   "source": [
    "  - $p_{\\mathrm{top}} \\leq p \\;\\wedge\\; l.\\texttt{count}() \\leq r.\\texttt{count}() \\;\\rightarrow\\; \n",
    "     \\texttt{Node}(p_{\\mathrm{top}},v_\\mathrm{top},l,r).\\texttt{insert}(p,v) =\n",
    "     \\texttt{Node}\\bigl(p_\\mathrm{top},v_\\mathrm{top},l.\\texttt{insert}(p,v), r\\bigr)$               \n",
    "  - $p_{\\mathrm{top}} \\leq p \\;\\wedge\\; l.\\texttt{count}() > r.\\texttt{count}() \\;\\rightarrow \n",
    "     \\texttt{Node}(p_{\\mathrm{top}},v_\\mathrm{top},l,r).\\texttt{insert}(p,v) =\n",
    "     \\texttt{Node}\\bigl(p_\\mathrm{top},v_\\mathrm{top},l,r.\\texttt{insert}(p,v)\\bigr)$\n",
    "  - $p_{\\mathrm{top}} > p \\;\\wedge\\; l.\\texttt{count}() \\leq r.\\texttt{count}() \\;\\rightarrow \n",
    "     \\texttt{Node}(p_{\\mathrm{top}},v_\\mathrm{top},l,r).\\texttt{insert}(p,v) =\n",
    "     \\texttt{Node}\\bigl(p,v,l.\\texttt{insert}(p_\\mathrm{top},v_\\mathrm{top}), r\\bigr)$\n",
    "  - $p_{\\mathrm{top}} > p \\;\\wedge\\; l.\\texttt{count}() > r.\\texttt{count}() \\;\\rightarrow \n",
    "     \\texttt{Node}(p_{\\mathrm{top}},v_\\mathrm{top},l,r).\\texttt{insert}(p,v) =\n",
    "     \\texttt{Node}\\bigl(p,v,l,r.\\texttt{insert}(p_\\mathrm{top},v_\\mathrm{top})\\bigr)$"
   ]
  },
  {
   "cell_type": "code",
   "execution_count": null,
   "metadata": {},
   "outputs": [],
   "source": [
    "def insert(self, p, v):\n",
    "    p_top, v_top, l, r = self._extract()\n",
    "    if p_top <= p:\n",
    "        if l._count() <= r._count():\n",
    "            return Node(p_top, v_top, l.insert(p, v), r)\n",
    "        else:\n",
    "            return Node(p_top, v_top, l, r.insert(p, v))\n",
    "    else:\n",
    "        if l._count() <= r._count():\n",
    "            return Node(p, v, l.insert(p_top, v_top), r)\n",
    "        else:\n",
    "            return Node(p, v, l, r.insert(p_top, v_top))\n",
    "\n",
    "Node.insert = insert\n",
    "del insert"
   ]
  },
  {
   "cell_type": "markdown",
   "metadata": {},
   "source": [
    "## Implementing the Method  `remove`"
   ]
  },
  {
   "cell_type": "markdown",
   "metadata": {},
   "source": [
    "  - $\\texttt{Nil}.\\texttt{remove}() = \\texttt{Nil}$"
   ]
  },
  {
   "cell_type": "code",
   "execution_count": null,
   "metadata": {},
   "outputs": [],
   "source": [
    "def remove(self):\n",
    "    return self\n",
    "\n",
    "Nil.remove = remove\n",
    "del remove"
   ]
  },
  {
   "cell_type": "markdown",
   "metadata": {},
   "source": [
    "  - $\\texttt{Node}(p,v,\\texttt{Nil},r).\\texttt{remove}() = r$\n",
    "  - $\\texttt{Node}(p,v,l,\\texttt{Nil}).\\texttt{remove}() = l$\n",
    "  - $l = \\texttt{Node}(p_1,v_1,l_1,r_1) \\;\\wedge\\; r = \\texttt{Node}(p_2,v_2,l_2,r_2) \\;\\wedge\\; p_1 \\leq p_2 \\;\\rightarrow\n",
    "     \\texttt{Node}(p,v,l,r).\\texttt{remove}() =      \\texttt{Node}(p_1,v_1,l.\\texttt{remove}(),r)$\n",
    "  - $l = \\texttt{Node}(p_1,v_1,l_1,r_1) \\;\\wedge\\; r = \\texttt{Node}(p_2,v_2,l_2,r_2) \\;\\wedge\\; p_1 > p_2 \\rightarrow\n",
    "     \\texttt{Node}(p,v,l,r).\\texttt{remove}() = \\texttt{Node}(p_2,v_2,l,r.\\texttt{remove}())$"
   ]
  },
  {
   "cell_type": "code",
   "execution_count": null,
   "metadata": {},
   "outputs": [],
   "source": [
    "def remove(self):\n",
    "    p, v, l, r = self._extract()\n",
    "    if isinstance(l, Nil):\n",
    "        return r\n",
    "    if isinstance(r, Nil):\n",
    "        return l\n",
    "    p1, v1, l1, r1 = l._extract()\n",
    "    p2, v2, l2, r2 = r._extract()\n",
    "    if p1 <= p2:\n",
    "        return Node(p1, v1, l.remove(), r)\n",
    "    else:\n",
    "        return Node(p2, v2, l, r.remove())\n",
    "    \n",
    "Node.remove = remove\n",
    "del remove"
   ]
  },
  {
   "cell_type": "markdown",
   "metadata": {},
   "source": [
    "## Testing"
   ]
  },
  {
   "cell_type": "code",
   "execution_count": null,
   "metadata": {},
   "outputs": [],
   "source": [
    "h = Nil()\n",
    "h.toDot()"
   ]
  },
  {
   "cell_type": "code",
   "execution_count": null,
   "metadata": {},
   "outputs": [],
   "source": [
    "h = h.insert(2, 'a')\n",
    "h.toDot()"
   ]
  },
  {
   "cell_type": "code",
   "execution_count": null,
   "metadata": {},
   "outputs": [],
   "source": [
    "h = h.insert(1, 'b')\n",
    "h.toDot()"
   ]
  },
  {
   "cell_type": "code",
   "execution_count": null,
   "metadata": {},
   "outputs": [],
   "source": [
    "h = h.insert(7, 'c')\n",
    "h.toDot()"
   ]
  },
  {
   "cell_type": "code",
   "execution_count": null,
   "metadata": {},
   "outputs": [],
   "source": [
    "h = h.insert(0, 'd')\n",
    "h.toDot()"
   ]
  },
  {
   "cell_type": "code",
   "execution_count": null,
   "metadata": {},
   "outputs": [],
   "source": [
    "h = h.insert(8, 'e')\n",
    "h.toDot()"
   ]
  },
  {
   "cell_type": "code",
   "execution_count": null,
   "metadata": {},
   "outputs": [],
   "source": [
    "h = h.insert(3, 'f')\n",
    "h.toDot()"
   ]
  },
  {
   "cell_type": "code",
   "execution_count": null,
   "metadata": {},
   "outputs": [],
   "source": [
    "h = h.insert(4, 'g')\n",
    "h.toDot()"
   ]
  },
  {
   "cell_type": "code",
   "execution_count": null,
   "metadata": {},
   "outputs": [],
   "source": [
    "h = h.remove()\n",
    "h.toDot()"
   ]
  },
  {
   "cell_type": "code",
   "execution_count": null,
   "metadata": {},
   "outputs": [],
   "source": [
    "h = h.remove()\n",
    "h.toDot()"
   ]
  },
  {
   "cell_type": "code",
   "execution_count": null,
   "metadata": {},
   "outputs": [],
   "source": [
    "h = h.remove()\n",
    "h.toDot()"
   ]
  },
  {
   "cell_type": "code",
   "execution_count": null,
   "metadata": {},
   "outputs": [],
   "source": [
    "h = h.remove()\n",
    "h.toDot()"
   ]
  },
  {
   "cell_type": "code",
   "execution_count": null,
   "metadata": {},
   "outputs": [],
   "source": [
    "h = h.remove()\n",
    "h.toDot()"
   ]
  },
  {
   "cell_type": "code",
   "execution_count": null,
   "metadata": {},
   "outputs": [],
   "source": [
    "h = h.remove()\n",
    "h.toDot()"
   ]
  },
  {
   "cell_type": "code",
   "execution_count": null,
   "metadata": {},
   "outputs": [],
   "source": [
    "h = h.remove()\n",
    "h.toDot()"
   ]
  },
  {
   "cell_type": "code",
   "execution_count": null,
   "metadata": {},
   "outputs": [],
   "source": [
    "h = Nil()\n",
    "h.toDot()"
   ]
  },
  {
   "cell_type": "code",
   "execution_count": null,
   "metadata": {},
   "outputs": [],
   "source": [
    "for i in range(1, 63+1):\n",
    "    h = h.insert(i, None)\n",
    "h.toDot()"
   ]
  },
  {
   "cell_type": "markdown",
   "metadata": {},
   "source": [
    "## Heapsort"
   ]
  },
  {
   "cell_type": "markdown",
   "metadata": {},
   "source": [
    "Given a list `L`, the function `heap_sort(L)` returns a sorted version of `L`.  The algorithm works in two phases.\n",
    "- In the first phase, all elements of the list `L` are inserted into the empty heap `H`, which is initially empty.\n",
    "- In the second phase, the elements of `H` are extracted one by one beginning with the smallest elements.  These elements\n",
    "  are appended to the list `S`, which is initially empty. When the function returns, `H` contains all the elements of `L`\n",
    "  and is sorted ascendingly."
   ]
  },
  {
   "cell_type": "code",
   "execution_count": null,
   "metadata": {},
   "outputs": [],
   "source": [
    "def heap_sort(L):\n",
    "    H = Nil()\n",
    "    for p in L:\n",
    "        H = H.insert(p, None)\n",
    "    S = []\n",
    "    display(H.toDot())\n",
    "    while isinstance(H, Node):\n",
    "        p, _ = H.top()\n",
    "        S.append(p)\n",
    "        H = H.remove()\n",
    "    return S"
   ]
  },
  {
   "cell_type": "code",
   "execution_count": null,
   "metadata": {},
   "outputs": [],
   "source": [
    "heap_sort([77, 54, 68, 7, 13, 1, 4, 5, 6, 3, 12, 67, 12, 14, 23, 54, 67])"
   ]
  },
  {
   "cell_type": "code",
   "execution_count": null,
   "metadata": {},
   "outputs": [],
   "source": []
  }
 ],
 "metadata": {
  "kernelspec": {
   "display_name": "Python 3",
   "language": "python",
   "name": "python3"
  },
  "language_info": {
   "codemirror_mode": {
    "name": "ipython",
    "version": 3
   },
   "file_extension": ".py",
   "mimetype": "text/x-python",
   "name": "python",
   "nbconvert_exporter": "python",
   "pygments_lexer": "ipython3",
   "version": "3.9.4"
  },
  "varInspector": {
   "cols": {
    "lenName": 16,
    "lenType": 16,
    "lenVar": 40
   },
   "kernels_config": {
    "python": {
     "delete_cmd_postfix": "",
     "delete_cmd_prefix": "del ",
     "library": "var_list.py",
     "varRefreshCmd": "print(var_dic_list())"
    },
    "r": {
     "delete_cmd_postfix": ") ",
     "delete_cmd_prefix": "rm(",
     "library": "var_list.r",
     "varRefreshCmd": "cat(var_dic_list()) "
    }
   },
   "types_to_exclude": [
    "module",
    "function",
    "builtin_function_or_method",
    "instance",
    "_Feature"
   ],
   "window_display": false
  }
 },
 "nbformat": 4,
 "nbformat_minor": 2
}
