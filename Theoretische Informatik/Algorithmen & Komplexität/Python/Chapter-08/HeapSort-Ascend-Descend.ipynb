{
 "cells": [
  {
   "cell_type": "code",
   "execution_count": null,
   "metadata": {},
   "outputs": [],
   "source": [
    "from IPython.core.display import HTML\n",
    "with open('../style.css') as file:\n",
    "    css = file.read()\n",
    "HTML(css)"
   ]
  },
  {
   "cell_type": "markdown",
   "metadata": {},
   "source": [
    "# Heapsort"
   ]
  },
  {
   "cell_type": "markdown",
   "metadata": {},
   "source": [
    "## Graphical Representation"
   ]
  },
  {
   "cell_type": "code",
   "execution_count": null,
   "metadata": {},
   "outputs": [],
   "source": [
    "import graphviz as gv"
   ]
  },
  {
   "cell_type": "markdown",
   "metadata": {},
   "source": [
    "The function `toDot` takes four arguments:\n",
    "- `A` is an array of natural numbers of length $n$,\n",
    "- `f` is a natural number such that $0 \\leq f < n$ holds,\n",
    "- `g` is a natural number such that $f < g < n$ holds,\n",
    "- `u` is a natural number such that $0 \\leq u < n$ holds.\n",
    "  This argument is optional.\n",
    "\n",
    "The function returns a graphical representation of the array `A` as a heap. \n",
    "This graphical representation is stored as a directed graph with an encoding suitable for `graphviz`. \n",
    "\n",
    "The part `A[0:g]` is represented as a binary tree, while the part `A[g:]` is represented\n",
    "as a list.  Furthermore, all indexes in the range `A[k:g]` satisfy the heap condition.  The nodes in the range `[0:k-1]`\n",
    "are colored red.  If `u` is set, the node `A[u]` is colored orange."
   ]
  },
  {
   "cell_type": "code",
   "execution_count": null,
   "metadata": {},
   "outputs": [],
   "source": [
    "def toDot(A, f, g, u=None):\n",
    "    n   = len(A)\n",
    "    dot = gv.Digraph(node_attr={'shape': 'record'})\n",
    "    for k, p in enumerate(A):\n",
    "        if k == u:\n",
    "            dot.node(str(k), label='{' + str(p) + '|' + str(k) + '}', style='filled', fillcolor='orange')\n",
    "        elif k < f:\n",
    "            dot.node(str(k), label='{' + str(p) + '|' + str(k) + '}', style='filled', fillcolor='red')\n",
    "        elif k < g:\n",
    "            dot.node(str(k), label='{' + str(p) + '|' + str(k) + '}', style='rounded')\n",
    "        else:\n",
    "            dot.node(str(k), label='{' + str(p) + '|' + str(k) + '}', style='filled', fillcolor='green')\n",
    "    for k in range(0, n // 2):\n",
    "        if 2 * k + 1 < g:\n",
    "            dot.edge(str(k), str(2 * k + 1))\n",
    "        if 2 * k + 2 < g:\n",
    "            dot.edge(str(k), str(2 * k + 2))\n",
    "    return dot"
   ]
  },
  {
   "cell_type": "markdown",
   "metadata": {},
   "source": [
    "# HeapSort"
   ]
  },
  {
   "cell_type": "markdown",
   "metadata": {},
   "source": [
    "The function call `swap(A, i, j)` takes an array `A` and  two indexes `i` and `j` and exchanges the elements at these indexes."
   ]
  },
  {
   "cell_type": "code",
   "execution_count": null,
   "metadata": {},
   "outputs": [],
   "source": [
    "def swap(A, i, j):\n",
    "    A[i], A[j] = A[j], A[i]"
   ]
  },
  {
   "cell_type": "markdown",
   "metadata": {},
   "source": [
    "The function `ascend` takes two arguments:\n",
    "- `A` is an array that is represented as a list in *Python*.\n",
    "- `k` is an index into the array `A`.\n",
    "\n",
    "   Therefore we have $k \\in \\bigl\\{0, \\cdots, \\texttt{len}(A)-1\\bigr\\}$.\n",
    "\n",
    "The array `A` represents a *heap*.  However, the <em style=\"color:blue\">heap condition</em> might be violated \n",
    "at index `k`: It might be the case that the element at this index is to small and needs to rise to the top\n",
    "of the heap.  The function `ascend` will fix the heap condition and will rise the element `A[k]` as much \n",
    "as is necessary to turn `A` into a heap."
   ]
  },
  {
   "cell_type": "code",
   "execution_count": null,
   "metadata": {},
   "outputs": [],
   "source": [
    "def ascend(A, k):\n",
    "    while k > 0:\n",
    "        p = (k - 1) // 2\n",
    "        if A[k] < A[p]:\n",
    "            swap(A, p, k)\n",
    "            k = p\n",
    "        else:\n",
    "            return   "
   ]
  },
  {
   "cell_type": "markdown",
   "metadata": {},
   "source": [
    "The function `sink` takes three arguments.\n",
    "- `A` is the array representing the heap.\n",
    "- `k` is an index into the array `A`.\n",
    "- `n` is the upper bound  of the part of this array that has to be transformed into a heap.  \n",
    "\n",
    "The array `A` itself might actually have more than $n+1$ elements, but for the\n",
    "purpose of the method `sink` we restrict our attention to the subarray\n",
    "`A[k:n]`. \n",
    "When calling `sink`, the assumption is that `A[k:n+1]` should represent a heap \n",
    "that possibly has its heap condition violated at its root, i.e. at index `k`.  The\n",
    "purpose of the procedure `sink` is to restore the heap condition at index `k`.\n",
    "- We compute the index `j` of the left subtree below index `k`.\n",
    "- We check whether there also is a right subtree at position `j+1`.\n",
    "  \n",
    "  This is the case if `j + 1 <= n`.  \n",
    "- If the heap condition is violated at index `k`, we exchange the element at  position `k` \n",
    "  with the child that has the higher priority, i.e. the child that is smaller. \n",
    "- Next, we check in line 9 whether the heap condition is violated at index `k`.  \n",
    "  If the heap condition is satisfied, there is nothing left to do and the procedure returns.  \n",
    "  \n",
    "- Otherwise, the element at position `k` is swapped with\n",
    "  the element at position `j`.  \n",
    "  \n",
    "  Of course, after this swap it is possible that the heap condition is\n",
    "  violated at position `j`.  Therefore,  `k` is set to `j` and the `while`-loop continues\n",
    "  as long as the node at position `k` has at least one child, i.e. as long as \n",
    "  `2 * k + 1 <= n`."
   ]
  },
  {
   "cell_type": "code",
   "execution_count": null,
   "metadata": {},
   "outputs": [],
   "source": [
    "def descend(A, k, n):\n",
    "    while 2 * k + 1 <= n:\n",
    "        j = 2 * k + 1\n",
    "        if j + 1 <= n and A[j] > A[j + 1]:\n",
    "            j += 1\n",
    "        if A[k] < A[j]:\n",
    "            return\n",
    "        swap(A, k, j)\n",
    "        k = j"
   ]
  },
  {
   "cell_type": "markdown",
   "metadata": {},
   "source": [
    "The function $\\texttt{heapSort}$ has the task to sort the array `A` and proceeds in two phases.\n",
    "- In phase one our goal is to transform the array `A`into a heap that is stored in `A`.\n",
    "\n",
    "  In order to do so, we traverse the array `A` in reverse in a loop.  \n",
    "  The invariant of this loop is that before `ascend` is called, the array `A[:k]`\n",
    "  is a heap.  The call `ascend(A, k)` inserts the element `A[k]` at the proper place and\n",
    "  thereby extends the heap to `A[:k+1]`.\n",
    "- In phase two we remove the elements from the heap one-by-one and insert them at the end of\n",
    "  the array.\n",
    "\n",
    "  When the `while`-loop starts, the array `A` contains a heap.  Therefore,\n",
    "  the smallest element is found at the root of the heap.  Since we want to sort the\n",
    "  array `A` descendingly, we move this element to the end of the array `A` and in\n",
    "  return move the element from the end of the array`A`to the front.\n",
    "  After this exchange, the sublist `A[0:n-1]` represents a heap, except that the\n",
    "  heap condition might now be violated at the root.  Next, we decrement `n`, since the\n",
    "  last element of the array `A` is already in its correct position.  \n",
    "  In order to reestablish the heap condition at the root, we call `sink` with index\n",
    "  \\texttt{0}."
   ]
  },
  {
   "cell_type": "code",
   "execution_count": null,
   "metadata": {},
   "outputs": [],
   "source": [
    "def heap_sort(A):\n",
    "    n = len(A)\n",
    "    for k in range(1, n):\n",
    "        display(toDot(A, 0, k+1, k))\n",
    "        ascend(A, k)\n",
    "        display(toDot(A, 0, k+1))\n",
    "    n = n - 1\n",
    "    while n >= 1:\n",
    "        swap(A, 0, n)\n",
    "        display(toDot(A[:], 1, n + 1))\n",
    "        n -= 1\n",
    "        descend(A, 0, n)\n",
    "        display(toDot(A[:], 0, n + 1))"
   ]
  },
  {
   "cell_type": "markdown",
   "metadata": {},
   "source": [
    "## Testing"
   ]
  },
  {
   "cell_type": "code",
   "execution_count": null,
   "metadata": {},
   "outputs": [],
   "source": [
    "import random as rnd"
   ]
  },
  {
   "cell_type": "code",
   "execution_count": null,
   "metadata": {},
   "outputs": [],
   "source": [
    "def demo():\n",
    "    L = [ rnd.randrange(1, 200) for n in range(12) ]\n",
    "    print(\"L = \", L)\n",
    "    heap_sort(L)\n",
    "    print(\"L = \", L)"
   ]
  },
  {
   "cell_type": "code",
   "execution_count": null,
   "metadata": {
    "scrolled": false
   },
   "outputs": [],
   "source": [
    "demo()"
   ]
  },
  {
   "cell_type": "code",
   "execution_count": null,
   "metadata": {},
   "outputs": [],
   "source": []
  }
 ],
 "metadata": {
  "kernelspec": {
   "display_name": "Python 3",
   "language": "python",
   "name": "python3"
  },
  "language_info": {
   "codemirror_mode": {
    "name": "ipython",
    "version": 3
   },
   "file_extension": ".py",
   "mimetype": "text/x-python",
   "name": "python",
   "nbconvert_exporter": "python",
   "pygments_lexer": "ipython3",
   "version": "3.9.4"
  },
  "varInspector": {
   "cols": {
    "lenName": 16,
    "lenType": 16,
    "lenVar": 40
   },
   "kernels_config": {
    "python": {
     "delete_cmd_postfix": "",
     "delete_cmd_prefix": "del ",
     "library": "var_list.py",
     "varRefreshCmd": "print(var_dic_list())"
    },
    "r": {
     "delete_cmd_postfix": ") ",
     "delete_cmd_prefix": "rm(",
     "library": "var_list.r",
     "varRefreshCmd": "cat(var_dic_list()) "
    }
   },
   "types_to_exclude": [
    "module",
    "function",
    "builtin_function_or_method",
    "instance",
    "_Feature"
   ],
   "window_display": false
  }
 },
 "nbformat": 4,
 "nbformat_minor": 2
}
