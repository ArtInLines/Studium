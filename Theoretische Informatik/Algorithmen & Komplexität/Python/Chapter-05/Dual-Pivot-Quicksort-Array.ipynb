{
 "cells": [
  {
   "cell_type": "code",
   "execution_count": 1,
   "metadata": {},
   "outputs": [
    {
     "data": {
      "text/html": [
       "<link href='http://fonts.googleapis.com/css?family=Alegreya+Sans:100,300,400,500,700,800,900,100italic,300italic,400italic,500italic,700italic,800italic,900italic' rel='stylesheet' type='text/css'>\n",
       "<link href='http://fonts.googleapis.com/css?family=Arvo:400,700,400italic' rel='stylesheet' type='text/css'>\n",
       "<link href='http://fonts.googleapis.com/css?family=PT+Mono' rel='stylesheet' type='text/css'>\n",
       "<link href='http://fonts.googleapis.com/css?family=Shadows+Into+Light' rel='stylesheet' type='text/css'>\n",
       "<link href='http://fonts.googleapis.com/css?family=Philosopher:400,700,400italic,700italic' rel='stylesheet' type='text/css'>\n",
       "\n",
       "<style>\n",
       "\n",
       "@font-face {\n",
       "    font-family: \"Computer Modern\";\n",
       "    src: url('http://mirrors.ctan.org/fonts/cm-unicode/fonts/otf/cmunss.otf');\n",
       "}\n",
       "\n",
       ".container { width: 100% }\n",
       "\n",
       "/* Formatting for header cells */\n",
       ".text_cell_render h1 {\n",
       "    font-family: 'Philosopher', sans-serif;\n",
       "    font-weight: 400;\n",
       "    font-size: 2.2em;\n",
       "    line-height: 100%;\n",
       "    color: rgb(0, 80, 120);\n",
       "    margin-bottom: 0.1em;\n",
       "    margin-top: 0.1em;\n",
       "    display: block;\n",
       "}\t\n",
       ".text_cell_render h2 {\n",
       "    font-family: 'Philosopher', serif;\n",
       "    font-weight: 400;\n",
       "    font-size: 1.9em;\n",
       "    line-height: 100%;\n",
       "    color: rgb(200,100,0);\n",
       "    margin-bottom: 0.1em;\n",
       "    margin-top: 0.1em;\n",
       "    display: block;\n",
       "}\t\n",
       "\n",
       ".text_cell_render h3 {\n",
       "    font-family: 'Philosopher', serif;\n",
       "    margin-top:12px;\n",
       "    margin-bottom: 3px;\n",
       "    font-style: italic;\n",
       "    color: rgb(94,127,192);\n",
       "}\n",
       "\n",
       ".text_cell_render h4 {\n",
       "    font-family: 'Philosopher', serif;\n",
       "}\n",
       "\n",
       ".text_cell_render h5 {\n",
       "    font-family: 'Alegreya Sans', sans-serif;\n",
       "    font-weight: 300;\n",
       "    font-size: 16pt;\n",
       "    color: grey;\n",
       "    font-style: italic;\n",
       "    margin-bottom: .1em;\n",
       "    margin-top: 0.1em;\n",
       "    display: block;\n",
       "}\n",
       "\n",
       ".text_cell_render h6 {\n",
       "    font-family: 'PT Mono', sans-serif;\n",
       "    font-weight: 300;\n",
       "    font-size: 10pt;\n",
       "    color: grey;\n",
       "    margin-bottom: 1px;\n",
       "    margin-top: 1px;\n",
       "}\n",
       "\n",
       ".text_cell_render em {\n",
       "    font-family: 'Philosopher', sans-serif;\n",
       "    color:        blue;\n",
       "    background-color: rgb(255,220,180);\n",
       "    font-size:    110%;\n",
       "    margin-left:   2px;\n",
       "    margin-right:  2px;\n",
       "    font-weight:   100;\n",
       "}\n",
       "\n",
       ".text_cell_render b {\n",
       "    color:            rgb(255,195,195);\n",
       "    background-color: rgb(0,0,0);\n",
       "    font-size:    110%;\n",
       "    margin-left:   2px;\n",
       "    margin-right:  2px;\n",
       "    font-weight:   650;\n",
       "}\n",
       "\n",
       ".text_cell_render tt {\n",
       "    font-size:    120%;\n",
       "    margin-left:   2px;\n",
       "    margin-right:  2px;\n",
       "    font-weight:   150;\n",
       "}\n",
       "\n",
       ".Codemirror {\n",
       "    font-family: \"PT Mono\";\n",
       "    font-size: 100%;\n",
       "}\n",
       "\n",
       "</style>\n",
       "\n"
      ],
      "text/plain": [
       "<IPython.core.display.HTML object>"
      ]
     },
     "execution_count": 1,
     "metadata": {},
     "output_type": "execute_result"
    }
   ],
   "source": [
    "from IPython.core.display import HTML\n",
    "with open('../style.css') as file:\n",
    "    css = file.read()\n",
    "HTML(css)"
   ]
  },
  {
   "cell_type": "markdown",
   "metadata": {},
   "source": [
    "# An Array-Based Implementation of Dual-Pivot-Quicksort"
   ]
  },
  {
   "cell_type": "code",
   "execution_count": 2,
   "metadata": {},
   "outputs": [],
   "source": [
    "import random as rnd"
   ]
  },
  {
   "cell_type": "markdown",
   "metadata": {},
   "source": [
    "The function $\\texttt{sort}(L)$ sorts the list $L$ in place."
   ]
  },
  {
   "cell_type": "code",
   "execution_count": 3,
   "metadata": {},
   "outputs": [],
   "source": [
    "def sort(L):\n",
    "    quickSort(0, len(L) - 1, L)"
   ]
  },
  {
   "cell_type": "markdown",
   "metadata": {},
   "source": [
    "The function $\\texttt{quickSort}(a, b, L)$ sorts the sublist $L[a:b+1]$ in place."
   ]
  },
  {
   "cell_type": "code",
   "execution_count": 4,
   "metadata": {},
   "outputs": [],
   "source": [
    "def quickSort(a, b, L):\n",
    "    if b <= a:\n",
    "        return  # at most one element, nothing to do\n",
    "    x1, x2 = L[a], L[b]\n",
    "    if x1 > x2:\n",
    "        swap(a, b, L)\n",
    "    m1, m2 = partition(a, b, L)  # m1 and m2 are the split indices\n",
    "    quickSort(a, m1 - 1, L)\n",
    "    if L[m1] != L[m2]:\n",
    "        quickSort(m1 + 1, m2 - 1, L)\n",
    "    quickSort(m2 + 1, b, L)"
   ]
  },
  {
   "cell_type": "markdown",
   "metadata": {},
   "source": [
    "The function $\\texttt{partition}(\\texttt{start}, \\texttt{end}, L)$ returns two indices $m_1$ and $m_2$ \n",
    "into the list $L$ and regroups the elements of $L$ such that after the function returns the following holds:\n",
    " \n",
    "  - $\\forall i \\in \\{\\texttt{start}, \\cdots, m_1-1\\} : L[i]    <   L[m_1]$,\n",
    "  - $\\forall i \\in \\{ m_1+1, \\cdots, m_2-1 \\}        : L[m_1] \\leq L[i] \\leq L[m_2]$,\n",
    "  - $\\forall i \\in \\{ m_2+1, \\cdots, \\texttt{end} \\} : L[m_2]  <   L[i]$,\n",
    "  - $L[m_1] = p_1$,\n",
    "  - $L[m_2] = p_2$.\n",
    "\n",
    "Here, $p_1$ is the element that is at the index $\\texttt{start}$ at the time of the invocation \n",
    "of the function, while $p_2$ is the elements at index $\\texttt{end}$.  It is assumed that $p_1 \\leq p_2$.\n",
    "  \n",
    "The for-loop of `partition` maintains the following invariants:\n",
    "\n",
    " - $L[\\texttt{start}] = p_1$,\n",
    " - $L[\\texttt{end}]   = p_2$,\n",
    " - $\\forall i \\in \\{\\texttt{start} + 1, \\cdots, \\texttt{idxLeft} \\} : L[i] < p_1$\n",
    " - $\\forall i \\in \\{\\texttt{idxLeft} + 1, \\cdots, \\texttt{idxMiddle} - 1\\} : p_1 \\leq L[i] \\leq p_2$\n",
    " - $\\forall i \\in \\{\\texttt{idxRight}, \\cdots, \\texttt{end}-1\\} : p_2 < L[i]$\n",
    " "
   ]
  },
  {
   "cell_type": "code",
   "execution_count": 5,
   "metadata": {},
   "outputs": [],
   "source": [
    "def partition(start, end, L):\n",
    "    p1 = L[start]\n",
    "    p2 = L[end]\n",
    "    idxLeft   = start\n",
    "    idxMiddle = start + 1\n",
    "    idxRight  = end\n",
    "    while idxMiddle < idxRight:\n",
    "        x = L[idxMiddle]\n",
    "        if x < p1:\n",
    "            idxLeft += 1\n",
    "            swap(idxLeft, idxMiddle, L)\n",
    "            idxMiddle += 1\n",
    "        elif x <= p2:\n",
    "            idxMiddle += 1\n",
    "        else: \n",
    "            idxRight -= 1\n",
    "            swap(idxMiddle, idxRight, L)\n",
    "    swap(start, idxLeft, L)\n",
    "    swap(end, idxRight, L)\n",
    "    return idxLeft, idxRight"
   ]
  },
  {
   "cell_type": "markdown",
   "metadata": {},
   "source": [
    "The function $\\texttt{swap}(x, y, L)$ swaps the elements at index $x$ and $y$ in $L$."
   ]
  },
  {
   "cell_type": "code",
   "execution_count": 6,
   "metadata": {},
   "outputs": [],
   "source": [
    "def swap(x, y, L):\n",
    "    L[x], L[y] = L[y], L[x]"
   ]
  },
  {
   "cell_type": "markdown",
   "metadata": {},
   "source": [
    "## Testing"
   ]
  },
  {
   "cell_type": "code",
   "execution_count": 7,
   "metadata": {},
   "outputs": [
    {
     "name": "stdout",
     "output_type": "stream",
     "text": [
      "[5, 7, 9, 1, 24, 11, 5, 2, 5, 8, 2, 13, 9]\n",
      "[2, 1, 2] 5 [9, 8, 5, 7, 5] 9 [13, 24, 11]\n"
     ]
    }
   ],
   "source": [
    "L = [5, 7, 9, 1, 24, 11, 5, 2, 5, 8, 2, 13, 9]\n",
    "print(L)\n",
    "p1, p2 = partition(0, len(L) - 1, L)\n",
    "print(L[:p1], L[p1], L[p1+1:p2], L[p2], L[p2+1:])"
   ]
  },
  {
   "cell_type": "code",
   "execution_count": 8,
   "metadata": {},
   "outputs": [],
   "source": [
    "def demo():\n",
    "    L = [ rnd.randrange(1, 200) for n in range(1, 16) ]\n",
    "    print(\"L = \", L)\n",
    "    sort(L)\n",
    "    print(\"L = \", L)"
   ]
  },
  {
   "cell_type": "code",
   "execution_count": 9,
   "metadata": {},
   "outputs": [
    {
     "name": "stdout",
     "output_type": "stream",
     "text": [
      "L =  [103, 151, 184, 119, 192, 28, 134, 4, 22, 128, 170, 109, 9, 93, 145]\n",
      "L =  [4, 9, 22, 28, 93, 103, 109, 119, 128, 134, 145, 151, 170, 184, 192]\n"
     ]
    }
   ],
   "source": [
    "demo()"
   ]
  },
  {
   "cell_type": "code",
   "execution_count": 10,
   "metadata": {},
   "outputs": [],
   "source": [
    "def isOrdered(L):\n",
    "    for i in range(len(L) - 1):\n",
    "        assert L[i] <= L[i+1]"
   ]
  },
  {
   "cell_type": "code",
   "execution_count": 11,
   "metadata": {},
   "outputs": [],
   "source": [
    "from collections import Counter"
   ]
  },
  {
   "cell_type": "code",
   "execution_count": 12,
   "metadata": {},
   "outputs": [],
   "source": [
    "def sameElements(L, S):\n",
    "    assert Counter(L) == Counter(S)"
   ]
  },
  {
   "cell_type": "markdown",
   "metadata": {},
   "source": [
    "The function $\\texttt{testSort}(n, k)$ generates $n$ random lists of length $k$, sorts them, and checks whether the output is sorted and contains the same elements as the input."
   ]
  },
  {
   "cell_type": "code",
   "execution_count": 13,
   "metadata": {},
   "outputs": [],
   "source": [
    "def testSort(n, k):\n",
    "    for i in range(n):\n",
    "        L = [ rnd.randrange(2*k) for x in range(k) ]\n",
    "        oldL = L[:]\n",
    "        sort(L)\n",
    "        isOrdered(L)\n",
    "        sameElements(oldL, L)\n",
    "        assert len(L) == len(oldL)\n",
    "        print('.', end='')\n",
    "    print()\n",
    "    print(\"All tests successful!\")"
   ]
  },
  {
   "cell_type": "code",
   "execution_count": 14,
   "metadata": {},
   "outputs": [
    {
     "name": "stdout",
     "output_type": "stream",
     "text": [
      "....................................................................................................\n",
      "All tests successful!\n",
      "CPU times: user 8.02 s, sys: 94.9 ms, total: 8.12 s\n",
      "Wall time: 8.18 s\n"
     ]
    }
   ],
   "source": [
    "%%time\n",
    "testSort(100, 20_000)"
   ]
  },
  {
   "cell_type": "markdown",
   "metadata": {},
   "source": [
    "Next, we sort a million random integers."
   ]
  },
  {
   "cell_type": "code",
   "execution_count": 15,
   "metadata": {},
   "outputs": [
    {
     "name": "stdout",
     "output_type": "stream",
     "text": [
      "5.65 s ± 138 ms per loop (mean ± std. dev. of 7 runs, 1 loop each)\n"
     ]
    }
   ],
   "source": [
    "%%timeit\n",
    "k = 1_000_000\n",
    "L = [ rnd.randrange(2 * k) for x in range(k) ]\n",
    "sort(L)"
   ]
  },
  {
   "cell_type": "markdown",
   "metadata": {},
   "source": [
    "Again, we sort a million integers.  This time, many of the integers have the same value."
   ]
  },
  {
   "cell_type": "code",
   "execution_count": 16,
   "metadata": {},
   "outputs": [
    {
     "name": "stdout",
     "output_type": "stream",
     "text": [
      "3.35 s ± 104 ms per loop (mean ± std. dev. of 7 runs, 1 loop each)\n"
     ]
    }
   ],
   "source": [
    "%%timeit\n",
    "k = 1_000_000\n",
    "L = [ rnd.randrange(1000) for x in range(k) ]\n",
    "sort(L)"
   ]
  },
  {
   "cell_type": "code",
   "execution_count": null,
   "metadata": {},
   "outputs": [],
   "source": []
  }
 ],
 "metadata": {
  "kernelspec": {
   "display_name": "Python 3 (ipykernel)",
   "language": "python",
   "name": "python3"
  },
  "language_info": {
   "codemirror_mode": {
    "name": "ipython",
    "version": 3
   },
   "file_extension": ".py",
   "mimetype": "text/x-python",
   "name": "python",
   "nbconvert_exporter": "python",
   "pygments_lexer": "ipython3",
   "version": "3.9.12"
  },
  "varInspector": {
   "cols": {
    "lenName": 16,
    "lenType": 16,
    "lenVar": 40
   },
   "kernels_config": {
    "python": {
     "delete_cmd_postfix": "",
     "delete_cmd_prefix": "del ",
     "library": "var_list.py",
     "varRefreshCmd": "print(var_dic_list())"
    },
    "r": {
     "delete_cmd_postfix": ") ",
     "delete_cmd_prefix": "rm(",
     "library": "var_list.r",
     "varRefreshCmd": "cat(var_dic_list()) "
    }
   },
   "types_to_exclude": [
    "module",
    "function",
    "builtin_function_or_method",
    "instance",
    "_Feature"
   ],
   "window_display": false
  }
 },
 "nbformat": 4,
 "nbformat_minor": 2
}
