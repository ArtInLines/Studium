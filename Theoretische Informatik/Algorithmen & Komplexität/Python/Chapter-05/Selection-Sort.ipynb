{
 "cells": [
  {
   "cell_type": "code",
   "execution_count": null,
   "metadata": {},
   "outputs": [],
   "source": [
    "from IPython.core.display import HTML\n",
    "with open('../style.css') as file:\n",
    "    css = file.read()\n",
    "HTML(css)"
   ]
  },
  {
   "cell_type": "markdown",
   "metadata": {},
   "source": [
    "# Selection Sort\n",
    "\n",
    "The algorithm <em style=\"color:blue;\">selection sort</em> is specified via two equations:\n",
    "\n",
    "  - If $L$ is empty, $\\texttt{sort}(L)$ is the empty list: \n",
    "    $$ \\mathtt{sort}([]) = [] $$\n",
    "  - Otherwise, we compute the smallest element of the list $L$ and we remove the first occurrence of  \n",
    "    this element from $L$.  Next, the remaining list is sorted recursively.  Finally, the smallest \n",
    "    element is added to the front of the sorted list:\n",
    "    $$ L \\not= [] \\rightarrow \\mathtt{sort}\\bigl(L\\bigr) = \n",
    "       \\bigl[\\texttt{min}(L)\\bigr] + \\mathtt{sort}\\bigl(\\mathtt{delete}(\\texttt{min}(L), L)\\bigr)\n",
    "    $$"
   ]
  },
  {
   "cell_type": "code",
   "execution_count": null,
   "metadata": {},
   "outputs": [],
   "source": [
    "def sort(L):\n",
    "    if L == []:\n",
    "        return []\n",
    "    x = min(L)\n",
    "    return [x] + sort(delete(x, L))"
   ]
  },
  {
   "cell_type": "markdown",
   "metadata": {},
   "source": [
    "The algorithm to delete an element $x$ from a list $L$ is formulated recursively.  There are three\n",
    "cases:\n",
    "\n",
    "  - If $L$ is empty, we could return the empty list: \n",
    "    $$\\mathtt{delete}(x, []) = [] $$\n",
    "    However, this case is really an error, because when we call $\\texttt{delete}(x, L)$ we always \n",
    "    assume that $x$ occurs in $L$.\n",
    "  - If $x$ is equal to the first element of $L$, then the function `delete` returns the\n",
    "    rest of $L$: \n",
    "    $$ \\mathtt{delete}(x, [x] + R) = R$$\n",
    "  - Otherwise, the element $x$ is removed recursively from the rest of the list: \n",
    "    $$ x \\not = y \\rightarrow \\mathtt{delete}(x, [y] + R) = [y] + \\mathtt{delete}(x,R) $$"
   ]
  },
  {
   "cell_type": "code",
   "execution_count": null,
   "metadata": {},
   "outputs": [],
   "source": [
    "def delete(x, L):\n",
    "    assert L != [], f'delete({x}, [])'\n",
    "    y, *R = L\n",
    "    if y == x:\n",
    "        return R\n",
    "    return [y] + delete(x, R)"
   ]
  },
  {
   "cell_type": "code",
   "execution_count": null,
   "metadata": {},
   "outputs": [],
   "source": [
    "L = [3, 5, 7, 4, 8, 1, 2, 3, 11, 13, 2]\n",
    "sort(L)"
   ]
  },
  {
   "cell_type": "code",
   "execution_count": null,
   "metadata": {},
   "outputs": [],
   "source": []
  }
 ],
 "metadata": {
  "kernelspec": {
   "display_name": "Python 3",
   "language": "python",
   "name": "python3"
  },
  "language_info": {
   "codemirror_mode": {
    "name": "ipython",
    "version": 3
   },
   "file_extension": ".py",
   "mimetype": "text/x-python",
   "name": "python",
   "nbconvert_exporter": "python",
   "pygments_lexer": "ipython3",
   "version": "3.9.2"
  }
 },
 "nbformat": 4,
 "nbformat_minor": 2
}
