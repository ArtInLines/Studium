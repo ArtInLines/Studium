{
 "cells": [
  {
   "cell_type": "code",
   "execution_count": null,
   "metadata": {},
   "outputs": [],
   "source": [
    "from IPython.core.display import HTML\n",
    "with open('../style.css') as file:\n",
    "    css = file.read()\n",
    "HTML(css)"
   ]
  },
  {
   "cell_type": "markdown",
   "metadata": {},
   "source": [
    "# The Shunting Yard Algorithm (Operator Precedence Parsing)"
   ]
  },
  {
   "cell_type": "code",
   "execution_count": null,
   "metadata": {},
   "outputs": [],
   "source": [
    "import re"
   ]
  },
  {
   "cell_type": "markdown",
   "metadata": {},
   "source": [
    "The function $\\texttt{isWhiteSpace}(s)$ checks whether $s$ contains only blanks and tabulators."
   ]
  },
  {
   "cell_type": "code",
   "execution_count": null,
   "metadata": {},
   "outputs": [],
   "source": [
    "def isWhiteSpace(s):\n",
    "    whitespace = re.compile(r'[ \\t]+')\n",
    "    return whitespace.fullmatch(s)"
   ]
  },
  {
   "cell_type": "markdown",
   "metadata": {},
   "source": [
    "The function $\\texttt{toInt}(s)$ tries to convert the string $s$ to an integer.  If this works out, the integer is returned.  Otherwise, the string $s$ is returned unchanged."
   ]
  },
  {
   "cell_type": "code",
   "execution_count": null,
   "metadata": {},
   "outputs": [],
   "source": [
    "def toInt(s):\n",
    "    try:\n",
    "        return int(s)   \n",
    "    except ValueError:\n",
    "        return s"
   ]
  },
  {
   "cell_type": "markdown",
   "metadata": {},
   "source": [
    "The module `re` provides support for <a href='https://en.wikipedia.org/wiki/Regular_expression'>regular expressions</a>.  These are needed for\n",
    "<em style=\"color:blue;\">tokenizing</em> a string."
   ]
  },
  {
   "cell_type": "markdown",
   "metadata": {},
   "source": [
    "The function $\\texttt{tokenize}(s)$ takes a string and splits this string into a list of tokens.  Whitespace is discarded."
   ]
  },
  {
   "cell_type": "code",
   "execution_count": null,
   "metadata": {},
   "outputs": [],
   "source": [
    "def tokenize(s):\n",
    "    regExp = r'''\n",
    "              0|[1-9][0-9]* |             # number\n",
    "              \\*\\*          |             # power operator\n",
    "              [-+*/()]      |             # arithmetic operators and parentheses\n",
    "              [ \\t]         |             # white space\n",
    "              sqrt          |\n",
    "              sin           |\n",
    "              cos           |\n",
    "              tan           |   \n",
    "              asin          |\n",
    "              acos          |\n",
    "              atan          |\n",
    "              exp           |\n",
    "              log           |\n",
    "              x             |\n",
    "              e             |\n",
    "              pi\n",
    "              '''\n",
    "    L = [toInt(t) for t in re.findall(regExp, s, flags=re.VERBOSE) if not isWhiteSpace(t)]\n",
    "    return list(reversed(L))"
   ]
  },
  {
   "cell_type": "code",
   "execution_count": null,
   "metadata": {},
   "outputs": [],
   "source": [
    "tokenize('x**2 - 2')"
   ]
  },
  {
   "cell_type": "markdown",
   "metadata": {},
   "source": [
    "The module `math` provides a number of mathematical functions like `exp`, `sin`, `log` etc."
   ]
  },
  {
   "cell_type": "code",
   "execution_count": null,
   "metadata": {},
   "outputs": [],
   "source": [
    "import math"
   ]
  },
  {
   "cell_type": "markdown",
   "metadata": {},
   "source": [
    "The function $\\texttt{findZero}(f, a, b, n)$ takes a function $f$ and two numbers $a$ and $b$ such that\n",
    "\n",
    "  - $a < b$ and\n",
    "  - $f(a) \\leq 0 \\leq f(b)$ or $f(a) \\geq 0 \\geq f(b)$.\n",
    "  \n",
    "It uses the bisection method to find a number $x \\in [a, b]$ such that $f(x) \\approx 0$.\n",
    "$n$ is the number of iterations."
   ]
  },
  {
   "cell_type": "code",
   "execution_count": null,
   "metadata": {},
   "outputs": [],
   "source": [
    "def findZero(f, a, b, n):\n",
    "    assert a < b,            f'{a} has to be less than {b}'\n",
    "    assert f(a) * f(b) <= 0, f'f({a}) * f({b}) > 0'\n",
    "    if f(a) <= 0 <= f(b):\n",
    "        for k in range(n):\n",
    "            c = 0.5 * (a + b) \n",
    "            print(f'f({c}) = {f(c)}, {b-a}')\n",
    "            if f(c) < 0:\n",
    "                a = c\n",
    "            elif f(c) > 0:\n",
    "                b = c\n",
    "            else:\n",
    "                return c\n",
    "    else:\n",
    "        for k in range(n):\n",
    "            c = 0.5 * (a + b) \n",
    "            print(f'f({c}) = {f(c)}, {b-a}')\n",
    "            if f(c) > 0:\n",
    "                a = c\n",
    "            elif f(c) < 0:\n",
    "                b = c\n",
    "            else:\n",
    "                return c\n",
    "    return (a + b) / 2"
   ]
  },
  {
   "cell_type": "code",
   "execution_count": null,
   "metadata": {},
   "outputs": [],
   "source": [
    "def f(x):\n",
    "    return x ** 2 - 2"
   ]
  },
  {
   "cell_type": "code",
   "execution_count": null,
   "metadata": {},
   "outputs": [],
   "source": [
    "findZero(f, 0, 2, 55)"
   ]
  },
  {
   "cell_type": "markdown",
   "metadata": {},
   "source": [
    "The function $\\texttt{precedence}(o)$ calculates the precedence of the operator $o$."
   ]
  },
  {
   "cell_type": "code",
   "execution_count": null,
   "metadata": {},
   "outputs": [],
   "source": [
    "def precedence(op):\n",
    "    \"your code here\""
   ]
  },
  {
   "cell_type": "markdown",
   "metadata": {},
   "source": [
    "The function $\\texttt{isUnaryOperator}(o)$ returns `True` of $o$ is a unary operator."
   ]
  },
  {
   "cell_type": "code",
   "execution_count": null,
   "metadata": {},
   "outputs": [],
   "source": [
    "def isUnaryOperator(op):\n",
    "    \"your code here\""
   ]
  },
  {
   "cell_type": "markdown",
   "metadata": {},
   "source": [
    "The function $\\texttt{isConstOperator}(o)$ returns `True` of $o$ is a constant like `e`or `pi`."
   ]
  },
  {
   "cell_type": "code",
   "execution_count": null,
   "metadata": {},
   "outputs": [],
   "source": [
    "def isConstOperator(op):\n",
    "    \"your code here\""
   ]
  },
  {
   "cell_type": "markdown",
   "metadata": {},
   "source": [
    "The function $\\texttt{isLeftAssociative}(o)$ returns `True` of $o$ is left associative."
   ]
  },
  {
   "cell_type": "code",
   "execution_count": null,
   "metadata": {},
   "outputs": [],
   "source": [
    "def isLeftAssociative(op):\n",
    "    \"your code here\""
   ]
  },
  {
   "cell_type": "markdown",
   "metadata": {},
   "source": [
    "The function $\\texttt{evalBefore}(o_1, o_2)$ receives to strings representing arithmetical operators.  It returns `True` if the operator $o_1$ should be evaluated before the operator $o_2$ in an arithmetical expression of the form $a \\;\\texttt{o}_1\\; b \\;\\texttt{o}_2\\; c$.  In order to determine whether $o_1$ should be evaluated before $o_2$ it uses the \n",
    "<em style=\"color:blue\">precedence</em> and the <em style=\"color:blue\">associativity</em> of the operators.  \n",
    "Its behavior is specified by the following rules:\n",
    "- $\\texttt{precedence}(o_1) > \\texttt{precedence}(o_2) \\rightarrow \\texttt{evalBefore}(\\texttt{o}_1, \\texttt{o}_2) = \\texttt{True}$,\n",
    "- $o_1 = o_2 \\rightarrow \\texttt{evalBefore}(\\texttt{o}_1, \\texttt{o}_2) = \\texttt{isLeftAssociative}(o_1)$,\n",
    "- $\\texttt{precedence}(o_1) = \\texttt{precedence}(o_2) \\wedge o_1 \\not= o_2 \\rightarrow \\texttt{evalBefore}(\\texttt{o}_1, \\texttt{o}_2) = \\texttt{True}$,\n",
    "- $\\texttt{precedence}(o_1) < \\texttt{precedence}(o_2) \\rightarrow \\texttt{evalBefore}(\\texttt{o}_1, \\texttt{o}_2) = \\texttt{False}$."
   ]
  },
  {
   "cell_type": "code",
   "execution_count": null,
   "metadata": {},
   "outputs": [],
   "source": [
    "def evalBefore(stackOp, nextOp):\n",
    "    \"your code here\""
   ]
  },
  {
   "cell_type": "code",
   "execution_count": null,
   "metadata": {},
   "outputs": [],
   "source": [
    "import stack"
   ]
  },
  {
   "cell_type": "markdown",
   "metadata": {},
   "source": [
    "The class `Calculator` supports three member variables:\n",
    "  - the token stack `mTokens`,\n",
    "  - the operator stack `mOperators`,\n",
    "  - the argument stack `mArguments`,\n",
    "  - the floating point number `mValue`, which is the current value of `x`.\n",
    "  \n",
    "The constructor takes a list of tokens `TL` and initializes the token stack with these \n",
    "tokens."
   ]
  },
  {
   "cell_type": "code",
   "execution_count": null,
   "metadata": {},
   "outputs": [],
   "source": [
    "class Calculator:\n",
    "    def __init__(self, TL, x):\n",
    "        self.mTokens     = stack.createStack(TL)\n",
    "        self.mOperators  = stack.Stack()\n",
    "        self.mArguments  = stack.Stack()\n",
    "        self.mValue      = x"
   ]
  },
  {
   "cell_type": "markdown",
   "metadata": {},
   "source": [
    "The method `__str__` is used to convert an object of class `Calculator` to a string."
   ]
  },
  {
   "cell_type": "code",
   "execution_count": null,
   "metadata": {},
   "outputs": [],
   "source": [
    "def toString(self):\n",
    "    return '\\n'.join(['_'*50, \n",
    "                      'TokenStack: ', str(self.mTokens), \n",
    "                      'Arguments:  ', str(self.mArguments), \n",
    "                      'Operators:  ', str(self.mOperators), \n",
    "                      '_'*50])\n",
    "\n",
    "Calculator.__str__ = toString"
   ]
  },
  {
   "cell_type": "markdown",
   "metadata": {},
   "source": [
    "The function $\\texttt{evaluate}(\\texttt{self})$ evaluates the expression that is given by the tokens on the `mTokenStack`.  \n",
    "There are two phases:\n",
    "1. The first phase is the <em style=\"color:blue\">reading phase</em>. In this phase\n",
    "   the tokens are removed from the token stack `mTokens`.  \n",
    "2. The second phase is the <em style=\"color:blue\">evaluation phase</em>.  In this phase,\n",
    "   the remaining operators on the operator stack `mOperators` are evaluated.  Note that some operators are already \n",
    "   evaluated in the *reading phase*.\n",
    "\n",
    "We can describe what happens in the *reading phase* using \n",
    "<em style=\"color:blue\">rewrite rules</em> that describe how the three stacks `mTokens`, `mArguments` and `mOperators`\n",
    "are changed in each *step*.  Here, a *step* is one iteration of the first `while`-loop of the function `evaluate`.\n",
    "The following *rewrite rules* are executed until the token stack `mTokens` is empty.\n",
    "1. If the token on top of the token stack is an integer, it is removed from the token stack and pushed onto the argument stack.\n",
    "   The operator stack remains unchanged in this case.  \n",
    "   $$\\begin{array}{lc}\n",
    "     \\texttt{mTokens} = \\texttt{mTokensRest} + [\\texttt{token} ] & \\wedge \\\\\n",
    "     \\texttt{isInteger}(\\texttt{token}) & \\Rightarrow \\\\[0.2cm]\n",
    "     \\texttt{mArguments}' = \\texttt{mArguments} + [\\texttt{token}] & \\wedge \\\\\n",
    "     \\texttt{mTokens}' = \\texttt{mTokensRest} & \\wedge \\\\\n",
    "     \\texttt{mOperators}' = \\texttt{mOperators}\n",
    "     \\end{array} \n",
    "   $$\n",
    "   Here, the primed variable $\\texttt{mArguments}'$ refers to the argument stack after  $\\texttt{token}$\n",
    "   has been pushed onto it.\n",
    "   \n",
    "   In the following rules we implicitly assume that the token on top of the token stack is not an integer but \n",
    "   rather a parenthesis or a proper operator.  In order to be more concise, we suppress this precondition from the \n",
    "   following rewrite rules.\n",
    "2. If the operator stack is empty, the next token is pushed onto the operator stack.\n",
    "   $$\\begin{array}{lc}\n",
    "     \\texttt{mTokens} = \\texttt{mTokensRest} + [\\texttt{op} ] & \\wedge \\\\\n",
    "     \\texttt{mOperators} = [] & \\Rightarrow \\\\[0.2cm]\n",
    "     \\texttt{mOperators}' = \\texttt{mOperators} + [\\texttt{op}] & \\wedge \\\\\n",
    "     \\texttt{mTokens}' = \\texttt{mTokensRest} & \\wedge \\\\\n",
    "     \\texttt{mArguments}' = \\texttt{mArguments} \n",
    "     \\end{array} \n",
    "   $$\n",
    "3. If the next token is an opening parenthesis, this parenthesis token is pushed onto the operator stack.\n",
    "   $$\\begin{array}{lc}\n",
    "     \\texttt{mTokens} = \\texttt{mTokensRest} + [\\texttt{'('} ] & \\Rightarrow \\\\[0.2cm]\n",
    "     \\texttt{mOperators}' = \\texttt{mOperators} + [\\texttt{'('}] & \\wedge \\\\\n",
    "     \\texttt{mTokens}' = \\texttt{mTokensRest} & \\wedge \\\\\n",
    "     \\texttt{mArguments}' = \\texttt{mArguments} \n",
    "     \\end{array} \n",
    "   $$\n",
    "4. If the next token is a closing parenthesis and the operator on top of the operator stack is an opening parenthesis, then both \n",
    "   parentheses are removed.\n",
    "   $$\\begin{array}{lc}\n",
    "     \\texttt{mTokens} = \\texttt{mTokensRest} + [\\texttt{')'} ] & \\wedge \\\\\n",
    "     \\texttt{mOperators} =\\texttt{mOperatorsRest} + [\\texttt{'('}]                  & \\Rightarrow \\\\[0.2cm]\n",
    "     \\texttt{mOperators}' = \\texttt{mOperatorsRest} & \\wedge \\\\\n",
    "     \\texttt{mTokens}' = \\texttt{mTokensRest} & \\wedge \\\\\n",
    "     \\texttt{mArguments}' = \\texttt{mArguments} \n",
    "     \\end{array} \n",
    "   $$\n",
    "5. If the next token is a closing parenthesis but the operator on top of the operator stack is not an opening parenthesis, \n",
    "   the operator on top of the operator stack is evaluated.  Note that the token stack is not changed in this case.\n",
    "   $$\\begin{array}{lc}\n",
    "     \\texttt{mTokens} = \\texttt{mTokensRest} + [\\texttt{')'} ] & \\wedge \\\\\n",
    "     \\texttt{mOperatorsRest} + [\\texttt{op}]                   & \\wedge \\\\\n",
    "     \\texttt{op} \\not= \\texttt{'('}                            & \\wedge \\\\\n",
    "     \\texttt{mArguments} = \\texttt{mArgumentsRest} + [\\texttt{lhs}, \\texttt{rhs}] & \\Rightarrow \\\\[0.2cm]\n",
    "        \\texttt{mOperators}' = \\texttt{mOperatorsRest} & \\wedge \\\\\n",
    "         \\texttt{mTokens}' = \\texttt{mTokens} & \\wedge \\\\\n",
    "         \\texttt{mArguments}' = \\texttt{mArgumentsRest} + [\\texttt{lhs} \\;\\texttt{op}\\; \\texttt{rhs}]\n",
    "     \\end{array} \n",
    "   $$\n",
    "   Here, the expression $\\texttt{lhs} \\;\\texttt{op}\\; \\texttt{rhs}$ denotes evaluating the operator $\\texttt{op}$ with the arguments\n",
    "   $\\texttt{lhs}$ and $\\texttt{rhs}$.\n",
    "6. If the token on top of the operator stack is an opening parenthesis, then the operator on top of the token stack\n",
    "   is pushed onto the operator stack.\n",
    "   $$\\begin{array}{lc}\n",
    "     \\texttt{mTokens} = \\texttt{mTokensRest} + [\\texttt{op}] & \\wedge \\\\\n",
    "     \\texttt{op} \\not= \\texttt{')'}                          & \\wedge \\\\\n",
    "     \\texttt{mOperators} = \\texttt{mOperatorsRest} + [\\texttt{'('}] & \\Rightarrow \\\\[0.2cm]\n",
    "     \\texttt{mOperator}' = \\texttt{mOperator} + [\\texttt{op}] & \\wedge \\\\\n",
    "     \\texttt{mTokens}' = \\texttt{mTokensRest} & \\wedge \\\\\n",
    "     \\texttt{mArguments}' = \\texttt{mArguments}\n",
    "     \\end{array} \n",
    "   $$\n",
    "   \n",
    "   In the remaining cases neither the token on top of the token stack nor the operator on top of the operator stack can be a\n",
    "   a parenthesis.  The following rules will implicitly assume that this is the case.\n",
    "7. If the operator on top of the operator stack needs to be evaluated before the operator on top of the token stack,\n",
    "   the operator on top of the operator stack is evaluated.\n",
    "      $$\\begin{array}{lc}\n",
    "        \\texttt{mTokens} = \\texttt{mTokensRest} + [o_2]                                        & \\wedge \\\\\n",
    "        \\texttt{mOperatorsRest} + [o_1]                                                        & \\wedge \\\\\n",
    "        \\texttt{evalBefore}(o_1, o_2)                                                          & \\wedge \\\\ \n",
    "        \\texttt{mArguments} = \\texttt{mArgumentsRest} + [\\texttt{lhs}, \\texttt{rhs}]           & \\Rightarrow \\\\[0.2cm]\n",
    "        \\texttt{mOperators}' = \\texttt{mOperatorRest}                                          & \\wedge \\\\\n",
    "        \\texttt{mTokens}' = \\texttt{mTokens}                                                   & \\wedge \\\\\n",
    "        \\texttt{mArguments}' = \\texttt{mArgumentsRest} + [\\texttt{lhs} \\;o_1\\; \\texttt{rhs}]\n",
    "        \\end{array} \n",
    "      $$\n",
    "8. Otherwise, the operator on top of the token stack is pushed onto the operator stack.\n",
    "   $$\\begin{array}{lc}\n",
    "         \\texttt{mTokens} = \\texttt{mTokensRest} + [o_2]           & \\wedge \\\\\n",
    "         \\texttt{mOperators} = \\texttt{mOperatorsRest} + [o_1]     & \\wedge \\\\\n",
    "         \\neg \\texttt{evalBefore}(o_1, o_2)                        & \\Rightarrow \\\\[0.2cm]\n",
    "        \\texttt{mOperators}' = \\texttt{mOperators} + [o_2]         & \\wedge \\\\\n",
    "        \\texttt{mTokens}' = \\texttt{mTokensRest}                   & \\wedge \\\\\n",
    "        \\texttt{mArguments}' = \\texttt{mArguments}\n",
    "      \\end{array} \n",
    "    $$\n",
    "   \n",
    "In every step of the evaluation phase we \n",
    "- remove one operator from the operator stack, \n",
    "- remove its arguments from the argument stack, \n",
    "- evaluate the operator, and \n",
    "- push the result back on the argument stack"
   ]
  },
  {
   "cell_type": "code",
   "execution_count": null,
   "metadata": {},
   "outputs": [],
   "source": [
    "def evaluate(self):\n",
    "    \"your code here\"\n",
    "    \n",
    "Calculator.evaluate = evaluate\n",
    "del evaluate"
   ]
  },
  {
   "cell_type": "markdown",
   "metadata": {},
   "source": [
    "The method $\\texttt{popAndEvaluate}(\\texttt{self})$ removes an operator from the operator stack and removes the corresponding arguments from the \n",
    "arguments stack.  It evaluates the operator and pushes the result on the argument stack."
   ]
  },
  {
   "cell_type": "code",
   "execution_count": null,
   "metadata": {},
   "outputs": [],
   "source": [
    "def popAndEvaluate(self):\n",
    "    \"your code here\"\n",
    "\n",
    "Calculator.popAndEvaluate = popAndEvaluate"
   ]
  },
  {
   "cell_type": "code",
   "execution_count": null,
   "metadata": {},
   "outputs": [],
   "source": [
    "TL = tokenize('x - cos(x)')\n",
    "C = Calculator(TL, 1)"
   ]
  },
  {
   "cell_type": "code",
   "execution_count": null,
   "metadata": {},
   "outputs": [],
   "source": [
    "C.evaluate()"
   ]
  },
  {
   "cell_type": "code",
   "execution_count": null,
   "metadata": {},
   "outputs": [],
   "source": [
    "def computeZero(s, left, right):\n",
    "    TL = tokenize(s)\n",
    "\n",
    "    def f(x):\n",
    "        c = Calculator(TL, x)\n",
    "        return c.evaluate()\n",
    "\n",
    "    return findZero(f, left, right, 54);"
   ]
  },
  {
   "cell_type": "code",
   "execution_count": null,
   "metadata": {},
   "outputs": [],
   "source": [
    "computeZero('log exp x - cos(x)', 0, 1)"
   ]
  },
  {
   "cell_type": "code",
   "execution_count": null,
   "metadata": {},
   "outputs": [],
   "source": []
  }
 ],
 "metadata": {
  "kernelspec": {
   "display_name": "Python 3",
   "language": "python",
   "name": "python3"
  },
  "language_info": {
   "codemirror_mode": {
    "name": "ipython",
    "version": 3
   },
   "file_extension": ".py",
   "mimetype": "text/x-python",
   "name": "python",
   "nbconvert_exporter": "python",
   "pygments_lexer": "ipython3",
   "version": "3.9.2"
  },
  "varInspector": {
   "cols": {
    "lenName": 16,
    "lenType": 16,
    "lenVar": 40
   },
   "kernels_config": {
    "python": {
     "delete_cmd_postfix": "",
     "delete_cmd_prefix": "del ",
     "library": "var_list.py",
     "varRefreshCmd": "print(var_dic_list())"
    },
    "r": {
     "delete_cmd_postfix": ") ",
     "delete_cmd_prefix": "rm(",
     "library": "var_list.r",
     "varRefreshCmd": "cat(var_dic_list()) "
    }
   },
   "types_to_exclude": [
    "module",
    "function",
    "builtin_function_or_method",
    "instance",
    "_Feature"
   ],
   "window_display": false
  }
 },
 "nbformat": 4,
 "nbformat_minor": 2
}
