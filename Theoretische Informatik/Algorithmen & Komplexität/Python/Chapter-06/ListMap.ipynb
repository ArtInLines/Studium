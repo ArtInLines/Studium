{
 "cells": [
  {
   "cell_type": "code",
   "execution_count": null,
   "metadata": {},
   "outputs": [],
   "source": [
    "from IPython.core.display import HTML\n",
    "with open('../style.css') as file:\n",
    "    css = file.read()\n",
    "HTML(css)"
   ]
  },
  {
   "cell_type": "markdown",
   "metadata": {},
   "source": [
    "# Implementing Maps as Lists of Key-Value-Pairs "
   ]
  },
  {
   "cell_type": "markdown",
   "metadata": {},
   "source": [
    "The class `ListNode` implements a node of a <em style=\"color:blue\">linked lists</em> of \n",
    "*key-value pairs*.  Every node has three member variables:\n",
    "- `mKey`     stores the *key*,\n",
    "- `mValue`   stores the *value* associated with this key, and\n",
    "- `mNextPtr` stores a reference to the next node.  If there is no next node, then \n",
    "  `mNextPtr` is `None`.\n",
    "  \n",
    "Objects of class `ListNode` are used to represent linked lists.  \n",
    "  \n",
    "The constructor of the class `ListNode` creates a single node that stores the given `key` and its associated `value`."
   ]
  },
  {
   "cell_type": "code",
   "execution_count": null,
   "metadata": {},
   "outputs": [],
   "source": [
    "class ListNode:\n",
    "    def __init__(self, key, value):\n",
    "        self.mKey     = key\n",
    "        self.mValue   = value\n",
    "        self.mNextPtr = None"
   ]
  },
  {
   "cell_type": "markdown",
   "metadata": {},
   "source": [
    "Given a `key`, the method `find` traverses the given list until it finds a node that stores the given `key`.  In this case, it returns the associated value.  Otherwise, `None` is returned."
   ]
  },
  {
   "cell_type": "code",
   "execution_count": null,
   "metadata": {},
   "outputs": [],
   "source": [
    "def find(self, key):\n",
    "    ptr = self\n",
    "    while True:\n",
    "        if ptr.mKey == key:\n",
    "            return ptr.mValue\n",
    "        if ptr.mNextPtr != None:\n",
    "            ptr = ptr.mNextPtr\n",
    "        else:\n",
    "            return\n",
    "    \n",
    "ListNode.find = find\n",
    "del find"
   ]
  },
  {
   "cell_type": "markdown",
   "metadata": {},
   "source": [
    "Given the first node of a *linked list* $L$, the function $L.\\texttt{insert}(k, v)$ inserts the *key-value* pair $(k, v)$ into the list $L$.  If there is already a key value pair in $L$ that has the same key, then the old value is overwritten.  It returns a boolean that is true if a new node has been allocated."
   ]
  },
  {
   "cell_type": "code",
   "execution_count": null,
   "metadata": {},
   "outputs": [],
   "source": [
    "def insert(self, key, value):\n",
    "    while True:\n",
    "        if self.mKey == key:\n",
    "            self.mValue = value\n",
    "            return False\n",
    "        elif self.mNextPtr != None:\n",
    "            self = self.mNextPtr\n",
    "        else:\n",
    "            self.mNextPtr = ListNode(key, value)\n",
    "            return True\n",
    "\n",
    "ListNode.insert = insert\n",
    "del insert"
   ]
  },
  {
   "cell_type": "markdown",
   "metadata": {},
   "source": [
    "Given the first node of a *linked list* $L$, the function $L.\\texttt{delete}(k)$ deletes the first *key-value* pair of the form $(k, v)$ from the list $L$.  If there is no such pair, the list $L$ is unchanged.  It returns a pair such that:\n",
    "- The first component of this pair is a pointer to the changed list.  \n",
    "  If the list becomes empty, the first component is `None`.\n",
    "- The second component is a Boolean that is `True` if a node has been deleted."
   ]
  },
  {
   "cell_type": "code",
   "execution_count": null,
   "metadata": {},
   "outputs": [],
   "source": [
    "def delete(self, key):\n",
    "    previous = None\n",
    "    ptr      = self\n",
    "    while True:\n",
    "        if ptr.mKey == key:\n",
    "            if previous == None:\n",
    "                return ptr.mNextPtr, True\n",
    "            else:\n",
    "                previous.mNextPtr = ptr.mNextPtr\n",
    "                return self, True\n",
    "        elif ptr.mNextPtr != None:\n",
    "            previous = ptr\n",
    "            ptr      = ptr.mNextPtr\n",
    "        else:\n",
    "            return self, False\n",
    "\n",
    "ListNode.delete = delete\n",
    "del delete"
   ]
  },
  {
   "cell_type": "markdown",
   "metadata": {},
   "source": [
    "Given the first node of a *linked list* $L$, the function $L.\\texttt{toString}()$ returns a string representing $L$."
   ]
  },
  {
   "cell_type": "code",
   "execution_count": null,
   "metadata": {},
   "outputs": [],
   "source": [
    "def toString(self):\n",
    "    if self.mNextPtr != None:\n",
    "        return f'{self.mKey} ↦ {self.mValue}, ' + self.mNextPtr.__str__()\n",
    "    else:\n",
    "        return f'{self.mKey} ↦ {self.mValue}'\n",
    "\n",
    "ListNode.__str__ = toString\n",
    "del toString"
   ]
  },
  {
   "cell_type": "markdown",
   "metadata": {},
   "source": [
    "The class `ListMap` implements a *map* using a linked list of *key-value* pairs.  Basically, it is a wrapper for the class\n",
    "`ListNode`.  Furthermore, an object of type `ListMap` is iterable."
   ]
  },
  {
   "cell_type": "code",
   "execution_count": null,
   "metadata": {},
   "outputs": [],
   "source": [
    "class ListMap:\n",
    "    def __init__(self):\n",
    "        self.mPtr = None\n",
    "        \n",
    "    def find(self, key):\n",
    "        if self.mPtr != None:\n",
    "            return self.mPtr.find(key)\n",
    "        \n",
    "    def insert(self, key, value):\n",
    "        if self.mPtr != None:\n",
    "            return self.mPtr.insert(key, value)\n",
    "        else:\n",
    "            self.mPtr = ListNode(key, value)\n",
    "            return True\n",
    "            \n",
    "    def delete(self, key):\n",
    "        if self.mPtr != None:\n",
    "            self.mPtr, flag = self.mPtr.delete(key)\n",
    "            return flag\n",
    "        return False\n",
    "            \n",
    "    def __iter__(self):\n",
    "        return MapIterator(self.mPtr)\n",
    "            \n",
    "    def __str__(self):\n",
    "        if self.mPtr != None:\n",
    "            return '{' + self.mPtr.__str__() + '}'\n",
    "        else:\n",
    "            return '{}'\n",
    "    \n",
    "    def __repr__(self):\n",
    "        return self.__str__()"
   ]
  },
  {
   "cell_type": "markdown",
   "metadata": {},
   "source": [
    "A `MapIterator` is an *iterator* that iterates over the elements of a linked list.  It maintains a pointer `mPtr` that points to the next element.\n",
    "It is implemented via the function `__next__`.  This function either returns the next *key-vale pair* or, if there are no more *key-value pairs* left, then it raises a\n",
    "`StopIteration` exception.\n",
    "\n",
    "If the `__iter__` method of a class $C$ returns an *iterator*, then we can use a \n",
    "`for`-loop to iterate over the elements contained in class $C$. "
   ]
  },
  {
   "cell_type": "code",
   "execution_count": null,
   "metadata": {},
   "outputs": [],
   "source": [
    "class MapIterator:\n",
    "    def __init__(self, ptr):\n",
    "        self.mPtr = ptr\n",
    "    \n",
    "    def __next__(self):\n",
    "        if self.mPtr == None:\n",
    "            raise StopIteration\n",
    "        key   = self.mPtr.mKey\n",
    "        value = self.mPtr.mValue\n",
    "        self.mPtr = self.mPtr.mNextPtr\n",
    "        return key, value"
   ]
  },
  {
   "cell_type": "code",
   "execution_count": null,
   "metadata": {},
   "outputs": [],
   "source": [
    "def main(n = 100):\n",
    "    S = ListMap()\n",
    "    for i in range(2, n + 1):\n",
    "        S.insert(i, True)\n",
    "    for i in range(2, n // 2 + 1):\n",
    "        for j in range(i, n // i + 1):\n",
    "            S.delete(i * j)\n",
    "    print([p for p, _ in S]) # iterates over ListMap\n",
    "    print(S.find(83))\n",
    "    print(S.find(99))"
   ]
  },
  {
   "cell_type": "code",
   "execution_count": null,
   "metadata": {},
   "outputs": [],
   "source": [
    "main()"
   ]
  },
  {
   "cell_type": "code",
   "execution_count": null,
   "metadata": {},
   "outputs": [],
   "source": []
  }
 ],
 "metadata": {
  "kernelspec": {
   "display_name": "Python 3",
   "language": "python",
   "name": "python3"
  },
  "language_info": {
   "codemirror_mode": {
    "name": "ipython",
    "version": 3
   },
   "file_extension": ".py",
   "mimetype": "text/x-python",
   "name": "python",
   "nbconvert_exporter": "python",
   "pygments_lexer": "ipython3",
   "version": "3.9.4"
  },
  "varInspector": {
   "cols": {
    "lenName": 16,
    "lenType": 16,
    "lenVar": 40
   },
   "kernels_config": {
    "python": {
     "delete_cmd_postfix": "",
     "delete_cmd_prefix": "del ",
     "library": "var_list.py",
     "varRefreshCmd": "print(var_dic_list())"
    },
    "r": {
     "delete_cmd_postfix": ") ",
     "delete_cmd_prefix": "rm(",
     "library": "var_list.r",
     "varRefreshCmd": "cat(var_dic_list()) "
    }
   },
   "types_to_exclude": [
    "module",
    "function",
    "builtin_function_or_method",
    "instance",
    "_Feature"
   ],
   "window_display": false
  }
 },
 "nbformat": 4,
 "nbformat_minor": 2
}
