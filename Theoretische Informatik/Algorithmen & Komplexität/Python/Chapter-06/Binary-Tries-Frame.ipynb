{
 "cells": [
  {
   "cell_type": "code",
   "execution_count": null,
   "metadata": {},
   "outputs": [],
   "source": [
    "from IPython.core.display import HTML\n",
    "with open('../style.css') as file:\n",
    "    css = file.read()\n",
    "HTML(css)"
   ]
  },
  {
   "cell_type": "markdown",
   "metadata": {},
   "source": [
    "# Binary Tries"
   ]
  },
  {
   "cell_type": "code",
   "execution_count": null,
   "metadata": {},
   "outputs": [],
   "source": [
    "import graphviz as gv"
   ]
  },
  {
   "cell_type": "markdown",
   "metadata": {},
   "source": [
    "This notebook presents <em style=\"color:blue;\">binary tries</em>.  We define the set $\\texttt{BT}$ of binary tries by induction:\n",
    "\n",
    "  - $\\texttt{Nil} \\in \\texttt{BT}$.\n",
    "  - $\\texttt{Bin}(v,l,r) \\in \\texttt{BT}$ provided that\n",
    "      - $v \\in \\texttt{Value} \\cup \\{\\Omega\\}$  and\n",
    "      - $l,r \\in \\texttt{BT}$."
   ]
  },
  {
   "cell_type": "markdown",
   "metadata": {},
   "source": [
    "The class `BinaryTrie` is a *superclass* for constructing *binary tries*.  It has one static variable `sNodeCount`.  This variable is used to equip all nodes with a unique identifier.  This identifier is used to draw the trees using `graphviz`.\n",
    "\n",
    "Every object of class `BinaryTrie` has a unique identifier `mID` that is stored as a member variable.  "
   ]
  },
  {
   "cell_type": "code",
   "execution_count": null,
   "metadata": {},
   "outputs": [],
   "source": [
    "class BinaryTrie:\n",
    "    sNodeCount = 0\n",
    "    \n",
    "    def __init__(self):\n",
    "        BinaryTrie.sNodeCount += 1\n",
    "        self.mID = BinaryTrie.sNodeCount\n",
    "        \n",
    "    def getID(self):\n",
    "        return self.mID  # used only by graphviz"
   ]
  },
  {
   "cell_type": "markdown",
   "metadata": {},
   "source": [
    "The function `make_string` is a helper function that is used to simplify the implementation of `__str__`.\n",
    "  - `self` is the object that is to be rendered as a string\n",
    "  - `attributes` is a list of those member variables that are used to produce the string"
   ]
  },
  {
   "cell_type": "code",
   "execution_count": null,
   "metadata": {},
   "outputs": [],
   "source": [
    "def _make_string(self, attributes):\n",
    "        # map the function __str__ to all attributes and join them with a comma\n",
    "        name = self.__class__.__name__\n",
    "        return f\"{name}({', '.join(map(str, [getattr(self, at) for at in attributes]))})\"\n",
    "    \n",
    "BinaryTrie._make_string = _make_string\n",
    "del _make_string"
   ]
  },
  {
   "cell_type": "markdown",
   "metadata": {},
   "source": [
    "The method $t.\\texttt{toDot}()$ takes a binary trie $t$ and returns a graph that depicts the tree $t$."
   ]
  },
  {
   "cell_type": "code",
   "execution_count": null,
   "metadata": {},
   "outputs": [],
   "source": [
    "def toDot(self):\n",
    "    dot = gv.Digraph(node_attr={'shape': 'record', 'style': 'rounded'})\n",
    "    nodeDict = {}\n",
    "    self._collectIDs(nodeDict)\n",
    "    for n, t in nodeDict.items():\n",
    "        if isinstance(t, Nil):\n",
    "            dot.node(str(n), label='', shape='point') \n",
    "        elif isinstance(t, Bin):\n",
    "            if t.mValue != None:\n",
    "                dot.node(str(n), label='{' + str(t.mDigit) + '|' + str(t.mValue) + '}')\n",
    "            else:\n",
    "                dot.node(str(n), label='{' + str(t.mDigit) + '|' + '}')\n",
    "        else:\n",
    "            assert False, f'Unknown node {t}'\n",
    "    for n, t in nodeDict.items():\n",
    "        if isinstance(t, Bin):\n",
    "            dot.edge(str(n), str(t.mLeft .getID()))\n",
    "            dot.edge(str(n), str(t.mRight.getID()))\n",
    "    return dot\n",
    "\n",
    "BinaryTrie.toDot = toDot\n",
    "del toDot"
   ]
  },
  {
   "cell_type": "markdown",
   "metadata": {},
   "source": [
    "The method $t.\\texttt{collectIDs}(d)$ takes a binary trie $t$ and a dictionary $d$ and updates the dictionary so that the following holds:\n",
    "$$ d[\\texttt{id}] = n \\quad \\mbox{for every node $n$ in $t$.} $$\n",
    "Here, $\\texttt{id}$ is the unique identifier of the node $n$, i.e. $d$ associates the identifiers with the corresponding nodes."
   ]
  },
  {
   "cell_type": "code",
   "execution_count": null,
   "metadata": {},
   "outputs": [],
   "source": [
    "def _collectIDs(self, nodeDict):\n",
    "    nodeDict[self.getID()] = self\n",
    "    if isinstance(self, Bin):\n",
    "        self.mLeft ._collectIDs(nodeDict)\n",
    "        self.mRight._collectIDs(nodeDict)\n",
    "        self.mLeft .mDigit = '0'\n",
    "        self.mRight.mDigit = '1'\n",
    "        \n",
    "BinaryTrie._collectIDs = _collectIDs\n",
    "del _collectIDs"
   ]
  },
  {
   "cell_type": "markdown",
   "metadata": {},
   "source": [
    "The class `Nil` represents an empty *binary trie*.  It has no member variables of \n",
    "its own."
   ]
  },
  {
   "cell_type": "code",
   "execution_count": null,
   "metadata": {},
   "outputs": [],
   "source": [
    "class Nil(BinaryTrie):\n",
    "    def __init__(self):\n",
    "        BinaryTrie.__init__(self)\n",
    "          \n",
    "    def __str__(self):\n",
    "        return 'Nil()'"
   ]
  },
  {
   "cell_type": "markdown",
   "metadata": {},
   "source": [
    "The class `Bin` represents a *binary trie* of the form $\\texttt{Bin}(v,l,r)$.\n",
    "It has three member variables:\n",
    "* `mValue` is the value that is stored at this node.\n",
    "* `mLeft`  is the left subtree.\n",
    "* `mRight` is the right subtree.\n",
    "* `mDigit` is a string that is used by `graphviz` to display the node."
   ]
  },
  {
   "cell_type": "code",
   "execution_count": null,
   "metadata": {},
   "outputs": [],
   "source": [
    "class Bin(BinaryTrie):\n",
    "    def __init__(self, value, left, right):\n",
    "        BinaryTrie.__init__(self)\n",
    "        self.mValue = value\n",
    "        self.mLeft  = left\n",
    "        self.mRight = right\n",
    "        self.mDigit = '' # only used by graphviz\n",
    "\n",
    "    def __str__(self):\n",
    "        return _make_string(self, ['mValue', 'mLeft', 'mRight'])"
   ]
  },
  {
   "cell_type": "markdown",
   "metadata": {},
   "source": [
    "## Implementing the Method  `find`"
   ]
  },
  {
   "cell_type": "markdown",
   "metadata": {},
   "source": [
    "Given a binary trie $b$ and a natural number $n$, the expression\n",
    "$$ b.\\texttt{find}(n) $$ \n",
    "returns the value in $b$ that is associated with the number $n$.  If there is no value associated\n",
    "with $b$, then the expression evaluates to $\\Omega$.  Formally, the value of the expression\n",
    "$b.\\texttt{find}(n)$ is defined by induction on both $b$ and $n$:\n",
    "  - $\\texttt{Nil}.\\texttt{find}(n) = \\Omega$,\n",
    "  \n",
    "    since the empty trie doesn't store any values.\n",
    "  - $\\texttt{Bin}(v,l,r).\\texttt{find}(0) = v$,\n",
    "\n",
    "    because $0$ is interpreted as the empty string $\\varepsilon$.\n",
    "  - $n \\not= 0 \\rightarrow \\texttt{Bin}(v,l,r).\\texttt{find}(2\\cdot n) = l.\\texttt{find}(n)$,\n",
    "\n",
    "    because if a number is represented in binary, then the last bit of every even number is zero\n",
    "    and zero chooses the left subtree.\n",
    "  - $\\texttt{Bin}(v,l,r).\\texttt{find}(2 \\cdot n + 1) = r.\\texttt{find}(n)$,\n",
    "\n",
    "    because if a number is represented in binary, then the last bit of every odd number is 1 and \n",
    "    1 is associated with the right subtree."
   ]
  },
  {
   "cell_type": "code",
   "execution_count": null,
   "metadata": {},
   "outputs": [],
   "source": [
    "def find(self, n):\n",
    "    \"your code here\"\n",
    "\n",
    "Nil.find = find\n",
    "del find"
   ]
  },
  {
   "cell_type": "code",
   "execution_count": null,
   "metadata": {},
   "outputs": [],
   "source": [
    "def find(self, n):\n",
    "    \"your code here\"\n",
    "    \n",
    "Bin.find = find\n",
    "del find"
   ]
  },
  {
   "cell_type": "markdown",
   "metadata": {},
   "source": [
    "## Implementing the Method  `insert`"
   ]
  },
  {
   "cell_type": "markdown",
   "metadata": {},
   "source": [
    "Given a binary trie $b$, a natural number $n$ and a value $v$, the expression\n",
    "$$  b.\\texttt{insert}(n, v) $$\n",
    "is defined by induction on $b$ and $n$:\n",
    "\n",
    "*Your equations here!*\n",
    "```\n",
    "E = m * c ** 2\n",
    "```"
   ]
  },
  {
   "cell_type": "code",
   "execution_count": null,
   "metadata": {},
   "outputs": [],
   "source": [
    "def insert(self, n, v):\n",
    "    \"your code here\"\n",
    "    \n",
    "Nil.insert = insert\n",
    "del insert"
   ]
  },
  {
   "cell_type": "code",
   "execution_count": null,
   "metadata": {},
   "outputs": [],
   "source": [
    "def insert(self, n, v):\n",
    "    \"your code here\"\n",
    "    \n",
    "Bin.insert = insert\n",
    "del insert"
   ]
  },
  {
   "cell_type": "markdown",
   "metadata": {},
   "source": [
    "## Implementing the Method  `delete`"
   ]
  },
  {
   "cell_type": "markdown",
   "metadata": {},
   "source": [
    "First we have to implement a method `simplify`.  Given a binary trie $b$,\n",
    "the expression $b.\\texttt{simplify}()$ returns `Nil` iff $b$ does not contain any key.  Otherwise, $b$ is left unchanged.\n",
    "The method `simplify` is specified by the following equations:\n",
    "\n",
    "*Your equations here!*"
   ]
  },
  {
   "cell_type": "code",
   "execution_count": null,
   "metadata": {},
   "outputs": [],
   "source": [
    "def simplify(self):\n",
    "    \"your code here\"\n",
    "    \n",
    "Bin.simplify = simplify\n",
    "del simplify"
   ]
  },
  {
   "cell_type": "markdown",
   "metadata": {},
   "source": [
    "*Your equations here!*"
   ]
  },
  {
   "cell_type": "code",
   "execution_count": null,
   "metadata": {},
   "outputs": [],
   "source": [
    "def delete(self, n):\n",
    "    \"your code here\"\n",
    "\n",
    "Nil.delete = delete\n",
    "del delete"
   ]
  },
  {
   "cell_type": "code",
   "execution_count": null,
   "metadata": {},
   "outputs": [],
   "source": [
    "def delete(self, n):\n",
    "    \"your code here\"\n",
    "    \n",
    "Bin.delete = delete\n",
    "del delete"
   ]
  },
  {
   "cell_type": "markdown",
   "metadata": {},
   "source": [
    "# Testing"
   ]
  },
  {
   "cell_type": "code",
   "execution_count": null,
   "metadata": {},
   "outputs": [],
   "source": [
    "b = Nil()\n",
    "b.toDot()"
   ]
  },
  {
   "cell_type": "code",
   "execution_count": null,
   "metadata": {},
   "outputs": [],
   "source": [
    "b = b.insert(0, 'a')\n",
    "b.toDot()"
   ]
  },
  {
   "cell_type": "code",
   "execution_count": null,
   "metadata": {},
   "outputs": [],
   "source": [
    "b = b.insert(1, 'b')\n",
    "b.toDot()"
   ]
  },
  {
   "cell_type": "code",
   "execution_count": null,
   "metadata": {},
   "outputs": [],
   "source": [
    "b = b.insert(2, 'c')\n",
    "b.toDot()"
   ]
  },
  {
   "cell_type": "code",
   "execution_count": null,
   "metadata": {},
   "outputs": [],
   "source": [
    "b = b.delete(0)\n",
    "b.toDot()"
   ]
  },
  {
   "cell_type": "code",
   "execution_count": null,
   "metadata": {},
   "outputs": [],
   "source": [
    "b = b.delete(1)\n",
    "b.toDot()"
   ]
  },
  {
   "cell_type": "code",
   "execution_count": null,
   "metadata": {},
   "outputs": [],
   "source": [
    "b = b.delete(2)\n",
    "b.toDot()"
   ]
  },
  {
   "cell_type": "markdown",
   "metadata": {},
   "source": [
    "Let us compute the prime numbers next."
   ]
  },
  {
   "cell_type": "code",
   "execution_count": null,
   "metadata": {},
   "outputs": [],
   "source": [
    "Primes = Nil()\n",
    "for i in range(2, 101):\n",
    "    Primes = Primes.insert(i, True)\n",
    "Primes.toDot()"
   ]
  },
  {
   "cell_type": "code",
   "execution_count": null,
   "metadata": {},
   "outputs": [],
   "source": [
    "for i in range(2, 51):\n",
    "    for j in range(i, 100 // i + 1):\n",
    "        Primes = Primes.delete(i * j)\n",
    "display(Primes.toDot())\n",
    "for i in range(2, 101):\n",
    "    if Primes.find(i):\n",
    "        print(i, end=' ')"
   ]
  },
  {
   "cell_type": "code",
   "execution_count": null,
   "metadata": {},
   "outputs": [],
   "source": []
  }
 ],
 "metadata": {
  "kernelspec": {
   "display_name": "Python 3",
   "language": "python",
   "name": "python3"
  },
  "language_info": {
   "codemirror_mode": {
    "name": "ipython",
    "version": 3
   },
   "file_extension": ".py",
   "mimetype": "text/x-python",
   "name": "python",
   "nbconvert_exporter": "python",
   "pygments_lexer": "ipython3",
   "version": "3.9.4"
  },
  "varInspector": {
   "cols": {
    "lenName": 16,
    "lenType": 16,
    "lenVar": 40
   },
   "kernels_config": {
    "python": {
     "delete_cmd_postfix": "",
     "delete_cmd_prefix": "del ",
     "library": "var_list.py",
     "varRefreshCmd": "print(var_dic_list())"
    },
    "r": {
     "delete_cmd_postfix": ") ",
     "delete_cmd_prefix": "rm(",
     "library": "var_list.r",
     "varRefreshCmd": "cat(var_dic_list()) "
    }
   },
   "types_to_exclude": [
    "module",
    "function",
    "builtin_function_or_method",
    "instance",
    "_Feature"
   ],
   "window_display": false
  }
 },
 "nbformat": 4,
 "nbformat_minor": 2
}
