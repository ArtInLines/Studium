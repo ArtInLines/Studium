{
 "cells": [
  {
   "cell_type": "code",
   "execution_count": null,
   "id": "6f920cf5",
   "metadata": {},
   "outputs": [],
   "source": [
    "from IPython.core.display import HTML\n",
    "with open('../style.css') as file:\n",
    "    css = file.read()\n",
    "HTML(css)"
   ]
  },
  {
   "cell_type": "markdown",
   "id": "aa3ee25b",
   "metadata": {},
   "source": [
    "# Iterative Computation of the Power of a Number"
   ]
  },
  {
   "cell_type": "markdown",
   "id": "3c535f8d",
   "metadata": {},
   "source": [
    "Given two natural numbers `x` and `y`, the function `power(x, y)` computes the expression $x^y$ in an iterative fashion.\n",
    "If the initial value of `x` is $a$ and the initial value of `y` is $b$, then the *invariant* of the `while` loop is \n",
    "$$ r \\cdot x^y = a^b. $$"
   ]
  },
  {
   "cell_type": "code",
   "execution_count": null,
   "id": "35549fc9",
   "metadata": {},
   "outputs": [],
   "source": [
    "def power(x, y):\n",
    "    r = 1\n",
    "    while y > 0:\n",
    "        if y % 2 == 1:\n",
    "            r = r * x\n",
    "        x = x * x\n",
    "        y = y // 2\n",
    "    return r"
   ]
  },
  {
   "cell_type": "code",
   "execution_count": null,
   "id": "bea8733e",
   "metadata": {},
   "outputs": [],
   "source": [
    "for n in range(11):\n",
    "    print(f'power(2, {n}) = {power(2, n)}')"
   ]
  },
  {
   "cell_type": "code",
   "execution_count": null,
   "id": "51e00dfe",
   "metadata": {},
   "outputs": [],
   "source": []
  }
 ],
 "metadata": {
  "kernelspec": {
   "display_name": "Python 3",
   "language": "python",
   "name": "python3"
  },
  "language_info": {
   "codemirror_mode": {
    "name": "ipython",
    "version": 3
   },
   "file_extension": ".py",
   "mimetype": "text/x-python",
   "name": "python",
   "nbconvert_exporter": "python",
   "pygments_lexer": "ipython3",
   "version": "3.8.8"
  }
 },
 "nbformat": 4,
 "nbformat_minor": 5
}
