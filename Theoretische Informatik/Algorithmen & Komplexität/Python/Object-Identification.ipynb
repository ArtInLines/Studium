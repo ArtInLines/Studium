{
 "cells": [
  {
   "cell_type": "code",
   "execution_count": null,
   "metadata": {},
   "outputs": [],
   "source": [
    "from IPython.core.display import HTML\n",
    "with open('style.css', 'r') as file:\n",
    "    css = file.read()\n",
    "HTML(css)"
   ]
  },
  {
   "cell_type": "markdown",
   "metadata": {},
   "source": [
    "# Object Identification in Images "
   ]
  },
  {
   "cell_type": "markdown",
   "metadata": {},
   "source": [
    "We use `matplotlib` to read and show images."
   ]
  },
  {
   "cell_type": "code",
   "execution_count": null,
   "metadata": {},
   "outputs": [],
   "source": [
    "import matplotlib.image  as img\n",
    "import matplotlib.pyplot as plt"
   ]
  },
  {
   "cell_type": "markdown",
   "metadata": {},
   "source": [
    "The image of the car is taken from here:\n",
    "https://commons.wikimedia.org/w/index.php?curid=32044247.\n",
    "For performance reasons I have rescaled the image."
   ]
  },
  {
   "cell_type": "markdown",
   "metadata": {},
   "source": [
    "If you want to try this on your own machine, you have to install the \n",
    "<em style=\"color:blue;\">Python image procesing library</em> which is known as `pillow`."
   ]
  },
  {
   "cell_type": "code",
   "execution_count": null,
   "metadata": {},
   "outputs": [],
   "source": [
    "image = img.imread('Resources/kaefer.jpg')"
   ]
  },
  {
   "cell_type": "markdown",
   "metadata": {},
   "source": [
    "The image has a height of 959 pixels and a width of 1439 pixels:"
   ]
  },
  {
   "cell_type": "code",
   "execution_count": null,
   "metadata": {},
   "outputs": [],
   "source": [
    "image.shape"
   ]
  },
  {
   "cell_type": "markdown",
   "metadata": {},
   "source": [
    "We store width and height in the variables `m`and `n`."
   ]
  },
  {
   "cell_type": "code",
   "execution_count": null,
   "metadata": {},
   "outputs": [],
   "source": [
    "m, n, _ = image.shape"
   ]
  },
  {
   "cell_type": "code",
   "execution_count": null,
   "metadata": {},
   "outputs": [],
   "source": [
    "plt.rcParams[\"figure.figsize\"] = (15,22)"
   ]
  },
  {
   "cell_type": "code",
   "execution_count": null,
   "metadata": {},
   "outputs": [],
   "source": [
    "plt.imshow(image)"
   ]
  },
  {
   "cell_type": "markdown",
   "metadata": {},
   "source": [
    "We use the *union-find* data structure implemented earlier."
   ]
  },
  {
   "cell_type": "code",
   "execution_count": null,
   "metadata": {},
   "outputs": [],
   "source": [
    "import union_find_oo as uf"
   ]
  },
  {
   "cell_type": "markdown",
   "metadata": {},
   "source": [
    "The list `M` contains all coordinates $(x, y)$ of our image.  This list has over a million coordinates."
   ]
  },
  {
   "cell_type": "code",
   "execution_count": null,
   "metadata": {},
   "outputs": [],
   "source": [
    "M = [ (x, y) for x in range(m) for y in range(n) ]\n",
    "len(M)"
   ]
  },
  {
   "cell_type": "code",
   "execution_count": null,
   "metadata": {},
   "outputs": [],
   "source": [
    "UF = uf.UnionFind(M)"
   ]
  },
  {
   "cell_type": "markdown",
   "metadata": {},
   "source": [
    "The color of a pixel is a vector with three components.  These components specify the \n",
    "<em style=\"color:red;\">red</em>, <em style=\"color:green;\">green</em>, and <em style=\"color:blue;\">blue</em> \n",
    "value of the pixel.  The function $\\texttt{distance}(X, Y)$ takes two pixel-vectors $X$ and $Y$ and computes a value\n",
    "that measures how much these pixels differ."
   ]
  },
  {
   "cell_type": "code",
   "execution_count": null,
   "metadata": {},
   "outputs": [],
   "source": [
    "def distance(X, Y):\n",
    "    return abs(int(X[0]) - int(Y[0])) + \\\n",
    "           abs(int(X[1]) - int(Y[1])) + \\\n",
    "           abs(int(X[2]) - int(Y[2]))     "
   ]
  },
  {
   "cell_type": "markdown",
   "metadata": {},
   "source": [
    "Neighbouring pixels that differ by less than `threshold` will be considered <em style=\"color:blue;\">equivalent</em>, i.e. we assume that they are part of the same component."
   ]
  },
  {
   "cell_type": "code",
   "execution_count": null,
   "metadata": {},
   "outputs": [],
   "source": [
    "threshold = 16"
   ]
  },
  {
   "cell_type": "markdown",
   "metadata": {},
   "source": [
    "The function $\\texttt{simlar}(p_1, p_2)$ takes two coordinate pairs $p_1 = (x_1,y_1)$ and $p_2 = (x_2,y_2)$ and checks,\n",
    "whether the pixels at these coordinates are equivalent."
   ]
  },
  {
   "cell_type": "code",
   "execution_count": null,
   "metadata": {},
   "outputs": [],
   "source": [
    "def similar(p1, p2):\n",
    "    x1, y1 = p1\n",
    "    x2, y2 = p2\n",
    "    X = image[x1, y1]\n",
    "    Y = image[x2, y2]\n",
    "    return distance(X, Y) < threshold"
   ]
  },
  {
   "cell_type": "markdown",
   "metadata": {},
   "source": [
    "We iterate over all pixels and for every pixel over all of its neighbouring pixels.  If a pixel is similar to a neighbouring pixel, \n",
    "we declare these pixels as equivalent in our union-find data structure `UF`."
   ]
  },
  {
   "cell_type": "code",
   "execution_count": null,
   "metadata": {},
   "outputs": [],
   "source": [
    "%%time\n",
    "for x in range(m-1):\n",
    "    if x % 10 == 0:\n",
    "        print('.', end='')\n",
    "    for y in range(n-1):\n",
    "        if y > 0:\n",
    "            L = [(1,0), (0,1), (1,1), (1, -1)]\n",
    "        else:\n",
    "            L = [(1,0), (0,1), (1,1)]\n",
    "        for (a,b) in L:\n",
    "            p1 = (x    , y    )\n",
    "            p2 = (x + a, y + b)\n",
    "            if similar(p1, p2):\n",
    "                UF.union(p1, p2)\n",
    "print()"
   ]
  },
  {
   "cell_type": "markdown",
   "metadata": {},
   "source": [
    "Given a coordinate pair $p = (x,y)$, the function $\\texttt{extract_component}(p)$ extracts the set of all coordinates that point to equivalent pixels.  It returns a pair $(c, i)$ where $c$ is the number of equivalent pixels and $i$ is an image that only contains the pixels equivalent to the pixel at $(x,y)$."
   ]
  },
  {
   "cell_type": "code",
   "execution_count": null,
   "metadata": {},
   "outputs": [],
   "source": [
    "def extract_component(p):\n",
    "    x, y      = p\n",
    "    new_image = image.copy()\n",
    "    m, n, _   = image.shape\n",
    "    root_xy   = UF.find((x, y))\n",
    "    count     = 0\n",
    "    mean      = [0, 0, 0]\n",
    "    for a in range(0, m):\n",
    "        for b in range(0, n):\n",
    "            root_ab = UF.find((a, b))\n",
    "            if root_xy != root_ab:\n",
    "                for c in range(3):\n",
    "                    new_image[a, b, c] = 255\n",
    "            else:\n",
    "                for c in range(3):\n",
    "                    mean[c] += image[a, b, c]\n",
    "                count += 1\n",
    "    for c in range(3):\n",
    "        mean[c] /= count\n",
    "    print(f'component at {p} has {count} pixels')\n",
    "    return (count, new_image, mean)"
   ]
  },
  {
   "cell_type": "markdown",
   "metadata": {},
   "source": [
    "The function `all_components` computes all those components that have more than $2000$ pixels."
   ]
  },
  {
   "cell_type": "code",
   "execution_count": null,
   "metadata": {},
   "outputs": [],
   "source": [
    "def all_components():\n",
    "    Roots = set()\n",
    "    for x in range(0, m):\n",
    "        for y in range(0, n):\n",
    "            root = UF.find((x, y))\n",
    "            if UF.mSize[root] > 2000 and not root in Roots:\n",
    "                print(UF.mHeight[root])\n",
    "                Roots.add(root)\n",
    "    return Roots"
   ]
  },
  {
   "cell_type": "code",
   "execution_count": null,
   "metadata": {},
   "outputs": [],
   "source": [
    "Roots = all_components()\n",
    "len(Roots)"
   ]
  },
  {
   "cell_type": "markdown",
   "metadata": {},
   "source": [
    "We have found $28$ different components that have at least 2000 pixels.  Let us extract the corresponding images."
   ]
  },
  {
   "cell_type": "code",
   "execution_count": null,
   "metadata": {
    "scrolled": false
   },
   "outputs": [],
   "source": [
    "Mean = {}\n",
    "for r in Roots:\n",
    "    size, component, mean = extract_component(r)\n",
    "    Mean[r] = mean"
   ]
  },
  {
   "cell_type": "markdown",
   "metadata": {},
   "source": [
    "Those images that have a similar mean will be unified."
   ]
  },
  {
   "cell_type": "code",
   "execution_count": null,
   "metadata": {},
   "outputs": [],
   "source": [
    "for r1 in Roots:\n",
    "    for r2 in Roots:\n",
    "        if distance(Mean[r1], Mean[r2]) < 30:\n",
    "            UF.union(r1, r2)"
   ]
  },
  {
   "cell_type": "code",
   "execution_count": null,
   "metadata": {},
   "outputs": [],
   "source": [
    "Roots = all_components()\n",
    "len(Roots)"
   ]
  },
  {
   "cell_type": "markdown",
   "metadata": {},
   "source": [
    "Now we are left with $9$ components.  Lets view them."
   ]
  },
  {
   "cell_type": "code",
   "execution_count": null,
   "metadata": {
    "scrolled": false
   },
   "outputs": [],
   "source": [
    "Mean = {}\n",
    "for r in Roots:\n",
    "    size, component, mean = extract_component(r)\n",
    "    Mean[r] = mean\n",
    "    plt.imshow(component)\n",
    "    plt.show()"
   ]
  },
  {
   "cell_type": "markdown",
   "metadata": {},
   "source": [
    "Since the picture has been taken in bright sunlight, the illumination is inhomogeneous: The front part of the car is much brighter than the sides.  Hence we have to join these parts manually."
   ]
  },
  {
   "cell_type": "code",
   "execution_count": null,
   "metadata": {
    "scrolled": false
   },
   "outputs": [],
   "source": [
    "Parts = [(465, 499), (656, 163), (691, 1132), (267, 434), (736, 247)]\n",
    "for p in Parts[1:]:\n",
    "    UF.union(p, Parts[0])\n",
    "_, car, _ = extract_component(Parts[0])\n",
    "plt.imshow(car)"
   ]
  },
  {
   "cell_type": "code",
   "execution_count": null,
   "metadata": {
    "scrolled": true
   },
   "outputs": [],
   "source": []
  }
 ],
 "metadata": {
  "kernelspec": {
   "display_name": "Python 3",
   "language": "python",
   "name": "python3"
  },
  "language_info": {
   "codemirror_mode": {
    "name": "ipython",
    "version": 3
   },
   "file_extension": ".py",
   "mimetype": "text/x-python",
   "name": "python",
   "nbconvert_exporter": "python",
   "pygments_lexer": "ipython3",
   "version": "3.8.5"
  }
 },
 "nbformat": 4,
 "nbformat_minor": 2
}
