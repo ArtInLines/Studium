{
 "cells": [
  {
   "cell_type": "code",
   "execution_count": null,
   "metadata": {},
   "outputs": [],
   "source": [
    "from IPython.core.display import HTML\n",
    "with open('../style.css') as file:\n",
    "    css = file.read()\n",
    "HTML(css)"
   ]
  },
  {
   "cell_type": "markdown",
   "metadata": {},
   "source": [
    "# The Fibonacci Numbers"
   ]
  },
  {
   "cell_type": "markdown",
   "metadata": {},
   "source": [
    "The [Fibonacci numbers](https://en.wikipedia.org/wiki/Fibonacci_number) $F_n$ are defined by induction for all $n\\in\\mathbb{N}$:\n",
    "  - $F_0 := 0$,\n",
    "  - $F_1 := 1$, \n",
    "  - $F_{n+2} = F_{n+1} + F_n$ for all $n \\in \\mathbb{N}$.\n",
    "\n",
    "Given a natural number `n`, the function `fibonacci(n)` computes the number $F_n$."
   ]
  },
  {
   "cell_type": "code",
   "execution_count": null,
   "metadata": {},
   "outputs": [],
   "source": [
    "def fibonacci(n):\n",
    "    if n <= 1:\n",
    "        return n\n",
    "    return fibonacci(n-1) + fibonacci(n-2)"
   ]
  },
  {
   "cell_type": "code",
   "execution_count": null,
   "metadata": {},
   "outputs": [],
   "source": [
    "[ (n,fibonacci(n)) for n in range(19) ]"
   ]
  },
  {
   "cell_type": "markdown",
   "metadata": {},
   "source": [
    "It seems that the *Fibonacci numbers* grow pretty fast. Let us plot these numbers to get a better understanding of their growth."
   ]
  },
  {
   "cell_type": "code",
   "execution_count": null,
   "metadata": {},
   "outputs": [],
   "source": [
    "import matplotlib.pyplot as plt\n",
    "import seaborn           as sns"
   ]
  },
  {
   "cell_type": "code",
   "execution_count": null,
   "metadata": {},
   "outputs": [],
   "source": [
    "m = 34\n",
    "X = []\n",
    "Y = []\n",
    "for n in range(m):\n",
    "    X.append(n)\n",
    "    Y.append(fibonacci(n))\n",
    "sns.set_style('darkgrid')\n",
    "plt.figure(figsize=(15, 10))\n",
    "plt.plot(X, Y, 'bo')\n",
    "plt.xticks(X)\n",
    "plt.yticks([y * 2e5 for y in range(19)])\n",
    "plt.xlabel('n')\n",
    "plt.ylabel('F(n)')\n",
    "plt.title('The Fibonacci Numbers')\n",
    "plt.show()"
   ]
  },
  {
   "cell_type": "markdown",
   "metadata": {},
   "source": [
    "It looks like the *Fibonacci numbers* grow exponentially.  Let us confirm this hypothesis by plotting the logarithm of these numbers."
   ]
  },
  {
   "cell_type": "code",
   "execution_count": null,
   "metadata": {},
   "outputs": [],
   "source": [
    "import math"
   ]
  },
  {
   "cell_type": "code",
   "execution_count": null,
   "metadata": {},
   "outputs": [],
   "source": [
    "X = X[1:]\n",
    "Y = Y[1:]\n",
    "logY = [math.log(y) for y in Y]\n",
    "sns.set_style('darkgrid')\n",
    "plt.figure(figsize=(15, 10))\n",
    "plt.plot(X, logY, 'bo') \n",
    "plt.xticks(X)\n",
    "plt.yticks(list(range(17)))\n",
    "plt.xlabel('n')\n",
    "plt.ylabel('ln(F(n))')\n",
    "plt.title('The Logarithms of the Fibonacci Numbers')\n",
    "plt.show()"
   ]
  },
  {
   "cell_type": "markdown",
   "metadata": {},
   "source": [
    "This plot looks linear and confirms our hypothesis that these numbers grow exponentially."
   ]
  },
  {
   "cell_type": "markdown",
   "metadata": {},
   "source": [
    "Computing the *Fibonacci numbers* took quite long.  Lets measure these times and plot them."
   ]
  },
  {
   "cell_type": "code",
   "execution_count": null,
   "metadata": {},
   "outputs": [],
   "source": [
    "import time"
   ]
  },
  {
   "cell_type": "code",
   "execution_count": null,
   "metadata": {
    "scrolled": false
   },
   "outputs": [],
   "source": [
    "m = 36\n",
    "Y = []\n",
    "X = list(range(m))\n",
    "for n in range(m):\n",
    "    start = time.time()\n",
    "    print(f'fib({n}) = {fibonacci(n)}')\n",
    "    stop  = time.time()\n",
    "    print(stop - start)\n",
    "    Y.append(stop - start)\n",
    "    \n",
    "sns.set_style('darkgrid')\n",
    "plt.figure(figsize=(15, 10))\n",
    "plt.plot(X, Y, 'bo') \n",
    "plt.xticks(X)\n",
    "plt.xlabel('n')\n",
    "plt.ylabel('time in seconds')\n",
    "plt.title('Time to Compute the Fibonacci Numbers')\n",
    "plt.show()"
   ]
  },
  {
   "cell_type": "markdown",
   "metadata": {},
   "source": [
    "The times seem to grow exponentially.  "
   ]
  },
  {
   "cell_type": "code",
   "execution_count": null,
   "metadata": {},
   "outputs": [],
   "source": [
    "m = 36\n",
    "Y = []\n",
    "X = list(range(20, m))\n",
    "for n in X:\n",
    "    start = time.time()\n",
    "    fibonacci(n)\n",
    "    stop  = time.time()\n",
    "    Y.append(math.log(stop - start))\n",
    "    \n",
    "sns.set_style('darkgrid')\n",
    "plt.figure(figsize=(15, 10))\n",
    "plt.plot(X, Y, 'bo') \n",
    "plt.xticks(X)\n",
    "plt.xlabel('n')\n",
    "plt.ylabel('time in seconds')\n",
    "plt.title('Logarithm of the Time to Compute the Fibonacci Numbers')\n",
    "plt.show()"
   ]
  },
  {
   "cell_type": "markdown",
   "metadata": {},
   "source": [
    "The logarithmic plot confirms this.  In order to investigate the reason for this exponential growth, we compute the *computation tree*.  This tree shows the recursive invocations of the function."
   ]
  },
  {
   "cell_type": "code",
   "execution_count": null,
   "metadata": {},
   "outputs": [],
   "source": [
    "import graphviz as gv"
   ]
  },
  {
   "cell_type": "code",
   "execution_count": null,
   "metadata": {},
   "outputs": [],
   "source": [
    "class ComputationTree:\n",
    "    def __init__(self, arg, value, left=None, right=None):\n",
    "        self.mArg   = arg\n",
    "        self.mValue = value\n",
    "        self.mLeft  = left\n",
    "        self.mRight = right"
   ]
  },
  {
   "cell_type": "code",
   "execution_count": null,
   "metadata": {},
   "outputs": [],
   "source": [
    "def isLeaf(self):\n",
    "    return self.mLeft == None and self.mRight == None\n",
    "\n",
    "ComputationTree.isLeaf = isLeaf\n",
    "del isLeaf"
   ]
  },
  {
   "cell_type": "code",
   "execution_count": null,
   "metadata": {},
   "outputs": [],
   "source": [
    "def toDot(self):\n",
    "    ComputationTree.sCounter = 0 # static variable of the class ComputationTree\n",
    "    dot = gv.Digraph(node_attr={'shape': 'record', 'style': 'rounded'})\n",
    "    NodeDict = {}\n",
    "    self._assignIDs(NodeDict)\n",
    "    for n, t in NodeDict.items():\n",
    "        dot.node(str(n), label='{' + str(t.mArg) + '|' + str(t.mValue) + '}')\n",
    "        if t.mLeft != None and t.mRight != None:\n",
    "            dot.edge(str(n), str(t.mLeft .mID))\n",
    "            dot.edge(str(n), str(t.mRight.mID))\n",
    "    return dot\n",
    "\n",
    "ComputationTree.toDot = toDot\n",
    "del toDot"
   ]
  },
  {
   "cell_type": "code",
   "execution_count": null,
   "metadata": {},
   "outputs": [],
   "source": [
    "def _assignIDs(self, NodeDict):\n",
    "    ComputationTree.sCounter += 1\n",
    "    self.mID = ComputationTree.sCounter\n",
    "    NodeDict[self.mID] = self\n",
    "    if self.isLeaf():\n",
    "        return\n",
    "    self.mLeft ._assignIDs(NodeDict)\n",
    "    self.mRight._assignIDs(NodeDict)\n",
    "    \n",
    "ComputationTree._assignIDs = _assignIDs\n",
    "del _assignIDs"
   ]
  },
  {
   "cell_type": "code",
   "execution_count": null,
   "metadata": {},
   "outputs": [],
   "source": [
    "def fibonacci_tree(n):\n",
    "    if n <= 1:\n",
    "        return ComputationTree(n, n)\n",
    "    C1 = fibonacci_tree(n-1)\n",
    "    C2 = fibonacci_tree(n-2)\n",
    "    return ComputationTree(n, C1.mValue + C2.mValue, C1, C2)"
   ]
  },
  {
   "cell_type": "code",
   "execution_count": null,
   "metadata": {},
   "outputs": [],
   "source": [
    "t = fibonacci_tree(6)\n",
    "t.toDot()"
   ]
  },
  {
   "cell_type": "markdown",
   "metadata": {},
   "source": [
    "The *computation tree* for the computation of `fibonacci(6)` shows the reason for the inefficiency:\n",
    "* `fibonacci(5)` is computed once,\n",
    "* `fibonacci(4)` is computed 2 times,\n",
    "* `fibonacci(3)` is computed 3 times,\n",
    "* `fibonacci(2)` is computed 5 times,\n",
    "* `fibonacci(1)` is computed 8 times, and\n",
    "* `fibonacci(0)` is computed 5 times."
   ]
  },
  {
   "cell_type": "markdown",
   "metadata": {},
   "source": [
    "If we want to compute the Fibonacci numbers efficiently, we must not compute the value `fibonacci(n)` for a given `n` more than once.  The easiest way to achieve this is by storing the Fibnacci numbers in a list `L`.  In the implementation below, `L[n]` stores the $n$-th Fibonacci number."
   ]
  },
  {
   "cell_type": "code",
   "execution_count": null,
   "metadata": {},
   "outputs": [],
   "source": [
    "def fibonacci_mem(n):\n",
    "    if n <= 1:\n",
    "        return n\n",
    "    L    = [0 for k in range(n+1)]\n",
    "    L[0] = 0\n",
    "    L[1] = 1\n",
    "    for k in range(2, n+1):\n",
    "        L[k] = L[k-1] + L[k-2]\n",
    "    return L[n]"
   ]
  },
  {
   "cell_type": "markdown",
   "metadata": {},
   "source": [
    "Now it is even possible to compute the $100,000^\\mbox{th}$ *Fibonnaci number*."
   ]
  },
  {
   "cell_type": "code",
   "execution_count": null,
   "metadata": {},
   "outputs": [],
   "source": [
    "%%time\n",
    "x = fibonacci_mem(100000)"
   ]
  },
  {
   "cell_type": "code",
   "execution_count": null,
   "metadata": {
    "scrolled": false
   },
   "outputs": [],
   "source": [
    "x"
   ]
  },
  {
   "cell_type": "code",
   "execution_count": null,
   "metadata": {},
   "outputs": [],
   "source": []
  }
 ],
 "metadata": {
  "kernelspec": {
   "display_name": "Python 3",
   "language": "python",
   "name": "python3"
  },
  "language_info": {
   "codemirror_mode": {
    "name": "ipython",
    "version": 3
   },
   "file_extension": ".py",
   "mimetype": "text/x-python",
   "name": "python",
   "nbconvert_exporter": "python",
   "pygments_lexer": "ipython3",
   "version": "3.9.0"
  }
 },
 "nbformat": 4,
 "nbformat_minor": 2
}
