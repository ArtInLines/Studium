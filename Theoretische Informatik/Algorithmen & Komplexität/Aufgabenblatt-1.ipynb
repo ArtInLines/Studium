{
 "cells": [
  {
   "cell_type": "code",
   "execution_count": 10,
   "id": "b198e0b6",
   "metadata": {},
   "outputs": [
    {
     "data": {
      "text/html": [
       "<link href='http://fonts.googleapis.com/css?family=Alegreya+Sans:100,300,400,500,700,800,900,100italic,300italic,400italic,500italic,700italic,800italic,900italic' rel='stylesheet' type='text/css'>\n",
       "<link href='http://fonts.googleapis.com/css?family=Arvo:400,700,400italic' rel='stylesheet' type='text/css'>\n",
       "<link href='http://fonts.googleapis.com/css?family=PT+Mono' rel='stylesheet' type='text/css'>\n",
       "<link href='http://fonts.googleapis.com/css?family=Shadows+Into+Light' rel='stylesheet' type='text/css'>\n",
       "<link href='http://fonts.googleapis.com/css?family=Philosopher:400,700,400italic,700italic' rel='stylesheet' type='text/css'>\n",
       "\n",
       "<style>\n",
       "\n",
       "@font-face {\n",
       "    font-family: \"Computer Modern\";\n",
       "    src: url('http://mirrors.ctan.org/fonts/cm-unicode/fonts/otf/cmunss.otf');\n",
       "}\n",
       "\n",
       ".container { width: 100% }\n",
       "\n",
       "/* Formatting for header cells */\n",
       ".text_cell_render h1 {\n",
       "    font-family: 'Philosopher', sans-serif;\n",
       "    font-weight: 400;\n",
       "    font-size: 2.2em;\n",
       "    line-height: 100%;\n",
       "    color: rgb(0, 80, 120);\n",
       "    margin-bottom: 0.1em;\n",
       "    margin-top: 0.1em;\n",
       "    display: block;\n",
       "}\t\n",
       ".text_cell_render h2 {\n",
       "    font-family: 'Philosopher', serif;\n",
       "    font-weight: 400;\n",
       "    font-size: 1.9em;\n",
       "    line-height: 100%;\n",
       "    color: rgb(200,100,0);\n",
       "    margin-bottom: 0.1em;\n",
       "    margin-top: 0.1em;\n",
       "    display: block;\n",
       "}\t\n",
       "\n",
       ".text_cell_render h3 {\n",
       "    font-family: 'Philosopher', serif;\n",
       "    margin-top:12px;\n",
       "    margin-bottom: 3px;\n",
       "    font-style: italic;\n",
       "    color: rgb(94,127,192);\n",
       "}\n",
       "\n",
       ".text_cell_render h4 {\n",
       "    font-family: 'Philosopher', serif;\n",
       "}\n",
       "\n",
       ".text_cell_render h5 {\n",
       "    font-family: 'Alegreya Sans', sans-serif;\n",
       "    font-weight: 300;\n",
       "    font-size: 16pt;\n",
       "    color: grey;\n",
       "    font-style: italic;\n",
       "    margin-bottom: .1em;\n",
       "    margin-top: 0.1em;\n",
       "    display: block;\n",
       "}\n",
       "\n",
       ".text_cell_render h6 {\n",
       "    font-family: 'PT Mono', sans-serif;\n",
       "    font-weight: 300;\n",
       "    font-size: 10pt;\n",
       "    color: grey;\n",
       "    margin-bottom: 1px;\n",
       "    margin-top: 1px;\n",
       "}\n",
       "\n",
       ".text_cell_render em {\n",
       "    font-family: 'Philosopher', sans-serif;\n",
       "    color:        blue;\n",
       "    background-color: rgb(255,220,180);\n",
       "    font-size:    110%;\n",
       "    margin-left:   2px;\n",
       "    margin-right:  2px;\n",
       "    font-weight:   100;\n",
       "}\n",
       "\n",
       ".text_cell_render b {\n",
       "    color:            rgb(255,195,195);\n",
       "    background-color: rgb(0,0,0);\n",
       "    font-size:    110%;\n",
       "    margin-left:   2px;\n",
       "    margin-right:  2px;\n",
       "    font-weight:   650;\n",
       "}\n",
       "\n",
       ".text_cell_render tt {\n",
       "    font-size:    120%;\n",
       "    margin-left:   2px;\n",
       "    margin-right:  2px;\n",
       "    font-weight:   150;\n",
       "}\n",
       "\n",
       ".Codemirror {\n",
       "    font-family: \"PT Mono\";\n",
       "    font-size: 100%;\n",
       "}\n",
       "\n",
       "</style>\n",
       "\n"
      ],
      "text/plain": [
       "<IPython.core.display.HTML object>"
      ]
     },
     "execution_count": 10,
     "metadata": {},
     "output_type": "execute_result"
    }
   ],
   "source": [
    "from IPython.core.display import HTML\n",
    "with open('style.css') as file:\n",
    "    css = file.read()\n",
    "HTML(css)"
   ]
  },
  {
   "cell_type": "code",
   "execution_count": 1,
   "id": "0c3e0e11",
   "metadata": {},
   "outputs": [],
   "source": [
    "def echteTeiler(n):\n",
    "    return { k for k in range(1, n) \n",
    "               if n % k == 0\n",
    "           }"
   ]
  },
  {
   "cell_type": "code",
   "execution_count": 3,
   "id": "fe54d720",
   "metadata": {},
   "outputs": [
    {
     "data": {
      "text/plain": [
       "{1, 2, 4, 7, 14}"
      ]
     },
     "execution_count": 3,
     "metadata": {},
     "output_type": "execute_result"
    }
   ],
   "source": [
    "echteTeiler(28)"
   ]
  },
  {
   "cell_type": "code",
   "execution_count": 4,
   "id": "55e2aa3f",
   "metadata": {},
   "outputs": [],
   "source": [
    "def isPerfect(n):\n",
    "    return sum(echteTeiler(n)) == n"
   ]
  },
  {
   "cell_type": "code",
   "execution_count": 5,
   "id": "70869923",
   "metadata": {},
   "outputs": [
    {
     "data": {
      "text/plain": [
       "True"
      ]
     },
     "execution_count": 5,
     "metadata": {},
     "output_type": "execute_result"
    }
   ],
   "source": [
    "isPerfect(28)"
   ]
  },
  {
   "cell_type": "code",
   "execution_count": 6,
   "id": "2c029979",
   "metadata": {},
   "outputs": [
    {
     "data": {
      "text/plain": [
       "False"
      ]
     },
     "execution_count": 6,
     "metadata": {},
     "output_type": "execute_result"
    }
   ],
   "source": [
    "isPerfect(7)"
   ]
  },
  {
   "cell_type": "code",
   "execution_count": 8,
   "id": "3a541c22",
   "metadata": {},
   "outputs": [
    {
     "name": "stdout",
     "output_type": "stream",
     "text": [
      "CPU times: user 2.92 s, sys: 15.7 ms, total: 2.93 s\n",
      "Wall time: 2.95 s\n"
     ]
    },
    {
     "data": {
      "text/plain": [
       "{6, 28, 496, 8128}"
      ]
     },
     "execution_count": 8,
     "metadata": {},
     "output_type": "execute_result"
    }
   ],
   "source": [
    "%%time\n",
    "{ n for n in range(1, 10000) if isPerfect(n) }"
   ]
  },
  {
   "cell_type": "code",
   "execution_count": 11,
   "id": "521abede",
   "metadata": {},
   "outputs": [],
   "source": [
    "def teiler(n):\n",
    "    return { k for k in range(1, n+1) \n",
    "               if n % k == 0\n",
    "           }"
   ]
  },
  {
   "cell_type": "code",
   "execution_count": 12,
   "id": "ecd61684",
   "metadata": {},
   "outputs": [
    {
     "data": {
      "text/plain": [
       "{1, 2, 3, 6}"
      ]
     },
     "execution_count": 12,
     "metadata": {},
     "output_type": "execute_result"
    }
   ],
   "source": [
    "teiler(6)"
   ]
  },
  {
   "cell_type": "code",
   "execution_count": 13,
   "id": "4f8dce27",
   "metadata": {},
   "outputs": [],
   "source": [
    "def gt(n, m):\n",
    "    return teiler(n) & teiler(m)"
   ]
  },
  {
   "cell_type": "code",
   "execution_count": 15,
   "id": "defa228e",
   "metadata": {},
   "outputs": [
    {
     "data": {
      "text/plain": [
       "{1, 2, 3, 4, 6, 12}"
      ]
     },
     "execution_count": 15,
     "metadata": {},
     "output_type": "execute_result"
    }
   ],
   "source": [
    "gt(60, 12)"
   ]
  },
  {
   "cell_type": "code",
   "execution_count": 16,
   "id": "2cd6820f",
   "metadata": {},
   "outputs": [],
   "source": [
    "def ggt(n, m):\n",
    "    return max(gt(n, m))"
   ]
  },
  {
   "cell_type": "code",
   "execution_count": 19,
   "id": "6729758b",
   "metadata": {},
   "outputs": [
    {
     "data": {
      "text/plain": [
       "6"
      ]
     },
     "execution_count": 19,
     "metadata": {},
     "output_type": "execute_result"
    }
   ],
   "source": [
    "ggt(60, 18)"
   ]
  },
  {
   "cell_type": "code",
   "execution_count": 20,
   "id": "43a645c8",
   "metadata": {},
   "outputs": [],
   "source": [
    "def kgv(m, n):\n",
    "    return m * n // ggt(m, n)"
   ]
  },
  {
   "cell_type": "code",
   "execution_count": 21,
   "id": "085b4f22",
   "metadata": {},
   "outputs": [
    {
     "data": {
      "text/plain": [
       "180"
      ]
     },
     "execution_count": 21,
     "metadata": {},
     "output_type": "execute_result"
    }
   ],
   "source": [
    "kgv(60, 18)"
   ]
  },
  {
   "cell_type": "code",
   "execution_count": 22,
   "id": "65ee460d",
   "metadata": {},
   "outputs": [],
   "source": [
    "def subsets(M, k):\n",
    "    if k == 0:\n",
    "        return { frozenset() } \n",
    "    A = subsets(M, k - 1)\n",
    "    return { T | {x} for T in A\n",
    "                     for x in M\n",
    "                     if x not in T\n",
    "           }"
   ]
  },
  {
   "cell_type": "code",
   "execution_count": 25,
   "id": "6dc85624",
   "metadata": {},
   "outputs": [
    {
     "data": {
      "text/plain": [
       "{frozenset({1, 2, 3}),\n",
       " frozenset({2, 3, 4}),\n",
       " frozenset({1, 3, 4}),\n",
       " frozenset({1, 2, 4})}"
      ]
     },
     "execution_count": 25,
     "metadata": {},
     "output_type": "execute_result"
    }
   ],
   "source": [
    "subsets({1,2,3,4}, 3)"
   ]
  },
  {
   "cell_type": "code",
   "execution_count": 26,
   "id": "e659c10b",
   "metadata": {},
   "outputs": [],
   "source": [
    "def power(M):\n",
    "    n = len(M)\n",
    "    return { T for k in range(n+1)\n",
    "               for T in subsets(M, k) \n",
    "           }"
   ]
  },
  {
   "cell_type": "code",
   "execution_count": 27,
   "id": "b4cff7d7",
   "metadata": {},
   "outputs": [
    {
     "data": {
      "text/plain": [
       "{frozenset(),\n",
       " frozenset({2}),\n",
       " frozenset({2, 3}),\n",
       " frozenset({1}),\n",
       " frozenset({1, 2}),\n",
       " frozenset({3}),\n",
       " frozenset({1, 3}),\n",
       " frozenset({1, 2, 3})}"
      ]
     },
     "execution_count": 27,
     "metadata": {},
     "output_type": "execute_result"
    }
   ],
   "source": [
    "power({1,2,3})"
   ]
  },
  {
   "cell_type": "code",
   "execution_count": 28,
   "id": "e47e9a9f",
   "metadata": {},
   "outputs": [],
   "source": [
    "def pythagoras(n):\n",
    "    return { (a, b, c) for a in range(1, n)\n",
    "                       for b in range(1, n)\n",
    "                       for c in range(1, n+1)\n",
    "                       if a * a + b * b == c * c\n",
    "                       if a < b\n",
    "           }"
   ]
  },
  {
   "cell_type": "code",
   "execution_count": 30,
   "id": "e03b4a0b",
   "metadata": {},
   "outputs": [
    {
     "data": {
      "text/plain": [
       "{(3, 4, 5), (5, 12, 13), (6, 8, 10), (8, 15, 17), (9, 12, 15)}"
      ]
     },
     "execution_count": 30,
     "metadata": {},
     "output_type": "execute_result"
    }
   ],
   "source": [
    "pythagoras(20)"
   ]
  },
  {
   "cell_type": "code",
   "execution_count": 31,
   "id": "cb7caf76",
   "metadata": {},
   "outputs": [],
   "source": [
    "def reducedPythagoras(n):\n",
    "    return { (a, b, c) for (a, b, c) in pythagoras(n)\n",
    "                       if ggt(a, b) == 1\n",
    "           }"
   ]
  },
  {
   "cell_type": "code",
   "execution_count": 32,
   "id": "0b59dee0",
   "metadata": {},
   "outputs": [
    {
     "data": {
      "text/plain": [
       "{(3, 4, 5), (5, 12, 13), (8, 15, 17)}"
      ]
     },
     "execution_count": 32,
     "metadata": {},
     "output_type": "execute_result"
    }
   ],
   "source": [
    "reducedPythagoras(20)"
   ]
  },
  {
   "cell_type": "code",
   "execution_count": 33,
   "id": "bf5be1d9",
   "metadata": {},
   "outputs": [],
   "source": [
    "Colors = { 'h', 'd', 'c', 's' }\n",
    "Values = set(range(1, 13+1))\n",
    "Decks  = { (c, v) for c in Colors for v in Values }"
   ]
  },
  {
   "cell_type": "code",
   "execution_count": 34,
   "id": "15473f77",
   "metadata": {},
   "outputs": [
    {
     "data": {
      "text/plain": [
       "52"
      ]
     },
     "execution_count": 34,
     "metadata": {},
     "output_type": "execute_result"
    }
   ],
   "source": [
    "len(Decks)"
   ]
  },
  {
   "cell_type": "code",
   "execution_count": 35,
   "id": "2162a67b",
   "metadata": {},
   "outputs": [],
   "source": [
    "Decks -= { ('h', 8), ('h', 9) } "
   ]
  },
  {
   "cell_type": "code",
   "execution_count": 42,
   "id": "c27bcc23",
   "metadata": {},
   "outputs": [],
   "source": [
    "Flops = { (x, y, z) for x in Decks for y in Decks for z in Decks\n",
    "                    if len({x, y, z}) == 3\n",
    "        }"
   ]
  },
  {
   "cell_type": "code",
   "execution_count": 43,
   "id": "6304cb63",
   "metadata": {},
   "outputs": [
    {
     "data": {
      "text/plain": [
       "117600"
      ]
     },
     "execution_count": 43,
     "metadata": {},
     "output_type": "execute_result"
    }
   ],
   "source": [
    "len(Flops)"
   ]
  },
  {
   "cell_type": "code",
   "execution_count": 44,
   "id": "de77c105",
   "metadata": {},
   "outputs": [],
   "source": [
    "TwoHearts = { f for f in Flops\n",
    "                if len({ c for c in f if c[0] == 'h'}) >= 2        \n",
    "            }"
   ]
  },
  {
   "cell_type": "code",
   "execution_count": 45,
   "id": "ec63fe2c",
   "metadata": {},
   "outputs": [
    {
     "data": {
      "text/plain": [
       "0.11785714285714285"
      ]
     },
     "execution_count": 45,
     "metadata": {},
     "output_type": "execute_result"
    }
   ],
   "source": [
    "len(TwoHearts) / len(Flops)"
   ]
  },
  {
   "cell_type": "code",
   "execution_count": 46,
   "id": "a5f088b9",
   "metadata": {},
   "outputs": [],
   "source": [
    "ThreeHearts = { f for f in Flops\n",
    "                if len({ c for c in f if c[0] == 'h'}) == 3        \n",
    "              }"
   ]
  },
  {
   "cell_type": "code",
   "execution_count": 47,
   "id": "c0745708",
   "metadata": {},
   "outputs": [
    {
     "data": {
      "text/plain": [
       "0.008418367346938776"
      ]
     },
     "execution_count": 47,
     "metadata": {},
     "output_type": "execute_result"
    }
   ],
   "source": [
    "len(ThreeHearts) / len(Flops)"
   ]
  },
  {
   "cell_type": "code",
   "execution_count": 50,
   "id": "7c3396a7",
   "metadata": {},
   "outputs": [],
   "source": [
    "def anagram(s):\n",
    "    if s == '':\n",
    "        return { '' }\n",
    "    c, r = s[0], s[1:]\n",
    "    return { a[:i] + c + a[i:] for a in anagram(r)\n",
    "                               for i in range(len(s))\n",
    "           }"
   ]
  },
  {
   "cell_type": "code",
   "execution_count": 52,
   "id": "b59c113a",
   "metadata": {},
   "outputs": [
    {
     "data": {
      "text/plain": [
       "{'aalst',\n",
       " 'aalts',\n",
       " 'aaslt',\n",
       " 'aastl',\n",
       " 'aatls',\n",
       " 'aatsl',\n",
       " 'alast',\n",
       " 'alats',\n",
       " 'alsat',\n",
       " 'alsta',\n",
       " 'altas',\n",
       " 'altsa',\n",
       " 'asalt',\n",
       " 'asatl',\n",
       " 'aslat',\n",
       " 'aslta',\n",
       " 'astal',\n",
       " 'astla',\n",
       " 'atals',\n",
       " 'atasl',\n",
       " 'atlas',\n",
       " 'atlsa',\n",
       " 'atsal',\n",
       " 'atsla',\n",
       " 'laast',\n",
       " 'laats',\n",
       " 'lasat',\n",
       " 'lasta',\n",
       " 'latas',\n",
       " 'latsa',\n",
       " 'lsaat',\n",
       " 'lsata',\n",
       " 'lstaa',\n",
       " 'ltaas',\n",
       " 'ltasa',\n",
       " 'ltsaa',\n",
       " 'saalt',\n",
       " 'saatl',\n",
       " 'salat',\n",
       " 'salta',\n",
       " 'satal',\n",
       " 'satla',\n",
       " 'slaat',\n",
       " 'slata',\n",
       " 'sltaa',\n",
       " 'staal',\n",
       " 'stala',\n",
       " 'stlaa',\n",
       " 'taals',\n",
       " 'taasl',\n",
       " 'talas',\n",
       " 'talsa',\n",
       " 'tasal',\n",
       " 'tasla',\n",
       " 'tlaas',\n",
       " 'tlasa',\n",
       " 'tlsaa',\n",
       " 'tsaal',\n",
       " 'tsala',\n",
       " 'tslaa'}"
      ]
     },
     "execution_count": 52,
     "metadata": {},
     "output_type": "execute_result"
    }
   ],
   "source": [
    "anagram('atlas')"
   ]
  },
  {
   "cell_type": "code",
   "execution_count": 53,
   "id": "ee49c56c",
   "metadata": {},
   "outputs": [],
   "source": [
    "def numberDiceRolls(n, s):\n",
    "    if n == 1:\n",
    "        if s in range(1, 6+1):\n",
    "            return 1\n",
    "        else:\n",
    "            return 0\n",
    "    result = 0\n",
    "    for w in range(1, 6+1):\n",
    "        result += numberDiceRolls(n-1, s-w)\n",
    "    return result"
   ]
  },
  {
   "cell_type": "code",
   "execution_count": 55,
   "id": "e736141b",
   "metadata": {},
   "outputs": [
    {
     "data": {
      "text/plain": [
       "10"
      ]
     },
     "execution_count": 55,
     "metadata": {},
     "output_type": "execute_result"
    }
   ],
   "source": [
    "numberDiceRolls(3, 6)"
   ]
  },
  {
   "cell_type": "code",
   "execution_count": null,
   "id": "a1ffa1db",
   "metadata": {},
   "outputs": [],
   "source": []
  }
 ],
 "metadata": {
  "kernelspec": {
   "display_name": "Python 3 (ipykernel)",
   "language": "python",
   "name": "python3"
  },
  "language_info": {
   "codemirror_mode": {
    "name": "ipython",
    "version": 3
   },
   "file_extension": ".py",
   "mimetype": "text/x-python",
   "name": "python",
   "nbconvert_exporter": "python",
   "pygments_lexer": "ipython3",
   "version": "3.9.12"
  }
 },
 "nbformat": 4,
 "nbformat_minor": 5
}
