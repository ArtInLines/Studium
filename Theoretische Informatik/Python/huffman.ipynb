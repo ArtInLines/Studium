{
 "cells": [
  {
   "cell_type": "code",
   "execution_count": 11,
   "metadata": {},
   "outputs": [],
   "source": [
    "import graphviz as gv\n",
    "import heapq\n",
    "import math"
   ]
  },
  {
   "cell_type": "code",
   "execution_count": 13,
   "metadata": {
    "scrolled": false
   },
   "outputs": [],
   "source": [
    "class CodingTree:\n",
    "    sNodeCount = 0\n",
    "    \n",
    "    def __init__(self):\n",
    "        CodingTree.sNodeCount += 1\n",
    "        self.mID = CodingTree.sNodeCount\n",
    "        \n",
    "    def count(self):\n",
    "        \"compute the number of characters\"\n",
    "        pass\n",
    "        \n",
    "    def cost(self):\n",
    "        \"compute the number of bits used by this coding tree\"\n",
    "        pass\n",
    "        \n",
    "    def getID(self):\n",
    "        return self.mID  # used only by graphviz"
   ]
  },
  {
   "cell_type": "code",
   "execution_count": 14,
   "metadata": {
    "scrolled": false
   },
   "outputs": [],
   "source": [
    "def _make_string(self, Attributes):\n",
    "        # map the function __str__ to all attributes and join them with a comma\n",
    "        name = self.__class__.__name__\n",
    "        return f\"{name}({', '.join(map(str, [getattr(self, at) for at in Attributes]))})\"\n",
    "    \n",
    "CodingTree._make_string = _make_string"
   ]
  },
  {
   "cell_type": "code",
   "execution_count": 15,
   "metadata": {
    "scrolled": false
   },
   "outputs": [],
   "source": [
    "def toDot(self):\n",
    "    dot = gv.Digraph(node_attr={'shape': 'record', 'style': 'rounded'})\n",
    "    nodeDict = {}\n",
    "    self._collectIDs(nodeDict)\n",
    "    for n, t in nodeDict.items():\n",
    "        if isinstance(t, Leaf):\n",
    "            if t.mCharacter == ' ':\n",
    "                dot.node(str(n), label='{ \\' \\' |' + \"{:,}\".format(t.mFrequency) + '}') \n",
    "            elif t.mCharacter == '\\t':\n",
    "                dot.node(str(n), label='{ \\'\\\\\\\\t\\' |' + \"{:,}\".format(t.mFrequency) + '}') \n",
    "            elif t.mCharacter == '\\n':\n",
    "                dot.node(str(n), label='{ \\'\\\\\\\\n\\' |' + \"{:,}\".format(t.mFrequency) + '}')     \n",
    "            elif t.mCharacter == '\\v':\n",
    "                dot.node(str(n), label='{ \\'\\\\\\\\v\\' |' + \"{:,}\".format(t.mFrequency) + '}')     \n",
    "            else:\n",
    "                dot.node(str(n), label='{' + str(t.mCharacter) + '|' + \"{:,}\".format(t.mFrequency) + '}') \n",
    "        elif isinstance(t, Node):\n",
    "            dot.node(str(n), label=\"{:,}\".format(t.count()))\n",
    "        else:\n",
    "            assert False, f'Unknown node {t}'\n",
    "    for n, t in nodeDict.items():\n",
    "        if isinstance(t, Node):\n",
    "            dot.edge(str(n), str(t.mLeft .getID()), label='0')\n",
    "            dot.edge(str(n), str(t.mRight.getID()), label='1')\n",
    "    return dot\n",
    "\n",
    "CodingTree.toDot = toDot"
   ]
  },
  {
   "cell_type": "code",
   "execution_count": 16,
   "metadata": {
    "scrolled": false
   },
   "outputs": [],
   "source": [
    "def _collectIDs(self, nodeDict):\n",
    "    nodeDict[self.getID()] = self\n",
    "    if isinstance(self, Node):\n",
    "        self.mLeft ._collectIDs(nodeDict)\n",
    "        self.mRight._collectIDs(nodeDict)\n",
    "        \n",
    "CodingTree._collectIDs = _collectIDs"
   ]
  },
  {
   "cell_type": "code",
   "execution_count": 17,
   "metadata": {
    "scrolled": false
   },
   "outputs": [],
   "source": [
    "class Leaf(CodingTree):\n",
    "    def __init__(self, c, f):\n",
    "        CodingTree.__init__(self)\n",
    "        self.mCharacter = c\n",
    "        self.mFrequency = f\n",
    "        \n",
    "    def count(self):\n",
    "        return self.mFrequency\n",
    "    \n",
    "    def cost(self):\n",
    "        return 0\n",
    "    \n",
    "    def __str__(self):\n",
    "        return _make_string(self, ['mCharacter', 'mFrequency'])\n",
    "    \n",
    "    def __lt__(self, other):\n",
    "        if isinstance(other, Node):\n",
    "            return True\n",
    "        return self.mCharacter < other.mCharacter"
   ]
  },
  {
   "cell_type": "code",
   "execution_count": 18,
   "metadata": {
    "scrolled": false
   },
   "outputs": [],
   "source": [
    "class Node(CodingTree):\n",
    "    def __init__(self, l, r):\n",
    "        CodingTree.__init__(self)\n",
    "        self.mLeft  = l\n",
    "        self.mRight = r\n",
    "\n",
    "    def count(self):\n",
    "        return self.mLeft.count() + self.mRight.count()\n",
    "        \n",
    "    def cost(self):\n",
    "        return self.mLeft.cost() + self.mRight.cost() + self.count()\n",
    "    \n",
    "    def __str__(self):\n",
    "        return _make_string(self, ['mLeft', 'mRight'])\n",
    "    \n",
    "    def __lt__(self, other):\n",
    "        if isinstance(other, Leaf):\n",
    "            return False\n",
    "        return self.mLeft < other.mLeft"
   ]
  },
  {
   "cell_type": "code",
   "execution_count": 19,
   "metadata": {
    "scrolled": false
   },
   "outputs": [],
   "source": [
    "def coding_tree(M):\n",
    "    H = []  # empty priority queue\n",
    "    for c, f in M:\n",
    "        heapq.heappush(H, (f, Leaf(c, f)))\n",
    "    while len(H) > 1:\n",
    "        a = heapq.heappop(H)\n",
    "        b = heapq.heappop(H)\n",
    "        heapq.heappush(H, (a[0] + b[0], Node(a[1], b[1])))\n",
    "    return H[0][1]"
   ]
  },
  {
   "cell_type": "code",
   "execution_count": 20,
   "metadata": {
    "scrolled": false
   },
   "outputs": [],
   "source": [
    "def log2(n):\n",
    "    return math.log(n) / math.log(2)"
   ]
  },
  {
   "cell_type": "code",
   "execution_count": 21,
   "metadata": {
    "scrolled": false
   },
   "outputs": [],
   "source": [
    "def demo(M):\n",
    "    K = coding_tree(M)\n",
    "    n = math.ceil(log2(len(M)))\n",
    "    cost_huffman  = K.cost()\n",
    "    cost_constant = n * K.count()\n",
    "    savings       = (cost_constant - cost_huffman) / cost_constant\n",
    "    print(f'cost of encoding with Huffman coding tree : {\"{:,}\".format(cost_huffman)} bits')\n",
    "    print(f'cost of encoding with {n} bits              : {\"{:,}\".format(cost_constant)} bits')\n",
    "    print(f'savings: {100 * savings}%')\n",
    "    return K"
   ]
  },
  {
   "cell_type": "code",
   "execution_count": 22,
   "metadata": {
    "scrolled": false
   },
   "outputs": [],
   "source": [
    "def demo_file(fn):\n",
    "    with open(fn, 'r') as file:\n",
    "        s = file.read() # read file as string s\n",
    "    Frequencies = {}\n",
    "    for c in s:\n",
    "        f = Frequencies.get(c, 0)\n",
    "        if f != 0:\n",
    "            Frequencies[c] += 1\n",
    "        else:\n",
    "            Frequencies[c] = 1\n",
    "    M = { (c, f) for (c, f) in Frequencies.items() }\n",
    "    print(M)\n",
    "    return demo(M)"
   ]
  },
  {
   "cell_type": "markdown",
   "metadata": {
    "scrolled": false
   },
   "source": [
    "## The Functions `encode` and `decode`\n",
    "\n",
    "In this section, our aim is to implement two functions.\n",
    "* $\\texttt{encode}: \\mathcal{K} \\times \\Sigma^* \\rightarrow \\{0,1\\}^*$\n",
    "\n",
    "  Given a coding tree $k$ and a string $s$, the function $\\texttt{encode}(k, s)$ encodes the string $s$ into a binary string.\n",
    "* $\\texttt{decode}: \\mathcal{K} \\times \\{0,1\\}^* \\rightarrow \\Sigma^*$\n",
    "\n",
    "  Given a coding tree $k$ and a binary string $b$, the function $\\texttt{decode}(k, b)$ decodes the string $b$ into a string $s \\in \\Sigma^*$."
   ]
  },
  {
   "cell_type": "markdown",
   "metadata": {},
   "source": [
    "### Idea for encode\n",
    "\n",
    "1. Create a dictionary mapping each character in $k$ to its binary representation\n",
    "2. Loop through string and exchange each character with the binary representation stored in said dictionary"
   ]
  },
  {
   "cell_type": "markdown",
   "metadata": {},
   "source": [
    "#### Auxiliary method chars\n",
    "\n",
    "$\\texttt{chars}$ is meant to return a dictionary mapping each character in $k$ to its binary representation. It is defined as follows:\n",
    "\n",
    "$$ \\texttt{chars}: \\mathcal{K} \\rightarrow \\texttt{Dictionary}(\\Sigma, \\{0, 1\\}^*) $$\n",
    "\n",
    "- $\\texttt{Leaf}(c, f).chars() = Dictionary(c, \\epsilon)$\n",
    "- $\\texttt{Node}(l, r).chars() = l.chars() + r.chars() $\n"
   ]
  },
  {
   "cell_type": "code",
   "execution_count": 56,
   "metadata": {},
   "outputs": [],
   "source": [
    "def chars(self):\n",
    "\treturn {self.mCharacter: ''}\n",
    "\n",
    "Leaf.chars = chars;\n",
    "del chars"
   ]
  },
  {
   "cell_type": "code",
   "execution_count": 57,
   "metadata": {},
   "outputs": [],
   "source": [
    "def chars(self):\n",
    "\tlc = self.mLeft.chars()\n",
    "\trc = self.mRight.chars()\n",
    "\tfor c in lc:\n",
    "\t\tlc[c] = '0' + lc[c]\n",
    "\tfor c in rc:\n",
    "\t\trc[c] = '1' + rc[c]\n",
    "\treturn {**lc, **rc}\n",
    "\n",
    "Node.chars = chars\n",
    "del chars"
   ]
  },
  {
   "cell_type": "markdown",
   "metadata": {},
   "source": [
    "- $\\texttt{Node}(l,r)\\texttt{.encode}(c, r) = \\texttt{Node}(l, r)\\texttt{.chars}()[c] + \\texttt{Node}(l, r)\\texttt{.encode}(r)$"
   ]
  },
  {
   "cell_type": "code",
   "execution_count": 58,
   "metadata": {},
   "outputs": [],
   "source": [
    "def encode(self, s):\n",
    "\tchars = self.chars()\n",
    "\tb = ''\n",
    "\tfor c in s:\n",
    "\t\tb += chars[c]\n",
    "\treturn b\n",
    "\n",
    "Node.encode = encode\n",
    "del encode"
   ]
  },
  {
   "cell_type": "markdown",
   "metadata": {},
   "source": [
    "### Definition for k.decode(w)\n",
    "\n",
    "- $\\texttt{Node}(l, r).\\texttt{decode}(0 + w) = l.\\texttt{decode}(w)$\n",
    "- $\\texttt{Node}(l, r).\\texttt{decode}(1 + w) = r.\\texttt{decode}(w)$\n",
    "- $\\texttt{Leaf}(c, f).\\texttt{decode}(w) = c + k.\\texttt{decode}(w)$"
   ]
  },
  {
   "cell_type": "code",
   "execution_count": 45,
   "metadata": {},
   "outputs": [],
   "source": [
    "def decode(self, b):\n",
    "\ts = ''\n",
    "\tt = self\n",
    "\tfor i in range(len(b)):\n",
    "\t\tif b[i] == '0':\n",
    "\t\t\tt = t.mLeft\n",
    "\t\telif b[i] == '1':\n",
    "\t\t\tt = t.mRight\n",
    "\t\t\n",
    "\t\tif isinstance(t, Leaf):\n",
    "\t\t\ts += t.mCharacter\n",
    "\t\t\tt = self\n",
    "\treturn s\n",
    "\n",
    "Node.decode = decode\n",
    "del decode"
   ]
  },
  {
   "cell_type": "markdown",
   "metadata": {},
   "source": [
    "## Testing"
   ]
  },
  {
   "cell_type": "code",
   "execution_count": 46,
   "metadata": {},
   "outputs": [
    {
     "name": "stdout",
     "output_type": "stream",
     "text": [
      "cost of encoding with Huffman coding tree : 1,012 bits\n",
      "cost of encoding with 2 bits              : 2,000 bits\n",
      "savings: 49.4%\n"
     ]
    },
    {
     "data": {
      "image/svg+xml": "<?xml version=\"1.0\" encoding=\"UTF-8\" standalone=\"no\"?>\n<!DOCTYPE svg PUBLIC \"-//W3C//DTD SVG 1.1//EN\"\n \"http://www.w3.org/Graphics/SVG/1.1/DTD/svg11.dtd\">\n<!-- Generated by graphviz version 3.0.0 (20220226.1711)\n -->\n<!-- Pages: 1 -->\n<svg width=\"206pt\" height=\"339pt\"\n viewBox=\"0.00 0.00 206.00 339.00\" xmlns=\"http://www.w3.org/2000/svg\" xmlns:xlink=\"http://www.w3.org/1999/xlink\">\n<g id=\"graph0\" class=\"graph\" transform=\"scale(1 1) rotate(0) translate(4 335)\">\n<polygon fill=\"white\" stroke=\"transparent\" points=\"-4,4 -4,-335 202,-335 202,4 -4,4\"/>\n<!-- 35 -->\n<g id=\"node1\" class=\"node\">\n<title>35</title>\n<path fill=\"none\" stroke=\"black\" d=\"M138,-294.5C138,-294.5 168,-294.5 168,-294.5 174,-294.5 180,-300.5 180,-306.5 180,-306.5 180,-318.5 180,-318.5 180,-324.5 174,-330.5 168,-330.5 168,-330.5 138,-330.5 138,-330.5 132,-330.5 126,-324.5 126,-318.5 126,-318.5 126,-306.5 126,-306.5 126,-300.5 132,-294.5 138,-294.5\"/>\n<text text-anchor=\"middle\" x=\"153\" y=\"-308.8\" font-family=\"Times New Roman,serif\" font-size=\"14.00\">1,000</text>\n</g>\n<!-- 34 -->\n<g id=\"node2\" class=\"node\">\n<title>34</title>\n<path fill=\"none\" stroke=\"black\" d=\"M84,-201.5C84,-201.5 114,-201.5 114,-201.5 120,-201.5 126,-207.5 126,-213.5 126,-213.5 126,-225.5 126,-225.5 126,-231.5 120,-237.5 114,-237.5 114,-237.5 84,-237.5 84,-237.5 78,-237.5 72,-231.5 72,-225.5 72,-225.5 72,-213.5 72,-213.5 72,-207.5 78,-201.5 84,-201.5\"/>\n<text text-anchor=\"middle\" x=\"99\" y=\"-215.8\" font-family=\"Times New Roman,serif\" font-size=\"14.00\">10</text>\n</g>\n<!-- 35&#45;&gt;34 -->\n<g id=\"edge1\" class=\"edge\">\n<title>35&#45;&gt;34</title>\n<path fill=\"none\" stroke=\"black\" d=\"M142.84,-294.38C134.85,-280.91 123.57,-261.91 114.46,-246.55\"/>\n<polygon fill=\"black\" stroke=\"black\" points=\"117.22,-244.35 109.11,-237.54 111.2,-247.93 117.22,-244.35\"/>\n<text text-anchor=\"middle\" x=\"134.5\" y=\"-264.8\" font-family=\"Times New Roman,serif\" font-size=\"14.00\">0</text>\n</g>\n<!-- 31 -->\n<g id=\"node7\" class=\"node\">\n<title>31</title>\n<path fill=\"none\" stroke=\"black\" d=\"M156,-196.5C156,-196.5 186,-196.5 186,-196.5 192,-196.5 198,-202.5 198,-208.5 198,-208.5 198,-230.5 198,-230.5 198,-236.5 192,-242.5 186,-242.5 186,-242.5 156,-242.5 156,-242.5 150,-242.5 144,-236.5 144,-230.5 144,-230.5 144,-208.5 144,-208.5 144,-202.5 150,-196.5 156,-196.5\"/>\n<text text-anchor=\"middle\" x=\"171\" y=\"-227.3\" font-family=\"Times New Roman,serif\" font-size=\"14.00\">a</text>\n<polyline fill=\"none\" stroke=\"black\" points=\"144,-219.5 198,-219.5 \"/>\n<text text-anchor=\"middle\" x=\"171\" y=\"-204.3\" font-family=\"Times New Roman,serif\" font-size=\"14.00\">990</text>\n</g>\n<!-- 35&#45;&gt;31 -->\n<g id=\"edge2\" class=\"edge\">\n<title>35&#45;&gt;31</title>\n<path fill=\"none\" stroke=\"black\" d=\"M156.39,-294.38C158.71,-282.62 161.87,-266.64 164.66,-252.54\"/>\n<polygon fill=\"black\" stroke=\"black\" points=\"168.1,-253.2 166.61,-242.71 161.23,-251.84 168.1,-253.2\"/>\n<text text-anchor=\"middle\" x=\"165.5\" y=\"-264.8\" font-family=\"Times New Roman,serif\" font-size=\"14.00\">1</text>\n</g>\n<!-- 33 -->\n<g id=\"node3\" class=\"node\">\n<title>33</title>\n<path fill=\"none\" stroke=\"black\" d=\"M48,-103.5C48,-103.5 78,-103.5 78,-103.5 84,-103.5 90,-109.5 90,-115.5 90,-115.5 90,-127.5 90,-127.5 90,-133.5 84,-139.5 78,-139.5 78,-139.5 48,-139.5 48,-139.5 42,-139.5 36,-133.5 36,-127.5 36,-127.5 36,-115.5 36,-115.5 36,-109.5 42,-103.5 48,-103.5\"/>\n<text text-anchor=\"middle\" x=\"63\" y=\"-117.8\" font-family=\"Times New Roman,serif\" font-size=\"14.00\">2</text>\n</g>\n<!-- 34&#45;&gt;33 -->\n<g id=\"edge3\" class=\"edge\">\n<title>34&#45;&gt;33</title>\n<path fill=\"none\" stroke=\"black\" d=\"M92.56,-201.34C87.14,-186.87 79.28,-165.91 73.03,-149.24\"/>\n<polygon fill=\"black\" stroke=\"black\" points=\"76.17,-147.65 69.38,-139.51 69.61,-150.11 76.17,-147.65\"/>\n<text text-anchor=\"middle\" x=\"87.5\" y=\"-166.8\" font-family=\"Times New Roman,serif\" font-size=\"14.00\">0</text>\n</g>\n<!-- 29 -->\n<g id=\"node6\" class=\"node\">\n<title>29</title>\n<path fill=\"none\" stroke=\"black\" d=\"M120,-98.5C120,-98.5 150,-98.5 150,-98.5 156,-98.5 162,-104.5 162,-110.5 162,-110.5 162,-132.5 162,-132.5 162,-138.5 156,-144.5 150,-144.5 150,-144.5 120,-144.5 120,-144.5 114,-144.5 108,-138.5 108,-132.5 108,-132.5 108,-110.5 108,-110.5 108,-104.5 114,-98.5 120,-98.5\"/>\n<text text-anchor=\"middle\" x=\"135\" y=\"-129.3\" font-family=\"Times New Roman,serif\" font-size=\"14.00\">b</text>\n<polyline fill=\"none\" stroke=\"black\" points=\"108,-121.5 162,-121.5 \"/>\n<text text-anchor=\"middle\" x=\"135\" y=\"-106.3\" font-family=\"Times New Roman,serif\" font-size=\"14.00\">8</text>\n</g>\n<!-- 34&#45;&gt;29 -->\n<g id=\"edge4\" class=\"edge\">\n<title>34&#45;&gt;29</title>\n<path fill=\"none\" stroke=\"black\" d=\"M105.44,-201.34C110.36,-188.21 117.29,-169.74 123.2,-153.97\"/>\n<polygon fill=\"black\" stroke=\"black\" points=\"126.48,-155.17 126.72,-144.58 119.93,-152.72 126.48,-155.17\"/>\n<text text-anchor=\"middle\" x=\"123.5\" y=\"-166.8\" font-family=\"Times New Roman,serif\" font-size=\"14.00\">1</text>\n</g>\n<!-- 32 -->\n<g id=\"node4\" class=\"node\">\n<title>32</title>\n<path fill=\"none\" stroke=\"black\" d=\"M12,-0.5C12,-0.5 42,-0.5 42,-0.5 48,-0.5 54,-6.5 54,-12.5 54,-12.5 54,-34.5 54,-34.5 54,-40.5 48,-46.5 42,-46.5 42,-46.5 12,-46.5 12,-46.5 6,-46.5 0,-40.5 0,-34.5 0,-34.5 0,-12.5 0,-12.5 0,-6.5 6,-0.5 12,-0.5\"/>\n<text text-anchor=\"middle\" x=\"27\" y=\"-31.3\" font-family=\"Times New Roman,serif\" font-size=\"14.00\">c</text>\n<polyline fill=\"none\" stroke=\"black\" points=\"0,-23.5 54,-23.5 \"/>\n<text text-anchor=\"middle\" x=\"27\" y=\"-8.3\" font-family=\"Times New Roman,serif\" font-size=\"14.00\">1</text>\n</g>\n<!-- 33&#45;&gt;32 -->\n<g id=\"edge5\" class=\"edge\">\n<title>33&#45;&gt;32</title>\n<path fill=\"none\" stroke=\"black\" d=\"M56.56,-103.34C51.64,-90.21 44.71,-71.74 38.8,-55.97\"/>\n<polygon fill=\"black\" stroke=\"black\" points=\"42.07,-54.72 35.28,-46.58 35.52,-57.17 42.07,-54.72\"/>\n<text text-anchor=\"middle\" x=\"51.5\" y=\"-68.8\" font-family=\"Times New Roman,serif\" font-size=\"14.00\">0</text>\n</g>\n<!-- 30 -->\n<g id=\"node5\" class=\"node\">\n<title>30</title>\n<path fill=\"none\" stroke=\"black\" d=\"M84,-0.5C84,-0.5 114,-0.5 114,-0.5 120,-0.5 126,-6.5 126,-12.5 126,-12.5 126,-34.5 126,-34.5 126,-40.5 120,-46.5 114,-46.5 114,-46.5 84,-46.5 84,-46.5 78,-46.5 72,-40.5 72,-34.5 72,-34.5 72,-12.5 72,-12.5 72,-6.5 78,-0.5 84,-0.5\"/>\n<text text-anchor=\"middle\" x=\"99\" y=\"-31.3\" font-family=\"Times New Roman,serif\" font-size=\"14.00\">d</text>\n<polyline fill=\"none\" stroke=\"black\" points=\"72,-23.5 126,-23.5 \"/>\n<text text-anchor=\"middle\" x=\"99\" y=\"-8.3\" font-family=\"Times New Roman,serif\" font-size=\"14.00\">1</text>\n</g>\n<!-- 33&#45;&gt;30 -->\n<g id=\"edge6\" class=\"edge\">\n<title>33&#45;&gt;30</title>\n<path fill=\"none\" stroke=\"black\" d=\"M69.44,-103.34C74.36,-90.21 81.29,-71.74 87.2,-55.97\"/>\n<polygon fill=\"black\" stroke=\"black\" points=\"90.48,-57.17 90.72,-46.58 83.93,-54.72 90.48,-57.17\"/>\n<text text-anchor=\"middle\" x=\"87.5\" y=\"-68.8\" font-family=\"Times New Roman,serif\" font-size=\"14.00\">1</text>\n</g>\n</g>\n</svg>\n",
      "text/plain": [
       "<graphviz.graphs.Digraph at 0x20f935df2b0>"
      ]
     },
     "execution_count": 46,
     "metadata": {},
     "output_type": "execute_result"
    }
   ],
   "source": [
    "K = demo({ ('a', 990), ('b', 8), ('c', 1), ('d', 1) })\n",
    "K.toDot()"
   ]
  },
  {
   "cell_type": "code",
   "execution_count": 59,
   "metadata": {},
   "outputs": [
    {
     "data": {
      "text/plain": [
       "{'c': '000', 'd': '001', 'b': '01', 'a': '1'}"
      ]
     },
     "execution_count": 59,
     "metadata": {},
     "output_type": "execute_result"
    }
   ],
   "source": [
    "K.chars()"
   ]
  },
  {
   "cell_type": "code",
   "execution_count": 60,
   "metadata": {},
   "outputs": [
    {
     "data": {
      "text/plain": [
       "'011001'"
      ]
     },
     "execution_count": 60,
     "metadata": {},
     "output_type": "execute_result"
    }
   ],
   "source": [
    "K.encode('bad')"
   ]
  },
  {
   "cell_type": "code",
   "execution_count": 61,
   "metadata": {},
   "outputs": [
    {
     "data": {
      "text/plain": [
       "'bad'"
      ]
     },
     "execution_count": 61,
     "metadata": {},
     "output_type": "execute_result"
    }
   ],
   "source": [
    "K.decode('011001')"
   ]
  },
  {
   "cell_type": "code",
   "execution_count": 63,
   "metadata": {},
   "outputs": [],
   "source": [
    "def test(k, s):\n",
    "\tassert k.decode(k.encode(s)) == s, f's={s}, k.encode={k.encode(s)}, k.deocde={k.decode(k.encode(s))}'"
   ]
  },
  {
   "cell_type": "code",
   "execution_count": 66,
   "metadata": {},
   "outputs": [],
   "source": [
    "test(K, 'baaaaadddccaaaabbbabbbcccdd')"
   ]
  }
 ],
 "metadata": {
  "interpreter": {
   "hash": "3196968d684371006099b3d55edeef8ed90365227a30deaef86e5d4aa8519be0"
  },
  "kernelspec": {
   "display_name": "Python 3.10.4 64-bit",
   "language": "python",
   "name": "python3"
  },
  "language_info": {
   "codemirror_mode": {
    "name": "ipython",
    "version": 3
   },
   "file_extension": ".py",
   "mimetype": "text/x-python",
   "name": "python",
   "nbconvert_exporter": "python",
   "pygments_lexer": "ipython3",
   "version": "3.10.4"
  },
  "orig_nbformat": 4
 },
 "nbformat": 4,
 "nbformat_minor": 2
}
