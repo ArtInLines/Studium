{
 "cells": [
  {
   "cell_type": "code",
   "execution_count": 1,
   "metadata": {},
   "outputs": [
    {
     "data": {
      "text/html": [
       "<link href='http://fonts.googleapis.com/css?family=Alegreya+Sans:100,300,400,500,700,800,900,100italic,300italic,400italic,500italic,700italic,800italic,900italic' rel='stylesheet' type='text/css'>\n",
       "<link href='http://fonts.googleapis.com/css?family=Arvo:400,700,400italic' rel='stylesheet' type='text/css'>\n",
       "<link href='http://fonts.googleapis.com/css?family=PT+Mono' rel='stylesheet' type='text/css'>\n",
       "<link href='http://fonts.googleapis.com/css?family=Shadows+Into+Light' rel='stylesheet' type='text/css'>\n",
       "<link href='http://fonts.googleapis.com/css?family=Philosopher:400,700,400italic,700italic' rel='stylesheet' type='text/css'>\n",
       "\n",
       "<style>\n",
       "\n",
       "@font-face {\n",
       "    font-family: \"Computer Modern\";\n",
       "    src: url('http://mirrors.ctan.org/fonts/cm-unicode/fonts/otf/cmunss.otf');\n",
       "}\n",
       "\n",
       ".container { width: 100% }\n",
       "\n",
       "/* Formatting for header cells */\n",
       ".text_cell_render h1 {\n",
       "    font-family: 'Philosopher', sans-serif;\n",
       "    font-weight: 400;\n",
       "    font-size: 2.2em;\n",
       "    line-height: 100%;\n",
       "    color: rgb(0, 80, 120);\n",
       "    margin-bottom: 0.1em;\n",
       "    margin-top: 0.1em;\n",
       "    display: block;\n",
       "}\t\n",
       ".text_cell_render h2 {\n",
       "    font-family: 'Philosopher', serif;\n",
       "    font-weight: 400;\n",
       "    font-size: 1.9em;\n",
       "    line-height: 100%;\n",
       "    color: rgb(200,100,0);\n",
       "    margin-bottom: 0.1em;\n",
       "    margin-top: 0.1em;\n",
       "    display: block;\n",
       "}\t\n",
       "\n",
       ".text_cell_render h3 {\n",
       "    font-family: 'Philosopher', serif;\n",
       "    margin-top:12px;\n",
       "    margin-bottom: 3px;\n",
       "    font-style: italic;\n",
       "    color: rgb(94,127,192);\n",
       "}\n",
       "\n",
       ".text_cell_render h4 {\n",
       "    font-family: 'Philosopher', serif;\n",
       "}\n",
       "\n",
       ".text_cell_render h5 {\n",
       "    font-family: 'Alegreya Sans', sans-serif;\n",
       "    font-weight: 300;\n",
       "    font-size: 16pt;\n",
       "    color: grey;\n",
       "    font-style: italic;\n",
       "    margin-bottom: .1em;\n",
       "    margin-top: 0.1em;\n",
       "    display: block;\n",
       "}\n",
       "\n",
       ".text_cell_render h6 {\n",
       "    font-family: 'PT Mono', sans-serif;\n",
       "    font-weight: 300;\n",
       "    font-size: 10pt;\n",
       "    color: grey;\n",
       "    margin-bottom: 1px;\n",
       "    margin-top: 1px;\n",
       "}\n",
       "\n",
       ".text_cell_render em {\n",
       "    font-family: 'Philosopher', sans-serif;\n",
       "    color:        blue;\n",
       "    background-color: rgb(255,220,180);\n",
       "    font-size:    110%;\n",
       "    margin-left:   2px;\n",
       "    margin-right:  2px;\n",
       "    font-weight:   100;\n",
       "}\n",
       "\n",
       ".text_cell_render b {\n",
       "    color:            rgb(255,195,195);\n",
       "    background-color: rgb(0,0,0);\n",
       "    font-size:    110%;\n",
       "    margin-left:   2px;\n",
       "    margin-right:  2px;\n",
       "    font-weight:   650;\n",
       "}\n",
       "\n",
       ".text_cell_render tt {\n",
       "    font-size:    120%;\n",
       "    margin-left:   2px;\n",
       "    margin-right:  2px;\n",
       "    font-weight:   150;\n",
       "}\n",
       "\n",
       ".Codemirror {\n",
       "    font-family: \"PT Mono\";\n",
       "    font-size: 100%;\n",
       "}\n",
       "\n",
       "</style>\n",
       "\n"
      ],
      "text/plain": [
       "<IPython.core.display.HTML object>"
      ]
     },
     "execution_count": 1,
     "metadata": {},
     "output_type": "execute_result"
    }
   ],
   "source": [
    "from IPython.core.display import HTML\n",
    "with open('../style.css') as file:\n",
    "    css = file.read()\n",
    "HTML(css)"
   ]
  },
  {
   "cell_type": "markdown",
   "metadata": {},
   "source": [
    "# The Shunting Yard Algorithm (Operator Precedence Parsing)"
   ]
  },
  {
   "cell_type": "markdown",
   "metadata": {},
   "source": [
    "The function $\\texttt{toInt}(s)$ tries to convert the string $s$ to an integer.  If this works out, the integer is returned.  Otherwise, the string $s$ is returned unchanged."
   ]
  },
  {
   "cell_type": "code",
   "execution_count": 2,
   "metadata": {},
   "outputs": [],
   "source": [
    "def toInt(s):\n",
    "    try:\n",
    "        return int(s)   \n",
    "    except ValueError:\n",
    "        return s"
   ]
  },
  {
   "cell_type": "code",
   "execution_count": 3,
   "metadata": {},
   "outputs": [
    {
     "data": {
      "text/plain": [
       "123"
      ]
     },
     "execution_count": 3,
     "metadata": {},
     "output_type": "execute_result"
    }
   ],
   "source": [
    "toInt('123')"
   ]
  },
  {
   "cell_type": "code",
   "execution_count": 4,
   "metadata": {},
   "outputs": [
    {
     "data": {
      "text/plain": [
       "'**'"
      ]
     },
     "execution_count": 4,
     "metadata": {},
     "output_type": "execute_result"
    }
   ],
   "source": [
    "toInt('**')"
   ]
  },
  {
   "cell_type": "markdown",
   "metadata": {},
   "source": [
    "The module `re` provides support for <a href='https://en.wikipedia.org/wiki/Regular_expression'>regular expressions</a>.  These are needed for\n",
    "<em style=\"color:blue;\">tokenizing</em> a string."
   ]
  },
  {
   "cell_type": "code",
   "execution_count": 5,
   "metadata": {},
   "outputs": [],
   "source": [
    "import re"
   ]
  },
  {
   "cell_type": "markdown",
   "metadata": {},
   "source": [
    "The function $\\texttt{tokenize}(s)$ takes a string $s$ representing an arithmetic expression and splits this string into a list of tokens.\n",
    "The string `regExp` in the implementation below is interpreted as follows:\n",
    "\n",
    "  - The `r` in front of the apostrophe `'` specifies that the regular expression is defined as a *raw string*.  \n",
    "    In a *raw string* the backslash does not have to be escaped because it is treated as a literal character.\n",
    "  - The regular expression is divided into three parts. These parts are separated by the character `|`.  \n",
    "      1. `[0-9]+` matches a natural number.  For example, it matches `0` or `123`.  It would also match a string like `007`.\n",
    "         The `+` at the end of the substring `[0-9]+` specifies that there are any positive number of the characters in the range `[0-9]`.\n",
    "      2. `\\*\\*` matches the operator `**`.\n",
    "      3. `[()+*/%-]` matches a parenthesis or an arithmetical operator.  Note that we have \n",
    "         to put the symbol `-` last in this group as otherwise this symbol would be \n",
    "         interpreted as a range operator."
   ]
  },
  {
   "cell_type": "code",
   "execution_count": 6,
   "metadata": {},
   "outputs": [],
   "source": [
    "def tokenize(s):\n",
    "    regExp = r'[0-9]+|\\*\\*|[()+\\-*%/]'\n",
    "    L = [ toInt(t) for t in re.findall(regExp, s) ]\n",
    "    return list(reversed(L))"
   ]
  },
  {
   "cell_type": "code",
   "execution_count": 7,
   "metadata": {},
   "outputs": [
    {
     "data": {
      "text/plain": [
       "['11', '*', '22', '*', '33', '**', '45']"
      ]
     },
     "execution_count": 7,
     "metadata": {},
     "output_type": "execute_result"
    }
   ],
   "source": [
    "re.findall(r'[0-9]+|\\*\\*|[()+*%/-]', '11 * 22 * 33**45')"
   ]
  },
  {
   "cell_type": "code",
   "execution_count": 8,
   "metadata": {},
   "outputs": [
    {
     "data": {
      "text/plain": [
       "[45, '**', 34, '*', 23, '*', 12]"
      ]
     },
     "execution_count": 8,
     "metadata": {},
     "output_type": "execute_result"
    }
   ],
   "source": [
    "tokenize('12 * 23 * 34**45')"
   ]
  },
  {
   "cell_type": "markdown",
   "metadata": {},
   "source": [
    "Given an operator $o$, the expression $\\texttt{precedence}(o)$ returns the precedence of the operator\n",
    "$o$.  If $o_1$ and $o_2$ are different operators and the <em style=\"color:blue\">precedence</em> of $\\texttt{o}_1$ is at least as high than the \n",
    "<em style=\"color:blue\">precedence</em> of $\\texttt{o}_2$, then the expression\n",
    "$$ a \\;\\texttt{o}_1\\; b \\;\\texttt{o}_2\\; c $$ \n",
    "should be evaluated as\n",
    "$$ (a \\;\\texttt{o}_1\\; b) \\;\\texttt{o}_2\\; c. $$\n",
    "Otherwise, the expression $a \\;\\texttt{o}_1\\; b \\;\\texttt{o}_2\\; c$ should be evaluated as\n",
    "$$ a \\;\\texttt{o}_1\\; (b \\;\\texttt{o}_2\\; c). $$ "
   ]
  },
  {
   "cell_type": "code",
   "execution_count": 9,
   "metadata": {},
   "outputs": [],
   "source": [
    "def precedence(o):\n",
    "    Precedence = { '+': 1, '-': 1, '*': 2, '/': 2, '%': 2, '**' : 3 }\n",
    "    return Precedence[o]"
   ]
  },
  {
   "cell_type": "markdown",
   "metadata": {},
   "source": [
    "The expression `isLeftAssociative}(o)` is `True` iff the operator $o$ \n",
    "*associates to the left*.  If $o$ *associates to the right*, this expression is `False`.  \n",
    "If the operator $o$ is unknown, evaluation of the expression results \n",
    "in an error."
   ]
  },
  {
   "cell_type": "code",
   "execution_count": 10,
   "metadata": {},
   "outputs": [],
   "source": [
    "def isLeftAssociative(o):\n",
    "    if o in { '+', '-', '*', '/', '%' }:\n",
    "        return True\n",
    "    if o in { '**' }:\n",
    "        return False\n",
    "    assert False, f'unknown operator {o}'"
   ]
  },
  {
   "cell_type": "markdown",
   "metadata": {},
   "source": [
    "The function `evalBefore(o1, o2)` receives to strings representing arithmetical operators.  It returns `True` if the operator $o_1$ should be evaluated before the operator $o_2$ in an arithmetical expression of the form $a \\;\\texttt{o}_1\\; b \\;\\texttt{o}_2\\; c$.  In order to determine whether $o_1$ should be evaluated before $o_2$ it uses the *precedence* and the *associativity* of the operators.  \n",
    "Its behavior is specified by the following rules:\n",
    "- $\\texttt{precedence}(o_1) > \\texttt{precedence}(o_2) \\rightarrow \\texttt{evalBefore}(\\texttt{o}_1, \\texttt{o}_2) = \\texttt{True}$,\n",
    "- $o_1 = o_2 \\rightarrow \\texttt{evalBefore}(\\texttt{o}_1, \\texttt{o}_2) = \\texttt{isLeftAssociative}(o_1)$,\n",
    "- $\\texttt{precedence}(o_1) = \\texttt{precedence}(o_2) \\wedge o_1 \\not= o_2 \\rightarrow \\texttt{evalBefore}(\\texttt{o}_1, \\texttt{o}_2) = \\texttt{True}$,\n",
    "- $\\texttt{precedence}(o_1) < \\texttt{precedence}(o_2) \\rightarrow \\texttt{evalBefore}(\\texttt{o}_1, \\texttt{o}_2) = \\texttt{False}$."
   ]
  },
  {
   "cell_type": "code",
   "execution_count": 11,
   "metadata": {},
   "outputs": [],
   "source": [
    "def evalBefore(stackOp, nextOp):\n",
    "    if precedence(stackOp) > precedence(nextOp):\n",
    "        return True\n",
    "    if stackOp == nextOp:\n",
    "        return isLeftAssociative(stackOp)\n",
    "    if precedence(stackOp) == precedence(nextOp) and stackOp != nextOp:\n",
    "        return True\n",
    "    if precedence(stackOp) < precedence(nextOp):\n",
    "        return False\n",
    "    assert False, f'incomplete case distinction in evalBefore({stackOp}, {nextOp})'"
   ]
  },
  {
   "cell_type": "code",
   "execution_count": 12,
   "metadata": {},
   "outputs": [],
   "source": [
    "%%capture\n",
    "%run Stack.ipynb"
   ]
  },
  {
   "cell_type": "markdown",
   "metadata": {},
   "source": [
    "The class `Calculator` supports three member variables:\n",
    "  - the token stack `mTokenStack` \n",
    "  - the operator stack `mOperators`\n",
    "  - the argument stack `mArguments`\n",
    "  \n",
    "The constructor takes a string that is tokenized and pushes the tokens onto the token stack such that the first token is on top of the token stack."
   ]
  },
  {
   "cell_type": "code",
   "execution_count": 13,
   "metadata": {},
   "outputs": [],
   "source": [
    "class Calculator:\n",
    "    def __init__(self, s):\n",
    "        self.mTokens    = createStack(tokenize(s))\n",
    "        self.mOperators = Stack()\n",
    "        self.mArguments = Stack()    "
   ]
  },
  {
   "cell_type": "markdown",
   "metadata": {},
   "source": [
    "The method `__str__` is used to convert an object of class `Calculator` to a string."
   ]
  },
  {
   "cell_type": "code",
   "execution_count": 14,
   "metadata": {},
   "outputs": [],
   "source": [
    "def toString(self):\n",
    "    return '\\n'.join(['_'*50, \n",
    "                      'Tokens:    ', str(self.mTokens), \n",
    "                      'Arguments: ', str(self.mArguments), \n",
    "                      'Operators: ', str(self.mOperators), \n",
    "                      '_'*50])\n",
    "\n",
    "Calculator.__str__ = toString\n",
    "del toString"
   ]
  },
  {
   "cell_type": "code",
   "execution_count": 15,
   "metadata": {},
   "outputs": [],
   "source": [
    "Calculator.__repr__ = Calculator.__str__"
   ]
  },
  {
   "cell_type": "markdown",
   "metadata": {},
   "source": [
    "The function $\\texttt{evaluate}(\\texttt{self})$ evaluates the expression that is given by the tokens on the `mTokenStack`.  \n",
    "There are two phases:\n",
    "1. The first phase is the <em style=\"color:blue\">reading phase</em>. In this phase\n",
    "   the tokens are removed from the token stack `mTokens`.  \n",
    "2. The second phase is the <em style=\"color:blue\">evaluation phase</em>.  In this phase,\n",
    "   the remaining operators on the operator stack `mOperators` are evaluated.  Note that some operators are already \n",
    "   evaluated in the *reading phase*.\n",
    "\n",
    "We can describe what happens in the *reading phase* using \n",
    "<em style=\"color:blue\">rewrite rules</em> that describe how the three stacks `mTokens`, `mArguments` and `mOperators`\n",
    "are changed in each *step*.  Here, a *step* is one iteration of the first `while`-loop of the function `evaluate`.\n",
    "The following *rewrite rules* are executed until the token stack `mTokens` is empty.\n",
    "1. If the token on top of the token stack is an integer, it is removed from the token stack and pushed onto the argument stack.\n",
    "   The operator stack remains unchanged in this case.  \n",
    "   $$\\begin{array}{lc}\n",
    "     \\texttt{mTokens} = \\texttt{mTokensRest} + [\\texttt{token} ] & \\wedge \\\\\n",
    "     \\texttt{isInteger}(\\texttt{token}) & \\Rightarrow \\\\[0.2cm]\n",
    "     \\texttt{mArguments}' = \\texttt{mArguments} + [\\texttt{token}] & \\wedge \\\\\n",
    "     \\texttt{mTokens}' = \\texttt{mTokensRest} & \\wedge \\\\\n",
    "     \\texttt{mOperators}' = \\texttt{mOperators}\n",
    "     \\end{array} \n",
    "   $$\n",
    "   Here, the primed variable $\\texttt{mArguments}'$ refers to the argument stack after  $\\texttt{token}$\n",
    "   has been pushed onto it.\n",
    "   \n",
    "   In the following rules we implicitly assume that the token on top of the token stack is not an integer but \n",
    "   rather a parenthesis or a proper operator.  In order to be more concise, we suppress this precondition from the \n",
    "   following rewrite rules.\n",
    "2. If the operator stack is empty, the next token is pushed onto the operator stack.\n",
    "   $$\\begin{array}{lc}\n",
    "     \\texttt{mTokens} = \\texttt{mTokensRest} + [\\texttt{op} ] & \\wedge \\\\\n",
    "     \\texttt{mOperators} = [] & \\Rightarrow \\\\[0.2cm]\n",
    "     \\texttt{mOperators}' = \\texttt{mOperators} + [\\texttt{op}] & \\wedge \\\\\n",
    "     \\texttt{mTokens}' = \\texttt{mTokensRest} & \\wedge \\\\\n",
    "     \\texttt{mArguments}' = \\texttt{mArguments} \n",
    "     \\end{array} \n",
    "   $$\n",
    "3. If the next token is an opening parenthesis, this parenthesis token is pushed onto the operator stack.\n",
    "   $$\\begin{array}{lc}\n",
    "     \\texttt{mTokens} = \\texttt{mTokensRest} + [\\texttt{'('} ] & \\Rightarrow \\\\[0.2cm]\n",
    "     \\texttt{mOperators}' = \\texttt{mOperators} + [\\texttt{'('}] & \\wedge \\\\\n",
    "     \\texttt{mTokens}' = \\texttt{mTokensRest} & \\wedge \\\\\n",
    "     \\texttt{mArguments}' = \\texttt{mArguments} \n",
    "     \\end{array} \n",
    "   $$\n",
    "4. If the next token is a closing parenthesis and the operator on top of the operator stack is an opening parenthesis, then both \n",
    "   parentheses are removed.\n",
    "   $$\\begin{array}{lc}\n",
    "     \\texttt{mTokens} = \\texttt{mTokensRest} + [\\texttt{')'} ] & \\wedge \\\\\n",
    "     \\texttt{mOperators} =\\texttt{mOperatorsRest} + [\\texttt{'('}]                  & \\Rightarrow \\\\[0.2cm]\n",
    "     \\texttt{mOperators}' = \\texttt{mOperatorsRest} & \\wedge \\\\\n",
    "     \\texttt{mTokens}' = \\texttt{mTokensRest} & \\wedge \\\\\n",
    "     \\texttt{mArguments}' = \\texttt{mArguments} \n",
    "     \\end{array} \n",
    "   $$\n",
    "5. If the next token is a closing parenthesis but the operator on top of the operator stack is not an opening parenthesis, \n",
    "   the operator on top of the operator stack is evaluated.  Note that the token stack is not changed in this case.\n",
    "   $$\\begin{array}{lc}\n",
    "     \\texttt{mTokens} = \\texttt{mTokensRest} + [\\texttt{')'} ] & \\wedge \\\\\n",
    "     \\texttt{mOperatorsRest} + [\\texttt{op}]                   & \\wedge \\\\\n",
    "     \\texttt{op} \\not= \\texttt{'('}                            & \\wedge \\\\\n",
    "     \\texttt{mArguments} = \\texttt{mArgumentsRest} + [\\texttt{lhs}, \\texttt{rhs}] & \\Rightarrow \\\\[0.2cm]\n",
    "        \\texttt{mOperators}' = \\texttt{mOperatorsRest} & \\wedge \\\\\n",
    "         \\texttt{mTokens}' = \\texttt{mTokens} & \\wedge \\\\\n",
    "         \\texttt{mArguments}' = \\texttt{mArgumentsRest} + [\\texttt{lhs} \\;\\texttt{op}\\; \\texttt{rhs}]\n",
    "     \\end{array} \n",
    "   $$\n",
    "   Here, the expression $\\texttt{lhs} \\;\\texttt{op}\\; \\texttt{rhs}$ denotes evaluating the operator $\\texttt{op}$ with the arguments\n",
    "   $\\texttt{lhs}$ and $\\texttt{rhs}$.\n",
    "6. If the token on top of the operator stack is an opening parenthesis, then the operator on top of the token stack\n",
    "   is pushed onto the operator stack.\n",
    "   $$\\begin{array}{lc}\n",
    "     \\texttt{mTokens} = \\texttt{mTokensRest} + [\\texttt{op}] & \\wedge \\\\\n",
    "     \\texttt{op} \\not= \\texttt{')'}                          & \\wedge \\\\\n",
    "     \\texttt{mOperators} = \\texttt{mOperatorsRest} + [\\texttt{'('}] & \\Rightarrow \\\\[0.2cm]\n",
    "     \\texttt{mOperator}' = \\texttt{mOperator} + [\\texttt{op}] & \\wedge \\\\\n",
    "     \\texttt{mTokens}' = \\texttt{mTokensRest} & \\wedge \\\\\n",
    "     \\texttt{mArguments}' = \\texttt{mArguments}\n",
    "     \\end{array} \n",
    "   $$\n",
    "   \n",
    "   In the remaining cases neither the token on top of the token stack nor the operator on top of the operator stack can be a\n",
    "   a parenthesis.  The following rules will implicitly assume that this is the case.\n",
    "7. If the operator on top of the operator stack needs to be evaluated before the operator on top of the token stack,\n",
    "   the operator on top of the operator stack is evaluated.\n",
    "      $$\\begin{array}{lc}\n",
    "        \\texttt{mTokens} = \\texttt{mTokensRest} + [o_2]                                        & \\wedge \\\\\n",
    "        \\texttt{mOperatorsRest} + [o_1]                                                        & \\wedge \\\\\n",
    "        \\texttt{evalBefore}(o_1, o_2)                                                          & \\wedge \\\\ \n",
    "        \\texttt{mArguments} = \\texttt{mArgumentsRest} + [\\texttt{lhs}, \\texttt{rhs}]           & \\Rightarrow \\\\[0.2cm]\n",
    "        \\texttt{mOperators}' = \\texttt{mOperatorRest}                                          & \\wedge \\\\\n",
    "        \\texttt{mTokens}' = \\texttt{mTokens}                                                   & \\wedge \\\\\n",
    "        \\texttt{mArguments}' = \\texttt{mArgumentsRest} + [\\texttt{lhs} \\;o_1\\; \\texttt{rhs}]\n",
    "        \\end{array} \n",
    "      $$\n",
    "8. Otherwise, the operator on top of the token stack is pushed onto the operator stack.\n",
    "   $$\\begin{array}{lc}\n",
    "         \\texttt{mTokens} = \\texttt{mTokensRest} + [o_2]           & \\wedge \\\\\n",
    "         \\texttt{mOperators} = \\texttt{mOperatorsRest} + [o_1]     & \\wedge \\\\\n",
    "         \\neg \\texttt{evalBefore}(o_1, o_2)                        & \\Rightarrow \\\\[0.2cm]\n",
    "        \\texttt{mOperators}' = \\texttt{mOperators} + [o_2]         & \\wedge \\\\\n",
    "        \\texttt{mTokens}' = \\texttt{mTokensRest}                   & \\wedge \\\\\n",
    "        \\texttt{mArguments}' = \\texttt{mArguments}\n",
    "      \\end{array} \n",
    "    $$\n",
    "   \n",
    "In every step of the evaluation phase we \n",
    "- remove one operator from the operator stack, \n",
    "- remove its arguments from the argument stack, \n",
    "- evaluate the operator, and \n",
    "- push the result back on the argument stack. "
   ]
  },
  {
   "cell_type": "code",
   "execution_count": 16,
   "metadata": {},
   "outputs": [],
   "source": [
    "def evaluate(self):\n",
    "    while not self.mTokens.isEmpty():\n",
    "        print(self) # only for debugging\n",
    "        nextOp = self.mTokens.top(); self.mTokens.pop()\n",
    "        if isinstance(nextOp, int):\n",
    "            self.mArguments.push(nextOp)\n",
    "            continue\n",
    "        if self.mOperators.isEmpty():\n",
    "            self.mOperators.push(nextOp)\n",
    "            continue\n",
    "        if nextOp == \"(\":\n",
    "            self.mOperators.push(nextOp)\n",
    "            continue\n",
    "        stackOp = self.mOperators.top()\n",
    "        if stackOp == \"(\" and nextOp == \")\":\n",
    "            self.mOperators.pop()\n",
    "            continue\n",
    "        if nextOp == \")\":\n",
    "            self.popAndEvaluate()\n",
    "            self.mTokens.push(nextOp)\n",
    "            continue\n",
    "        if stackOp == '(':\n",
    "            self.mOperators.push(nextOp)\n",
    "            continue\n",
    "        if evalBefore(stackOp, nextOp):\n",
    "            self.popAndEvaluate()\n",
    "            self.mTokens.push(nextOp)\n",
    "        else:\n",
    "            self.mOperators.push(nextOp)\n",
    "    while not self.mOperators.isEmpty():\n",
    "        print(self) # only for debugging\n",
    "        self.popAndEvaluate()\n",
    "    print(self)\n",
    "    return self.mArguments.top()\n",
    "    \n",
    "Calculator.evaluate = evaluate\n",
    "del evaluate"
   ]
  },
  {
   "cell_type": "markdown",
   "metadata": {},
   "source": [
    "The method $\\texttt{popAndEvaluate}(\\texttt{self})$ removes the two topmost numbers $\\texttt{rhs}$ and $\\texttt{lhs}$ from the argument stack and \n",
    "removes the topmost operator $\\texttt{op}$ from the operator stack.  It applies the operator $\\texttt{op}$ to these numbers\n",
    "by computing $\\texttt{lhs} \\;\\texttt{op}\\; \\texttt{rhs}$\n",
    "and then pushes this value back on the argument stack."
   ]
  },
  {
   "cell_type": "code",
   "execution_count": 19,
   "metadata": {},
   "outputs": [],
   "source": [
    "def popAndEvaluate(self):\n",
    "    rhs = self.mArguments.top(); self.mArguments.pop()\n",
    "    lhs = self.mArguments.top(); self.mArguments.pop()\n",
    "    op  = self.mOperators.top(); self.mOperators.pop()\n",
    "    result = None\n",
    "    if op == '+':\n",
    "        result = lhs + rhs\n",
    "    if op == '-':\n",
    "        result = lhs - rhs\n",
    "    if op == '*':\n",
    "        result = lhs * rhs\n",
    "    if op == '/':\n",
    "        result = lhs // rhs\n",
    "    if op == '%':\n",
    "        result = lhs % rhs\n",
    "    if op == '**':\n",
    "        result = lhs ** rhs\n",
    "    assert result != None, f'ERROR: *** Unknown Operator *** \"{op}\"'\n",
    "    self.mArguments.push(result)\n",
    "    \n",
    "Calculator.popAndEvaluate = popAndEvaluate\n",
    "del popAndEvaluate"
   ]
  },
  {
   "cell_type": "code",
   "execution_count": 25,
   "metadata": {},
   "outputs": [
    {
     "name": "stdout",
     "output_type": "stream",
     "text": [
      "-----\n",
      "| 2 |\n",
      "-----\n",
      "----------\n",
      "| 2 | ** |\n",
      "----------\n",
      "--------------\n",
      "| 2 | ** | ) |\n",
      "--------------\n",
      "------------------\n",
      "| 2 | ** | ) | 4 |\n",
      "------------------\n",
      "----------------------\n",
      "| 2 | ** | ) | 4 | - |\n",
      "----------------------\n",
      "--------------------------\n",
      "| 2 | ** | ) | 4 | - | ) |\n",
      "--------------------------\n",
      "------------------------------\n",
      "| 2 | ** | ) | 4 | - | ) | 1 |\n",
      "------------------------------\n",
      "----------------------------------\n",
      "| 2 | ** | ) | 4 | - | ) | 1 | + |\n",
      "----------------------------------\n",
      "--------------------------------------\n",
      "| 2 | ** | ) | 4 | - | ) | 1 | + | 2 |\n",
      "--------------------------------------\n",
      "------------------------------------------\n",
      "| 2 | ** | ) | 4 | - | ) | 1 | + | 2 | ( |\n",
      "------------------------------------------\n",
      "----------------------------------------------\n",
      "| 2 | ** | ) | 4 | - | ) | 1 | + | 2 | ( | * |\n",
      "----------------------------------------------\n",
      "--------------------------------------------------\n",
      "| 2 | ** | ) | 4 | - | ) | 1 | + | 2 | ( | * | 3 |\n",
      "--------------------------------------------------\n",
      "------------------------------------------------------\n",
      "| 2 | ** | ) | 4 | - | ) | 1 | + | 2 | ( | * | 3 | ( |\n",
      "------------------------------------------------------\n",
      "----------------------------------------------------------\n",
      "| 2 | ** | ) | 4 | - | ) | 1 | + | 2 | ( | * | 3 | ( | * |\n",
      "----------------------------------------------------------\n",
      "--------------------------------------------------------------\n",
      "| 2 | ** | ) | 4 | - | ) | 1 | + | 2 | ( | * | 3 | ( | * | ) |\n",
      "--------------------------------------------------------------\n",
      "------------------------------------------------------------------\n",
      "| 2 | ** | ) | 4 | - | ) | 1 | + | 2 | ( | * | 3 | ( | * | ) | 1 |\n",
      "------------------------------------------------------------------\n"
     ]
    }
   ],
   "source": [
    "C = Calculator('1)*(3*(2+1)-4)**2')"
   ]
  },
  {
   "cell_type": "code",
   "execution_count": 26,
   "metadata": {
    "scrolled": false
   },
   "outputs": [
    {
     "name": "stdout",
     "output_type": "stream",
     "text": [
      "__________________________________________________\n",
      "Tokens:    \n",
      "------------------------------------------------------------------\n",
      "| 2 | ** | ) | 4 | - | ) | 1 | + | 2 | ( | * | 3 | ( | * | ) | 1 |\n",
      "------------------------------------------------------------------\n",
      "Arguments: \n",
      "-\n",
      "|\n",
      "-\n",
      "Operators: \n",
      "-\n",
      "|\n",
      "-\n",
      "__________________________________________________\n",
      "__________________________________________________\n",
      "Tokens:    \n",
      "--------------------------------------------------------------\n",
      "| 2 | ** | ) | 4 | - | ) | 1 | + | 2 | ( | * | 3 | ( | * | ) |\n",
      "--------------------------------------------------------------\n",
      "Arguments: \n",
      "-----\n",
      "| 1 |\n",
      "-----\n",
      "Operators: \n",
      "-\n",
      "|\n",
      "-\n",
      "__________________________________________________\n",
      "__________________________________________________\n",
      "Tokens:    \n",
      "----------------------------------------------------------\n",
      "| 2 | ** | ) | 4 | - | ) | 1 | + | 2 | ( | * | 3 | ( | * |\n",
      "----------------------------------------------------------\n",
      "Arguments: \n",
      "-----\n",
      "| 1 |\n",
      "-----\n",
      "Operators: \n",
      "-----\n",
      "| ) |\n",
      "-----\n",
      "__________________________________________________\n"
     ]
    },
    {
     "ename": "KeyError",
     "evalue": "')'",
     "output_type": "error",
     "traceback": [
      "\u001b[0;31m---------------------------------------------------------------------------\u001b[0m",
      "\u001b[0;31mKeyError\u001b[0m                                  Traceback (most recent call last)",
      "Input \u001b[0;32mIn [26]\u001b[0m, in \u001b[0;36m<cell line: 1>\u001b[0;34m()\u001b[0m\n\u001b[0;32m----> 1\u001b[0m \u001b[43mC\u001b[49m\u001b[38;5;241;43m.\u001b[39;49m\u001b[43mevaluate\u001b[49m\u001b[43m(\u001b[49m\u001b[43m)\u001b[49m\n",
      "Input \u001b[0;32mIn [18]\u001b[0m, in \u001b[0;36mevaluate\u001b[0;34m(self)\u001b[0m\n\u001b[1;32m     23\u001b[0m     \u001b[38;5;28mself\u001b[39m\u001b[38;5;241m.\u001b[39mmOperators\u001b[38;5;241m.\u001b[39mpush(nextOp)\n\u001b[1;32m     24\u001b[0m     \u001b[38;5;28;01mcontinue\u001b[39;00m\n\u001b[0;32m---> 25\u001b[0m \u001b[38;5;28;01mif\u001b[39;00m \u001b[43mevalBefore\u001b[49m\u001b[43m(\u001b[49m\u001b[43mstackOp\u001b[49m\u001b[43m,\u001b[49m\u001b[43m \u001b[49m\u001b[43mnextOp\u001b[49m\u001b[43m)\u001b[49m:\n\u001b[1;32m     26\u001b[0m     \u001b[38;5;28mself\u001b[39m\u001b[38;5;241m.\u001b[39mpopAndEvaluate()\n\u001b[1;32m     27\u001b[0m     \u001b[38;5;28mself\u001b[39m\u001b[38;5;241m.\u001b[39mmTokens\u001b[38;5;241m.\u001b[39mpush(nextOp)\n",
      "Input \u001b[0;32mIn [12]\u001b[0m, in \u001b[0;36mevalBefore\u001b[0;34m(stackOp, nextOp)\u001b[0m\n\u001b[1;32m      1\u001b[0m \u001b[38;5;28;01mdef\u001b[39;00m \u001b[38;5;21mevalBefore\u001b[39m(stackOp, nextOp):\n\u001b[0;32m----> 2\u001b[0m     \u001b[38;5;28;01mif\u001b[39;00m \u001b[43mprecedence\u001b[49m\u001b[43m(\u001b[49m\u001b[43mstackOp\u001b[49m\u001b[43m)\u001b[49m \u001b[38;5;241m>\u001b[39m precedence(nextOp):\n\u001b[1;32m      3\u001b[0m         \u001b[38;5;28;01mreturn\u001b[39;00m \u001b[38;5;28;01mTrue\u001b[39;00m\n\u001b[1;32m      4\u001b[0m     \u001b[38;5;28;01mif\u001b[39;00m stackOp \u001b[38;5;241m==\u001b[39m nextOp:\n",
      "Input \u001b[0;32mIn [10]\u001b[0m, in \u001b[0;36mprecedence\u001b[0;34m(o)\u001b[0m\n\u001b[1;32m      1\u001b[0m \u001b[38;5;28;01mdef\u001b[39;00m \u001b[38;5;21mprecedence\u001b[39m(o):\n\u001b[1;32m      2\u001b[0m     Precedence \u001b[38;5;241m=\u001b[39m { \u001b[38;5;124m'\u001b[39m\u001b[38;5;124m+\u001b[39m\u001b[38;5;124m'\u001b[39m: \u001b[38;5;241m1\u001b[39m, \u001b[38;5;124m'\u001b[39m\u001b[38;5;124m-\u001b[39m\u001b[38;5;124m'\u001b[39m: \u001b[38;5;241m1\u001b[39m, \u001b[38;5;124m'\u001b[39m\u001b[38;5;124m*\u001b[39m\u001b[38;5;124m'\u001b[39m: \u001b[38;5;241m2\u001b[39m, \u001b[38;5;124m'\u001b[39m\u001b[38;5;124m/\u001b[39m\u001b[38;5;124m'\u001b[39m: \u001b[38;5;241m2\u001b[39m, \u001b[38;5;124m'\u001b[39m\u001b[38;5;124m%\u001b[39m\u001b[38;5;124m'\u001b[39m: \u001b[38;5;241m2\u001b[39m, \u001b[38;5;124m'\u001b[39m\u001b[38;5;124m**\u001b[39m\u001b[38;5;124m'\u001b[39m : \u001b[38;5;241m3\u001b[39m }\n\u001b[0;32m----> 3\u001b[0m     \u001b[38;5;28;01mreturn\u001b[39;00m \u001b[43mPrecedence\u001b[49m\u001b[43m[\u001b[49m\u001b[43mo\u001b[49m\u001b[43m]\u001b[49m\n",
      "\u001b[0;31mKeyError\u001b[0m: ')'"
     ]
    }
   ],
   "source": [
    "C.evaluate()"
   ]
  },
  {
   "cell_type": "code",
   "execution_count": null,
   "metadata": {},
   "outputs": [],
   "source": []
  }
 ],
 "metadata": {
  "kernelspec": {
   "display_name": "Python 3 (ipykernel)",
   "language": "python",
   "name": "python3"
  },
  "language_info": {
   "codemirror_mode": {
    "name": "ipython",
    "version": 3
   },
   "file_extension": ".py",
   "mimetype": "text/x-python",
   "name": "python",
   "nbconvert_exporter": "python",
   "pygments_lexer": "ipython3",
   "version": "3.10.4"
  },
  "varInspector": {
   "cols": {
    "lenName": 16,
    "lenType": 16,
    "lenVar": 40
   },
   "kernels_config": {
    "python": {
     "delete_cmd_postfix": "",
     "delete_cmd_prefix": "del ",
     "library": "var_list.py",
     "varRefreshCmd": "print(var_dic_list())"
    },
    "r": {
     "delete_cmd_postfix": ") ",
     "delete_cmd_prefix": "rm(",
     "library": "var_list.r",
     "varRefreshCmd": "cat(var_dic_list()) "
    }
   },
   "types_to_exclude": [
    "module",
    "function",
    "builtin_function_or_method",
    "instance",
    "_Feature"
   ],
   "window_display": false
  }
 },
 "nbformat": 4,
 "nbformat_minor": 2
}
