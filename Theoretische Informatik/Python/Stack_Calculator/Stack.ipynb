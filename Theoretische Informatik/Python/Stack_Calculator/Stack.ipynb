{
 "cells": [
  {
   "cell_type": "code",
   "execution_count": null,
   "metadata": {},
   "outputs": [],
   "source": [
    "from IPython.core.display import HTML\n",
    "with open('../style.css') as file:\n",
    "    css = file.read()\n",
    "HTML(css)"
   ]
  },
  {
   "cell_type": "markdown",
   "metadata": {},
   "source": [
    "# Implementing a Stack Class"
   ]
  },
  {
   "cell_type": "markdown",
   "metadata": {},
   "source": [
    "First, we define an empty class `Stack`."
   ]
  },
  {
   "cell_type": "code",
   "execution_count": null,
   "metadata": {},
   "outputs": [],
   "source": [
    "class Stack:\n",
    "    pass"
   ]
  },
  {
   "cell_type": "code",
   "execution_count": null,
   "metadata": {},
   "outputs": [],
   "source": [
    "S = Stack()\n",
    "S"
   ]
  },
  {
   "cell_type": "markdown",
   "metadata": {},
   "source": [
    "Next we define a *constructor* for this class.  The function `stack(S)` takes an uninitialized, empty object `S` \n",
    "and initializes its *member variable* `mStackElements`.  This member variable is a list containing the data \n",
    "stored in the stack."
   ]
  },
  {
   "cell_type": "code",
   "execution_count": null,
   "metadata": {},
   "outputs": [],
   "source": [
    "def stack(S):\n",
    "    S.mStackElements = []"
   ]
  },
  {
   "cell_type": "markdown",
   "metadata": {},
   "source": [
    "We add this method to the class Stack.  Since we add it under the name `__init__`, this method will be the \n",
    "*constructor*.  Furthermore, to keep the environment tidy, we delete the function `stack`."
   ]
  },
  {
   "cell_type": "code",
   "execution_count": null,
   "metadata": {},
   "outputs": [],
   "source": [
    "Stack.__init__ = stack\n",
    "del stack"
   ]
  },
  {
   "cell_type": "markdown",
   "metadata": {},
   "source": [
    "Next, we add the method `push` to the class `Stack`.  The method $\\texttt{push}(S, e)$ pushes $e$ onto the stack $S$."
   ]
  },
  {
   "cell_type": "code",
   "execution_count": null,
   "metadata": {},
   "outputs": [],
   "source": [
    "def push(S, e):\n",
    "    S.mStackElements += [e]"
   ]
  },
  {
   "cell_type": "markdown",
   "metadata": {},
   "source": [
    "We add this method to the class `Stack`."
   ]
  },
  {
   "cell_type": "code",
   "execution_count": null,
   "metadata": {},
   "outputs": [],
   "source": [
    "Stack.push = push\n",
    "del push"
   ]
  },
  {
   "cell_type": "markdown",
   "metadata": {},
   "source": [
    "The method `pop` removes the topmost element from a stack.  It is an error to `pop` an empty stack."
   ]
  },
  {
   "cell_type": "code",
   "execution_count": null,
   "metadata": {},
   "outputs": [],
   "source": [
    "def pop(S):\n",
    "    assert len(S.mStackElements) > 0, \"popping empty stack\"\n",
    "    S.mStackElements = S.mStackElements[:-1]\n",
    "\n",
    "Stack.pop = pop\n",
    "del pop"
   ]
  },
  {
   "cell_type": "markdown",
   "metadata": {},
   "source": [
    "The method `top` returns the element that is on top of the stack.\n",
    "It is an error to call this method if the stack is empty."
   ]
  },
  {
   "cell_type": "code",
   "execution_count": null,
   "metadata": {},
   "outputs": [],
   "source": [
    "def top(S):\n",
    "    assert len(S.mStackElements) > 0, \"top of empty stack\"\n",
    "    return S.mStackElements[-1]\n",
    "\n",
    "Stack.top = top\n",
    "del top"
   ]
  },
  {
   "cell_type": "markdown",
   "metadata": {},
   "source": [
    "The method `S.isEmpty()` checks whether the stack `S` is empty."
   ]
  },
  {
   "cell_type": "code",
   "execution_count": null,
   "metadata": {},
   "outputs": [],
   "source": [
    "def isEmpty(S):\n",
    "    return S.mStackElements == []\n",
    "\n",
    "Stack.isEmpty = isEmpty\n",
    "del isEmpty"
   ]
  },
  {
   "cell_type": "markdown",
   "metadata": {},
   "source": [
    "The method `S.copy()` creates a *shallow* copy of the given stack, i.e. the copy contains the same objects as\n",
    "the stack `S`."
   ]
  },
  {
   "cell_type": "code",
   "execution_count": null,
   "metadata": {},
   "outputs": [],
   "source": [
    "def copy(S):\n",
    "    C = Stack()\n",
    "    C.mStackElements = S.mStackElements[:]\n",
    "    return C\n",
    "\n",
    "Stack.copy = copy\n",
    "del copy"
   ]
  },
  {
   "cell_type": "markdown",
   "metadata": {},
   "source": [
    "The method `S.toStr()` converts a stack `S` into a string.  Note that we assign it to the method `__str__`.  This method is called automatically when an object of class `Stack` is cast into a string."
   ]
  },
  {
   "cell_type": "code",
   "execution_count": null,
   "metadata": {},
   "outputs": [],
   "source": [
    "def toStr(S):\n",
    "    C = S.copy()\n",
    "    result = C._convert()\n",
    "    dashes = \"-\" * len(result)\n",
    "    return '\\n'.join([dashes, result, dashes])\n",
    "\n",
    "Stack.__str__ = toStr\n",
    "del toStr"
   ]
  },
  {
   "cell_type": "markdown",
   "metadata": {},
   "source": [
    "The method `convert` converts a stack into a string."
   ]
  },
  {
   "cell_type": "code",
   "execution_count": null,
   "metadata": {},
   "outputs": [],
   "source": [
    "def convert(S):\n",
    "    if S.isEmpty():\n",
    "        return '|'\n",
    "    top = S.top()\n",
    "    S.pop()\n",
    "    return S._convert() + ' ' + str(top) + ' |'\n",
    "\n",
    "Stack._convert = convert\n",
    "del convert"
   ]
  },
  {
   "cell_type": "markdown",
   "metadata": {},
   "source": [
    "## Testing"
   ]
  },
  {
   "cell_type": "markdown",
   "metadata": {},
   "source": [
    "The method `createStack(L)` takes a list `L` and pushes all of its elements on a newly created stack, which is\n",
    "then returned."
   ]
  },
  {
   "cell_type": "code",
   "execution_count": null,
   "metadata": {},
   "outputs": [],
   "source": [
    "def createStack(L):\n",
    "    S = Stack()\n",
    "    for x in L:\n",
    "        S.push(x)\n",
    "        print(S)\n",
    "    return S"
   ]
  },
  {
   "cell_type": "code",
   "execution_count": null,
   "metadata": {},
   "outputs": [],
   "source": [
    "S = createStack(range(10))"
   ]
  },
  {
   "cell_type": "code",
   "execution_count": null,
   "metadata": {},
   "outputs": [],
   "source": [
    "S"
   ]
  },
  {
   "cell_type": "markdown",
   "metadata": {},
   "source": [
    "By defining the function `S.__repr__()` for stack objects, we can print stacks in *Jupyter notebooks* without calling the function `print`."
   ]
  },
  {
   "cell_type": "code",
   "execution_count": null,
   "metadata": {},
   "outputs": [],
   "source": [
    "Stack.__repr__ = Stack.__str__"
   ]
  },
  {
   "cell_type": "code",
   "execution_count": null,
   "metadata": {},
   "outputs": [],
   "source": [
    "S"
   ]
  },
  {
   "cell_type": "code",
   "execution_count": null,
   "metadata": {},
   "outputs": [],
   "source": [
    "for i in range(10):\n",
    "    print(S.top())\n",
    "    S.pop()\n",
    "    print(S)"
   ]
  },
  {
   "cell_type": "code",
   "execution_count": null,
   "metadata": {},
   "outputs": [],
   "source": []
  }
 ],
 "metadata": {
  "kernelspec": {
   "display_name": "Python 3",
   "language": "python",
   "name": "python3"
  },
  "language_info": {
   "codemirror_mode": {
    "name": "ipython",
    "version": 3
   },
   "file_extension": ".py",
   "mimetype": "text/x-python",
   "name": "python",
   "nbconvert_exporter": "python",
   "pygments_lexer": "ipython3",
   "version": "3.9.2"
  },
  "varInspector": {
   "cols": {
    "lenName": 16,
    "lenType": 16,
    "lenVar": 40
   },
   "kernels_config": {
    "python": {
     "delete_cmd_postfix": "",
     "delete_cmd_prefix": "del ",
     "library": "var_list.py",
     "varRefreshCmd": "print(var_dic_list())"
    },
    "r": {
     "delete_cmd_postfix": ") ",
     "delete_cmd_prefix": "rm(",
     "library": "var_list.r",
     "varRefreshCmd": "cat(var_dic_list()) "
    }
   },
   "types_to_exclude": [
    "module",
    "function",
    "builtin_function_or_method",
    "instance",
    "_Feature"
   ],
   "window_display": false
  }
 },
 "nbformat": 4,
 "nbformat_minor": 2
}
