{
 "cells": [
  {
   "cell_type": "code",
   "execution_count": null,
   "metadata": {},
   "outputs": [],
   "source": [
    "from IPython.core.display import HTML\n",
    "with open('../style.css') as file:\n",
    "    css = file.read()\n",
    "HTML(css)"
   ]
  },
  {
   "cell_type": "markdown",
   "metadata": {},
   "source": [
    "# 2-3 Trees"
   ]
  },
  {
   "cell_type": "markdown",
   "metadata": {},
   "source": [
    "This notebook contains the code to visualize *2-3 trees*."
   ]
  },
  {
   "cell_type": "code",
   "execution_count": null,
   "metadata": {},
   "outputs": [],
   "source": [
    "import graphviz as gv"
   ]
  },
  {
   "cell_type": "markdown",
   "metadata": {},
   "source": [
    "This notebook presents [2-3 trees](https://en.wikipedia.org/wiki/2-3_tree).  We define these trees inductively as follows:\n",
    "  - $\\texttt{Nil}$ is a 2-3 tree that represents the empty set.\n",
    "  - $\\texttt{Two}(l, k, r)$ is a 2-3 tree provided that\n",
    "      - $l$ is a 2-3 tree,\n",
    "      - $k$ is a key,\n",
    "      - $r$ is a 2-3 tree,\n",
    "      - all keys stored in $l$ are less than k and all keys stored in $r$ are bigger than $k$, that is we have\n",
    "        $$ l < k < r. $$\n",
    "      - $l$ and $r$ have the same height.\n",
    "      A node of the form  $\\texttt{Two}(l, k, r)$ is called a *2-node*.  Except for the fact\n",
    "      that there is no value, a 2-node is\n",
    "      interpreted in the same way as we have interpreted the term $\\texttt{Node}(k, v, l, r)$.\n",
    "  - $\\texttt{Three}(l, k_l, m, k_r, r)$ is a 2-3 tree provided\n",
    "      - $l$, $m$, and $r$ are 2-3 trees,\n",
    "      - $k_l$ and $k_r$ are keys,\n",
    "      - $l < k_l < m < k_r < r$,\n",
    "      - $l$, $m$, and $r$ have the same height.\n",
    "      A node of the form  $\\texttt{Three}(l, k_l, m, k_r, r)$ is called a *3-node*. \n",
    "\n",
    "In order to keep 2-3 trees balanced when inserting new keys we use a fourth constructor of the form\n",
    "$\\texttt{Four}(l,k_1,m_l, k_2, m_r, k_3, r)$.\n",
    "A term of the form $\\texttt{Four}(l,k_1,m_l, k_2, m_r, k_3, r)$ is a *2-3-4 tree* iff\n",
    "  - $l$, $m_l$, $m_r$, and $r$ are 2-3 trees,\n",
    "  - $k_l$, $k_m$, and $k_r$ are keys,\n",
    "  - $l < k_l < m_l < k_m < m_r < k_r < r$,\n",
    "  - $l$, $m_l$, $m_r$, and $r$ all have the same height.\n",
    "  \n",
    "Nodes of this form are called *4-nodes* and the key $k_m$ is called the *middle key*.\n",
    "Trees containing 2-nodes, 3-node, and 4-nodes are called *2-3-4 trees*.\n",
    "\n",
    "In order to keep 2-3 trees balanced when deleting keys we use a fifth constructor of the form\n",
    "$\\texttt{One}(t)$.\n",
    "A term of the form $\\texttt{One}(t)$ is a *1-2-3 tree* iff $t$ is a 2-3 tree."
   ]
  },
  {
   "cell_type": "markdown",
   "metadata": {},
   "source": [
    "The class `TwoThreeTree` is a *superclass* for constructing the nodes of *2-3-4 trees*.  It has one static variable `sNodeCount`.  This variable is used to equip all nodes with a unique identifier.  This identifier is used to draw the trees using `graphviz`.\n",
    "\n",
    "Every node has a uniques id `mID` that is stored as a member variable.  Furthermore, this class provides defaults for the functions `isNil`, `isTwo`, `isThree`, and `isFour`.  These functions can be used to check the type of a node."
   ]
  },
  {
   "cell_type": "code",
   "execution_count": null,
   "metadata": {},
   "outputs": [],
   "source": [
    "class TwoThreeTree:\n",
    "    sNodeCount = 0\n",
    "    \n",
    "    def __init__(self):\n",
    "        TwoThreeTree.sNodeCount += 1\n",
    "        self.mID = TwoThreeTree.sNodeCount\n",
    "        \n",
    "    def getID(self):\n",
    "        return self.mID\n",
    "        \n",
    "    def isNil(self):\n",
    "        return False\n",
    "    \n",
    "    def isOne(self):\n",
    "        return False\n",
    "    \n",
    "    def isTwo(self):\n",
    "        return False\n",
    "    \n",
    "    def isThree(self):\n",
    "        return False\n",
    "    \n",
    "    def isFour(self):\n",
    "        return False\n",
    "    \n",
    "    def isTree(self):\n",
    "        return False\n",
    "    \n",
    "    def isMethod(self):\n",
    "        return False\n",
    "    \n",
    "    def insert(self, k):\n",
    "        return self._ins(k)._restore()._grow()\n",
    "    \n",
    "    def delete(self, k):\n",
    "        return self._del(k)._repair()._shrink()\n",
    "    \n",
    "    def _grow(self):\n",
    "        return self\n",
    "    \n",
    "    def _shrink(self):\n",
    "        return self"
   ]
  },
  {
   "cell_type": "markdown",
   "metadata": {},
   "source": [
    "The function `make_string` is a helper function used to shorten the implementation of `__str__`.\n",
    "  - `obj` is the object that is to be rendered as a string\n",
    "  - `attributes` is a list of those member variables that are used to produce the string"
   ]
  },
  {
   "cell_type": "code",
   "execution_count": null,
   "metadata": {},
   "outputs": [],
   "source": [
    "def _make_string(self, attributes):\n",
    "        # map the function __str__ to all attributes and join them with a comma\n",
    "        name = self.__class__.__name__\n",
    "        return f\"{name}({', '.join(map(str, [getattr(self, at) for at in attributes]))})\"\n",
    "    \n",
    "TwoThreeTree._make_string = _make_string"
   ]
  },
  {
   "cell_type": "markdown",
   "metadata": {},
   "source": [
    "The method $t.\\texttt{toDot}()$ takes a 2-3-4 tree $t$ and returns a graph that depicts the tree $t$."
   ]
  },
  {
   "cell_type": "code",
   "execution_count": null,
   "metadata": {},
   "outputs": [],
   "source": [
    "def toDot(self):\n",
    "    dot = gv.Digraph(node_attr={'shape': 'record', 'style': 'rounded'})\n",
    "    nodeDict = {}\n",
    "    self._collectIDs(nodeDict)\n",
    "    for n, t in nodeDict.items():\n",
    "        if t.isNil():\n",
    "            dot.node(str(n), label='', shape='point')\n",
    "        elif t.isOne():\n",
    "            dot.node(str(n), label='', shape='point')\n",
    "        elif t.isTwo():\n",
    "            dot.node(str(n), label=str(t.mKey))\n",
    "        elif t.isThree():\n",
    "            dot.node(str(n), label=str(t.mKeyL) + '|' + str(t.mKeyR))\n",
    "        elif t.isFour():\n",
    "            dot.node(str(n), label=str(t.mKeyL) + '|' + str(t.mKeyM) + '|' + str(t.mKeyR))\n",
    "        elif t.isTree():\n",
    "            dot.node(str(n), label=str(t.mName), shape='triangle')\n",
    "        else:\n",
    "            assert False, f'Unknown node {t}'\n",
    "    for n, t in nodeDict.items():\n",
    "        if t.isOne():\n",
    "            dot.edge(str(n), str(t.mChild.getID()))\n",
    "        if t.isTwo():\n",
    "            dot.edge(str(n), str(t.mLeft .getID()))\n",
    "            dot.edge(str(n), str(t.mRight.getID()))\n",
    "        if t.isThree():\n",
    "            dot.edge(str(n), str(t.mLeft  .getID()))\n",
    "            dot.edge(str(n), str(t.mMiddle.getID()))\n",
    "            dot.edge(str(n), str(t.mRight .getID()))\n",
    "        if t.isFour():\n",
    "            dot.edge(str(n), str(t.mLeft   .getID()))\n",
    "            dot.edge(str(n), str(t.mMiddleL.getID()))\n",
    "            dot.edge(str(n), str(t.mMiddleR.getID()))\n",
    "            dot.edge(str(n), str(t.mRight  .getID()))\n",
    "    return dot\n",
    "\n",
    "TwoThreeTree.toDot = toDot"
   ]
  },
  {
   "cell_type": "markdown",
   "metadata": {},
   "source": [
    "The method $t.\\texttt{collectIDs}(d)$ takes a tree $t$ and a dictionary $d$ and updates the dictionary so that the following holds:\n",
    "$$ d[\\texttt{id}] = n \\quad \\mbox{for every node $n$ in $t$.} $$\n",
    "Here, $\\texttt{id}$ is the unique identifier of the node $n$, i.e. $d$ associates the identifiers with the corresponding nodes."
   ]
  },
  {
   "cell_type": "code",
   "execution_count": null,
   "metadata": {},
   "outputs": [],
   "source": [
    "def _collectIDs(self, nodeDict):\n",
    "    nodeDict[self.getID()] = self\n",
    "    if self.isOne():\n",
    "        self.mChild._collectIDs(nodeDict)\n",
    "    elif self.isTwo():\n",
    "        self.mLeft ._collectIDs(nodeDict)\n",
    "        self.mRight._collectIDs(nodeDict)\n",
    "    elif self.isThree():\n",
    "        self.mLeft  ._collectIDs(nodeDict)\n",
    "        self.mMiddle._collectIDs(nodeDict)\n",
    "        self.mRight ._collectIDs(nodeDict)\n",
    "    elif self.isFour():\n",
    "        self.mLeft   ._collectIDs(nodeDict)\n",
    "        self.mMiddleL._collectIDs(nodeDict)\n",
    "        self.mMiddleR._collectIDs(nodeDict)\n",
    "        self.mRight  ._collectIDs(nodeDict)\n",
    "        \n",
    "TwoThreeTree._collectIDs = _collectIDs"
   ]
  },
  {
   "cell_type": "markdown",
   "metadata": {},
   "source": [
    "The function $\\texttt{toDotList}(\\texttt{NodeList})$ takes a list of trees and displays them one by one."
   ]
  },
  {
   "cell_type": "code",
   "execution_count": null,
   "metadata": {},
   "outputs": [],
   "source": [
    "def toDotList(NodeList):\n",
    "    dot = gv.Digraph(node_attr={'shape': 'record', 'style': 'rounded'})\n",
    "    nodeDict = {}\n",
    "    for node in NodeList:\n",
    "        node._collectIDs(nodeDict)\n",
    "    for n, t in nodeDict.items():\n",
    "        if t.isNil():\n",
    "            dot.node(str(n), label='', shape='point')\n",
    "        elif t.isOne():\n",
    "            dot.node(str(n), label='', shape='point')\n",
    "        elif t.isTwo():\n",
    "            dot.node(str(n), label=str(t.mKey))\n",
    "        elif t.isThree():\n",
    "            dot.node(str(n), label=str(t.mKeyL) + '|' + str(t.mKeyR))\n",
    "        elif t.isFour():\n",
    "            dot.node(str(n), label=str(t.mKeyL) + '|' + str(t.mKeyM) + '|' + str(t.mKeyR))\n",
    "        elif t.isTree():\n",
    "            dot.node(str(n), label=str(t.mName), shape='triangle', style='solid')\n",
    "        elif t.isMethod():\n",
    "            dot.node(str(n), label=str(t.mLabel), shape='rectangle', style='dotted')\n",
    "        else:\n",
    "            assert False, f'toDotList: Unknown node {str(t)}'\n",
    "    for n, t in nodeDict.items():\n",
    "        if t.isOne():\n",
    "            dot.edge(str(n), str(t.mChild.getID()))\n",
    "        if t.isTwo():\n",
    "            dot.edge(str(n), str(t.mLeft .getID()))\n",
    "            dot.edge(str(n), str(t.mRight.getID()))\n",
    "        if t.isThree():\n",
    "            dot.edge(str(n), str(t.mLeft  .getID()))\n",
    "            dot.edge(str(n), str(t.mMiddle.getID()))\n",
    "            dot.edge(str(n), str(t.mRight .getID()))\n",
    "        if t.isFour():\n",
    "            dot.edge(str(n), str(t.mLeft   .getID()))\n",
    "            dot.edge(str(n), str(t.mMiddleL.getID()))\n",
    "            dot.edge(str(n), str(t.mMiddleR.getID()))\n",
    "            dot.edge(str(n), str(t.mRight  .getID()))\n",
    "    return dot"
   ]
  },
  {
   "cell_type": "markdown",
   "metadata": {},
   "source": [
    "The class `Tree` is not used in the implementation of *2-3 trees*.  It is only used for displaying abstract subtrees in equations.\n",
    "It is displayed as a triangle containing the string that is stored in the member variable `mName`."
   ]
  },
  {
   "cell_type": "code",
   "execution_count": null,
   "metadata": {},
   "outputs": [],
   "source": [
    "class Tree(TwoThreeTree):\n",
    "    def __init__(self, name):\n",
    "        TwoThreeTree.__init__(self)\n",
    "        self.mName = name\n",
    "        \n",
    "    def __str__(self):\n",
    "        return self.mName\n",
    "    \n",
    "    def isTree(self):\n",
    "        return True"
   ]
  },
  {
   "cell_type": "markdown",
   "metadata": {},
   "source": [
    "The class `Method` is not used in the implementation of 2-3 trees. It is only used for displaying method calls in equations. It is displayed as a rectangle containing the string that is stored in the member variable `mLabel`."
   ]
  },
  {
   "cell_type": "code",
   "execution_count": null,
   "metadata": {},
   "outputs": [],
   "source": [
    "class Method(TwoThreeTree):\n",
    "    def __init__(self, label):\n",
    "        TwoThreeTree.__init__(self)\n",
    "        self.mLabel = label\n",
    "        \n",
    "    def __str__(self):\n",
    "        return self.mLabel\n",
    "    \n",
    "    def isMethod(self):\n",
    "        return True"
   ]
  },
  {
   "cell_type": "markdown",
   "metadata": {},
   "source": [
    "The class `Nil` represents an empty tree.  It has no member variables of its own."
   ]
  },
  {
   "cell_type": "code",
   "execution_count": null,
   "metadata": {},
   "outputs": [],
   "source": [
    "class Nil(TwoThreeTree):\n",
    "    def __init__(self):\n",
    "        TwoThreeTree.__init__(self)\n",
    "        \n",
    "    def isNil(self):\n",
    "        return True\n",
    "    \n",
    "    def __str__(self):\n",
    "        return 'Nil()'"
   ]
  },
  {
   "cell_type": "markdown",
   "metadata": {},
   "source": [
    "The class `One`represents a 1-node.  These are nodes without a key that have only a single child."
   ]
  },
  {
   "cell_type": "code",
   "execution_count": null,
   "metadata": {},
   "outputs": [],
   "source": [
    "class One(TwoThreeTree):\n",
    "    def __init__(self, child):\n",
    "        TwoThreeTree.__init__(self)\n",
    "        self.mChild = child\n",
    "        \n",
    "    def isOne(self):\n",
    "        return True\n",
    "\n",
    "    def __str__(self):\n",
    "        return _make_string(self, ['mChild'])"
   ]
  },
  {
   "cell_type": "markdown",
   "metadata": {},
   "source": [
    "Graphically, the node $\\texttt{One}(t)$ is represented as shown below:"
   ]
  },
  {
   "cell_type": "code",
   "execution_count": null,
   "metadata": {},
   "outputs": [],
   "source": [
    "toDotList([One(Tree('t'))])"
   ]
  },
  {
   "cell_type": "markdown",
   "metadata": {},
   "source": [
    "The class `Two` represents a 2-node of the form $\\texttt{Two}(l, k, r)$.  It manages three member variables:\n",
    "  - `mLeft`  is the left subtree $l$,\n",
    "  - `mKey`   is the key that is stored at this node,\n",
    "  - `mRight` is the right subtree $r$."
   ]
  },
  {
   "cell_type": "code",
   "execution_count": null,
   "metadata": {},
   "outputs": [],
   "source": [
    "class Two(TwoThreeTree):\n",
    "    def __init__(self, left, key, right):\n",
    "        TwoThreeTree.__init__(self)\n",
    "        self.mLeft  = left\n",
    "        self.mKey   = key\n",
    "        self.mRight = right\n",
    "        \n",
    "    def isTwo(self):\n",
    "        return True\n",
    "\n",
    "    def __str__(self):\n",
    "        return self._make_string(['mLeft', 'mKey', 'mRight'])"
   ]
  },
  {
   "cell_type": "markdown",
   "metadata": {},
   "source": [
    "Graphically, the node $\\texttt{Two}(l, k, r)$ is represented as shown below:"
   ]
  },
  {
   "cell_type": "code",
   "execution_count": null,
   "metadata": {},
   "outputs": [],
   "source": [
    "toDotList([Two(Tree('l'), 'k', Tree('r'))])"
   ]
  },
  {
   "cell_type": "markdown",
   "metadata": {},
   "source": [
    "The class `Three` represents a 3-node of the form $\\texttt{Three}(l, k_L, m, k_R, r)$.  It manages 5 member variables:\n",
    "  - `mLeft`   is the left subtree $l$,\n",
    "  - `mKeyL`   is the left key $k_L$,\n",
    "  - `mMiddle` is the middle subtree $m$,\n",
    "  - `mKeyR`   is the right key $k_r$,\n",
    "  - `mRight`  is the right subtree."
   ]
  },
  {
   "cell_type": "code",
   "execution_count": null,
   "metadata": {},
   "outputs": [],
   "source": [
    "class Three(TwoThreeTree):\n",
    "    def __init__(self, left, keyL, middle, keyR, right):\n",
    "        TwoThreeTree.__init__(self)\n",
    "        self.mLeft   = left\n",
    "        self.mKeyL   = keyL\n",
    "        self.mMiddle = middle\n",
    "        self.mKeyR   = keyR\n",
    "        self.mRight  = right\n",
    "\n",
    "    def __str__(self):\n",
    "        return self._make_string(['mLeft', 'mKeyL', 'mMiddle', 'mKeyR', 'mRight'])        \n",
    "\n",
    "    def isThree(self):\n",
    "        return True"
   ]
  },
  {
   "cell_type": "markdown",
   "metadata": {},
   "source": [
    "Graphically, the node $\\texttt{Three}(l, k_L, m, k_R, r)$ is represented as shown below:"
   ]
  },
  {
   "cell_type": "code",
   "execution_count": null,
   "metadata": {},
   "outputs": [],
   "source": [
    "toDotList([Three(Tree('l'), 'kL', Tree('m'), 'kR', Tree('r'))])"
   ]
  },
  {
   "cell_type": "markdown",
   "metadata": {},
   "source": [
    "The class `Four` represents a 4-node.  It manages 7 member variables:\n",
    "  - `mLeft`    is the left subtree $l$,\n",
    "  - `mKeyL`    is the left key $k_L$,\n",
    "  - `mMiddleL` is the middle left subtree $m_L$,\n",
    "  - `mKeyM`    is the middle key,\n",
    "  - `mMiddleR` is the middle right subtree $m_R$,\n",
    "  - `mKeyR`    is the right key $k_r$,\n",
    "  - `mRight`   is the right subtree."
   ]
  },
  {
   "cell_type": "code",
   "execution_count": null,
   "metadata": {},
   "outputs": [],
   "source": [
    "class Four(TwoThreeTree):\n",
    "    def __init__(self, l, kl, ml, km, mr, kr, r):\n",
    "        TwoThreeTree.__init__(self)\n",
    "        self.mLeft    = l\n",
    "        self.mKeyL    = kl\n",
    "        self.mMiddleL = ml\n",
    "        self.mKeyM    = km\n",
    "        self.mMiddleR = mr\n",
    "        self.mKeyR    = kr\n",
    "        self.mRight   = r\n",
    "        \n",
    "    def __str__(self):\n",
    "        return self._make_string(['mLeft', 'mKeyL', 'mMiddleL', 'mKeyM', 'mMiddleR', 'mKeyR', 'mRight'])\n",
    "    \n",
    "    def isFour(self):\n",
    "        return True"
   ]
  },
  {
   "cell_type": "markdown",
   "metadata": {},
   "source": [
    "Graphically, the node $\\texttt{Four}(l, k_L, m_L, k_M, m_R, k_R, r)$ is represented as shown below:"
   ]
  },
  {
   "cell_type": "code",
   "execution_count": null,
   "metadata": {},
   "outputs": [],
   "source": [
    "toDotList([Four(Tree('l'), 'kL', Tree('mL'), 'kM', Tree('mR'), 'kR', Tree('r'))])"
   ]
  },
  {
   "cell_type": "markdown",
   "metadata": {},
   "source": [
    "## Methods of the Class `Nil`"
   ]
  },
  {
   "cell_type": "markdown",
   "metadata": {},
   "source": [
    "Insertings a key $k$ into an empty node returns a 2-node with two empty subtrees."
   ]
  },
  {
   "cell_type": "code",
   "execution_count": null,
   "metadata": {},
   "outputs": [],
   "source": [
    "toDotList([Nil(), Method('insert(k)'), Two(Nil(), 'k', Nil())])"
   ]
  },
  {
   "cell_type": "markdown",
   "metadata": {},
   "source": [
    "## Methods of the Class Two"
   ]
  },
  {
   "cell_type": "markdown",
   "metadata": {},
   "source": [
    "The method `extract` returns the member variables stored in a 2-node.  This is usefull to shorten the code since when we use this method, we don't have to prefix all variable names with `self.`."
   ]
  },
  {
   "cell_type": "markdown",
   "metadata": {},
   "source": [
    "The method $t.\\texttt{ins}(k)$ takes a 2-3 tree $t$ and and a key $k$ and inserts the key $k$ into $t$.\n",
    "It returns a 2-3-4 tree that has at most one 4-node, which has to be a child of the root\n",
    "node.  The function $\\texttt{ins}$ is recursive and uses the function $\\texttt{restore}$ defined below. \n",
    "\n",
    "The most important invariant satisfied by the method call $t.\\texttt{ins}(k)$ is the fact that the tree\n",
    "$t.\\texttt{ins}(k)$ has the same height as the tree $t$.\n",
    "\n",
    "The different cases that need to be handled by `ins` are shown graphically below:"
   ]
  },
  {
   "cell_type": "code",
   "execution_count": null,
   "metadata": {},
   "outputs": [],
   "source": [
    "toDotList([Two(Tree('l'), 'k', Tree('r')), Method('.ins(k)'), Two(Tree('l'), 'k', Tree('r')) ])"
   ]
  },
  {
   "cell_type": "code",
   "execution_count": null,
   "metadata": {},
   "outputs": [],
   "source": [
    "toDotList([Method('k1 < k2:'), Two(Nil(), 'k1', Nil()), Method('.ins(k2)'), Three(Nil(), 'k1', Nil(), 'k2', Nil()) ])"
   ]
  },
  {
   "cell_type": "code",
   "execution_count": null,
   "metadata": {},
   "outputs": [],
   "source": [
    "toDotList([Method('k2 < k1:'), Two(Nil(), 'k1', Nil()), Method('.ins(k2)'), Three(Nil(), 'k2', Nil(), 'k1', Nil()) ])"
   ]
  },
  {
   "cell_type": "code",
   "execution_count": null,
   "metadata": {},
   "outputs": [],
   "source": [
    "toDotList([Method('k1 < k2:'), Two(Tree('l'), 'k1', Tree('r')), Method('.ins(k2)'), Two(Tree('l'), 'k1', Tree('r.ins(k2)')) ])"
   ]
  },
  {
   "cell_type": "code",
   "execution_count": null,
   "metadata": {},
   "outputs": [],
   "source": [
    "toDotList([Method('k2 < k1:'), Two(Tree('l'), 'k1', Tree('r')), Method('.ins(k2)'), Two(Tree('l.ins(k2)'), 'k1', Tree('r')) ])"
   ]
  },
  {
   "cell_type": "markdown",
   "metadata": {},
   "source": [
    "The function call $t.\\texttt{restore}()$ takes a 2-3-4 tree $t$ that has at most one 4-node. This 4-node has to be a child\n",
    "of the root.  It returns a 2-3-4 tree that has at most one 4-node.  This 4-node has to be the root node.\n",
    "Graphically, it is specified as shown below."
   ]
  },
  {
   "cell_type": "code",
   "execution_count": null,
   "metadata": {},
   "outputs": [],
   "source": [
    "toDotList([Two(Four(Tree('l1'),'kl',Tree('ml'),'km', Tree('mr'),'kr',Tree('r1')), 'k', Tree('r')), \n",
    "           Method('.restore()'), \n",
    "           Three(Two(Tree('l1'),'kl',Tree('ml')), 'km', Two(Tree('mr'),'kr',Tree('r1')), 'k', Tree('r'))])"
   ]
  },
  {
   "cell_type": "code",
   "execution_count": null,
   "metadata": {},
   "outputs": [],
   "source": [
    "toDotList([Two(Tree('l'), 'k', Four(Tree('l1'),'kl',Tree('ml'),'km', Tree('mr'),'kr',Tree('r1'))), \n",
    "           Method('.restore()'), \n",
    "           Three(Tree('l'), 'k', Two(Tree('l1'),'kl',Tree('ml')), 'km', Two(Tree('mr'),'kr',Tree('r1')))])"
   ]
  },
  {
   "cell_type": "markdown",
   "metadata": {},
   "source": [
    "## Methods of the Class `Three`"
   ]
  },
  {
   "cell_type": "markdown",
   "metadata": {},
   "source": [
    "The function call $t.\\texttt{restore}()$ takes a 2-3-4 tree $t$ that has at most one 4-node. This 4-node has to be a child\n",
    "of the root.  It returns a 2-3-4 tree that has at most one 4-node.  This 4-node has to be the root node.\n",
    "\n",
    "The most important invariant satisfied by the method call $t.\\texttt{ins}(k)$ is the fact that the tree\n",
    "$t.\\texttt{ins}(k)$ has the same height as the tree $t$.\n",
    "\n",
    "The different cases that need to be handled by `ins` are shown graphically below:"
   ]
  },
  {
   "cell_type": "code",
   "execution_count": null,
   "metadata": {
    "scrolled": true
   },
   "outputs": [],
   "source": [
    "toDotList([Three(Four(Tree('l1'), 'k1', Tree('ml'), 'k2', Tree('mr'), 'k3', Tree('r1')), 'kl', Tree('m'), 'kr', Tree('r')),\n",
    "           Method('.restore()'),\n",
    "           Four(Two(Tree('l1'), 'k1', Tree('ml')), 'k2', Two(Tree('mr'), 'k3', Tree('r1')), 'kl', Tree('m'), 'kr', Tree('r')),\n",
    "          ])"
   ]
  },
  {
   "cell_type": "code",
   "execution_count": null,
   "metadata": {},
   "outputs": [],
   "source": [
    "toDotList([Three(Tree('l'), 'kl', Four(Tree('l1'), 'k1', Tree('ml'), 'k2', Tree('mr'), 'k3', Tree('r1')), 'kr', Tree('r')),\n",
    "           Method('.restore()'),\n",
    "           Four(Tree('l'), 'kl', Two(Tree('l1'), 'k1', Tree('ml')), 'k2', Two(Tree('mr'), 'k3', Tree('r1')), 'kr', Tree('r'))\n",
    "          ])"
   ]
  },
  {
   "cell_type": "code",
   "execution_count": null,
   "metadata": {
    "scrolled": true
   },
   "outputs": [],
   "source": [
    "toDotList([Three(Tree('l'), 'kl', Tree('m'), 'kr', Four(Tree('l1'), 'k1', Tree('ml'), 'k2', Tree('mr'), 'k3', Tree('r1'))),\n",
    "           Method('.restore()'),\n",
    "           Four(Tree('l'), 'kl', Tree('m'), 'kr', Two(Tree('l1'), 'k1', Tree('ml')), 'k2', Two(Tree('mr'), 'k3', Tree('r1')))\n",
    "          ])"
   ]
  },
  {
   "cell_type": "markdown",
   "metadata": {},
   "source": [
    "## Methods of the Class `Four`"
   ]
  },
  {
   "cell_type": "code",
   "execution_count": null,
   "metadata": {},
   "outputs": [],
   "source": [
    "toDotList([Four(Tree('l'),'kl', Tree('ml'), 'km', Tree('mr'), 'kr', Tree('r')),\n",
    "           Method('.grow()'),\n",
    "           Two(Two(Tree('l'),'kl', Tree('ml')), 'km', Two(Tree('mr'), 'kr', Tree('r')))\n",
    "          ])"
   ]
  },
  {
   "cell_type": "markdown",
   "metadata": {},
   "source": [
    "## Deletion"
   ]
  },
  {
   "cell_type": "markdown",
   "metadata": {},
   "source": [
    "The method $t.\\texttt{delete}(k)$ is specified as follows:\n",
    " - $t.\\texttt{delete}(x) = t.\\texttt{del}(x).\\texttt{repair}().\\texttt{shrink}()$"
   ]
  },
  {
   "cell_type": "markdown",
   "metadata": {},
   "source": [
    "When $t.\\texttt{del}(e)$ is called, $t$ is a 1-2-3 tree containing at most one 1-node.  This 1-node must occur at the root of the tree.  The expression $t.\\texttt{del}(e)$ returns the 1-2-3 tree that results from removing the element $e$ from the tree $t$.\n",
    "\n",
    "The important invariant maintained by `del` is that the trees $t$ and $t.\\texttt{del}(k)$ have the same height."
   ]
  },
  {
   "cell_type": "markdown",
   "metadata": {},
   "source": [
    "The method $t.\\texttt{repair}()$ takes a 1-2-3 tree $t$ that contains at most a single 1-node. \n",
    "If the tree $t$ has size $1$, then this 1-node may occur at the root.  Otherwise, the 1-node has to be a child of the root.\n",
    "The method returns a 1-2-3 tree of the same size as $t$ where the 1-node can only occur at the root."
   ]
  },
  {
   "cell_type": "code",
   "execution_count": null,
   "metadata": {},
   "outputs": [],
   "source": [
    "toDotList([Two(One(Tree('L1')), 'k', Two(Tree('M1'), 'k1', Tree('R1'))), Method('.repair()'), One(Three(Tree('L1'), 'k', Tree('M1'), 'k1', Tree('R1')))])"
   ]
  },
  {
   "cell_type": "code",
   "execution_count": null,
   "metadata": {},
   "outputs": [],
   "source": [
    "toDotList([Two(Two(Tree('L1'), 'k1', Tree('M1')), 'k', One(Tree('R1'))), Method('.repair()'), One(Three(Tree('L1'), 'k1', Tree('M1'), 'k', Tree('R1')))])"
   ]
  },
  {
   "cell_type": "code",
   "execution_count": null,
   "metadata": {},
   "outputs": [],
   "source": [
    "toDotList([Two(One(Tree('A')), 'k', Three(Tree('B'), 'k1', Tree('C'), 'k2', Tree('D'))), \n",
    "           Method('.repair()'), \n",
    "           Two(Two(Tree('A'), 'k', Tree('B')), 'k1', Two(Tree('C'), 'k2', Tree('D')))\n",
    "          ])"
   ]
  },
  {
   "cell_type": "code",
   "execution_count": null,
   "metadata": {},
   "outputs": [],
   "source": [
    "toDotList([Two(Three(Tree('A'), 'k1', Tree('B'), 'k2', Tree('C')), 'k', One(Tree('D'))), \n",
    "           Method('.repair()'), \n",
    "           Two(Two(Tree('A'), 'k1', Tree('B')), 'k2', Two(Tree('C'), 'k', Tree('D')))\n",
    "          ])"
   ]
  },
  {
   "cell_type": "code",
   "execution_count": null,
   "metadata": {},
   "outputs": [],
   "source": [
    "toDotList([Three(One(Tree('A')), 'kL', Two(Tree('B'), 'k', Tree('C')), 'kR', Tree('R')), \n",
    "           Method('.repair()'), \n",
    "           Two(Three(Tree('A'), 'kL', Tree('B'), 'k', Tree('C')), 'kR', Tree('R'))\n",
    "          ])"
   ]
  },
  {
   "cell_type": "code",
   "execution_count": null,
   "metadata": {},
   "outputs": [],
   "source": [
    "toDotList([Three(Two(Tree('A'), 'k', Tree('B')), 'kL', One(Tree('C')), 'kR', Tree('R')), \n",
    "           Method('.repair()'), \n",
    "           Two(Three(Tree('A'), 'k', Tree('B'), 'kL', Tree('C')), 'kR', Tree('R'))\n",
    "          ])"
   ]
  },
  {
   "cell_type": "code",
   "execution_count": null,
   "metadata": {},
   "outputs": [],
   "source": [
    "toDotList([Three(Tree('L'), 'kL', Two(Tree('A'), 'k', Tree('B')), 'kR', One(Tree('C'))), \n",
    "           Method('.repair()'), \n",
    "           Two(Tree('L'), 'kL', Three(Tree('A'), 'k', Tree('B'), 'kR', Tree('C')))\n",
    "          ])"
   ]
  },
  {
   "cell_type": "code",
   "execution_count": null,
   "metadata": {},
   "outputs": [],
   "source": [
    "toDotList([Three(One(Tree('A')), 'kL', Three(Tree('B'), 'k1', Tree('C'), 'k2', Tree('D')), 'kR', Tree('R')), \n",
    "           Method('.repair()'), \n",
    "           Three(Two(Tree('A'), 'kL', Tree('B')), 'k1', Two(Tree('C'), 'k2', Tree('D')), 'kR', Tree('R'))\n",
    "          ])"
   ]
  },
  {
   "cell_type": "code",
   "execution_count": null,
   "metadata": {},
   "outputs": [],
   "source": [
    "toDotList([Three(Three(Tree('A'), 'k1', Tree('B'), 'k2', Tree('C')), 'kL', One(Tree('D')), 'kR', Tree('R')), \n",
    "           Method('.repair()'), \n",
    "           Three(Two(Tree('A'), 'k1', Tree('B')), 'k2', Two(Tree('C'), 'kL', Tree('D')), 'kR', Tree('R'))\n",
    "          ])"
   ]
  },
  {
   "cell_type": "code",
   "execution_count": null,
   "metadata": {},
   "outputs": [],
   "source": [
    "toDotList([Three(Tree('L'), 'kL', Three(Tree('A'), 'k1', Tree('B'), 'k2', Tree('C')), 'kR', One(Tree('D'))), \n",
    "           Method('.repair()'), \n",
    "           Three(Tree('L'), 'kL', Two(Tree('A'), 'k1', Tree('B')), 'k2', Two(Tree('C'), 'kR', Tree('D')))])"
   ]
  },
  {
   "cell_type": "markdown",
   "metadata": {},
   "source": [
    "Finally, we specify the method `shrink`.  The only class where the implementation of `shrink` is nontrivial is the class `One`."
   ]
  },
  {
   "cell_type": "code",
   "execution_count": null,
   "metadata": {},
   "outputs": [],
   "source": [
    "toDotList([One(Tree('A')), Method('.shrink()'), Tree('A')])"
   ]
  },
  {
   "cell_type": "code",
   "execution_count": null,
   "metadata": {},
   "outputs": [],
   "source": []
  }
 ],
 "metadata": {
  "kernelspec": {
   "display_name": "Python 3",
   "language": "python",
   "name": "python3"
  },
  "language_info": {
   "codemirror_mode": {
    "name": "ipython",
    "version": 3
   },
   "file_extension": ".py",
   "mimetype": "text/x-python",
   "name": "python",
   "nbconvert_exporter": "python",
   "pygments_lexer": "ipython3",
   "version": "3.9.4"
  },
  "toc": {
   "base_numbering": 1,
   "nav_menu": {},
   "number_sections": true,
   "sideBar": true,
   "skip_h1_title": false,
   "title_cell": "Table of Contents",
   "title_sidebar": "Contents",
   "toc_cell": false,
   "toc_position": {},
   "toc_section_display": true,
   "toc_window_display": false
  },
  "varInspector": {
   "cols": {
    "lenName": 16,
    "lenType": 16,
    "lenVar": 40
   },
   "kernels_config": {
    "python": {
     "delete_cmd_postfix": "",
     "delete_cmd_prefix": "del ",
     "library": "var_list.py",
     "varRefreshCmd": "print(var_dic_list())"
    },
    "r": {
     "delete_cmd_postfix": ") ",
     "delete_cmd_prefix": "rm(",
     "library": "var_list.r",
     "varRefreshCmd": "cat(var_dic_list()) "
    }
   },
   "types_to_exclude": [
    "module",
    "function",
    "builtin_function_or_method",
    "instance",
    "_Feature"
   ],
   "window_display": false
  }
 },
 "nbformat": 4,
 "nbformat_minor": 2
}
